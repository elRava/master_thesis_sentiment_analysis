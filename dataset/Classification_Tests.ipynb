{
 "cells": [
  {
   "cell_type": "markdown",
   "metadata": {},
   "source": [
    "# Classification Tests"
   ]
  },
  {
   "cell_type": "markdown",
   "metadata": {},
   "source": [
    "spiegazione test"
   ]
  },
  {
   "cell_type": "markdown",
   "metadata": {},
   "source": [
    "### Imports"
   ]
  },
  {
   "cell_type": "code",
   "execution_count": null,
   "metadata": {},
   "outputs": [],
   "source": [
    "import re\n",
    "import xml.etree.ElementTree as ET\n",
    "import nltk\n",
    "from nltk.stem.snowball import ItalianStemmer"
   ]
  },
  {
   "cell_type": "code",
   "execution_count": null,
   "metadata": {},
   "outputs": [],
   "source": [
    "nltk.download()"
   ]
  },
  {
   "cell_type": "markdown",
   "metadata": {},
   "source": [
    "## Classes"
   ]
  },
  {
   "cell_type": "code",
   "execution_count": 5,
   "metadata": {},
   "outputs": [],
   "source": [
    "class CarWordsHandler:\n",
    "    # https://github.com/n8barr/automotive-model-year-data\n",
    "    def __init__(self, cars_file):\n",
    "        self.brands_list = set()\n",
    "        self.models_list = set()\n",
    "        f = open(cars_file, \"r\")\n",
    "        cars_list = f.read().splitlines()\n",
    "        for i in range(len(cars_list)):\n",
    "            brand = cars_list[i].split(',')[1][2:-1].lower()\n",
    "            model = cars_list[i].split(',')[2][2:-2].lower()\n",
    "            self.brands_list.add(brand)\n",
    "            self.models_list.add(model)\n",
    "        self.brands_list = list(self.brands_list)\n",
    "        self.models_list = list(self.models_list)\n",
    "        self.brands_list.sort()\n",
    "        self.models_list.sort()\n",
    "    \n",
    "    # binary search to get if a word is a brand \n",
    "    def isBrand(self, word):\n",
    "        word = word.lower()\n",
    "        first = 0\n",
    "        last = len(self.brands_list) -1\n",
    "        while first < last:\n",
    "            mid = int((last + first) / 2)\n",
    "            if word == self.brands_list[mid]:\n",
    "                return True\n",
    "            elif word < self.brands_list[mid]:\n",
    "                last = mid\n",
    "            elif word > self.brands_list[mid]:\n",
    "                first = mid\n",
    "            if last-first == 1:\n",
    "                if self.brands_list[first] == word or self.brands_list[last] == word:\n",
    "                    return True\n",
    "                else:\n",
    "                    return False\n",
    "    # binary search to get if a word is a brand \n",
    "    def isModel(self, word):\n",
    "        word = word.lower()\n",
    "        first = 0\n",
    "        last = len(self.models_list) -1\n",
    "        while first < last:\n",
    "            mid = int((last + first) / 2)\n",
    "            if word == self.models_list[mid]:\n",
    "                return True\n",
    "            elif word < self.models_list[mid]:\n",
    "                last = mid\n",
    "            elif word > self.models_list[mid]:\n",
    "                first = mid\n",
    "            if last-first == 1:\n",
    "                if self.models_list[first] == word or self.models_list[last] == word:\n",
    "                    return True\n",
    "                else:\n",
    "                    return False"
   ]
  },
  {
   "cell_type": "markdown",
   "metadata": {},
   "source": [
    "## Functions"
   ]
  },
  {
   "cell_type": "code",
   "execution_count": 61,
   "metadata": {},
   "outputs": [],
   "source": [
    "# encoding issues\n",
    "def correctEncodings(comment):\n",
    "    fin_comment = comment\n",
    "    fin_comment = fin_comment.replace('Ã', 'à')\n",
    "    fin_comment = fin_comment.replace('Ã¨', 'è')\n",
    "    fin_comment = fin_comment.replace('Ã©', 'é')\n",
    "    fin_comment = fin_comment.replace('Ã¬', 'ì')\n",
    "    fin_comment = fin_comment.replace('Ã²', 'ò')\n",
    "    fin_comment = fin_comment.replace('Ã¹', 'ù')\n",
    "    return fin_comment\n",
    "# recognize an URL\n",
    "def isURL(word):\n",
    "    # http://forum.rusconi.it/gentemotori/viewtopic.php ? t=434&sid=57c88f1b507d8f57717ea18e74e25324Â \n",
    "    return len(re.findall(\"^((http(s){0,1}://)|(www.))\\S+$\", word)) > 0\n",
    "# recognize an image tag\n",
    "def isPicture(word):\n",
    "    return len(re.findall(\"^<img.*>$\", word)) > 0\n",
    "# fix issues on urls\n",
    "def replaceURLs(comment):\n",
    "    return str(re.sub(r'(http(s){0,1}://|www.)(([^\\s]+)|/)+((\\s\\?\\s)[^\\s]+){0,1}', 'URL', comment)).replace(u'\\xa0', u' ')\n",
    "# replace images\n",
    "def replaceIMGs(comment):\n",
    "    return str(re.sub(r'<img.+>', 'IMG', comment))\n",
    "# replace brands\n",
    "def replaceBrands(cwhandler, comment):\n",
    "    tokens = comment.split(' ')\n",
    "    for i in range(len(tokens)):\n",
    "        if cwhandler.isBrand(tokens[i]):\n",
    "            tokens[i] = 'BRAND'\n",
    "    return ' '.join(tokens)\n",
    "# replace models\n",
    "def replaceModels(cwhandler, comment):\n",
    "    tokens = comment.split(' ')\n",
    "    for i in range(len(tokens)):\n",
    "        if cwhandler.isModel(tokens[i]):\n",
    "            tokens[i] = 'MODEL'\n",
    "    return ' '.join(tokens)\n",
    "# replace question marks\n",
    "def replaceQMarks(comment):\n",
    "    comment = re.sub(r'\\?{2,}', ' MULTI_QMARK', comment)\n",
    "    comment = re.sub(r'\\?', ' QMARK', comment)\n",
    "    return comment\n",
    "# replace esclamation marks\n",
    "def replaceEMarks(comment):\n",
    "    comment = re.sub(r'\\!{2,}', ' MULTI_EMARK', comment)\n",
    "    comment = re.sub(r'\\!', ' EMARK', comment)\n",
    "    return comment\n",
    "# remove character repetitions\n",
    "def removeRepeat(comment):\n",
    "    return re.sub(r'(.)\\1{2,}', r'\\1\\1\\1', comment)\n",
    "# replace speed\n",
    "def replaceSpeed(comment):\n",
    "    return re.sub(r'([0-9\\.*]+(\\s*(\\-|\\/|\\s)\\s*)+){0,1}[0-9\\.*]+(\\s*)(km/h|mph)', 'SPEED', comment)\n",
    "# replace consumption\n",
    "def replaceConsumption(comment):\n",
    "    return re.sub(r'([0-9\\.*]+(\\s*(\\-|\\/|\\s)\\s*)+){0,1}[0-9\\.*]+(\\s*)(km/l|mpg)', 'CONSUMPTION', comment)\n",
    "# replace weight\n",
    "def replaceWeight(comment):\n",
    "    return re.sub(r'[0-9\\.*]+(\\s*)(kg|tonnellate|ton|chili|kili)', 'WEIGHT', comment)"
   ]
  },
  {
   "cell_type": "code",
   "execution_count": 57,
   "metadata": {},
   "outputs": [],
   "source": [
    "class ItalianWordsHandler:\n",
    "    # https://dspace-clarin-it.ilc.cnr.it/repository/xmlui/handle/20.500.11752/ILC-73\n",
    "    def __init__(self, words_file):\n",
    "        # words information\n",
    "        self.words_dict = dict()\n",
    "        root = ET.parse(words_file).getroot()\n",
    "        for entry in root.findall('Lexicon/LexicalEntry'):\n",
    "            word = entry.find('Lemma').get('writtenForm')\n",
    "            pos = entry.get('partOfSpeech')\n",
    "            senti = entry.find('Sense/Sentiment').get('polarity')\n",
    "            conf = entry.find('Sense/Confidence').get('score')\n",
    "            self.words_dict[word] = {'POS': pos, 'Sentiment': senti, 'Confidence': conf}\n",
    "        # stemmer\n",
    "        self.it_stem = ItalianStemmer()\n",
    "        \n",
    "    # get word info. None if not exists\n",
    "    def getWordInfo(self, word):\n",
    "        # fields: POS, Sentiment, Confidence\n",
    "        return self.words_dict.get(word)\n",
    "    \n",
    "    # italian stemmer http://snowball.tartarus.org/algorithms/italian/stemmer.html\n",
    "    def stem(self, word):\n",
    "        return self.it_stem.stem('ciao')"
   ]
  },
  {
   "cell_type": "code",
   "execution_count": 64,
   "metadata": {},
   "outputs": [],
   "source": [
    "class Preprocessor:\n",
    "    \n",
    "    def __init__(self):\n",
    "        self.cwh = CarWordsHandler('resources/cars_data.sql')\n",
    "        self.its = ItalianStemmer('resources/ita_opeNER.xml')\n",
    "    # preprocess text\n",
    "    def preprocessText(self, text):\n",
    "        fin_text = text\n",
    "        # correct encodings\n",
    "        fin_text = correctEncodings(fin_text)\n",
    "        # correct words (not yet)\n",
    "        # manage brands and models\n",
    "        fin_text = replaceBrands(self.cwh, fin_text)\n",
    "        fin_text = replaceModels(self.cwh, fin_text)\n",
    "        # manage speed consumption and weight\n",
    "        fin_text = replaceSpeed(fin_text)\n",
    "        fin_text = replaceConsumption(fin_text)\n",
    "        fin_text = replaceWeight(fin_text)\n",
    "        # manage punctation\n",
    "        fin_text = replaceQMarks(fin_text)\n",
    "        fin_text = replaceEMarks(fin_text)\n",
    "        # manage URLs\n",
    "        fin_text = replaceURLs(fin_text)\n",
    "        # manage Images\n",
    "        fin_text = replaceIMGs(fin_text)\n",
    "        # manage repetitions\n",
    "        fin_text = removeRepeat(fin_text)\n",
    "        # stemmer\n",
    "        #tokens = fin_text.split(' ')\n",
    "        #fin_text = ' '.join([self.its.stem(t) for t in tokens])\n",
    "        return fin_text"
   ]
  },
  {
   "cell_type": "code",
   "execution_count": 69,
   "metadata": {},
   "outputs": [
    {
     "name": "stdout",
     "output_type": "stream",
     "text": [
      "Sono reali calcolati nel arco del tutto anno nel estate qualcosa in piÃ¹ causa gomme di 17\" e climatizzatore nel inverno un po di meno. Per quanto riguarda le autostrade quelle che percorro io principalmente la A4 e molto congestionata cosi spesso la media e 110-115 km/h che ovviamente influisce positivamente a i consumi. Ma quello che mi piace di piÃ¹ Ã¨ assenza dei guasti. Sulla vecchia Accord il primo guasto lo ho avuto a 200000 km si Ã¨ rotto il termostato della clima. Ogni tanto faccio giro di altri forum e leggo delle turbine rotte catene di distribuzione progettate male iniettori fatti male mah nel 2015 per me sono le cose incomprensibili . Con tutti gli difetti che puÃ² avere preferisco la Honda. \n",
      "##########################################################################################\n",
      "Sono reali calcolati nel arco del tutto anno nel MODEL qualcosa in pià¹ causa gomme di 17\" e climatizzatore nel inverno un po di meno. Per quanto riguarda le autostrade quelle che percorro io principalmente la MODEL e molto congestionata cosi spesso la media e SPEED che ovviamente influisce positivamente a MODEL consumi. Ma quello che mi piace di pià¹ à¨ assenza dei guasti. Sulla vecchia MODEL il primo guasto lo ho avuto a 2000 km si à¨ rotto il termostato della clima. Ogni tanto faccio giro di altri forum e leggo delle turbine rotte catene di distribuzione progettate male iniettori fatti male mah nel 2015 per me sono le cose incomprensibili . Con tutti MODEL difetti che puà² avere preferisco la Honda. \n"
     ]
    }
   ],
   "source": [
    "text = 'Sono reali calcolati nel arco del tutto anno nel estate qualcosa in piÃ¹ causa gomme di 17\" e climatizzatore nel inverno un po di meno. Per quanto riguarda le autostrade quelle che percorro io principalmente la A4 e molto congestionata cosi spesso la media e 110-115 km/h che ovviamente influisce positivamente a i consumi. Ma quello che mi piace di piÃ¹ Ã¨ assenza dei guasti. Sulla vecchia Accord il primo guasto lo ho avuto a 200000 km si Ã¨ rotto il termostato della clima. Ogni tanto faccio giro di altri forum e leggo delle turbine rotte catene di distribuzione progettate male iniettori fatti male mah nel 2015 per me sono le cose incomprensibili . Con tutti gli difetti che puÃ² avere preferisco la Honda. '\n",
    "print(text)\n",
    "print('##########################################################################################')\n",
    "p = Preprocessor()\n",
    "print(p.preprocessText(text))"
   ]
  },
  {
   "cell_type": "code",
   "execution_count": null,
   "metadata": {},
   "outputs": [],
   "source": []
  },
  {
   "cell_type": "code",
   "execution_count": null,
   "metadata": {},
   "outputs": [],
   "source": []
  },
  {
   "cell_type": "code",
   "execution_count": null,
   "metadata": {},
   "outputs": [],
   "source": []
  },
  {
   "cell_type": "code",
   "execution_count": null,
   "metadata": {},
   "outputs": [],
   "source": []
  },
  {
   "cell_type": "code",
   "execution_count": null,
   "metadata": {},
   "outputs": [],
   "source": []
  }
 ],
 "metadata": {
  "kernelspec": {
   "display_name": "Python 3",
   "language": "python",
   "name": "python3"
  },
  "language_info": {
   "codemirror_mode": {
    "name": "ipython",
    "version": 3
   },
   "file_extension": ".py",
   "mimetype": "text/x-python",
   "name": "python",
   "nbconvert_exporter": "python",
   "pygments_lexer": "ipython3",
   "version": "3.6.8"
  }
 },
 "nbformat": 4,
 "nbformat_minor": 2
}
