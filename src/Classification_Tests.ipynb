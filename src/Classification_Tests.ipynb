{
 "cells": [
  {
   "cell_type": "markdown",
   "metadata": {},
   "source": [
    "# Classification Tests"
   ]
  },
  {
   "cell_type": "markdown",
   "metadata": {},
   "source": [
    "spiegazione test"
   ]
  },
  {
   "cell_type": "markdown",
   "metadata": {},
   "source": [
    "### Imports"
   ]
  },
  {
   "cell_type": "code",
   "execution_count": 1,
   "metadata": {},
   "outputs": [],
   "source": [
    "import re\n",
    "import xml.etree.ElementTree as ET\n",
    "import nltk\n",
    "from nltk.corpus import stopwords\n",
    "from nltk.stem.porter import PorterStemmer\n",
    "import it_core_news_sm\n",
    "from sklearn.feature_extraction.text import CountVectorizer, TfidfVectorizer\n",
    "from sklearn import svm\n",
    "import pandas as pd\n",
    "import numpy as np\n",
    "import collections\n",
    "from sklearn.model_selection import cross_val_score\n",
    "from sklearn.model_selection import train_test_split\n",
    "from sklearn.metrics import confusion_matrix\n",
    "# Skopt functions\n",
    "from sklearn.metrics import make_scorer, f1_score, recall_score\n",
    "from skopt import BayesSearchCV\n",
    "from sklearn.model_selection import RandomizedSearchCV, GridSearchCV\n",
    "from sklearn.model_selection import StratifiedKFold\n",
    "from skopt import gp_minimize # Bayesian optimization using Gaussian Processes\n",
    "from skopt.space import Real, Categorical, Integer\n",
    "from sklearn.metrics import precision_score, recall_score, confusion_matrix, classification_report, accuracy_score, f1_score\n",
    "import matplotlib.pyplot as plt\n",
    "from matplotlib.widgets import Cursor\n",
    "from matplotlib.ticker import FuncFormatter\n",
    "import seaborn as sns"
   ]
  },
  {
   "cell_type": "code",
   "execution_count": 2,
   "metadata": {},
   "outputs": [],
   "source": [
    "#nltk.download('punkt')"
   ]
  },
  {
   "cell_type": "markdown",
   "metadata": {},
   "source": [
    "## Classes"
   ]
  },
  {
   "cell_type": "code",
   "execution_count": 3,
   "metadata": {},
   "outputs": [],
   "source": [
    "class CarWordsHandler:\n",
    "    # https://github.com/n8barr/automotive-model-year-data\n",
    "    def __init__(self, cars_file):\n",
    "        self.brands_list = set()\n",
    "        self.models_list = set()\n",
    "        f = open(cars_file, \"r\")\n",
    "        cars_list = f.read().splitlines()\n",
    "        for i in range(len(cars_list)):\n",
    "            brand = cars_list[i].split(',')[0][1:].lower()\n",
    "            model = cars_list[i].split(',')[1][0:-1].lower()\n",
    "            self.brands_list.add(brand)\n",
    "            self.models_list.add(model)\n",
    "        # remove some useless models\n",
    "        self.models_list.remove('i')\n",
    "        #self.models_list.remove('gli')\n",
    "        #self.models_list.remove('estate')\n",
    "        self.brands_list = list(self.brands_list)\n",
    "        self.models_list = list(self.models_list)\n",
    "        self.brands_list.sort()\n",
    "        self.models_list.sort()\n",
    "    \n",
    "    # binary search to get if a word is a brand \n",
    "    def isBrand(self, word):\n",
    "        word = word.lower()\n",
    "        first = 0\n",
    "        last = len(self.brands_list) -1\n",
    "        while first < last:\n",
    "            mid = int((last + first) / 2)\n",
    "            if word == self.brands_list[mid]:\n",
    "                return True\n",
    "            elif word < self.brands_list[mid]:\n",
    "                last = mid\n",
    "            elif word > self.brands_list[mid]:\n",
    "                first = mid\n",
    "            if last-first == 1:\n",
    "                if self.brands_list[first] == word or self.brands_list[last] == word:\n",
    "                    return True\n",
    "                else:\n",
    "                    return False\n",
    "    # binary search to get if a word is a brand \n",
    "    def isModel(self, word):\n",
    "        word = word.lower()\n",
    "        first = 0\n",
    "        last = len(self.models_list) -1\n",
    "        while first < last:\n",
    "            mid = int((last + first) / 2)\n",
    "            if word == self.models_list[mid]:\n",
    "                return True\n",
    "            elif word < self.models_list[mid]:\n",
    "                last = mid\n",
    "            elif word > self.models_list[mid]:\n",
    "                first = mid\n",
    "            if last-first == 1:\n",
    "                if self.models_list[first] == word or self.models_list[last] == word:\n",
    "                    return True\n",
    "                else:\n",
    "                    return False"
   ]
  },
  {
   "cell_type": "code",
   "execution_count": 4,
   "metadata": {},
   "outputs": [
    {
     "data": {
      "text/plain": [
       "False"
      ]
     },
     "execution_count": 4,
     "metadata": {},
     "output_type": "execute_result"
    }
   ],
   "source": [
    "a = CarWordsHandler('resources/cars.txt')\n",
    "a.models_list\n",
    "a.isModel('e 110')"
   ]
  },
  {
   "cell_type": "markdown",
   "metadata": {},
   "source": [
    "## Functions"
   ]
  },
  {
   "cell_type": "code",
   "execution_count": 5,
   "metadata": {},
   "outputs": [],
   "source": [
    "# encoding issues\n",
    "def correctEncodings(comment):\n",
    "    fin_comment = comment\n",
    "    fin_comment = re.sub('Ã¨', 'è', fin_comment)\n",
    "    fin_comment = re.sub('Ã©', 'é', fin_comment)\n",
    "    fin_comment = re.sub('Ã¬', 'ì', fin_comment)\n",
    "    fin_comment = re.sub('Ã²', 'ò', fin_comment)\n",
    "    fin_comment = re.sub('Ã¹', 'ù', fin_comment)\n",
    "    fin_comment = re.sub('Ã', 'à', fin_comment)\n",
    "    return fin_comment\n",
    "# tokenize function\n",
    "def tokenize(text):\n",
    "    tokens = nltk.word_tokenize(text, 'italian')\n",
    "    italian_stopwords = stopwords.words('italian')\n",
    "    return [token for token in tokens if not token in italian_stopwords]\n",
    "# recognize an URL\n",
    "def isURL(word):\n",
    "    # http://forum.rusconi.it/gentemotori/viewtopic.php ? t=434&sid=57c88f1b507d8f57717ea18e74e25324Â \n",
    "    return len(re.findall(\"^((http(s){0,1}://)|(www.))\\S+$\", word)) > 0\n",
    "# recognize an image tag\n",
    "def isPicture(word):\n",
    "    return len(re.findall(\"^<img.*>$\", word)) > 0\n",
    "# remove punctation\n",
    "def removePunctation(comment):\n",
    "    return re.sub(r'\\s{2,}', ' ', str(re.sub(r'[\\'\\\"\\,\\.,\\:\\-]', ' ', comment)))\n",
    "# fix issues on urls\n",
    "def replaceURLs(comment):\n",
    "    return str(re.sub(r'(http(s){0,1}://|www.)(([^\\s]+)|/)+((\\s\\?\\s)[^\\s]+){0,1}', 'URL', comment)).replace(u'\\xa0', u' ')\n",
    "# replace images\n",
    "def replaceIMGs(comment):\n",
    "    return str(re.sub(r'<img.+>', 'IMG', comment))\n",
    "# replace brands\n",
    "def replaceBrands(cwhandler, comment):\n",
    "    tokens = tokenize(comment)\n",
    "    for i in range(len(tokens)):\n",
    "        if cwhandler.isBrand(tokens[i]):\n",
    "            tokens[i] = 'BRAND'\n",
    "    return ' '.join(tokens)\n",
    "# replace models\n",
    "def replaceModels(cwhandler, comment):\n",
    "    tokens = tokenize(comment)\n",
    "    for i in range(len(tokens)):\n",
    "        if cwhandler.isModel(tokens[i]):\n",
    "            tokens[i] = 'MODEL'\n",
    "    return ' '.join(tokens)\n",
    "# replace question marks\n",
    "def replaceQMarks(comment):\n",
    "    comment = re.sub(r'\\?{2,}', ' MULTI_QMARK', comment)\n",
    "    comment = re.sub(r'\\?', ' QMARK', comment)\n",
    "    return comment\n",
    "# replace esclamation marks\n",
    "def replaceEMarks(comment):\n",
    "    comment = re.sub(r'\\!{2,}', ' MULTI_EMARK', comment)\n",
    "    comment = re.sub(r'\\!', ' EMARK', comment)\n",
    "    return comment\n",
    "# remove character repetitions\n",
    "def removeRepeat(comment):\n",
    "    return re.sub(r'(a-zA-Z)\\1{2,}', r'\\1\\1\\1', comment)\n",
    "# replace speed\n",
    "def replaceSpeed(comment):\n",
    "    return re.sub(r'([0-9\\.*]+(\\s*(\\-|\\/|\\s)\\s*)+){0,1}[0-9\\.*]+(\\s*)(km\\/h|mph|kmh)', 'SPEED', comment)\n",
    "# replace consumption\n",
    "def replaceConsumption(comment):\n",
    "    return re.sub(r'([0-9\\.*]+(\\s*(\\-|\\/|\\s)\\s*)+){0,1}[0-9\\.*]+(\\s*)(km\\/l|mpg)', 'CONSUMPTION', comment)\n",
    "# replace weight\n",
    "def replaceWeight(comment):\n",
    "    return re.sub(r'[0-9\\.*]+(\\s*)(kg|tonnellate|ton|chili|kili)', 'WEIGHT', comment)\n",
    "# replace power + torque\n",
    "def replacePower(comment):\n",
    "    return re.sub(r'[0-9]+\\s*(cv|nm|kw)', 'POWER', comment)\n",
    "# replace distance\n",
    "def replaceDistance(comment):\n",
    "    return re.sub(r'([0-9\\.*]+(\\s*(\\-|\\/|\\s)\\s*)+){0,1}[0-9\\.*]+(\\s*)(km|miles|kilometri|chilometri)', 'DISTANCE', comment)\n",
    "# replace numbers\n",
    "def replaceNumbers(comment):\n",
    "    return re.sub(r'[0-9]{3,}', 'NUMBER', comment)\n"
   ]
  },
  {
   "cell_type": "code",
   "execution_count": 6,
   "metadata": {},
   "outputs": [],
   "source": [
    "class ItalianWordsHandler:\n",
    "    # https://dspace-clarin-it.ilc.cnr.it/repository/xmlui/handle/20.500.11752/ILC-73\n",
    "    def __init__(self, words_file):\n",
    "        # words information\n",
    "        self.words_dict = dict()\n",
    "        root = ET.parse(words_file).getroot()\n",
    "        for entry in root.findall('Lexicon/LexicalEntry'):\n",
    "            word = entry.find('Lemma').get('writtenForm')\n",
    "            pos = entry.get('partOfSpeech')\n",
    "            senti = entry.find('Sense/Sentiment').get('polarity')\n",
    "            conf = entry.find('Sense/Confidence').get('score')\n",
    "            self.words_dict[word] = {'POS': pos, 'Sentiment': senti, 'Confidence': conf}\n",
    "        # stemmer\n",
    "        self.it_stem = nltk.stem.SnowballStemmer(\"italian\", ignore_stopwords=True)\n",
    "        \n",
    "    # get word info. None if not exists\n",
    "    def getWordInfo(self, word):\n",
    "        # fields: POS, Sentiment, Confidence\n",
    "        return self.words_dict.get(word)\n",
    "    \n",
    "    # italian stemmer http://snowball.tartarus.org/algorithms/italian/stemmer.html\n",
    "    def stem(self, comment):\n",
    "        tokens = tokenize(comment)\n",
    "        return ' '.join([token if token.isupper() else self.it_stem.stem(token) for token in tokens])\n",
    "    \n",
    "    # correct words\n",
    "    def correctWords(self, text):\n",
    "        # not yet implemented\n",
    "        return text"
   ]
  },
  {
   "cell_type": "code",
   "execution_count": 7,
   "metadata": {},
   "outputs": [],
   "source": [
    "class Preprocessor:\n",
    "    \n",
    "    def __init__(self):\n",
    "        self.cwh = CarWordsHandler('resources/cars.txt')\n",
    "        self.iwh = ItalianWordsHandler('resources/ita_opeNER.xml')\n",
    "        self.pos = it_core_news_sm.load()\n",
    "    # preprocess text\n",
    "    # allowed methods: word, swnt, pos\n",
    "    # ner (named entity recognition), replacing for instance 100 km/h with SPEED\n",
    "    def preprocessText(self, text, method='word', use_stemmer=False, ner=False):\n",
    "        if method not in ['word', 'pos', 'swnt']:\n",
    "            raise ValueError('Method not recognized. Select from word, swnt, pos')\n",
    "        # correct encodings (not yet implemented)\n",
    "        fin_text = correctEncodings(text)\n",
    "        # remove punctation\n",
    "        fin_text = removePunctation(fin_text)\n",
    "        # some basic preprocessing\n",
    "        fin_text = fin_text.lower()\n",
    "        # correct words (not yet)\n",
    "        fin_text = self.iwh.correctWords(fin_text)\n",
    "        # manage repetitions\n",
    "        fin_text = removeRepeat(fin_text)\n",
    "        # manage punctation\n",
    "        fin_text = replaceQMarks(fin_text)\n",
    "        fin_text = replaceEMarks(fin_text)\n",
    "        # manage URLs\n",
    "        fin_text = replaceURLs(fin_text)\n",
    "        # manage Images\n",
    "        fin_text = replaceIMGs(fin_text)\n",
    "        # remove stopwords\n",
    "        tokens = tokenize(fin_text)\n",
    "        fin_text = ' '.join(tokens) \n",
    "        # NOW DEPENDS ON NER\n",
    "        if ner:\n",
    "            # manage brands and models\n",
    "            fin_text = replaceBrands(self.cwh, fin_text)\n",
    "            fin_text = replaceModels(self.cwh, fin_text)\n",
    "            # manage speed consumption and weight\n",
    "            fin_text = replaceSpeed(fin_text)\n",
    "            fin_text = replaceConsumption(fin_text)\n",
    "            fin_text = replaceWeight(fin_text)\n",
    "            fin_text = replacePower(fin_text)\n",
    "            fin_text = replaceDistance(fin_text)\n",
    "            fin_text = replaceNumbers(fin_text)\n",
    "        # NOW DEPENDS ON METHOD\n",
    "        if method == 'word':\n",
    "            # just do nothing except eventually stemming\n",
    "            if use_stemmer:\n",
    "                tokens = tokenize(fin_text)\n",
    "                fin_text = ' '.join([t if t.isupper() else self.iwh.stem(t) for t in tokens]) \n",
    "        elif method == 'swnt':\n",
    "            tokens = tokenize(fin_text)\n",
    "            swnt_tokens = []\n",
    "            for t in tokens:\n",
    "                info = self.iwh.getWordInfo(t)\n",
    "                if info == None or info['Sentiment'] == None:\n",
    "                    swnt_tokens.append(t)\n",
    "                else:\n",
    "                    # confidence 0-100\n",
    "                    swnt_tokens.append(str(info['Sentiment'])[:3].upper() + '_' + str(int(float(info['Confidence'])*10)))\n",
    "            fin_text = ' '.join(swnt_tokens)\n",
    "            # stemmer\n",
    "            if use_stemmer:\n",
    "                tokens = tokenize(fin_text)\n",
    "                fin_text = ' '.join([t if t.isupper() else self.iwh.stem(t) for t in tokens]) \n",
    "        elif method == 'pos':\n",
    "            doc = self.pos(fin_text)\n",
    "            pos_tokens = []\n",
    "            # pos\n",
    "            for t in doc:\n",
    "                pos_tokens.append(str(t.pos_))\n",
    "            # pos_word\n",
    "            for t in doc:\n",
    "                pos_tokens.append(str(t.pos_) + '_' + str(t))\n",
    "                    \n",
    "            fin_text = ' '.join(pos_tokens)\n",
    "            # stemmer\n",
    "            if use_stemmer:\n",
    "                fin_text = self.iwh.stem(fin_text) \n",
    "        \n",
    "        return str(re.sub(r'\\s{2,}', ' ', fin_text))"
   ]
  },
  {
   "cell_type": "code",
   "execution_count": 8,
   "metadata": {},
   "outputs": [],
   "source": [
    "class Vectorizer:\n",
    "    \n",
    "    def __init__(self, list_comments, method='bow', max_features=1000, ngrams=2, just_presence=False):\n",
    "        if method not in ['bow', 'tfidf']:\n",
    "            raise ValueError('Method not recognized. Select from bow, tfidf')\n",
    "        if method == 'bow':\n",
    "            self.vectorizer = CountVectorizer(ngram_range=(1,ngrams), binary=just_presence, lowercase=False, max_features=max_features)\n",
    "        elif method == 'tfidf':\n",
    "            self.vectorizer = TfidfVectorizer(ngram_range=(1,ngrams), lowercase=False, max_features=max_features)\n",
    "        # fit vectorizer\n",
    "        self.vectorizer.fit(list_comments)          \n",
    "        \n",
    "    def vectorize(self, comment):\n",
    "        return self.vectorizer.transform([comment])\n",
    "        \n",
    "    def get_feature_names(self):\n",
    "        return self.vectorizer.get_feature_names()\n",
    "    \n",
    "    def get_num_features(self):\n",
    "        return len(self.vectorizer.get_feature_names())"
   ]
  },
  {
   "cell_type": "markdown",
   "metadata": {},
   "source": [
    "Vectorization Example"
   ]
  },
  {
   "cell_type": "code",
   "execution_count": 9,
   "metadata": {},
   "outputs": [
    {
     "name": "stdout",
     "output_type": "stream",
     "text": [
      "['ciao', 'ciao come', 'ciao questa', 'come', 'come scrive', 'come va', 'falso', 'lo', 'lo so', 'me', 'me falso', 'non', 'non lo', 'per', 'per me', 'questa', 'questa tastiera', 'scrive', 'scrive ciao', 'so', 'so per', 'tastiera', 'va', 'vediamo', 'vediamo come']\n",
      "  (0, 22)\t0.41197297843389025\n",
      "  (0, 5)\t0.41197297843389025\n",
      "  (0, 3)\t0.3133160688892059\n",
      "  (0, 1)\t0.41197297843389025\n",
      "  (0, 0)\t0.6266321377784118\n"
     ]
    }
   ],
   "source": [
    "v = Vectorizer(list_comments=['ciao come va ?', 'vediamo come scrive ciao questa tastiera', 'non lo so, per me è falso'], method='tfidf', max_features=100, ngrams=2, just_presence=True)\n",
    "print(v.get_feature_names())\n",
    "print(v.vectorize('ciao ciao come va ?'))"
   ]
  },
  {
   "cell_type": "markdown",
   "metadata": {},
   "source": [
    "Preprocessing Example"
   ]
  },
  {
   "cell_type": "code",
   "execution_count": 10,
   "metadata": {},
   "outputs": [
    {
     "name": "stdout",
     "output_type": "stream",
     "text": [
      "Sono reali calcolati nel arco del tutto anno nel estate qualcosa in piÃ¹ causa gomme di 17\" e climatizzatore nel inverno un po di meno. Per quanto riguarda le autostrade quelle che percorro io principalmente la A4 e molto congestionata cosi spesso la media e 110-115 km/h che ovviamente influisce positivamente a i consumi. Ma quello che mi piace di piÃ¹ Ã¨ assenza dei guasti. Sulla vecchia Accord il primo guasto lo ho avuto a 200000 km si Ã¨ rotto il termostato della clima. Ogni tanto faccio giro di altri forum e leggo delle turbine rotte catene di distribuzione progettate male iniettori fatti male mah nel 2015 per me sono le cose incomprensibili . Con tutti gli difetti che puÃ² avere preferisco la Honda. \n",
      "##########################################################################################\n",
      "real calcol arco anno MODEL qualcos caus gomm MODEL climatizz invern po men riguard autostrad percorr principal MODEL molt congestion cos spess med MODEL SPEED ovvi influ posit consum piac assenz guast vecc MODEL prim guast DISTANCE rott termost clim ogni MODEL gir altri forum legg turbin rott caten distribu progett mal iniettor fatt mal mah NUMBER me cos incomprens difett può aver prefer BRAND\n",
      "##########################################################################################\n",
      "POS_2 calcolati NEU_2 anno MODEL qualcosa POS_5 gomme MODEL climatizzatore inverno po meno riguarda autostrade percorro principalmente MODEL molto congestionata cosi spesso NEU_2 MODEL SPEED ovviamente influisce POS_10 consumi piace NEG_6 guasti vecchia MODEL POS_6 NEG_5 DISTANCE NEG_5 termostato clima ogni MODEL NEU_2 altri forum leggo turbine rotte catene NEU_5 progettate NEG_6 iniettori fatti NEG_6 mah NUMBER me cose incomprensibili difetti può NEG_5 preferisco BRAND\n",
      "##########################################################################################\n",
      "ADJ VERB ADJ NOUN PROPN PRON NOUN ADJ PROPN NOUN ADJ VERB ADV VERB NOUN ADJ ADV PROPN ADV VERB ADJ ADV ADJ PROPN PROPN ADV VERB ADV NOUN VERB NOUN NOUN VERB PROPN ADJ NOUN PROPN VERB ADJ NOUN DET PROPN NOUN DET NOUN DET NOUN VERB VERB NOUN VERB ADV NOUN VERB ADV NOUN PROPN PRON NOUN ADJ NOUN AUX VERB NOUN PROPN adj_real verb_calcol adj_arc noun_ann PROPN_MODEL pron_qualc noun_caus adj_gomm PROPN_MODEL noun_climatizz adj_invern verb_p adv_men verb_riguard noun_autostrad adj_percorr adv_principal PROPN_MODEL adv_molt verb_congestion adj_cos adv_spess adj_med PROPN_MODEL PROPN_SPEED adv_ovv verb_influ adv_posit noun_consum verb_piac noun_asst noun_guast verb_vecc PROPN_MODEL adj_prim noun_guast PROPN_DISTANCE verb_rott adj_termost noun_clim det_ogn PROPN_MODEL noun_gir det_altr noun_forum det_legg noun_turbin verb_rott verb_caten noun_distribu verb_progett adv_mal noun_iniettor verb_fatt adv_mal noun_mah PROPN_NUMBER pron_m noun_cos adj_incomprens noun_difett aux_pu verb_av noun_prefer PROPN_BRAND\n"
     ]
    }
   ],
   "source": [
    "text = 'Sono reali calcolati nel arco del tutto anno nel estate qualcosa in piÃ¹ causa gomme di 17\" e climatizzatore nel inverno un po di meno. Per quanto riguarda le autostrade quelle che percorro io principalmente la A4 e molto congestionata cosi spesso la media e 110-115 km/h che ovviamente influisce positivamente a i consumi. Ma quello che mi piace di piÃ¹ Ã¨ assenza dei guasti. Sulla vecchia Accord il primo guasto lo ho avuto a 200000 km si Ã¨ rotto il termostato della clima. Ogni tanto faccio giro di altri forum e leggo delle turbine rotte catene di distribuzione progettate male iniettori fatti male mah nel 2015 per me sono le cose incomprensibili . Con tutti gli difetti che puÃ² avere preferisco la Honda. '\n",
    "print(text)\n",
    "print('##########################################################################################')\n",
    "p = Preprocessor()\n",
    "print(p.preprocessText(text, ner=True, use_stemmer=True, method='word'))\n",
    "print('##########################################################################################')\n",
    "print(p.preprocessText(text, ner=True, use_stemmer=False, method='swnt'))\n",
    "print('##########################################################################################')\n",
    "print(p.preprocessText(text, ner=True, use_stemmer=True, method='pos'))\n"
   ]
  },
  {
   "cell_type": "markdown",
   "metadata": {},
   "source": [
    "For each comment divide Text from Quote by setting _TEXT or _QUOTE at the end of each word. This after preprocessing"
   ]
  },
  {
   "cell_type": "code",
   "execution_count": 11,
   "metadata": {},
   "outputs": [],
   "source": [
    "def combine_text_quote(text, quote, divide_quote=True):\n",
    "    text_tokens = tokenize(text)\n",
    "    quote_tokens = tokenize(quote)\n",
    "    combined_tokens = []\n",
    "    for tt in text_tokens:\n",
    "        if divide_quote:\n",
    "            combined_tokens.append(str(tt) + '_TEXT')\n",
    "        else:\n",
    "            combined_tokens.append(str(tt))\n",
    "    for qt in quote_tokens:\n",
    "        if divide_quote:\n",
    "            combined_tokens.append(str(qt) + '_QUOTE')\n",
    "        else:\n",
    "            combined_tokens.append(str(qt))\n",
    "    return ' '.join(combined_tokens)"
   ]
  },
  {
   "cell_type": "code",
   "execution_count": 12,
   "metadata": {},
   "outputs": [
    {
     "name": "stdout",
     "output_type": "stream",
     "text": [
      "Bene grazie ciao va\n"
     ]
    }
   ],
   "source": [
    "print(combine_text_quote('Bene grazie', 'ciao come va', divide_quote=False))"
   ]
  },
  {
   "cell_type": "markdown",
   "metadata": {},
   "source": [
    "# Dataset"
   ]
  },
  {
   "cell_type": "code",
   "execution_count": 13,
   "metadata": {},
   "outputs": [],
   "source": [
    "column = 'Motore'"
   ]
  },
  {
   "cell_type": "code",
   "execution_count": 14,
   "metadata": {
    "scrolled": true
   },
   "outputs": [
    {
     "data": {
      "text/html": [
       "<div>\n",
       "<style scoped>\n",
       "    .dataframe tbody tr th:only-of-type {\n",
       "        vertical-align: middle;\n",
       "    }\n",
       "\n",
       "    .dataframe tbody tr th {\n",
       "        vertical-align: top;\n",
       "    }\n",
       "\n",
       "    .dataframe thead th {\n",
       "        text-align: right;\n",
       "    }\n",
       "</style>\n",
       "<table border=\"1\" class=\"dataframe\">\n",
       "  <thead>\n",
       "    <tr style=\"text-align: right;\">\n",
       "      <th></th>\n",
       "      <th>TESTO</th>\n",
       "      <th>(Testo Citato)</th>\n",
       "      <th>Motore</th>\n",
       "    </tr>\n",
       "  </thead>\n",
       "  <tbody>\n",
       "    <tr>\n",
       "      <th>0</th>\n",
       "      <td>Allora il problema è che non sono aggiornati i...</td>\n",
       "      <td></td>\n",
       "      <td>irrilevante</td>\n",
       "    </tr>\n",
       "    <tr>\n",
       "      <th>1</th>\n",
       "      <td>E' virgolettato appositamente.... E soprattutt...</td>\n",
       "      <td></td>\n",
       "      <td>irrilevante</td>\n",
       "    </tr>\n",
       "    <tr>\n",
       "      <th>2</th>\n",
       "      <td>Mah io sulla mappa ev-way ho visto solo tipo 2...</td>\n",
       "      <td>'Inferiore non s ma probabilmente uguale (il m...</td>\n",
       "      <td>irrilevante</td>\n",
       "    </tr>\n",
       "    <tr>\n",
       "      <th>3</th>\n",
       "      <td>Ah però.... uno pensa di averne viste tante su...</td>\n",
       "      <td>Sinceramente una differenza di 9.800? non mi p...</td>\n",
       "      <td>irrilevante</td>\n",
       "    </tr>\n",
       "    <tr>\n",
       "      <th>4</th>\n",
       "      <td>Basta darsi delle regole e per questo tipo di ...</td>\n",
       "      <td></td>\n",
       "      <td>irrilevante</td>\n",
       "    </tr>\n",
       "    <tr>\n",
       "      <th>5</th>\n",
       "      <td>Personalmente posso ritenermi un possessore di...</td>\n",
       "      <td></td>\n",
       "      <td>irrilevante</td>\n",
       "    </tr>\n",
       "    <tr>\n",
       "      <th>6</th>\n",
       "      <td>Confermo che il posteriore è riuscitissimo e a...</td>\n",
       "      <td>\"sono stato anch'io in conce per altri motivi ...</td>\n",
       "      <td>irrilevante</td>\n",
       "    </tr>\n",
       "    <tr>\n",
       "      <th>7</th>\n",
       "      <td>Mi sa che l'unica cosa apprezzabile del rst è ...</td>\n",
       "      <td></td>\n",
       "      <td>irrilevante</td>\n",
       "    </tr>\n",
       "    <tr>\n",
       "      <th>8</th>\n",
       "      <td>grazie ! ! ! ! !</td>\n",
       "      <td></td>\n",
       "      <td>irrilevante</td>\n",
       "    </tr>\n",
       "    <tr>\n",
       "      <th>9</th>\n",
       "      <td>Cosimo hai centrato completamente</td>\n",
       "      <td></td>\n",
       "      <td>irrilevante</td>\n",
       "    </tr>\n",
       "    <tr>\n",
       "      <th>10</th>\n",
       "      <td>bisogna distinguere tra le garanzia supplement...</td>\n",
       "      <td></td>\n",
       "      <td>irrilevante</td>\n",
       "    </tr>\n",
       "    <tr>\n",
       "      <th>11</th>\n",
       "      <td>Mah parleranno di ipotetiche versioni ibride o...</td>\n",
       "      <td></td>\n",
       "      <td>negativo</td>\n",
       "    </tr>\n",
       "    <tr>\n",
       "      <th>12</th>\n",
       "      <td>Qual è secondo voi il miglior 4x4 non Suv o fu...</td>\n",
       "      <td></td>\n",
       "      <td>irrilevante</td>\n",
       "    </tr>\n",
       "    <tr>\n",
       "      <th>13</th>\n",
       "      <td>SZ ES-30 ?</td>\n",
       "      <td></td>\n",
       "      <td>neutro</td>\n",
       "    </tr>\n",
       "    <tr>\n",
       "      <th>14</th>\n",
       "      <td>Ciao perché intitoli il post : \"problemi della...</td>\n",
       "      <td></td>\n",
       "      <td>irrilevante</td>\n",
       "    </tr>\n",
       "    <tr>\n",
       "      <th>15</th>\n",
       "      <td>Diosanto che bello il Rosso 8C confrontato con...</td>\n",
       "      <td></td>\n",
       "      <td>irrilevante</td>\n",
       "    </tr>\n",
       "    <tr>\n",
       "      <th>16</th>\n",
       "      <td>Ax sensazione non vuol dire illusione. Non mi ...</td>\n",
       "      <td></td>\n",
       "      <td>irrilevante</td>\n",
       "    </tr>\n",
       "    <tr>\n",
       "      <th>17</th>\n",
       "      <td>Benvenuta nel posto giusto Allora sentirai div...</td>\n",
       "      <td>\"Buongiorno a tutti So che il titolo di questo...</td>\n",
       "      <td>neutro</td>\n",
       "    </tr>\n",
       "    <tr>\n",
       "      <th>18</th>\n",
       "      <td>Ma come c'è il gpl ! ! ! Ahahaha Nel 2010 se b...</td>\n",
       "      <td></td>\n",
       "      <td>positivo</td>\n",
       "    </tr>\n",
       "    <tr>\n",
       "      <th>19</th>\n",
       "      <td>Mitico</td>\n",
       "      <td></td>\n",
       "      <td>irrilevante</td>\n",
       "    </tr>\n",
       "    <tr>\n",
       "      <th>20</th>\n",
       "      <td>Infatti la U cromata del paraurti anteriore è ...</td>\n",
       "      <td>modello vecchio tra l'altro... e con pochi sap...</td>\n",
       "      <td>irrilevante</td>\n",
       "    </tr>\n",
       "    <tr>\n",
       "      <th>21</th>\n",
       "      <td>Si è vero il jimny è un vero fuoristrada. Però...</td>\n",
       "      <td></td>\n",
       "      <td>irrilevante</td>\n",
       "    </tr>\n",
       "    <tr>\n",
       "      <th>22</th>\n",
       "      <td>Hanno limiti di emissioni diversi come in Usa ...</td>\n",
       "      <td></td>\n",
       "      <td>neutro</td>\n",
       "    </tr>\n",
       "    <tr>\n",
       "      <th>23</th>\n",
       "      <td>Fra l'altro la hybrid con quest'ultimo fl ha b...</td>\n",
       "      <td></td>\n",
       "      <td>irrilevante</td>\n",
       "    </tr>\n",
       "    <tr>\n",
       "      <th>24</th>\n",
       "      <td>Purtroppo accade con tutti i tag... e tra l'al...</td>\n",
       "      <td></td>\n",
       "      <td>irrilevante</td>\n",
       "    </tr>\n",
       "    <tr>\n",
       "      <th>25</th>\n",
       "      <td>RS ? ......quante minchiate che si sentono ! I...</td>\n",
       "      <td></td>\n",
       "      <td>irrilevante</td>\n",
       "    </tr>\n",
       "    <tr>\n",
       "      <th>26</th>\n",
       "      <td>voglio aderire pure io ! !</td>\n",
       "      <td></td>\n",
       "      <td>irrilevante</td>\n",
       "    </tr>\n",
       "    <tr>\n",
       "      <th>27</th>\n",
       "      <td>buono a sapersi grazie per le info</td>\n",
       "      <td></td>\n",
       "      <td>irrilevante</td>\n",
       "    </tr>\n",
       "    <tr>\n",
       "      <th>28</th>\n",
       "      <td>Occhio che si potrebbe sempre invocare la vers...</td>\n",
       "      <td></td>\n",
       "      <td>irrilevante</td>\n",
       "    </tr>\n",
       "    <tr>\n",
       "      <th>29</th>\n",
       "      <td>Per ora no rinviato a sabato prossimo</td>\n",
       "      <td>'ragazz scusate l OT e scusate se scrivo ben p...</td>\n",
       "      <td>positivo</td>\n",
       "    </tr>\n",
       "    <tr>\n",
       "      <th>...</th>\n",
       "      <td>...</td>\n",
       "      <td>...</td>\n",
       "      <td>...</td>\n",
       "    </tr>\n",
       "    <tr>\n",
       "      <th>7153</th>\n",
       "      <td>Scusami Tiziano ... non volevo essere scortese...</td>\n",
       "      <td></td>\n",
       "      <td>irrilevante</td>\n",
       "    </tr>\n",
       "    <tr>\n",
       "      <th>7154</th>\n",
       "      <td>NUOVO LEXUS RX HYBRID 2016 PARTE DA 69.000 EUR...</td>\n",
       "      <td></td>\n",
       "      <td>positivo</td>\n",
       "    </tr>\n",
       "    <tr>\n",
       "      <th>7155</th>\n",
       "      <td>Dopo tre giorni d'uso posso cominciare ad espr...</td>\n",
       "      <td></td>\n",
       "      <td>positivo</td>\n",
       "    </tr>\n",
       "    <tr>\n",
       "      <th>7156</th>\n",
       "      <td>grazie stanotte sto di servizio in portineria ...</td>\n",
       "      <td></td>\n",
       "      <td>irrilevante</td>\n",
       "    </tr>\n",
       "    <tr>\n",
       "      <th>7157</th>\n",
       "      <td>Scusate però il fatto che 2 autopareristi abbi...</td>\n",
       "      <td></td>\n",
       "      <td>irrilevante</td>\n",
       "    </tr>\n",
       "    <tr>\n",
       "      <th>7158</th>\n",
       "      <td>in altri forum se un utente bannato si re-iscr...</td>\n",
       "      <td></td>\n",
       "      <td>irrilevante</td>\n",
       "    </tr>\n",
       "    <tr>\n",
       "      <th>7159</th>\n",
       "      <td>E DI QUALSIASI TAGLIA !</td>\n",
       "      <td>Le supposte a qualsiasi ora!</td>\n",
       "      <td>irrilevante</td>\n",
       "    </tr>\n",
       "    <tr>\n",
       "      <th>7160</th>\n",
       "      <td>Ciao malayes il montaggio delle trombe mi ha a...</td>\n",
       "      <td></td>\n",
       "      <td>irrilevante</td>\n",
       "    </tr>\n",
       "    <tr>\n",
       "      <th>7161</th>\n",
       "      <td>Ah ecco ero convinto che la coupé 5 cilindri a...</td>\n",
       "      <td></td>\n",
       "      <td>irrilevante</td>\n",
       "    </tr>\n",
       "    <tr>\n",
       "      <th>7162</th>\n",
       "      <td>Sei sicuro ? si può selezionare anche dal conf...</td>\n",
       "      <td></td>\n",
       "      <td>neutro</td>\n",
       "    </tr>\n",
       "    <tr>\n",
       "      <th>7163</th>\n",
       "      <td>Grazie della spiegazione mic1998 !</td>\n",
       "      <td></td>\n",
       "      <td>irrilevante</td>\n",
       "    </tr>\n",
       "    <tr>\n",
       "      <th>7164</th>\n",
       "      <td>Intendi questa Ypsilon -&amp;gt Lancia Ypsilon - W...</td>\n",
       "      <td></td>\n",
       "      <td>irrilevante</td>\n",
       "    </tr>\n",
       "    <tr>\n",
       "      <th>7165</th>\n",
       "      <td>Un pelo meno se ci sono solo accessori da cata...</td>\n",
       "      <td></td>\n",
       "      <td>irrilevante</td>\n",
       "    </tr>\n",
       "    <tr>\n",
       "      <th>7166</th>\n",
       "      <td>Tra le tre nominate vai di Geolandar le AT/S g...</td>\n",
       "      <td></td>\n",
       "      <td>irrilevante</td>\n",
       "    </tr>\n",
       "    <tr>\n",
       "      <th>7167</th>\n",
       "      <td>Ciao a tutti oggi ho visto una jeep compass L ...</td>\n",
       "      <td></td>\n",
       "      <td>positivo</td>\n",
       "    </tr>\n",
       "    <tr>\n",
       "      <th>7168</th>\n",
       "      <td>ECCO LE FOTO</td>\n",
       "      <td></td>\n",
       "      <td>irrilevante</td>\n",
       "    </tr>\n",
       "    <tr>\n",
       "      <th>7169</th>\n",
       "      <td>prendila merita di per sè:wink:</td>\n",
       "      <td>\" Però una 3.0csi costa sui 12K davvero bell v...</td>\n",
       "      <td>irrilevante</td>\n",
       "    </tr>\n",
       "    <tr>\n",
       "      <th>7170</th>\n",
       "      <td>Ciao io ho preso una FIESTA ST LINE 140 cv FUL...</td>\n",
       "      <td></td>\n",
       "      <td>positivo</td>\n",
       "    </tr>\n",
       "    <tr>\n",
       "      <th>7171</th>\n",
       "      <td>bel mezzo parecchio americano come stile</td>\n",
       "      <td></td>\n",
       "      <td>irrilevante</td>\n",
       "    </tr>\n",
       "    <tr>\n",
       "      <th>7172</th>\n",
       "      <td>Non male tutt'altro. Al posteriore assomiglia ...</td>\n",
       "      <td></td>\n",
       "      <td>irrilevante</td>\n",
       "    </tr>\n",
       "    <tr>\n",
       "      <th>7173</th>\n",
       "      <td>A me questo aggeggio continua ad ispirare simp...</td>\n",
       "      <td></td>\n",
       "      <td>irrilevante</td>\n",
       "    </tr>\n",
       "    <tr>\n",
       "      <th>7174</th>\n",
       "      <td>posto che sono 2 vetture eccezionali e mi par ...</td>\n",
       "      <td></td>\n",
       "      <td>irrilevante</td>\n",
       "    </tr>\n",
       "    <tr>\n",
       "      <th>7175</th>\n",
       "      <td>Salve a tutti ecco una nuova sezione dedicata ...</td>\n",
       "      <td>'Grande idea......... grazie RossoCorsa'</td>\n",
       "      <td>irrilevante</td>\n",
       "    </tr>\n",
       "    <tr>\n",
       "      <th>7176</th>\n",
       "      <td>Inoltre derivavano direttamente dalle corse in...</td>\n",
       "      <td></td>\n",
       "      <td>irrilevante</td>\n",
       "    </tr>\n",
       "    <tr>\n",
       "      <th>7177</th>\n",
       "      <td>E allora perchè hai scritto sopra \"I modelli N...</td>\n",
       "      <td>'Nemmeno io.'</td>\n",
       "      <td>irrilevante</td>\n",
       "    </tr>\n",
       "    <tr>\n",
       "      <th>7178</th>\n",
       "      <td>Devi vedere 4C come un investimento pubblicita...</td>\n",
       "      <td></td>\n",
       "      <td>irrilevante</td>\n",
       "    </tr>\n",
       "    <tr>\n",
       "      <th>7179</th>\n",
       "      <td>Parto con dire una cosa : Bella e molto + bell...</td>\n",
       "      <td>'Caxxo stamattina mi ero preoccupato non veden...</td>\n",
       "      <td>positivo</td>\n",
       "    </tr>\n",
       "    <tr>\n",
       "      <th>7180</th>\n",
       "      <td>Mi sembri agguerrito ! Bravo ! Ti manderei anc...</td>\n",
       "      <td></td>\n",
       "      <td>irrilevante</td>\n",
       "    </tr>\n",
       "    <tr>\n",
       "      <th>7181</th>\n",
       "      <td>Grazie per la risposta. In realtà alla fine ho...</td>\n",
       "      <td></td>\n",
       "      <td>irrilevante</td>\n",
       "    </tr>\n",
       "    <tr>\n",
       "      <th>7182</th>\n",
       "      <td>io l'ho vista dal vivo e ti confremo che è com...</td>\n",
       "      <td></td>\n",
       "      <td>irrilevante</td>\n",
       "    </tr>\n",
       "  </tbody>\n",
       "</table>\n",
       "<p>7183 rows × 3 columns</p>\n",
       "</div>"
      ],
      "text/plain": [
       "                                                  TESTO  \\\n",
       "0     Allora il problema è che non sono aggiornati i...   \n",
       "1     E' virgolettato appositamente.... E soprattutt...   \n",
       "2     Mah io sulla mappa ev-way ho visto solo tipo 2...   \n",
       "3     Ah però.... uno pensa di averne viste tante su...   \n",
       "4     Basta darsi delle regole e per questo tipo di ...   \n",
       "5     Personalmente posso ritenermi un possessore di...   \n",
       "6     Confermo che il posteriore è riuscitissimo e a...   \n",
       "7     Mi sa che l'unica cosa apprezzabile del rst è ...   \n",
       "8                                     grazie ! ! ! ! !    \n",
       "9                    Cosimo hai centrato completamente    \n",
       "10    bisogna distinguere tra le garanzia supplement...   \n",
       "11    Mah parleranno di ipotetiche versioni ibride o...   \n",
       "12    Qual è secondo voi il miglior 4x4 non Suv o fu...   \n",
       "13                                          SZ ES-30 ?    \n",
       "14    Ciao perché intitoli il post : \"problemi della...   \n",
       "15    Diosanto che bello il Rosso 8C confrontato con...   \n",
       "16    Ax sensazione non vuol dire illusione. Non mi ...   \n",
       "17    Benvenuta nel posto giusto Allora sentirai div...   \n",
       "18    Ma come c'è il gpl ! ! ! Ahahaha Nel 2010 se b...   \n",
       "19                                               Mitico   \n",
       "20    Infatti la U cromata del paraurti anteriore è ...   \n",
       "21    Si è vero il jimny è un vero fuoristrada. Però...   \n",
       "22    Hanno limiti di emissioni diversi come in Usa ...   \n",
       "23    Fra l'altro la hybrid con quest'ultimo fl ha b...   \n",
       "24    Purtroppo accade con tutti i tag... e tra l'al...   \n",
       "25    RS ? ......quante minchiate che si sentono ! I...   \n",
       "26                          voglio aderire pure io ! !    \n",
       "27                  buono a sapersi grazie per le info    \n",
       "28    Occhio che si potrebbe sempre invocare la vers...   \n",
       "29               Per ora no rinviato a sabato prossimo    \n",
       "...                                                 ...   \n",
       "7153  Scusami Tiziano ... non volevo essere scortese...   \n",
       "7154  NUOVO LEXUS RX HYBRID 2016 PARTE DA 69.000 EUR...   \n",
       "7155  Dopo tre giorni d'uso posso cominciare ad espr...   \n",
       "7156  grazie stanotte sto di servizio in portineria ...   \n",
       "7157  Scusate però il fatto che 2 autopareristi abbi...   \n",
       "7158  in altri forum se un utente bannato si re-iscr...   \n",
       "7159                           E DI QUALSIASI TAGLIA !    \n",
       "7160  Ciao malayes il montaggio delle trombe mi ha a...   \n",
       "7161  Ah ecco ero convinto che la coupé 5 cilindri a...   \n",
       "7162  Sei sicuro ? si può selezionare anche dal conf...   \n",
       "7163                Grazie della spiegazione mic1998 !    \n",
       "7164  Intendi questa Ypsilon -&gt Lancia Ypsilon - W...   \n",
       "7165  Un pelo meno se ci sono solo accessori da cata...   \n",
       "7166  Tra le tre nominate vai di Geolandar le AT/S g...   \n",
       "7167  Ciao a tutti oggi ho visto una jeep compass L ...   \n",
       "7168                                      ECCO LE FOTO    \n",
       "7169                   prendila merita di per sè:wink:    \n",
       "7170  Ciao io ho preso una FIESTA ST LINE 140 cv FUL...   \n",
       "7171          bel mezzo parecchio americano come stile    \n",
       "7172  Non male tutt'altro. Al posteriore assomiglia ...   \n",
       "7173  A me questo aggeggio continua ad ispirare simp...   \n",
       "7174  posto che sono 2 vetture eccezionali e mi par ...   \n",
       "7175  Salve a tutti ecco una nuova sezione dedicata ...   \n",
       "7176  Inoltre derivavano direttamente dalle corse in...   \n",
       "7177  E allora perchè hai scritto sopra \"I modelli N...   \n",
       "7178  Devi vedere 4C come un investimento pubblicita...   \n",
       "7179  Parto con dire una cosa : Bella e molto + bell...   \n",
       "7180  Mi sembri agguerrito ! Bravo ! Ti manderei anc...   \n",
       "7181  Grazie per la risposta. In realtà alla fine ho...   \n",
       "7182  io l'ho vista dal vivo e ti confremo che è com...   \n",
       "\n",
       "                                         (Testo Citato)       Motore  \n",
       "0                                                        irrilevante  \n",
       "1                                                        irrilevante  \n",
       "2     'Inferiore non s ma probabilmente uguale (il m...  irrilevante  \n",
       "3     Sinceramente una differenza di 9.800? non mi p...  irrilevante  \n",
       "4                                                        irrilevante  \n",
       "5                                                        irrilevante  \n",
       "6     \"sono stato anch'io in conce per altri motivi ...  irrilevante  \n",
       "7                                                        irrilevante  \n",
       "8                                                        irrilevante  \n",
       "9                                                        irrilevante  \n",
       "10                                                       irrilevante  \n",
       "11                                                          negativo  \n",
       "12                                                       irrilevante  \n",
       "13                                                            neutro  \n",
       "14                                                       irrilevante  \n",
       "15                                                       irrilevante  \n",
       "16                                                       irrilevante  \n",
       "17    \"Buongiorno a tutti So che il titolo di questo...       neutro  \n",
       "18                                                          positivo  \n",
       "19                                                       irrilevante  \n",
       "20    modello vecchio tra l'altro... e con pochi sap...  irrilevante  \n",
       "21                                                       irrilevante  \n",
       "22                                                            neutro  \n",
       "23                                                       irrilevante  \n",
       "24                                                       irrilevante  \n",
       "25                                                       irrilevante  \n",
       "26                                                       irrilevante  \n",
       "27                                                       irrilevante  \n",
       "28                                                       irrilevante  \n",
       "29    'ragazz scusate l OT e scusate se scrivo ben p...     positivo  \n",
       "...                                                 ...          ...  \n",
       "7153                                                     irrilevante  \n",
       "7154                                                        positivo  \n",
       "7155                                                        positivo  \n",
       "7156                                                     irrilevante  \n",
       "7157                                                     irrilevante  \n",
       "7158                                                     irrilevante  \n",
       "7159                       Le supposte a qualsiasi ora!  irrilevante  \n",
       "7160                                                     irrilevante  \n",
       "7161                                                     irrilevante  \n",
       "7162                                                          neutro  \n",
       "7163                                                     irrilevante  \n",
       "7164                                                     irrilevante  \n",
       "7165                                                     irrilevante  \n",
       "7166                                                     irrilevante  \n",
       "7167                                                        positivo  \n",
       "7168                                                     irrilevante  \n",
       "7169  \" Però una 3.0csi costa sui 12K davvero bell v...  irrilevante  \n",
       "7170                                                        positivo  \n",
       "7171                                                     irrilevante  \n",
       "7172                                                     irrilevante  \n",
       "7173                                                     irrilevante  \n",
       "7174                                                     irrilevante  \n",
       "7175           'Grande idea......... grazie RossoCorsa'  irrilevante  \n",
       "7176                                                     irrilevante  \n",
       "7177                                      'Nemmeno io.'  irrilevante  \n",
       "7178                                                     irrilevante  \n",
       "7179  'Caxxo stamattina mi ero preoccupato non veden...     positivo  \n",
       "7180                                                     irrilevante  \n",
       "7181                                                     irrilevante  \n",
       "7182                                                     irrilevante  \n",
       "\n",
       "[7183 rows x 3 columns]"
      ]
     },
     "execution_count": 14,
     "metadata": {},
     "output_type": "execute_result"
    }
   ],
   "source": [
    "original_dataset = pd.read_csv('dataset.csv').fillna('')[['TESTO', '(Testo Citato)', column]]\n",
    "dataset = original_dataset.copy()\n",
    "dataset"
   ]
  },
  {
   "cell_type": "markdown",
   "metadata": {},
   "source": [
    "Preprocessing"
   ]
  },
  {
   "cell_type": "code",
   "execution_count": 15,
   "metadata": {},
   "outputs": [],
   "source": [
    "pp = Preprocessor()\n",
    "# TESTO\n",
    "for i in range(len(dataset)):\n",
    "    dataset['TESTO'][i] = pp.preprocessText(dataset['TESTO'][i], method='word', use_stemmer=True, ner=True)\n",
    "# (Testo Citato)\n",
    "for i in range(len(dataset)):\n",
    "    dataset['(Testo Citato)'][i] = pp.preprocessText(dataset['(Testo Citato)'][i], method='word', use_stemmer=True, ner=True)    "
   ]
  },
  {
   "cell_type": "code",
   "execution_count": 16,
   "metadata": {},
   "outputs": [],
   "source": [
    "# combine labels \"molto positivo\" = \"positivo\" and so on\n",
    "dataset[column] = dataset[column].replace('molto positivo', 'positivo')\n",
    "dataset[column] = dataset[column].replace('molto negativo', 'negativo')"
   ]
  },
  {
   "cell_type": "markdown",
   "metadata": {},
   "source": [
    "Vectorization"
   ]
  },
  {
   "cell_type": "code",
   "execution_count": 17,
   "metadata": {},
   "outputs": [],
   "source": [
    "preprocessed_dataset = []\n",
    "for i in range(len(dataset)):\n",
    "    preprocessed_dataset.append((combine_text_quote(dataset['TESTO'][i], dataset['(Testo Citato)'][i], divide_quote=False), dataset[column][i]))"
   ]
  },
  {
   "cell_type": "code",
   "execution_count": 18,
   "metadata": {},
   "outputs": [
    {
     "data": {
      "text/plain": [
       "('MODEL nessun chied dir fals chied sol difend indifend strateg EMARK ok dic ver dubit incazz best urland te dietr sopr sott camb EMARK MODEL camb EMARK fabv BRAND bisogn ( avvoc ) difensor bisogn attacc EMARK usat avvoc finor success raggiung strabil svolg compitin insegu lont concorrt EMARK twisted twisted twisted twisted twisted',\n",
       " 'irrilevante')"
      ]
     },
     "execution_count": 18,
     "metadata": {},
     "output_type": "execute_result"
    }
   ],
   "source": [
    "preprocessed_dataset[50]"
   ]
  },
  {
   "cell_type": "markdown",
   "metadata": {},
   "source": [
    "Split into training and test"
   ]
  },
  {
   "cell_type": "code",
   "execution_count": 19,
   "metadata": {},
   "outputs": [
    {
     "name": "stdout",
     "output_type": "stream",
     "text": [
      "Length: 7183\n"
     ]
    }
   ],
   "source": [
    "numpy_dataset = np.array(preprocessed_dataset)\n",
    "print('Length: ' + str(numpy_dataset.shape[0]))"
   ]
  },
  {
   "cell_type": "code",
   "execution_count": 20,
   "metadata": {},
   "outputs": [],
   "source": [
    "np.random.seed(42)\n",
    "# split 80% training and 20% test\n",
    "# FARLO RISPETTANDO LA DISTRIBUZIONE\n",
    "perm = np.random.permutation(numpy_dataset.shape[0])\n",
    "#np.random.shuffle(numpy_dataset)\n",
    "numpy_dataset = numpy_dataset[perm]\n",
    "#split = int(0.8 * numpy_dataset.shape[0])\n",
    "#train_dataset, test_dataset = numpy_dataset[:split,:], numpy_dataset[split:,:]\n",
    "train_dataset_X, test_dataset_X, train_dataset_y, test_dataset_y = train_test_split(numpy_dataset[:,0], numpy_dataset[:,1], test_size=0.2, stratify=numpy_dataset[:,1], random_state=42)"
   ]
  },
  {
   "cell_type": "code",
   "execution_count": 21,
   "metadata": {},
   "outputs": [
    {
     "data": {
      "text/plain": [
       "(5746,)"
      ]
     },
     "execution_count": 21,
     "metadata": {},
     "output_type": "execute_result"
    }
   ],
   "source": [
    "train_dataset_X.shape"
   ]
  },
  {
   "cell_type": "markdown",
   "metadata": {},
   "source": [
    "Some statistics"
   ]
  },
  {
   "cell_type": "code",
   "execution_count": 22,
   "metadata": {},
   "outputs": [
    {
     "data": {
      "text/plain": [
       "Counter({'irrilevante': 5082, 'negativo': 124, 'positivo': 254, 'neutro': 286})"
      ]
     },
     "execution_count": 22,
     "metadata": {},
     "output_type": "execute_result"
    }
   ],
   "source": [
    "collections.Counter(train_dataset_y)"
   ]
  },
  {
   "cell_type": "code",
   "execution_count": 23,
   "metadata": {},
   "outputs": [],
   "source": [
    "# fit vectorizer\n",
    "#MAX_FEATURES = None # whatever features comes, then feature selection\n",
    "#vec = Vectorizer(train_dataset_X, method='tfidf', max_features=MAX_FEATURES, ngrams=2, just_presence=False)"
   ]
  },
  {
   "cell_type": "code",
   "execution_count": 24,
   "metadata": {},
   "outputs": [],
   "source": [
    "# try\n",
    "#print(vec.vectorize('bisogn_TEXT distingu_TEXT tra_TEXT le_TEXT').toarray()[0])\n",
    "#collections.Counter(vec.vectorize('bisogn_TEXT distingu_TEXT tra_TEXT le_TEXT').toarray()[0])"
   ]
  },
  {
   "cell_type": "markdown",
   "metadata": {},
   "source": [
    "Finally replace text with vector, and replace label with numerical representation"
   ]
  },
  {
   "cell_type": "code",
   "execution_count": 25,
   "metadata": {},
   "outputs": [],
   "source": [
    "# VECTORIZE\n",
    "vec = TfidfVectorizer(ngram_range=(1,2), lowercase=False)\n",
    "#train_dataset_X = vec.fit_transform(train_dataset_X)\n",
    "\n",
    "# final dataset for the classification\n",
    "train_X = vec.fit_transform(train_dataset_X)\n",
    "train_y = np.empty([train_dataset_y.shape[0], 1]).ravel()\n",
    "\n",
    "for i in range(train_dataset_y.shape[0]):\n",
    "    if train_dataset_y[i] == 'irrilevante':\n",
    "        train_y[i] = 0\n",
    "    elif train_dataset_y[i] == 'positivo':\n",
    "        train_y[i] = 1\n",
    "    elif train_dataset_y[i] == 'neutro':\n",
    "        train_y[i] = 1\n",
    "    elif train_dataset_y[i] == 'negativo':\n",
    "        train_y[i] = 1"
   ]
  },
  {
   "cell_type": "markdown",
   "metadata": {},
   "source": [
    "## SVM _TFIDF Classifier"
   ]
  },
  {
   "cell_type": "markdown",
   "metadata": {},
   "source": [
    "https://towardsdatascience.com/automated-machine-learning-hyperparameter-tuning-in-python-dfda59b72f8a"
   ]
  },
  {
   "cell_type": "markdown",
   "metadata": {},
   "source": [
    "First tests for feature selection"
   ]
  },
  {
   "cell_type": "code",
   "execution_count": 70,
   "metadata": {
    "scrolled": true
   },
   "outputs": [
    {
     "name": "stdout",
     "output_type": "stream",
     "text": [
      "# Tuning hyper-parameters for recall\n",
      "\n",
      "Fitting 5 folds for each of 7 candidates, totalling 35 fits\n"
     ]
    },
    {
     "name": "stderr",
     "output_type": "stream",
     "text": [
      "[Parallel(n_jobs=-1)]: Using backend LokyBackend with 8 concurrent workers.\n",
      "[Parallel(n_jobs=-1)]: Done  35 out of  35 | elapsed:  1.8min finished\n"
     ]
    },
    {
     "name": "stdout",
     "output_type": "stream",
     "text": [
      "[LibSVM]Best parameters set found on development set:\n",
      "\n",
      "{'C': 100.0}\n",
      "\n",
      "Grid scores on development set:\n",
      "\n",
      "0.000 (+/-0.000) for {'C': 0.001}\n",
      "0.000 (+/-0.000) for {'C': 0.01}\n",
      "0.000 (+/-0.000) for {'C': 0.1}\n",
      "0.196 (+/-0.100) for {'C': 1.0}\n",
      "0.251 (+/-0.085) for {'C': 10.0}\n",
      "0.280 (+/-0.126) for {'C': 100.0}\n",
      "0.279 (+/-0.122) for {'C': 1000.0}\n",
      "\n"
     ]
    }
   ],
   "source": [
    "skf = StratifiedKFold(n_splits=5, random_state=42, shuffle=False)\n",
    "svm_clf = svm.SVC(kernel='linear', decision_function_shape='ovr', verbose=2, random_state=42)\n",
    "\n",
    "tuned_parameters = {'C': np.logspace(-3, 3, 7),}\n",
    "\n",
    "# f1, f1_macro (for multiclass), recall\n",
    "scores = ['recall']\n",
    "\n",
    "for score in scores:\n",
    "    print(\"# Tuning hyper-parameters for %s\" % score)\n",
    "    print()\n",
    "\n",
    "    clf = GridSearchCV(svm_clf, tuned_parameters, cv=skf, n_jobs=-1, scoring=score, verbose=2)\n",
    "    clf.fit(train_X, train_y)\n",
    "\n",
    "    print(\"Best parameters set found on development set:\")\n",
    "    print()\n",
    "    print(clf.best_params_)\n",
    "    print()\n",
    "    print(\"Grid scores on development set:\")\n",
    "    print()\n",
    "    means = clf.cv_results_['mean_test_score']\n",
    "    stds = clf.cv_results_['std_test_score']\n",
    "    for mean, std, params in zip(means, stds, clf.cv_results_['params']):\n",
    "        print(\"%0.3f (+/-%0.03f) for %r\" % (mean, std * 2, params))\n",
    "    print()"
   ]
  },
  {
   "cell_type": "markdown",
   "metadata": {},
   "source": [
    "Refit with best parameters and then draw confusion matrix on validation data"
   ]
  },
  {
   "cell_type": "code",
   "execution_count": 71,
   "metadata": {},
   "outputs": [],
   "source": [
    "train_X_cf, test_X_cf, train_y_cf, test_y_cf = train_test_split(train_X, train_y, test_size=0.2, stratify=train_y, random_state=42)"
   ]
  },
  {
   "cell_type": "code",
   "execution_count": 72,
   "metadata": {},
   "outputs": [
    {
     "name": "stdout",
     "output_type": "stream",
     "text": [
      "[LibSVM]"
     ]
    },
    {
     "data": {
      "text/plain": [
       "SVC(C=100, cache_size=200, class_weight=None, coef0=0.0,\n",
       "  decision_function_shape='ovr', degree=3, gamma='auto_deprecated',\n",
       "  kernel='linear', max_iter=-1, probability=False, random_state=42,\n",
       "  shrinking=True, tol=0.001, verbose=2)"
      ]
     },
     "execution_count": 72,
     "metadata": {},
     "output_type": "execute_result"
    }
   ],
   "source": [
    "best_clf = svm.SVC(kernel='linear', C=100, decision_function_shape='ovr', verbose=2, random_state=42)\n",
    "best_clf.fit(train_X_cf, train_y_cf)"
   ]
  },
  {
   "cell_type": "code",
   "execution_count": 73,
   "metadata": {},
   "outputs": [],
   "source": [
    "# predictions\n",
    "pred_y_cf = best_clf.predict(test_X_cf)"
   ]
  },
  {
   "cell_type": "code",
   "execution_count": 74,
   "metadata": {},
   "outputs": [
    {
     "name": "stdout",
     "output_type": "stream",
     "text": [
      "F1 score on validation data: 0.3627450980392156\n",
      "Recall on validation data: 0.2781954887218045\n"
     ]
    },
    {
     "data": {
      "image/png": "[encoded data removed]",
      "text/plain": [
       "<Figure size 432x288 with 2 Axes>"
      ]
     },
     "metadata": {
      "needs_background": "light"
     },
     "output_type": "display_data"
    }
   ],
   "source": [
    "# 0=irrilevante, 1=positivo, 2=neutro, 3=negativo\n",
    "print('F1 score on validation data: ' + str(f1_score(test_y_cf, pred_y_cf)))\n",
    "print('Recall on validation data: ' + str(recall_score(test_y_cf, pred_y_cf)))\n",
    "cm = confusion_matrix(test_y_cf, pred_y_cf, labels=[0, 1, 2, 3])\n",
    "ax = sns.heatmap(cm, annot=True, xticklabels=['irrelevant','positive','neutral', 'negative'], yticklabels=['irrelevant','positive','neutral', 'negative'], fmt=\"d\")\n",
    "ax.xaxis.set_ticks_position('top')"
   ]
  },
  {
   "cell_type": "markdown",
   "metadata": {},
   "source": [
    "Features selection. Plot by descending weight\n",
    "\n",
    "The weight/coefficient matrix of a generalised linear model predictor, of shape (n_features,) for binary classification and single-output regression, (n_classes, n_features) for multiclass classification and (n_targets, n_features) for multi-output regression. Note this does not include the intercept (or bias) term, which is stored in intercept_.\n",
    "\n",
    "When available, feature_importances_ is not usually provided as well, but can be calculated as the norm of each feature’s entry in coef_.\n",
    "\n",
    "https://stats.stackexchange.com/questions/39243/how-does-one-interpret-svm-feature-weights"
   ]
  },
  {
   "cell_type": "code",
   "execution_count": 31,
   "metadata": {},
   "outputs": [
    {
     "name": "stdout",
     "output_type": "stream",
     "text": [
      "(1, 188026)\n"
     ]
    }
   ],
   "source": [
    "weights = clf.best_estimator_.coef_\n",
    "print(weights.shape)\n",
    "# 6 perchè fa un classifictore per ogni coppia di labels (ovr) -> verificare"
   ]
  },
  {
   "cell_type": "code",
   "execution_count": 32,
   "metadata": {},
   "outputs": [
    {
     "name": "stdout",
     "output_type": "stream",
     "text": [
      "[179821 169914 169913 ...  48005  47763  45086]\n",
      "[ 0.1977137   0.1977137   0.1977137  ... -0.00507185 -0.01481056\n",
      "  0.04464791]\n"
     ]
    }
   ],
   "source": [
    "print(weights.indices)\n",
    "print(weights.data)"
   ]
  },
  {
   "cell_type": "code",
   "execution_count": 33,
   "metadata": {},
   "outputs": [
    {
     "data": {
      "image/png": "[encoded data removed]",
      "text/plain": [
       "<Figure size 1080x360 with 1 Axes>"
      ]
     },
     "metadata": {
      "needs_background": "light"
     },
     "output_type": "display_data"
    }
   ],
   "source": [
    "# Data for plotting\n",
    "for i in range(weights.shape[0]):\n",
    "    fig, ax = plt.subplots(figsize=(15,5))\n",
    "    ax.plot(range(weights[i].data.shape[0]), sorted(abs(weights[i].data), reverse = True))\n",
    "    ax.set(xlabel='Feature', ylabel='Weight', title='Features\\' weights ' + str(i))\n",
    "    ax.grid()\n",
    "    #fig.savefig(\"test.png\")\n",
    "    plt.show()"
   ]
  },
  {
   "cell_type": "code",
   "execution_count": 34,
   "metadata": {},
   "outputs": [],
   "source": [
    "# select most important features\n",
    "cutoff_0 = 0.35\n",
    "selected_features_0 = [i for i in sorted(zip(map(lambda x: round(x, 4), abs(weights[0].data)), weights[0].indices), reverse=True) if i[0] > cutoff_0]\n",
    "#cutoff_1 = 0.15\n",
    "# selected_features_1 = [i for i in sorted(zip(map(lambda x: round(x, 4), abs(weights[1].data)), weights[1].indices), reverse=True) if i[0] > cutoff_1]\n",
    "# cutoff_2 = 0.15\n",
    "# selected_features_2 = [i for i in sorted(zip(map(lambda x: round(x, 4), abs(weights[2].data)), weights[2].indices), reverse=True) if i[0] > cutoff_2]\n",
    "# cutoff_3 = 0.15\n",
    "# selected_features_3 = [i for i in sorted(zip(map(lambda x: round(x, 4), abs(weights[3].data)), weights[3].indices), reverse=True) if i[0] > cutoff_3]\n",
    "# cutoff_4 = 0.15\n",
    "# selected_features_4 = [i for i in sorted(zip(map(lambda x: round(x, 4), abs(weights[4].data)), weights[4].indices), reverse=True) if i[0] > cutoff_4]\n",
    "# cutoff_5 = 0.15\n",
    "# selected_features_5 = [i for i in sorted(zip(map(lambda x: round(x, 4), abs(weights[5].data)), weights[5].indices), reverse=True) if i[0] > cutoff_5]"
   ]
  },
  {
   "cell_type": "code",
   "execution_count": 35,
   "metadata": {},
   "outputs": [
    {
     "name": "stdout",
     "output_type": "stream",
     "text": [
      "Selected 2964 features\n"
     ]
    }
   ],
   "source": [
    "# take the union of selected features (a word important for a classification may be not important for other classifications)\n",
    "selected_features = set()\n",
    "for f in selected_features_0:\n",
    "    selected_features.add(f[1])\n",
    "# for f in selected_features_1:\n",
    "#     selected_features.add(f[1])\n",
    "# for f in selected_features_2:\n",
    "#     selected_features.add(f[1])\n",
    "# for f in selected_features_3:\n",
    "#     selected_features.add(f[1])\n",
    "# for f in selected_features_4:\n",
    "#     selected_features.add(f[1])\n",
    "# for f in selected_features_5:\n",
    "#     selected_features.add(f[1])\n",
    "print('Selected ' + str(len(selected_features)) + ' features')    "
   ]
  },
  {
   "cell_type": "code",
   "execution_count": null,
   "metadata": {},
   "outputs": [],
   "source": []
  },
  {
   "cell_type": "markdown",
   "metadata": {},
   "source": [
    "Now retry grid search using only selected features"
   ]
  },
  {
   "cell_type": "code",
   "execution_count": 36,
   "metadata": {},
   "outputs": [],
   "source": [
    "train_X_selected = train_X[:, list(selected_features)]\n",
    "train_y_selected = train_y"
   ]
  },
  {
   "cell_type": "code",
   "execution_count": 75,
   "metadata": {},
   "outputs": [
    {
     "name": "stdout",
     "output_type": "stream",
     "text": [
      "# Tuning hyper-parameters for recall\n",
      "\n",
      "Fitting 5 folds for each of 7 candidates, totalling 35 fits\n"
     ]
    },
    {
     "name": "stderr",
     "output_type": "stream",
     "text": [
      "[Parallel(n_jobs=-1)]: Using backend LokyBackend with 8 concurrent workers.\n",
      "[Parallel(n_jobs=-1)]: Done  35 out of  35 | elapsed:   10.3s finished\n"
     ]
    },
    {
     "name": "stdout",
     "output_type": "stream",
     "text": [
      "[LibSVM]Best parameters set found on development set:\n",
      "\n",
      "{'C': 1000.0}\n",
      "\n",
      "Grid scores on development set:\n",
      "\n",
      "0.000 (+/-0.000) for {'C': 0.001}\n",
      "0.000 (+/-0.000) for {'C': 0.01}\n",
      "0.000 (+/-0.000) for {'C': 0.1}\n",
      "0.047 (+/-0.049) for {'C': 1.0}\n",
      "0.491 (+/-0.081) for {'C': 10.0}\n",
      "0.584 (+/-0.071) for {'C': 100.0}\n",
      "0.590 (+/-0.055) for {'C': 1000.0}\n",
      "\n"
     ]
    }
   ],
   "source": [
    "skf = StratifiedKFold(n_splits=5, random_state=42, shuffle=False)\n",
    "svm_clf_selected = svm.SVC(kernel='linear', decision_function_shape='ovr', verbose=2, random_state=42)\n",
    "\n",
    "tuned_parameters = {'C': np.logspace(-3, 3, 7),}\n",
    "\n",
    "scores = ['recall']\n",
    "\n",
    "for score in scores:\n",
    "    print(\"# Tuning hyper-parameters for %s\" % score)\n",
    "    print()\n",
    "\n",
    "    clf_selected = GridSearchCV(svm_clf_selected, tuned_parameters, cv=skf, n_jobs=-1, scoring=score, verbose=2)\n",
    "    clf_selected.fit(train_X_selected, train_y_selected)\n",
    "\n",
    "    print(\"Best parameters set found on development set:\")\n",
    "    print()\n",
    "    print(clf_selected.best_params_)\n",
    "    print()\n",
    "    print(\"Grid scores on development set:\")\n",
    "    print()\n",
    "    means = clf_selected.cv_results_['mean_test_score']\n",
    "    stds = clf_selected.cv_results_['std_test_score']\n",
    "    for mean, std, params in zip(means, stds, clf_selected.cv_results_['params']):\n",
    "        print(\"%0.3f (+/-%0.03f) for %r\" % (mean, std * 2, params))\n",
    "    print()"
   ]
  },
  {
   "cell_type": "markdown",
   "metadata": {},
   "source": [
    "New confusion matrix"
   ]
  },
  {
   "cell_type": "code",
   "execution_count": 76,
   "metadata": {},
   "outputs": [],
   "source": [
    "train_X_fs, test_X_fs, train_y_fs, test_y_fs = train_test_split(train_X_selected, train_y_selected, test_size=0.2, stratify=train_y_selected, random_state=42)"
   ]
  },
  {
   "cell_type": "code",
   "execution_count": 77,
   "metadata": {},
   "outputs": [
    {
     "name": "stdout",
     "output_type": "stream",
     "text": [
      "[LibSVM]"
     ]
    },
    {
     "data": {
      "text/plain": [
       "SVC(C=1000, cache_size=200, class_weight=None, coef0=0.0,\n",
       "  decision_function_shape='ovr', degree=3, gamma='auto_deprecated',\n",
       "  kernel='linear', max_iter=-1, probability=False, random_state=42,\n",
       "  shrinking=True, tol=0.001, verbose=2)"
      ]
     },
     "execution_count": 77,
     "metadata": {},
     "output_type": "execute_result"
    }
   ],
   "source": [
    "best_clf_fs = svm.SVC(kernel='linear', C=1000, decision_function_shape='ovr', verbose=2, random_state=42)\n",
    "best_clf_fs.fit(train_X_fs, train_y_fs)"
   ]
  },
  {
   "cell_type": "code",
   "execution_count": 78,
   "metadata": {},
   "outputs": [],
   "source": [
    "# predictions\n",
    "pred_y_fs = best_clf_fs.predict(test_X_fs)"
   ]
  },
  {
   "cell_type": "code",
   "execution_count": 79,
   "metadata": {},
   "outputs": [
    {
     "name": "stdout",
     "output_type": "stream",
     "text": [
      "F1 score on validation data: 0.6448979591836735\n",
      "Recall on validation data: 0.5939849624060151\n"
     ]
    },
    {
     "data": {
      "image/png": "[encoded data removed]",
      "text/plain": [
       "<Figure size 432x288 with 2 Axes>"
      ]
     },
     "metadata": {
      "needs_background": "light"
     },
     "output_type": "display_data"
    }
   ],
   "source": [
    "# 0=irrilevante, 1=positivo, 2=neutro, 3=negativo\n",
    "print('F1 score on validation data: ' + str(f1_score(test_y_fs, pred_y_fs)))\n",
    "print('Recall on validation data: ' + str(recall_score(test_y_fs, pred_y_fs)))\n",
    "cm = confusion_matrix(test_y_fs, pred_y_fs, labels=[0, 1, 2, 3])\n",
    "ax = sns.heatmap(cm, annot=True, xticklabels=['irrelevant','positive','neutral', 'negative'], yticklabels=['irrelevant','positive','neutral', 'negative'], fmt=\"d\")\n",
    "ax.xaxis.set_ticks_position('top')"
   ]
  },
  {
   "cell_type": "markdown",
   "metadata": {},
   "source": [
    "Most important features"
   ]
  },
  {
   "cell_type": "code",
   "execution_count": 42,
   "metadata": {
    "scrolled": true
   },
   "outputs": [
    {
     "name": "stdout",
     "output_type": "stream",
     "text": [
      "### 0\n"
     ]
    },
    {
     "data": {
      "image/png": "[encoded data removed]",
      "text/plain": [
       "<Figure size 1080x360 with 1 Axes>"
      ]
     },
     "metadata": {
      "needs_background": "light"
     },
     "output_type": "display_data"
    }
   ],
   "source": [
    "best_n = 70\n",
    "feature_names = vec.get_feature_names()\n",
    "for i in range(weights.shape[0]):\n",
    "    print('### ' + str(i))\n",
    "    fn = []\n",
    "    fv = []\n",
    "    f = [i for i in sorted(zip(map(lambda x: round(x, 4), clf_selected.best_estimator_.coef_[i].data), clf_selected.best_estimator_.coef_[i].indices), reverse=True, key=lambda k: abs(k[0]))][:best_n]\n",
    "    for j in range(len(f)):\n",
    "        fn.append(feature_names[f[j][1]])\n",
    "        fv.append(f[j][0])\n",
    "        #print(str(feature_names[f[j][1]]) + ': ' + str(f[j][0]))\n",
    "    fig, ax = plt.subplots(figsize=(15,5))\n",
    "    plt.bar([i for i in range(best_n) if fv[i]>0], [x for x in fv if x>0])\n",
    "    plt.bar([i for i in range(best_n) if fv[i]<0], [x for x in fv if x<0], color='r')\n",
    "    plt.xticks(range(best_n), fn, rotation='vertical')\n",
    "    plt.show()"
   ]
  },
  {
   "cell_type": "code",
   "execution_count": null,
   "metadata": {},
   "outputs": [],
   "source": []
  },
  {
   "cell_type": "markdown",
   "metadata": {},
   "source": [
    "## Sentiment Classification"
   ]
  },
  {
   "cell_type": "code",
   "execution_count": 43,
   "metadata": {
    "scrolled": true
   },
   "outputs": [],
   "source": [
    "sentiment_dataset = original_dataset.copy()"
   ]
  },
  {
   "cell_type": "markdown",
   "metadata": {},
   "source": [
    "Get only relevant rows"
   ]
  },
  {
   "cell_type": "code",
   "execution_count": 44,
   "metadata": {
    "scrolled": true
   },
   "outputs": [
    {
     "data": {
      "text/html": [
       "<div>\n",
       "<style scoped>\n",
       "    .dataframe tbody tr th:only-of-type {\n",
       "        vertical-align: middle;\n",
       "    }\n",
       "\n",
       "    .dataframe tbody tr th {\n",
       "        vertical-align: top;\n",
       "    }\n",
       "\n",
       "    .dataframe thead th {\n",
       "        text-align: right;\n",
       "    }\n",
       "</style>\n",
       "<table border=\"1\" class=\"dataframe\">\n",
       "  <thead>\n",
       "    <tr style=\"text-align: right;\">\n",
       "      <th></th>\n",
       "      <th>index</th>\n",
       "      <th>TESTO</th>\n",
       "      <th>(Testo Citato)</th>\n",
       "      <th>Motore</th>\n",
       "    </tr>\n",
       "  </thead>\n",
       "  <tbody>\n",
       "    <tr>\n",
       "      <th>0</th>\n",
       "      <td>11</td>\n",
       "      <td>Mah parleranno di ipotetiche versioni ibride o...</td>\n",
       "      <td></td>\n",
       "      <td>negativo</td>\n",
       "    </tr>\n",
       "    <tr>\n",
       "      <th>1</th>\n",
       "      <td>13</td>\n",
       "      <td>SZ ES-30 ?</td>\n",
       "      <td></td>\n",
       "      <td>neutro</td>\n",
       "    </tr>\n",
       "    <tr>\n",
       "      <th>2</th>\n",
       "      <td>17</td>\n",
       "      <td>Benvenuta nel posto giusto Allora sentirai div...</td>\n",
       "      <td>\"Buongiorno a tutti So che il titolo di questo...</td>\n",
       "      <td>neutro</td>\n",
       "    </tr>\n",
       "    <tr>\n",
       "      <th>3</th>\n",
       "      <td>18</td>\n",
       "      <td>Ma come c'è il gpl ! ! ! Ahahaha Nel 2010 se b...</td>\n",
       "      <td></td>\n",
       "      <td>positivo</td>\n",
       "    </tr>\n",
       "    <tr>\n",
       "      <th>4</th>\n",
       "      <td>22</td>\n",
       "      <td>Hanno limiti di emissioni diversi come in Usa ...</td>\n",
       "      <td></td>\n",
       "      <td>neutro</td>\n",
       "    </tr>\n",
       "    <tr>\n",
       "      <th>5</th>\n",
       "      <td>29</td>\n",
       "      <td>Per ora no rinviato a sabato prossimo</td>\n",
       "      <td>'ragazz scusate l OT e scusate se scrivo ben p...</td>\n",
       "      <td>positivo</td>\n",
       "    </tr>\n",
       "    <tr>\n",
       "      <th>6</th>\n",
       "      <td>36</td>\n",
       "      <td>Accorgimenti tecnici ma di base ( basamenti in...</td>\n",
       "      <td></td>\n",
       "      <td>neutro</td>\n",
       "    </tr>\n",
       "    <tr>\n",
       "      <th>7</th>\n",
       "      <td>40</td>\n",
       "      <td>Non ho ancora ricevuto la risposta... e faccio...</td>\n",
       "      <td></td>\n",
       "      <td>negativo</td>\n",
       "    </tr>\n",
       "    <tr>\n",
       "      <th>8</th>\n",
       "      <td>42</td>\n",
       "      <td>Buongiorno...rilancio con Renault.. Ho acquist...</td>\n",
       "      <td></td>\n",
       "      <td>molto negativo</td>\n",
       "    </tr>\n",
       "    <tr>\n",
       "      <th>9</th>\n",
       "      <td>46</td>\n",
       "      <td>Ah la Cuore e' una Daia di piccola cilindrata....</td>\n",
       "      <td></td>\n",
       "      <td>negativo</td>\n",
       "    </tr>\n",
       "    <tr>\n",
       "      <th>10</th>\n",
       "      <td>52</td>\n",
       "      <td>Benvenuto. MI pare ben tenuto e ritengo possa ...</td>\n",
       "      <td></td>\n",
       "      <td>molto negativo</td>\n",
       "    </tr>\n",
       "    <tr>\n",
       "      <th>11</th>\n",
       "      <td>57</td>\n",
       "      <td>Ma questo 2.4 ha una turbina nuova con coppia ...</td>\n",
       "      <td></td>\n",
       "      <td>positivo</td>\n",
       "    </tr>\n",
       "    <tr>\n",
       "      <th>12</th>\n",
       "      <td>66</td>\n",
       "      <td>Infatti come dicevo sopra è più un problema de...</td>\n",
       "      <td>'Si senza ombra di dubbio! La serie 1 non è il...</td>\n",
       "      <td>neutro</td>\n",
       "    </tr>\n",
       "    <tr>\n",
       "      <th>13</th>\n",
       "      <td>76</td>\n",
       "      <td>Ciao XPerience74 benvenuto di qua ! Automobili...</td>\n",
       "      <td></td>\n",
       "      <td>molto positivo</td>\n",
       "    </tr>\n",
       "    <tr>\n",
       "      <th>14</th>\n",
       "      <td>146</td>\n",
       "      <td>Io ho letto della C320 CDI SportCoupè....speri...</td>\n",
       "      <td>io avevo lo Sportcoupè tra il 2001 ed il 2002 ...</td>\n",
       "      <td>neutro</td>\n",
       "    </tr>\n",
       "    <tr>\n",
       "      <th>15</th>\n",
       "      <td>149</td>\n",
       "      <td>ho la renault scenic xmod 1.5 dci 110cv da 2 s...</td>\n",
       "      <td></td>\n",
       "      <td>negativo</td>\n",
       "    </tr>\n",
       "    <tr>\n",
       "      <th>16</th>\n",
       "      <td>163</td>\n",
       "      <td>Motori tutti di origine Toyota ( anche per il ...</td>\n",
       "      <td></td>\n",
       "      <td>neutro</td>\n",
       "    </tr>\n",
       "    <tr>\n",
       "      <th>17</th>\n",
       "      <td>164</td>\n",
       "      <td>Assolutamente rispondevo a chi diceva che ci s...</td>\n",
       "      <td>\"Tieni presente che in futuro sia il pianale G...</td>\n",
       "      <td>negativo</td>\n",
       "    </tr>\n",
       "    <tr>\n",
       "      <th>18</th>\n",
       "      <td>189</td>\n",
       "      <td>Betha hai sempre una sensibilità fuori dal com...</td>\n",
       "      <td></td>\n",
       "      <td>neutro</td>\n",
       "    </tr>\n",
       "    <tr>\n",
       "      <th>19</th>\n",
       "      <td>212</td>\n",
       "      <td>Pilota permettimi ma adesso mi pare che tu sti...</td>\n",
       "      <td>'Secondo me le cose non stanno esattamente cos...</td>\n",
       "      <td>positivo</td>\n",
       "    </tr>\n",
       "    <tr>\n",
       "      <th>20</th>\n",
       "      <td>221</td>\n",
       "      <td>C'è un abissone tra nuova Civic e HR-V.... ......</td>\n",
       "      <td></td>\n",
       "      <td>negativo</td>\n",
       "    </tr>\n",
       "    <tr>\n",
       "      <th>21</th>\n",
       "      <td>240</td>\n",
       "      <td>In salita questi nuovi 1400 t-jet vanno meglio...</td>\n",
       "      <td></td>\n",
       "      <td>neutro</td>\n",
       "    </tr>\n",
       "    <tr>\n",
       "      <th>22</th>\n",
       "      <td>247</td>\n",
       "      <td>Ho avuto in famiglia: 500 degli anni '60 127 s...</td>\n",
       "      <td></td>\n",
       "      <td>molto positivo</td>\n",
       "    </tr>\n",
       "    <tr>\n",
       "      <th>23</th>\n",
       "      <td>256</td>\n",
       "      <td>Anche io ho un 2.0d però del 2009. Ma quel mot...</td>\n",
       "      <td></td>\n",
       "      <td>negativo</td>\n",
       "    </tr>\n",
       "    <tr>\n",
       "      <th>24</th>\n",
       "      <td>259</td>\n",
       "      <td>Mah... Sono molti i valori in gioco. La piatta...</td>\n",
       "      <td></td>\n",
       "      <td>molto positivo</td>\n",
       "    </tr>\n",
       "    <tr>\n",
       "      <th>25</th>\n",
       "      <td>261</td>\n",
       "      <td>il 2.0 TSI e' un propulsore dalla doppia anima...</td>\n",
       "      <td></td>\n",
       "      <td>positivo</td>\n",
       "    </tr>\n",
       "    <tr>\n",
       "      <th>26</th>\n",
       "      <td>263</td>\n",
       "      <td>Motore VW assemblaggi e materiali peggio della...</td>\n",
       "      <td>'Nino a te la replica! '</td>\n",
       "      <td>neutro</td>\n",
       "    </tr>\n",
       "    <tr>\n",
       "      <th>27</th>\n",
       "      <td>315</td>\n",
       "      <td>Il 1.3 E4 non penso che e Mjet II.</td>\n",
       "      <td></td>\n",
       "      <td>negativo</td>\n",
       "    </tr>\n",
       "    <tr>\n",
       "      <th>28</th>\n",
       "      <td>335</td>\n",
       "      <td>Sto guidando da un p\\xf2 di giorni una boxter ...</td>\n",
       "      <td></td>\n",
       "      <td>neutro</td>\n",
       "    </tr>\n",
       "    <tr>\n",
       "      <th>29</th>\n",
       "      <td>367</td>\n",
       "      <td>Da 4Ruote Passano gli anni cambiano le tecnolo...</td>\n",
       "      <td></td>\n",
       "      <td>positivo</td>\n",
       "    </tr>\n",
       "    <tr>\n",
       "      <th>...</th>\n",
       "      <td>...</td>\n",
       "      <td>...</td>\n",
       "      <td>...</td>\n",
       "      <td>...</td>\n",
       "    </tr>\n",
       "    <tr>\n",
       "      <th>800</th>\n",
       "      <td>6997</td>\n",
       "      <td>Quelli di EVO ne avrebbero provato un prototip...</td>\n",
       "      <td></td>\n",
       "      <td>positivo</td>\n",
       "    </tr>\n",
       "    <tr>\n",
       "      <th>801</th>\n",
       "      <td>7003</td>\n",
       "      <td>Imho lo \"jimba ittai\" deve fare i conti coi co...</td>\n",
       "      <td>\"Non sono un ingegnere meccanico ne' un appass...</td>\n",
       "      <td>neutro</td>\n",
       "    </tr>\n",
       "    <tr>\n",
       "      <th>802</th>\n",
       "      <td>7004</td>\n",
       "      <td>Salve a tutti sono nuovo in questo forum e scr...</td>\n",
       "      <td></td>\n",
       "      <td>negativo</td>\n",
       "    </tr>\n",
       "    <tr>\n",
       "      <th>803</th>\n",
       "      <td>7008</td>\n",
       "      <td>Un'altra cosa i nuovi diesel Fiat utilizzerann...</td>\n",
       "      <td></td>\n",
       "      <td>neutro</td>\n",
       "    </tr>\n",
       "    <tr>\n",
       "      <th>804</th>\n",
       "      <td>7011</td>\n",
       "      <td>Sono anch'io curioso di avere info su questa v...</td>\n",
       "      <td></td>\n",
       "      <td>neutro</td>\n",
       "    </tr>\n",
       "    <tr>\n",
       "      <th>805</th>\n",
       "      <td>7013</td>\n",
       "      <td>ahaahah ok Grazie mille si comunque confermo c...</td>\n",
       "      <td></td>\n",
       "      <td>neutro</td>\n",
       "    </tr>\n",
       "    <tr>\n",
       "      <th>806</th>\n",
       "      <td>7020</td>\n",
       "      <td>Ciao considera che la maggior parte delle case...</td>\n",
       "      <td>\"Sto valutando l'acquisto di un Forester diese...</td>\n",
       "      <td>neutro</td>\n",
       "    </tr>\n",
       "    <tr>\n",
       "      <th>807</th>\n",
       "      <td>7025</td>\n",
       "      <td>Noooo non credo proprio anche perchè la 300C /...</td>\n",
       "      <td></td>\n",
       "      <td>neutro</td>\n",
       "    </tr>\n",
       "    <tr>\n",
       "      <th>808</th>\n",
       "      <td>7035</td>\n",
       "      <td>per luciano-pische: Scusa perché non l'avresti...</td>\n",
       "      <td></td>\n",
       "      <td>positivo</td>\n",
       "    </tr>\n",
       "    <tr>\n",
       "      <th>809</th>\n",
       "      <td>7066</td>\n",
       "      <td>C'è però da considerare che un blocco 2.4 aspi...</td>\n",
       "      <td></td>\n",
       "      <td>neutro</td>\n",
       "    </tr>\n",
       "    <tr>\n",
       "      <th>810</th>\n",
       "      <td>7071</td>\n",
       "      <td>Si come l'ho ordinata io con tutti gli accesso...</td>\n",
       "      <td>\"@Matric: Ma l'hai ordinata come la volevi tu?...</td>\n",
       "      <td>positivo</td>\n",
       "    </tr>\n",
       "    <tr>\n",
       "      <th>811</th>\n",
       "      <td>7072</td>\n",
       "      <td>Ho comprato Automobilismo di Marzo dove c'è la...</td>\n",
       "      <td></td>\n",
       "      <td>positivo</td>\n",
       "    </tr>\n",
       "    <tr>\n",
       "      <th>812</th>\n",
       "      <td>7082</td>\n",
       "      <td>Rieccomi...la s3 scontata arriva ad -7 5%. Que...</td>\n",
       "      <td></td>\n",
       "      <td>positivo</td>\n",
       "    </tr>\n",
       "    <tr>\n",
       "      <th>813</th>\n",
       "      <td>7093</td>\n",
       "      <td>Non riesco a capire una cosa: i motori bluetec...</td>\n",
       "      <td>'ulteriori tappi al motore e tagli di elettron...</td>\n",
       "      <td>neutro</td>\n",
       "    </tr>\n",
       "    <tr>\n",
       "      <th>814</th>\n",
       "      <td>7108</td>\n",
       "      <td>de gustibus infatti ! io contestavo solo che l...</td>\n",
       "      <td>'e io con i miei dubbi che legni le 130 le ho ...</td>\n",
       "      <td>positivo</td>\n",
       "    </tr>\n",
       "    <tr>\n",
       "      <th>815</th>\n",
       "      <td>7110</td>\n",
       "      <td>Beh dai..vuoi davvero paragonare il \"millesein...</td>\n",
       "      <td></td>\n",
       "      <td>negativo</td>\n",
       "    </tr>\n",
       "    <tr>\n",
       "      <th>816</th>\n",
       "      <td>7117</td>\n",
       "      <td>Versione stradale della Lacetti del WTCC 1.8 1...</td>\n",
       "      <td></td>\n",
       "      <td>neutro</td>\n",
       "    </tr>\n",
       "    <tr>\n",
       "      <th>817</th>\n",
       "      <td>7128</td>\n",
       "      <td>Comunque vorrei capire perché è stato così cri...</td>\n",
       "      <td></td>\n",
       "      <td>neutro</td>\n",
       "    </tr>\n",
       "    <tr>\n",
       "      <th>818</th>\n",
       "      <td>7131</td>\n",
       "      <td>Il 140CV è turbo + volumetrico e il 1.4 Turbo ...</td>\n",
       "      <td>'E nn ero sicuro se uno di questi motori nn fo...</td>\n",
       "      <td>neutro</td>\n",
       "    </tr>\n",
       "    <tr>\n",
       "      <th>819</th>\n",
       "      <td>7132</td>\n",
       "      <td>Io non so come questa storia si concluderà' .....</td>\n",
       "      <td></td>\n",
       "      <td>negativo</td>\n",
       "    </tr>\n",
       "    <tr>\n",
       "      <th>820</th>\n",
       "      <td>7133</td>\n",
       "      <td>Ma perchè invece di criticare in maniera assur...</td>\n",
       "      <td></td>\n",
       "      <td>neutro</td>\n",
       "    </tr>\n",
       "    <tr>\n",
       "      <th>821</th>\n",
       "      <td>7136</td>\n",
       "      <td>ma infatti ad esempio 159 e brera non ho mai d...</td>\n",
       "      <td>'si ma come prestazioni siamo l inoltre la tt ...</td>\n",
       "      <td>positivo</td>\n",
       "    </tr>\n",
       "    <tr>\n",
       "      <th>822</th>\n",
       "      <td>7145</td>\n",
       "      <td>Io l'ho provata con il turbodisel 1.3 da 85cv ...</td>\n",
       "      <td></td>\n",
       "      <td>negativo</td>\n",
       "    </tr>\n",
       "    <tr>\n",
       "      <th>823</th>\n",
       "      <td>7148</td>\n",
       "      <td>Da un lato meglio il 118 così mi invoglia meno...</td>\n",
       "      <td></td>\n",
       "      <td>positivo</td>\n",
       "    </tr>\n",
       "    <tr>\n",
       "      <th>824</th>\n",
       "      <td>7154</td>\n",
       "      <td>NUOVO LEXUS RX HYBRID 2016 PARTE DA 69.000 EUR...</td>\n",
       "      <td></td>\n",
       "      <td>positivo</td>\n",
       "    </tr>\n",
       "    <tr>\n",
       "      <th>825</th>\n",
       "      <td>7155</td>\n",
       "      <td>Dopo tre giorni d'uso posso cominciare ad espr...</td>\n",
       "      <td></td>\n",
       "      <td>positivo</td>\n",
       "    </tr>\n",
       "    <tr>\n",
       "      <th>826</th>\n",
       "      <td>7162</td>\n",
       "      <td>Sei sicuro ? si può selezionare anche dal conf...</td>\n",
       "      <td></td>\n",
       "      <td>neutro</td>\n",
       "    </tr>\n",
       "    <tr>\n",
       "      <th>827</th>\n",
       "      <td>7167</td>\n",
       "      <td>Ciao a tutti oggi ho visto una jeep compass L ...</td>\n",
       "      <td></td>\n",
       "      <td>positivo</td>\n",
       "    </tr>\n",
       "    <tr>\n",
       "      <th>828</th>\n",
       "      <td>7170</td>\n",
       "      <td>Ciao io ho preso una FIESTA ST LINE 140 cv FUL...</td>\n",
       "      <td></td>\n",
       "      <td>positivo</td>\n",
       "    </tr>\n",
       "    <tr>\n",
       "      <th>829</th>\n",
       "      <td>7179</td>\n",
       "      <td>Parto con dire una cosa : Bella e molto + bell...</td>\n",
       "      <td>'Caxxo stamattina mi ero preoccupato non veden...</td>\n",
       "      <td>positivo</td>\n",
       "    </tr>\n",
       "  </tbody>\n",
       "</table>\n",
       "<p>830 rows × 4 columns</p>\n",
       "</div>"
      ],
      "text/plain": [
       "     index                                              TESTO  \\\n",
       "0       11  Mah parleranno di ipotetiche versioni ibride o...   \n",
       "1       13                                        SZ ES-30 ?    \n",
       "2       17  Benvenuta nel posto giusto Allora sentirai div...   \n",
       "3       18  Ma come c'è il gpl ! ! ! Ahahaha Nel 2010 se b...   \n",
       "4       22  Hanno limiti di emissioni diversi come in Usa ...   \n",
       "5       29             Per ora no rinviato a sabato prossimo    \n",
       "6       36  Accorgimenti tecnici ma di base ( basamenti in...   \n",
       "7       40  Non ho ancora ricevuto la risposta... e faccio...   \n",
       "8       42  Buongiorno...rilancio con Renault.. Ho acquist...   \n",
       "9       46  Ah la Cuore e' una Daia di piccola cilindrata....   \n",
       "10      52  Benvenuto. MI pare ben tenuto e ritengo possa ...   \n",
       "11      57  Ma questo 2.4 ha una turbina nuova con coppia ...   \n",
       "12      66  Infatti come dicevo sopra è più un problema de...   \n",
       "13      76  Ciao XPerience74 benvenuto di qua ! Automobili...   \n",
       "14     146  Io ho letto della C320 CDI SportCoupè....speri...   \n",
       "15     149  ho la renault scenic xmod 1.5 dci 110cv da 2 s...   \n",
       "16     163  Motori tutti di origine Toyota ( anche per il ...   \n",
       "17     164  Assolutamente rispondevo a chi diceva che ci s...   \n",
       "18     189  Betha hai sempre una sensibilità fuori dal com...   \n",
       "19     212  Pilota permettimi ma adesso mi pare che tu sti...   \n",
       "20     221  C'è un abissone tra nuova Civic e HR-V.... ......   \n",
       "21     240  In salita questi nuovi 1400 t-jet vanno meglio...   \n",
       "22     247  Ho avuto in famiglia: 500 degli anni '60 127 s...   \n",
       "23     256  Anche io ho un 2.0d però del 2009. Ma quel mot...   \n",
       "24     259  Mah... Sono molti i valori in gioco. La piatta...   \n",
       "25     261  il 2.0 TSI e' un propulsore dalla doppia anima...   \n",
       "26     263  Motore VW assemblaggi e materiali peggio della...   \n",
       "27     315                Il 1.3 E4 non penso che e Mjet II.    \n",
       "28     335  Sto guidando da un p\\xf2 di giorni una boxter ...   \n",
       "29     367  Da 4Ruote Passano gli anni cambiano le tecnolo...   \n",
       "..     ...                                                ...   \n",
       "800   6997  Quelli di EVO ne avrebbero provato un prototip...   \n",
       "801   7003  Imho lo \"jimba ittai\" deve fare i conti coi co...   \n",
       "802   7004  Salve a tutti sono nuovo in questo forum e scr...   \n",
       "803   7008  Un'altra cosa i nuovi diesel Fiat utilizzerann...   \n",
       "804   7011  Sono anch'io curioso di avere info su questa v...   \n",
       "805   7013  ahaahah ok Grazie mille si comunque confermo c...   \n",
       "806   7020  Ciao considera che la maggior parte delle case...   \n",
       "807   7025  Noooo non credo proprio anche perchè la 300C /...   \n",
       "808   7035  per luciano-pische: Scusa perché non l'avresti...   \n",
       "809   7066  C'è però da considerare che un blocco 2.4 aspi...   \n",
       "810   7071  Si come l'ho ordinata io con tutti gli accesso...   \n",
       "811   7072  Ho comprato Automobilismo di Marzo dove c'è la...   \n",
       "812   7082  Rieccomi...la s3 scontata arriva ad -7 5%. Que...   \n",
       "813   7093  Non riesco a capire una cosa: i motori bluetec...   \n",
       "814   7108  de gustibus infatti ! io contestavo solo che l...   \n",
       "815   7110  Beh dai..vuoi davvero paragonare il \"millesein...   \n",
       "816   7117  Versione stradale della Lacetti del WTCC 1.8 1...   \n",
       "817   7128  Comunque vorrei capire perché è stato così cri...   \n",
       "818   7131  Il 140CV è turbo + volumetrico e il 1.4 Turbo ...   \n",
       "819   7132  Io non so come questa storia si concluderà' .....   \n",
       "820   7133  Ma perchè invece di criticare in maniera assur...   \n",
       "821   7136  ma infatti ad esempio 159 e brera non ho mai d...   \n",
       "822   7145  Io l'ho provata con il turbodisel 1.3 da 85cv ...   \n",
       "823   7148  Da un lato meglio il 118 così mi invoglia meno...   \n",
       "824   7154  NUOVO LEXUS RX HYBRID 2016 PARTE DA 69.000 EUR...   \n",
       "825   7155  Dopo tre giorni d'uso posso cominciare ad espr...   \n",
       "826   7162  Sei sicuro ? si può selezionare anche dal conf...   \n",
       "827   7167  Ciao a tutti oggi ho visto una jeep compass L ...   \n",
       "828   7170  Ciao io ho preso una FIESTA ST LINE 140 cv FUL...   \n",
       "829   7179  Parto con dire una cosa : Bella e molto + bell...   \n",
       "\n",
       "                                        (Testo Citato)          Motore  \n",
       "0                                                             negativo  \n",
       "1                                                               neutro  \n",
       "2    \"Buongiorno a tutti So che il titolo di questo...          neutro  \n",
       "3                                                             positivo  \n",
       "4                                                               neutro  \n",
       "5    'ragazz scusate l OT e scusate se scrivo ben p...        positivo  \n",
       "6                                                               neutro  \n",
       "7                                                             negativo  \n",
       "8                                                       molto negativo  \n",
       "9                                                             negativo  \n",
       "10                                                      molto negativo  \n",
       "11                                                            positivo  \n",
       "12   'Si senza ombra di dubbio! La serie 1 non è il...          neutro  \n",
       "13                                                      molto positivo  \n",
       "14   io avevo lo Sportcoupè tra il 2001 ed il 2002 ...          neutro  \n",
       "15                                                            negativo  \n",
       "16                                                              neutro  \n",
       "17   \"Tieni presente che in futuro sia il pianale G...        negativo  \n",
       "18                                                              neutro  \n",
       "19   'Secondo me le cose non stanno esattamente cos...        positivo  \n",
       "20                                                            negativo  \n",
       "21                                                              neutro  \n",
       "22                                                      molto positivo  \n",
       "23                                                            negativo  \n",
       "24                                                      molto positivo  \n",
       "25                                                            positivo  \n",
       "26                            'Nino a te la replica! '          neutro  \n",
       "27                                                            negativo  \n",
       "28                                                              neutro  \n",
       "29                                                            positivo  \n",
       "..                                                 ...             ...  \n",
       "800                                                           positivo  \n",
       "801  \"Non sono un ingegnere meccanico ne' un appass...          neutro  \n",
       "802                                                           negativo  \n",
       "803                                                             neutro  \n",
       "804                                                             neutro  \n",
       "805                                                             neutro  \n",
       "806  \"Sto valutando l'acquisto di un Forester diese...          neutro  \n",
       "807                                                             neutro  \n",
       "808                                                           positivo  \n",
       "809                                                             neutro  \n",
       "810  \"@Matric: Ma l'hai ordinata come la volevi tu?...        positivo  \n",
       "811                                                           positivo  \n",
       "812                                                           positivo  \n",
       "813  'ulteriori tappi al motore e tagli di elettron...          neutro  \n",
       "814  'e io con i miei dubbi che legni le 130 le ho ...        positivo  \n",
       "815                                                           negativo  \n",
       "816                                                             neutro  \n",
       "817                                                             neutro  \n",
       "818  'E nn ero sicuro se uno di questi motori nn fo...          neutro  \n",
       "819                                                           negativo  \n",
       "820                                                             neutro  \n",
       "821  'si ma come prestazioni siamo l inoltre la tt ...        positivo  \n",
       "822                                                           negativo  \n",
       "823                                                           positivo  \n",
       "824                                                           positivo  \n",
       "825                                                           positivo  \n",
       "826                                                             neutro  \n",
       "827                                                           positivo  \n",
       "828                                                           positivo  \n",
       "829  'Caxxo stamattina mi ero preoccupato non veden...        positivo  \n",
       "\n",
       "[830 rows x 4 columns]"
      ]
     },
     "execution_count": 44,
     "metadata": {},
     "output_type": "execute_result"
    }
   ],
   "source": [
    "sentiment_dataset = sentiment_dataset.drop(sentiment_dataset[(sentiment_dataset[column] == 'irrilevante')].index).reset_index()\n",
    "sentiment_dataset"
   ]
  },
  {
   "cell_type": "code",
   "execution_count": 45,
   "metadata": {},
   "outputs": [
    {
     "name": "stderr",
     "output_type": "stream",
     "text": [
      "/usr/local/lib/python3.6/dist-packages/ipykernel_launcher.py:4: SettingWithCopyWarning: \n",
      "A value is trying to be set on a copy of a slice from a DataFrame\n",
      "\n",
      "See the caveats in the documentation: http://pandas.pydata.org/pandas-docs/stable/indexing.html#indexing-view-versus-copy\n",
      "  after removing the cwd from sys.path.\n",
      "/usr/local/lib/python3.6/dist-packages/ipykernel_launcher.py:7: SettingWithCopyWarning: \n",
      "A value is trying to be set on a copy of a slice from a DataFrame\n",
      "\n",
      "See the caveats in the documentation: http://pandas.pydata.org/pandas-docs/stable/indexing.html#indexing-view-versus-copy\n",
      "  import sys\n"
     ]
    }
   ],
   "source": [
    "pp = Preprocessor()\n",
    "# TESTO\n",
    "for i in range(len(sentiment_dataset)):\n",
    "    sentiment_dataset['TESTO'][i] = pp.preprocessText(sentiment_dataset['TESTO'][i], method='word', use_stemmer=True, ner=True)\n",
    "# (Testo Citato)\n",
    "for i in range(len(sentiment_dataset)):\n",
    "    sentiment_dataset['(Testo Citato)'][i] = pp.preprocessText(sentiment_dataset['(Testo Citato)'][i], method='word', use_stemmer=True, ner=True)    "
   ]
  },
  {
   "cell_type": "code",
   "execution_count": 46,
   "metadata": {},
   "outputs": [],
   "source": [
    "# combine labels \"molto positivo\" = \"positivo\" and so on\n",
    "sentiment_dataset[column] = sentiment_dataset[column].replace('molto positivo', 'positivo')\n",
    "sentiment_dataset[column] = sentiment_dataset[column].replace('molto negativo', 'negativo')"
   ]
  },
  {
   "cell_type": "code",
   "execution_count": 47,
   "metadata": {},
   "outputs": [
    {
     "data": {
      "text/plain": [
       "Counter({'negativo': 155, 'neutro': 358, 'positivo': 317})"
      ]
     },
     "execution_count": 47,
     "metadata": {},
     "output_type": "execute_result"
    }
   ],
   "source": [
    "collections.Counter(sentiment_dataset[column])"
   ]
  },
  {
   "cell_type": "markdown",
   "metadata": {},
   "source": [
    "Vectorization"
   ]
  },
  {
   "cell_type": "code",
   "execution_count": 48,
   "metadata": {},
   "outputs": [],
   "source": [
    "preprocessed_dataset_sentiment = []\n",
    "for i in range(len(sentiment_dataset)):\n",
    "    preprocessed_dataset_sentiment.append((combine_text_quote(sentiment_dataset['TESTO'][i], sentiment_dataset['(Testo Citato)'][i], divide_quote=False), sentiment_dataset[column][i]))"
   ]
  },
  {
   "cell_type": "code",
   "execution_count": 49,
   "metadata": {},
   "outputs": [
    {
     "name": "stdout",
     "output_type": "stream",
     "text": [
      "Length: 830\n"
     ]
    }
   ],
   "source": [
    "numpy_dataset_sentiment = np.array(preprocessed_dataset_sentiment)\n",
    "print('Length: ' + str(numpy_dataset_sentiment.shape[0]))"
   ]
  },
  {
   "cell_type": "code",
   "execution_count": 50,
   "metadata": {},
   "outputs": [],
   "source": [
    "np.random.seed(42)\n",
    "# split 80% training and 20% test\n",
    "# FARLO RISPETTANDO LA DISTRIBUZIONE\n",
    "np.random.shuffle(numpy_dataset_sentiment)\n",
    "#numpy_dataset = numpy_dataset[perm]\n",
    "#split = int(0.8 * numpy_dataset.shape[0])\n",
    "#train_dataset, test_dataset = numpy_dataset[:split,:], numpy_dataset[split:,:]\n",
    "train_dataset_X_sentiment, test_dataset_X_sentiment, train_dataset_y_sentiment, test_dataset_y_sentiment = train_test_split(numpy_dataset_sentiment[:,0], numpy_dataset_sentiment[:,1], test_size=0.2, stratify=numpy_dataset_sentiment[:,1], random_state=42)"
   ]
  },
  {
   "cell_type": "code",
   "execution_count": 51,
   "metadata": {},
   "outputs": [
    {
     "data": {
      "text/plain": [
       "664"
      ]
     },
     "execution_count": 51,
     "metadata": {},
     "output_type": "execute_result"
    }
   ],
   "source": [
    "train_dataset_X_sentiment.shape[0]"
   ]
  },
  {
   "cell_type": "code",
   "execution_count": 52,
   "metadata": {},
   "outputs": [],
   "source": [
    "# VECTORIZE\n",
    "vec_sentiment = TfidfVectorizer(ngram_range=(1,2), lowercase=False)\n",
    "#train_dataset_X = vec.fit_transform(train_dataset_X)\n",
    "\n",
    "# final dataset for the classification\n",
    "train_X_sentiment = vec_sentiment.fit_transform(train_dataset_X_sentiment)\n",
    "train_y_sentiment = np.empty([train_dataset_y_sentiment.shape[0], 1]).ravel()\n",
    "\n",
    "for i in range(train_dataset_y_sentiment.shape[0]):\n",
    "    if train_dataset_y_sentiment[i] == 'positivo':\n",
    "        train_y_sentiment[i] = 0\n",
    "    elif train_dataset_y_sentiment[i] == 'neutro':\n",
    "        train_y_sentiment[i] = 1\n",
    "    elif train_dataset_y_sentiment[i] == 'negativo':\n",
    "        train_y_sentiment[i] = 2"
   ]
  },
  {
   "cell_type": "code",
   "execution_count": 53,
   "metadata": {},
   "outputs": [
    {
     "data": {
      "text/plain": [
       "Counter({1.0: 286, 0.0: 254, 2.0: 124})"
      ]
     },
     "execution_count": 53,
     "metadata": {},
     "output_type": "execute_result"
    }
   ],
   "source": [
    "collections.Counter(train_y_sentiment)"
   ]
  },
  {
   "cell_type": "markdown",
   "metadata": {},
   "source": [
    "SVM_TFIDF_Classifier without feaure selection"
   ]
  },
  {
   "cell_type": "code",
   "execution_count": 80,
   "metadata": {},
   "outputs": [
    {
     "name": "stdout",
     "output_type": "stream",
     "text": [
      "# Tuning hyper-parameters for f1_micro\n",
      "\n",
      "Fitting 5 folds for each of 7 candidates, totalling 35 fits\n"
     ]
    },
    {
     "name": "stderr",
     "output_type": "stream",
     "text": [
      "[Parallel(n_jobs=-1)]: Using backend LokyBackend with 8 concurrent workers.\n",
      "[Parallel(n_jobs=-1)]: Done  35 out of  35 | elapsed:    3.2s finished\n"
     ]
    },
    {
     "name": "stdout",
     "output_type": "stream",
     "text": [
      "[LibSVM]Best parameters set found on development set:\n",
      "\n",
      "{'C': 10.0}\n",
      "\n",
      "Grid scores on development set:\n",
      "\n",
      "0.431 (+/-0.005) for {'C': 0.001}\n",
      "0.431 (+/-0.005) for {'C': 0.01}\n",
      "0.431 (+/-0.005) for {'C': 0.1}\n",
      "0.494 (+/-0.069) for {'C': 1.0}\n",
      "0.497 (+/-0.044) for {'C': 10.0}\n",
      "0.497 (+/-0.044) for {'C': 100.0}\n",
      "0.497 (+/-0.044) for {'C': 1000.0}\n",
      "\n"
     ]
    }
   ],
   "source": [
    "skf_sentiment = StratifiedKFold(n_splits=5, random_state=42, shuffle=False)\n",
    "svm_clf_sentiment = svm.SVC(kernel='linear', decision_function_shape='ovr', verbose=2, random_state=42)\n",
    "\n",
    "tuned_parameters = {'C': np.logspace(-3, 3, 7),}\n",
    "\n",
    "# f1, f1_macro (for multiclass), recall\n",
    "scores = ['f1_micro']\n",
    "\n",
    "for score in scores:\n",
    "    print(\"# Tuning hyper-parameters for %s\" % score)\n",
    "    print()\n",
    "\n",
    "    clf_sentiment = GridSearchCV(svm_clf_sentiment, tuned_parameters, cv=skf_sentiment, n_jobs=-1, scoring=score, verbose=2)\n",
    "    clf_sentiment.fit(train_X_sentiment, train_y_sentiment)\n",
    "\n",
    "    print(\"Best parameters set found on development set:\")\n",
    "    print()\n",
    "    print(clf_sentiment.best_params_)\n",
    "    print()\n",
    "    print(\"Grid scores on development set:\")\n",
    "    print()\n",
    "    means = clf_sentiment.cv_results_['mean_test_score']\n",
    "    stds = clf_sentiment.cv_results_['std_test_score']\n",
    "    for mean, std, params in zip(means, stds, clf_sentiment.cv_results_['params']):\n",
    "        print(\"%0.3f (+/-%0.03f) for %r\" % (mean, std * 2, params))\n",
    "    print()"
   ]
  },
  {
   "cell_type": "code",
   "execution_count": 81,
   "metadata": {},
   "outputs": [],
   "source": [
    "train_X_cf_sentiment, test_X_cf_sentiment, train_y_cf_sentiment, test_y_cf_sentiment = train_test_split(train_X_sentiment, train_y_sentiment, test_size=0.2, stratify=train_y_sentiment, random_state=42)"
   ]
  },
  {
   "cell_type": "code",
   "execution_count": 82,
   "metadata": {},
   "outputs": [
    {
     "name": "stdout",
     "output_type": "stream",
     "text": [
      "[LibSVM]"
     ]
    },
    {
     "data": {
      "text/plain": [
       "SVC(C=10.0, cache_size=200, class_weight=None, coef0=0.0,\n",
       "  decision_function_shape='ovr', degree=3, gamma='auto_deprecated',\n",
       "  kernel='linear', max_iter=-1, probability=False, random_state=42,\n",
       "  shrinking=True, tol=0.001, verbose=2)"
      ]
     },
     "execution_count": 82,
     "metadata": {},
     "output_type": "execute_result"
    }
   ],
   "source": [
    "best_clf_sentiment = svm.SVC(kernel='linear', C=clf_sentiment.best_params_['C'], decision_function_shape='ovr', verbose=2, random_state=42)\n",
    "best_clf_sentiment.fit(train_X_cf_sentiment, train_y_cf_sentiment)"
   ]
  },
  {
   "cell_type": "code",
   "execution_count": 83,
   "metadata": {},
   "outputs": [],
   "source": [
    "# predictions\n",
    "pred_y_cf_sentiment = best_clf_sentiment.predict(test_X_cf_sentiment)"
   ]
  },
  {
   "cell_type": "code",
   "execution_count": 84,
   "metadata": {},
   "outputs": [
    {
     "name": "stdout",
     "output_type": "stream",
     "text": [
      "F1 score micro on validation data: 0.5037593984962406\n"
     ]
    },
    {
     "data": {
      "image/png": "[encoded data removed]",
      "text/plain": [
       "<Figure size 432x288 with 2 Axes>"
      ]
     },
     "metadata": {
      "needs_background": "light"
     },
     "output_type": "display_data"
    }
   ],
   "source": [
    "# 0=positivo, 1=neutro, 2=negativo\n",
    "print('F1 score micro on validation data: ' + str(f1_score(test_y_cf_sentiment, pred_y_cf_sentiment, average='micro')))\n",
    "cm_sentiment = confusion_matrix(test_y_cf_sentiment, pred_y_cf_sentiment, labels=[0, 1, 2])\n",
    "ax = sns.heatmap(cm_sentiment, annot=True, xticklabels=['positive','neutral','negative'], yticklabels=['positive','neutral','negative'])\n",
    "ax.xaxis.set_ticks_position('top')"
   ]
  },
  {
   "cell_type": "markdown",
   "metadata": {},
   "source": [
    "Feature Selection"
   ]
  },
  {
   "cell_type": "code",
   "execution_count": 85,
   "metadata": {},
   "outputs": [
    {
     "name": "stdout",
     "output_type": "stream",
     "text": [
      "(1, 188026)\n"
     ]
    }
   ],
   "source": [
    "weights_sentiment = clf_sentiment.best_estimator_.coef_\n",
    "print(weights.shape)\n",
    "# 6 perchè fa un classifictore per ogni coppia di labels (ovr) -> verificare"
   ]
  },
  {
   "cell_type": "code",
   "execution_count": 86,
   "metadata": {
    "scrolled": true
   },
   "outputs": [
    {
     "data": {
      "image/png": "[encoded data removed]",
      "text/plain": [
       "<Figure size 1080x360 with 1 Axes>"
      ]
     },
     "metadata": {
      "needs_background": "light"
     },
     "output_type": "display_data"
    },
    {
     "data": {
      "image/png": "[encoded data removed]",
      "text/plain": [
       "<Figure size 1080x360 with 1 Axes>"
      ]
     },
     "metadata": {
      "needs_background": "light"
     },
     "output_type": "display_data"
    },
    {
     "data": {
      "image/png": "[encoded data removed]",
      "text/plain": [
       "<Figure size 1080x360 with 1 Axes>"
      ]
     },
     "metadata": {
      "needs_background": "light"
     },
     "output_type": "display_data"
    }
   ],
   "source": [
    "# Data for plotting\n",
    "for i in range(weights_sentiment.shape[0]):\n",
    "    fig, ax = plt.subplots(figsize=(15,5))\n",
    "    ax.plot(range(weights_sentiment[i].data.shape[0]), sorted(abs(weights_sentiment[i].data), reverse = True))\n",
    "    ax.set(xlabel='Sentiment Feature', ylabel='Weight', title='Features\\' weights ' + str(i))\n",
    "    ax.grid()\n",
    "    #fig.savefig(\"test.png\")\n",
    "    plt.show()"
   ]
  },
  {
   "cell_type": "code",
   "execution_count": 87,
   "metadata": {},
   "outputs": [],
   "source": [
    "# select most important features\n",
    "cutoff_0 = 0.15\n",
    "selected_features_sentiment_0 = [i for i in sorted(zip(map(lambda x: round(x, 4), abs(weights_sentiment[0].data)), weights_sentiment[0].indices), reverse=True) if i[0] > cutoff_0]\n",
    "cutoff_1 = 0.1\n",
    "selected_features_sentiment_1 = [i for i in sorted(zip(map(lambda x: round(x, 4), abs(weights_sentiment[1].data)), weights_sentiment[1].indices), reverse=True) if i[0] > cutoff_1]\n",
    "cutoff_2 = 0.15\n",
    "selected_features_sentiment_2 = [i for i in sorted(zip(map(lambda x: round(x, 4), abs(weights_sentiment[2].data)), weights_sentiment[2].indices), reverse=True) if i[0] > cutoff_2]"
   ]
  },
  {
   "cell_type": "code",
   "execution_count": 88,
   "metadata": {},
   "outputs": [
    {
     "name": "stdout",
     "output_type": "stream",
     "text": [
      "Selected 10474 features\n"
     ]
    }
   ],
   "source": [
    "# take the union of selected features (a word important for a classification may be not important for other classifications)\n",
    "selected_features_sentiment = set()\n",
    "for f in selected_features_sentiment_0:\n",
    "    selected_features_sentiment.add(f[1])\n",
    "for f in selected_features_sentiment_1:\n",
    "    selected_features_sentiment.add(f[1])\n",
    "for f in selected_features_sentiment_2:\n",
    "    selected_features_sentiment.add(f[1])\n",
    "print('Selected ' + str(len(selected_features_sentiment)) + ' features')    "
   ]
  },
  {
   "cell_type": "markdown",
   "metadata": {},
   "source": [
    "Retry with selected features"
   ]
  },
  {
   "cell_type": "code",
   "execution_count": 89,
   "metadata": {},
   "outputs": [],
   "source": [
    "train_X_selected_sentiment = train_X_sentiment[:, list(selected_features_sentiment)]\n",
    "train_y_selected_sentiment = train_y_sentiment"
   ]
  },
  {
   "cell_type": "code",
   "execution_count": 90,
   "metadata": {},
   "outputs": [
    {
     "name": "stdout",
     "output_type": "stream",
     "text": [
      "# Tuning hyper-parameters for f1_micro\n",
      "\n",
      "Fitting 5 folds for each of 7 candidates, totalling 35 fits\n"
     ]
    },
    {
     "name": "stderr",
     "output_type": "stream",
     "text": [
      "[Parallel(n_jobs=-1)]: Using backend LokyBackend with 8 concurrent workers.\n",
      "[Parallel(n_jobs=-1)]: Done  35 out of  35 | elapsed:    2.8s finished\n"
     ]
    },
    {
     "name": "stdout",
     "output_type": "stream",
     "text": [
      "[LibSVM]Best parameters set found on development set:\n",
      "\n",
      "{'C': 10.0}\n",
      "\n",
      "Grid scores on development set:\n",
      "\n",
      "0.431 (+/-0.005) for {'C': 0.001}\n",
      "0.431 (+/-0.005) for {'C': 0.01}\n",
      "0.431 (+/-0.005) for {'C': 0.1}\n",
      "0.523 (+/-0.080) for {'C': 1.0}\n",
      "0.580 (+/-0.031) for {'C': 10.0}\n",
      "0.580 (+/-0.031) for {'C': 100.0}\n",
      "0.580 (+/-0.031) for {'C': 1000.0}\n",
      "\n"
     ]
    }
   ],
   "source": [
    "skf_sentiment = StratifiedKFold(n_splits=5, random_state=42, shuffle=False)\n",
    "svm_clf_selected_sentiment = svm.SVC(kernel='linear', decision_function_shape='ovr', verbose=2, random_state=42)\n",
    "\n",
    "tuned_parameters = {'C': np.logspace(-3, 3, 7),}\n",
    "\n",
    "scores = ['f1_micro']\n",
    "\n",
    "for score in scores:\n",
    "    print(\"# Tuning hyper-parameters for %s\" % score)\n",
    "    print()\n",
    "\n",
    "    clf_selected_sentiment = GridSearchCV(svm_clf_selected, tuned_parameters, cv=skf_sentiment, n_jobs=-1, scoring=score, verbose=2)\n",
    "    clf_selected_sentiment.fit(train_X_selected_sentiment, train_y_selected_sentiment)\n",
    "\n",
    "    print(\"Best parameters set found on development set:\")\n",
    "    print()\n",
    "    print(clf_selected_sentiment.best_params_)\n",
    "    print()\n",
    "    print(\"Grid scores on development set:\")\n",
    "    print()\n",
    "    means = clf_selected_sentiment.cv_results_['mean_test_score']\n",
    "    stds = clf_selected_sentiment.cv_results_['std_test_score']\n",
    "    for mean, std, params in zip(means, stds, clf_selected.cv_results_['params']):\n",
    "        print(\"%0.3f (+/-%0.03f) for %r\" % (mean, std * 2, params))\n",
    "    print()"
   ]
  },
  {
   "cell_type": "code",
   "execution_count": 91,
   "metadata": {},
   "outputs": [],
   "source": [
    "train_X_fs_sentiment, test_X_fs_sentiment, train_y_fs_sentiment, test_y_fs_sentiment = train_test_split(train_X_selected_sentiment, train_y_selected_sentiment, test_size=0.2, stratify=train_y_selected_sentiment, random_state=42)"
   ]
  },
  {
   "cell_type": "code",
   "execution_count": 92,
   "metadata": {},
   "outputs": [
    {
     "name": "stdout",
     "output_type": "stream",
     "text": [
      "[LibSVM]"
     ]
    },
    {
     "data": {
      "text/plain": [
       "SVC(C=10.0, cache_size=200, class_weight=None, coef0=0.0,\n",
       "  decision_function_shape='ovr', degree=3, gamma='auto_deprecated',\n",
       "  kernel='linear', max_iter=-1, probability=False, random_state=42,\n",
       "  shrinking=True, tol=0.001, verbose=2)"
      ]
     },
     "execution_count": 92,
     "metadata": {},
     "output_type": "execute_result"
    }
   ],
   "source": [
    "best_clf_fs_sentiment = svm.SVC(kernel='linear', C=clf_selected_sentiment.best_params_['C'], decision_function_shape='ovr', verbose=2, random_state=42)\n",
    "best_clf_fs_sentiment.fit(train_X_fs_sentiment, train_y_fs_sentiment)"
   ]
  },
  {
   "cell_type": "code",
   "execution_count": 93,
   "metadata": {},
   "outputs": [],
   "source": [
    "# predictions\n",
    "pred_y_fs_sentiment = best_clf_fs_sentiment.predict(test_X_fs_sentiment)"
   ]
  },
  {
   "cell_type": "code",
   "execution_count": 94,
   "metadata": {},
   "outputs": [
    {
     "name": "stdout",
     "output_type": "stream",
     "text": [
      "F1 micro score on validation data: 0.5864661654135338\n"
     ]
    },
    {
     "data": {
      "image/png": "[encoded data removed]",
      "text/plain": [
       "<Figure size 432x288 with 2 Axes>"
      ]
     },
     "metadata": {
      "needs_background": "light"
     },
     "output_type": "display_data"
    }
   ],
   "source": [
    "# 0=positivo, 1=neutro, 2=negativo\n",
    "print('F1 micro score on validation data: ' + str(f1_score(test_y_fs_sentiment, pred_y_fs_sentiment, average='micro')))\n",
    "cm_sentiment = confusion_matrix(test_y_fs_sentiment, pred_y_fs_sentiment, labels=[0, 1, 2])\n",
    "ax = sns.heatmap(cm_sentiment, annot=True, xticklabels=['positive','neutral','negative'], yticklabels=['positive','neutral','negative'])\n",
    "ax.xaxis.set_ticks_position('top')"
   ]
  },
  {
   "cell_type": "code",
   "execution_count": 95,
   "metadata": {
    "scrolled": true
   },
   "outputs": [
    {
     "name": "stdout",
     "output_type": "stream",
     "text": [
      "### 0\n"
     ]
    },
    {
     "data": {
      "image/png": "[encoded data removed]",
      "text/plain": [
       "<Figure size 1080x360 with 1 Axes>"
      ]
     },
     "metadata": {
      "needs_background": "light"
     },
     "output_type": "display_data"
    },
    {
     "name": "stdout",
     "output_type": "stream",
     "text": [
      "### 1\n"
     ]
    },
    {
     "data": {
      "image/png": "[encoded data removed]",
      "text/plain": [
       "<Figure size 1080x360 with 1 Axes>"
      ]
     },
     "metadata": {
      "needs_background": "light"
     },
     "output_type": "display_data"
    },
    {
     "name": "stdout",
     "output_type": "stream",
     "text": [
      "### 2\n"
     ]
    },
    {
     "data": {
      "image/png": "[encoded data removed]",
      "text/plain": [
       "<Figure size 1080x360 with 1 Axes>"
      ]
     },
     "metadata": {
      "needs_background": "light"
     },
     "output_type": "display_data"
    }
   ],
   "source": [
    "best_n = 70\n",
    "feature_names_sentiment = vec_sentiment.get_feature_names()\n",
    "for i in range(weights_sentiment.shape[0]):\n",
    "    print('### ' + str(i))\n",
    "    fn_sentiment = []\n",
    "    fv_sentiment = []\n",
    "    f_sentiment = [i for i in sorted(zip(map(lambda x: round(x, 4), clf_selected_sentiment.best_estimator_.coef_[i].data), clf_selected_sentiment.best_estimator_.coef_[i].indices), reverse=True, key=lambda k: abs(k[0]))][:best_n]\n",
    "    for j in range(len(f_sentiment)):\n",
    "        fn_sentiment.append(feature_names_sentiment[f_sentiment[j][1]])\n",
    "        fv_sentiment.append(f_sentiment[j][0])\n",
    "        #print(str(feature_names[f[j][1]]) + ': ' + str(f[j][0]))\n",
    "    fig, ax = plt.subplots(figsize=(15,5))\n",
    "    plt.bar([i for i in range(best_n) if fv_sentiment[i]>0], [x for x in fv_sentiment if x>0])\n",
    "    plt.bar([i for i in range(best_n) if fv_sentiment[i]<0], [x for x in fv_sentiment if x<0], color='r')\n",
    "    plt.xticks(range(best_n), fn_sentiment, rotation='vertical')\n",
    "    plt.show()"
   ]
  },
  {
   "cell_type": "code",
   "execution_count": null,
   "metadata": {},
   "outputs": [],
   "source": []
  },
  {
   "cell_type": "markdown",
   "metadata": {},
   "source": [
    "## Classification with 4 labels"
   ]
  },
  {
   "cell_type": "code",
   "execution_count": 131,
   "metadata": {
    "scrolled": true
   },
   "outputs": [
    {
     "data": {
      "text/html": [
       "<div>\n",
       "<style scoped>\n",
       "    .dataframe tbody tr th:only-of-type {\n",
       "        vertical-align: middle;\n",
       "    }\n",
       "\n",
       "    .dataframe tbody tr th {\n",
       "        vertical-align: top;\n",
       "    }\n",
       "\n",
       "    .dataframe thead th {\n",
       "        text-align: right;\n",
       "    }\n",
       "</style>\n",
       "<table border=\"1\" class=\"dataframe\">\n",
       "  <thead>\n",
       "    <tr style=\"text-align: right;\">\n",
       "      <th></th>\n",
       "      <th>TESTO</th>\n",
       "      <th>(Testo Citato)</th>\n",
       "      <th>Motore</th>\n",
       "    </tr>\n",
       "  </thead>\n",
       "  <tbody>\n",
       "    <tr>\n",
       "      <th>0</th>\n",
       "      <td>Allora il problema è che non sono aggiornati i...</td>\n",
       "      <td></td>\n",
       "      <td>irrilevante</td>\n",
       "    </tr>\n",
       "    <tr>\n",
       "      <th>1</th>\n",
       "      <td>E' virgolettato appositamente.... E soprattutt...</td>\n",
       "      <td></td>\n",
       "      <td>irrilevante</td>\n",
       "    </tr>\n",
       "    <tr>\n",
       "      <th>2</th>\n",
       "      <td>Mah io sulla mappa ev-way ho visto solo tipo 2...</td>\n",
       "      <td>'Inferiore non s ma probabilmente uguale (il m...</td>\n",
       "      <td>irrilevante</td>\n",
       "    </tr>\n",
       "    <tr>\n",
       "      <th>3</th>\n",
       "      <td>Ah però.... uno pensa di averne viste tante su...</td>\n",
       "      <td>Sinceramente una differenza di 9.800? non mi p...</td>\n",
       "      <td>irrilevante</td>\n",
       "    </tr>\n",
       "    <tr>\n",
       "      <th>4</th>\n",
       "      <td>Basta darsi delle regole e per questo tipo di ...</td>\n",
       "      <td></td>\n",
       "      <td>irrilevante</td>\n",
       "    </tr>\n",
       "    <tr>\n",
       "      <th>5</th>\n",
       "      <td>Personalmente posso ritenermi un possessore di...</td>\n",
       "      <td></td>\n",
       "      <td>irrilevante</td>\n",
       "    </tr>\n",
       "    <tr>\n",
       "      <th>6</th>\n",
       "      <td>Confermo che il posteriore è riuscitissimo e a...</td>\n",
       "      <td>\"sono stato anch'io in conce per altri motivi ...</td>\n",
       "      <td>irrilevante</td>\n",
       "    </tr>\n",
       "    <tr>\n",
       "      <th>7</th>\n",
       "      <td>Mi sa che l'unica cosa apprezzabile del rst è ...</td>\n",
       "      <td></td>\n",
       "      <td>irrilevante</td>\n",
       "    </tr>\n",
       "    <tr>\n",
       "      <th>8</th>\n",
       "      <td>grazie ! ! ! ! !</td>\n",
       "      <td></td>\n",
       "      <td>irrilevante</td>\n",
       "    </tr>\n",
       "    <tr>\n",
       "      <th>9</th>\n",
       "      <td>Cosimo hai centrato completamente</td>\n",
       "      <td></td>\n",
       "      <td>irrilevante</td>\n",
       "    </tr>\n",
       "    <tr>\n",
       "      <th>10</th>\n",
       "      <td>bisogna distinguere tra le garanzia supplement...</td>\n",
       "      <td></td>\n",
       "      <td>irrilevante</td>\n",
       "    </tr>\n",
       "    <tr>\n",
       "      <th>11</th>\n",
       "      <td>Mah parleranno di ipotetiche versioni ibride o...</td>\n",
       "      <td></td>\n",
       "      <td>negativo</td>\n",
       "    </tr>\n",
       "    <tr>\n",
       "      <th>12</th>\n",
       "      <td>Qual è secondo voi il miglior 4x4 non Suv o fu...</td>\n",
       "      <td></td>\n",
       "      <td>irrilevante</td>\n",
       "    </tr>\n",
       "    <tr>\n",
       "      <th>13</th>\n",
       "      <td>SZ ES-30 ?</td>\n",
       "      <td></td>\n",
       "      <td>neutro</td>\n",
       "    </tr>\n",
       "    <tr>\n",
       "      <th>14</th>\n",
       "      <td>Ciao perché intitoli il post : \"problemi della...</td>\n",
       "      <td></td>\n",
       "      <td>irrilevante</td>\n",
       "    </tr>\n",
       "    <tr>\n",
       "      <th>15</th>\n",
       "      <td>Diosanto che bello il Rosso 8C confrontato con...</td>\n",
       "      <td></td>\n",
       "      <td>irrilevante</td>\n",
       "    </tr>\n",
       "    <tr>\n",
       "      <th>16</th>\n",
       "      <td>Ax sensazione non vuol dire illusione. Non mi ...</td>\n",
       "      <td></td>\n",
       "      <td>irrilevante</td>\n",
       "    </tr>\n",
       "    <tr>\n",
       "      <th>17</th>\n",
       "      <td>Benvenuta nel posto giusto Allora sentirai div...</td>\n",
       "      <td>\"Buongiorno a tutti So che il titolo di questo...</td>\n",
       "      <td>neutro</td>\n",
       "    </tr>\n",
       "    <tr>\n",
       "      <th>18</th>\n",
       "      <td>Ma come c'è il gpl ! ! ! Ahahaha Nel 2010 se b...</td>\n",
       "      <td></td>\n",
       "      <td>positivo</td>\n",
       "    </tr>\n",
       "    <tr>\n",
       "      <th>19</th>\n",
       "      <td>Mitico</td>\n",
       "      <td></td>\n",
       "      <td>irrilevante</td>\n",
       "    </tr>\n",
       "    <tr>\n",
       "      <th>20</th>\n",
       "      <td>Infatti la U cromata del paraurti anteriore è ...</td>\n",
       "      <td>modello vecchio tra l'altro... e con pochi sap...</td>\n",
       "      <td>irrilevante</td>\n",
       "    </tr>\n",
       "    <tr>\n",
       "      <th>21</th>\n",
       "      <td>Si è vero il jimny è un vero fuoristrada. Però...</td>\n",
       "      <td></td>\n",
       "      <td>irrilevante</td>\n",
       "    </tr>\n",
       "    <tr>\n",
       "      <th>22</th>\n",
       "      <td>Hanno limiti di emissioni diversi come in Usa ...</td>\n",
       "      <td></td>\n",
       "      <td>neutro</td>\n",
       "    </tr>\n",
       "    <tr>\n",
       "      <th>23</th>\n",
       "      <td>Fra l'altro la hybrid con quest'ultimo fl ha b...</td>\n",
       "      <td></td>\n",
       "      <td>irrilevante</td>\n",
       "    </tr>\n",
       "    <tr>\n",
       "      <th>24</th>\n",
       "      <td>Purtroppo accade con tutti i tag... e tra l'al...</td>\n",
       "      <td></td>\n",
       "      <td>irrilevante</td>\n",
       "    </tr>\n",
       "    <tr>\n",
       "      <th>25</th>\n",
       "      <td>RS ? ......quante minchiate che si sentono ! I...</td>\n",
       "      <td></td>\n",
       "      <td>irrilevante</td>\n",
       "    </tr>\n",
       "    <tr>\n",
       "      <th>26</th>\n",
       "      <td>voglio aderire pure io ! !</td>\n",
       "      <td></td>\n",
       "      <td>irrilevante</td>\n",
       "    </tr>\n",
       "    <tr>\n",
       "      <th>27</th>\n",
       "      <td>buono a sapersi grazie per le info</td>\n",
       "      <td></td>\n",
       "      <td>irrilevante</td>\n",
       "    </tr>\n",
       "    <tr>\n",
       "      <th>28</th>\n",
       "      <td>Occhio che si potrebbe sempre invocare la vers...</td>\n",
       "      <td></td>\n",
       "      <td>irrilevante</td>\n",
       "    </tr>\n",
       "    <tr>\n",
       "      <th>29</th>\n",
       "      <td>Per ora no rinviato a sabato prossimo</td>\n",
       "      <td>'ragazz scusate l OT e scusate se scrivo ben p...</td>\n",
       "      <td>positivo</td>\n",
       "    </tr>\n",
       "    <tr>\n",
       "      <th>...</th>\n",
       "      <td>...</td>\n",
       "      <td>...</td>\n",
       "      <td>...</td>\n",
       "    </tr>\n",
       "    <tr>\n",
       "      <th>7153</th>\n",
       "      <td>Scusami Tiziano ... non volevo essere scortese...</td>\n",
       "      <td></td>\n",
       "      <td>irrilevante</td>\n",
       "    </tr>\n",
       "    <tr>\n",
       "      <th>7154</th>\n",
       "      <td>NUOVO LEXUS RX HYBRID 2016 PARTE DA 69.000 EUR...</td>\n",
       "      <td></td>\n",
       "      <td>positivo</td>\n",
       "    </tr>\n",
       "    <tr>\n",
       "      <th>7155</th>\n",
       "      <td>Dopo tre giorni d'uso posso cominciare ad espr...</td>\n",
       "      <td></td>\n",
       "      <td>positivo</td>\n",
       "    </tr>\n",
       "    <tr>\n",
       "      <th>7156</th>\n",
       "      <td>grazie stanotte sto di servizio in portineria ...</td>\n",
       "      <td></td>\n",
       "      <td>irrilevante</td>\n",
       "    </tr>\n",
       "    <tr>\n",
       "      <th>7157</th>\n",
       "      <td>Scusate però il fatto che 2 autopareristi abbi...</td>\n",
       "      <td></td>\n",
       "      <td>irrilevante</td>\n",
       "    </tr>\n",
       "    <tr>\n",
       "      <th>7158</th>\n",
       "      <td>in altri forum se un utente bannato si re-iscr...</td>\n",
       "      <td></td>\n",
       "      <td>irrilevante</td>\n",
       "    </tr>\n",
       "    <tr>\n",
       "      <th>7159</th>\n",
       "      <td>E DI QUALSIASI TAGLIA !</td>\n",
       "      <td>Le supposte a qualsiasi ora!</td>\n",
       "      <td>irrilevante</td>\n",
       "    </tr>\n",
       "    <tr>\n",
       "      <th>7160</th>\n",
       "      <td>Ciao malayes il montaggio delle trombe mi ha a...</td>\n",
       "      <td></td>\n",
       "      <td>irrilevante</td>\n",
       "    </tr>\n",
       "    <tr>\n",
       "      <th>7161</th>\n",
       "      <td>Ah ecco ero convinto che la coupé 5 cilindri a...</td>\n",
       "      <td></td>\n",
       "      <td>irrilevante</td>\n",
       "    </tr>\n",
       "    <tr>\n",
       "      <th>7162</th>\n",
       "      <td>Sei sicuro ? si può selezionare anche dal conf...</td>\n",
       "      <td></td>\n",
       "      <td>neutro</td>\n",
       "    </tr>\n",
       "    <tr>\n",
       "      <th>7163</th>\n",
       "      <td>Grazie della spiegazione mic1998 !</td>\n",
       "      <td></td>\n",
       "      <td>irrilevante</td>\n",
       "    </tr>\n",
       "    <tr>\n",
       "      <th>7164</th>\n",
       "      <td>Intendi questa Ypsilon -&amp;gt Lancia Ypsilon - W...</td>\n",
       "      <td></td>\n",
       "      <td>irrilevante</td>\n",
       "    </tr>\n",
       "    <tr>\n",
       "      <th>7165</th>\n",
       "      <td>Un pelo meno se ci sono solo accessori da cata...</td>\n",
       "      <td></td>\n",
       "      <td>irrilevante</td>\n",
       "    </tr>\n",
       "    <tr>\n",
       "      <th>7166</th>\n",
       "      <td>Tra le tre nominate vai di Geolandar le AT/S g...</td>\n",
       "      <td></td>\n",
       "      <td>irrilevante</td>\n",
       "    </tr>\n",
       "    <tr>\n",
       "      <th>7167</th>\n",
       "      <td>Ciao a tutti oggi ho visto una jeep compass L ...</td>\n",
       "      <td></td>\n",
       "      <td>positivo</td>\n",
       "    </tr>\n",
       "    <tr>\n",
       "      <th>7168</th>\n",
       "      <td>ECCO LE FOTO</td>\n",
       "      <td></td>\n",
       "      <td>irrilevante</td>\n",
       "    </tr>\n",
       "    <tr>\n",
       "      <th>7169</th>\n",
       "      <td>prendila merita di per sè:wink:</td>\n",
       "      <td>\" Però una 3.0csi costa sui 12K davvero bell v...</td>\n",
       "      <td>irrilevante</td>\n",
       "    </tr>\n",
       "    <tr>\n",
       "      <th>7170</th>\n",
       "      <td>Ciao io ho preso una FIESTA ST LINE 140 cv FUL...</td>\n",
       "      <td></td>\n",
       "      <td>positivo</td>\n",
       "    </tr>\n",
       "    <tr>\n",
       "      <th>7171</th>\n",
       "      <td>bel mezzo parecchio americano come stile</td>\n",
       "      <td></td>\n",
       "      <td>irrilevante</td>\n",
       "    </tr>\n",
       "    <tr>\n",
       "      <th>7172</th>\n",
       "      <td>Non male tutt'altro. Al posteriore assomiglia ...</td>\n",
       "      <td></td>\n",
       "      <td>irrilevante</td>\n",
       "    </tr>\n",
       "    <tr>\n",
       "      <th>7173</th>\n",
       "      <td>A me questo aggeggio continua ad ispirare simp...</td>\n",
       "      <td></td>\n",
       "      <td>irrilevante</td>\n",
       "    </tr>\n",
       "    <tr>\n",
       "      <th>7174</th>\n",
       "      <td>posto che sono 2 vetture eccezionali e mi par ...</td>\n",
       "      <td></td>\n",
       "      <td>irrilevante</td>\n",
       "    </tr>\n",
       "    <tr>\n",
       "      <th>7175</th>\n",
       "      <td>Salve a tutti ecco una nuova sezione dedicata ...</td>\n",
       "      <td>'Grande idea......... grazie RossoCorsa'</td>\n",
       "      <td>irrilevante</td>\n",
       "    </tr>\n",
       "    <tr>\n",
       "      <th>7176</th>\n",
       "      <td>Inoltre derivavano direttamente dalle corse in...</td>\n",
       "      <td></td>\n",
       "      <td>irrilevante</td>\n",
       "    </tr>\n",
       "    <tr>\n",
       "      <th>7177</th>\n",
       "      <td>E allora perchè hai scritto sopra \"I modelli N...</td>\n",
       "      <td>'Nemmeno io.'</td>\n",
       "      <td>irrilevante</td>\n",
       "    </tr>\n",
       "    <tr>\n",
       "      <th>7178</th>\n",
       "      <td>Devi vedere 4C come un investimento pubblicita...</td>\n",
       "      <td></td>\n",
       "      <td>irrilevante</td>\n",
       "    </tr>\n",
       "    <tr>\n",
       "      <th>7179</th>\n",
       "      <td>Parto con dire una cosa : Bella e molto + bell...</td>\n",
       "      <td>'Caxxo stamattina mi ero preoccupato non veden...</td>\n",
       "      <td>positivo</td>\n",
       "    </tr>\n",
       "    <tr>\n",
       "      <th>7180</th>\n",
       "      <td>Mi sembri agguerrito ! Bravo ! Ti manderei anc...</td>\n",
       "      <td></td>\n",
       "      <td>irrilevante</td>\n",
       "    </tr>\n",
       "    <tr>\n",
       "      <th>7181</th>\n",
       "      <td>Grazie per la risposta. In realtà alla fine ho...</td>\n",
       "      <td></td>\n",
       "      <td>irrilevante</td>\n",
       "    </tr>\n",
       "    <tr>\n",
       "      <th>7182</th>\n",
       "      <td>io l'ho vista dal vivo e ti confremo che è com...</td>\n",
       "      <td></td>\n",
       "      <td>irrilevante</td>\n",
       "    </tr>\n",
       "  </tbody>\n",
       "</table>\n",
       "<p>7183 rows × 3 columns</p>\n",
       "</div>"
      ],
      "text/plain": [
       "                                                  TESTO  \\\n",
       "0     Allora il problema è che non sono aggiornati i...   \n",
       "1     E' virgolettato appositamente.... E soprattutt...   \n",
       "2     Mah io sulla mappa ev-way ho visto solo tipo 2...   \n",
       "3     Ah però.... uno pensa di averne viste tante su...   \n",
       "4     Basta darsi delle regole e per questo tipo di ...   \n",
       "5     Personalmente posso ritenermi un possessore di...   \n",
       "6     Confermo che il posteriore è riuscitissimo e a...   \n",
       "7     Mi sa che l'unica cosa apprezzabile del rst è ...   \n",
       "8                                     grazie ! ! ! ! !    \n",
       "9                    Cosimo hai centrato completamente    \n",
       "10    bisogna distinguere tra le garanzia supplement...   \n",
       "11    Mah parleranno di ipotetiche versioni ibride o...   \n",
       "12    Qual è secondo voi il miglior 4x4 non Suv o fu...   \n",
       "13                                          SZ ES-30 ?    \n",
       "14    Ciao perché intitoli il post : \"problemi della...   \n",
       "15    Diosanto che bello il Rosso 8C confrontato con...   \n",
       "16    Ax sensazione non vuol dire illusione. Non mi ...   \n",
       "17    Benvenuta nel posto giusto Allora sentirai div...   \n",
       "18    Ma come c'è il gpl ! ! ! Ahahaha Nel 2010 se b...   \n",
       "19                                               Mitico   \n",
       "20    Infatti la U cromata del paraurti anteriore è ...   \n",
       "21    Si è vero il jimny è un vero fuoristrada. Però...   \n",
       "22    Hanno limiti di emissioni diversi come in Usa ...   \n",
       "23    Fra l'altro la hybrid con quest'ultimo fl ha b...   \n",
       "24    Purtroppo accade con tutti i tag... e tra l'al...   \n",
       "25    RS ? ......quante minchiate che si sentono ! I...   \n",
       "26                          voglio aderire pure io ! !    \n",
       "27                  buono a sapersi grazie per le info    \n",
       "28    Occhio che si potrebbe sempre invocare la vers...   \n",
       "29               Per ora no rinviato a sabato prossimo    \n",
       "...                                                 ...   \n",
       "7153  Scusami Tiziano ... non volevo essere scortese...   \n",
       "7154  NUOVO LEXUS RX HYBRID 2016 PARTE DA 69.000 EUR...   \n",
       "7155  Dopo tre giorni d'uso posso cominciare ad espr...   \n",
       "7156  grazie stanotte sto di servizio in portineria ...   \n",
       "7157  Scusate però il fatto che 2 autopareristi abbi...   \n",
       "7158  in altri forum se un utente bannato si re-iscr...   \n",
       "7159                           E DI QUALSIASI TAGLIA !    \n",
       "7160  Ciao malayes il montaggio delle trombe mi ha a...   \n",
       "7161  Ah ecco ero convinto che la coupé 5 cilindri a...   \n",
       "7162  Sei sicuro ? si può selezionare anche dal conf...   \n",
       "7163                Grazie della spiegazione mic1998 !    \n",
       "7164  Intendi questa Ypsilon -&gt Lancia Ypsilon - W...   \n",
       "7165  Un pelo meno se ci sono solo accessori da cata...   \n",
       "7166  Tra le tre nominate vai di Geolandar le AT/S g...   \n",
       "7167  Ciao a tutti oggi ho visto una jeep compass L ...   \n",
       "7168                                      ECCO LE FOTO    \n",
       "7169                   prendila merita di per sè:wink:    \n",
       "7170  Ciao io ho preso una FIESTA ST LINE 140 cv FUL...   \n",
       "7171          bel mezzo parecchio americano come stile    \n",
       "7172  Non male tutt'altro. Al posteriore assomiglia ...   \n",
       "7173  A me questo aggeggio continua ad ispirare simp...   \n",
       "7174  posto che sono 2 vetture eccezionali e mi par ...   \n",
       "7175  Salve a tutti ecco una nuova sezione dedicata ...   \n",
       "7176  Inoltre derivavano direttamente dalle corse in...   \n",
       "7177  E allora perchè hai scritto sopra \"I modelli N...   \n",
       "7178  Devi vedere 4C come un investimento pubblicita...   \n",
       "7179  Parto con dire una cosa : Bella e molto + bell...   \n",
       "7180  Mi sembri agguerrito ! Bravo ! Ti manderei anc...   \n",
       "7181  Grazie per la risposta. In realtà alla fine ho...   \n",
       "7182  io l'ho vista dal vivo e ti confremo che è com...   \n",
       "\n",
       "                                         (Testo Citato)       Motore  \n",
       "0                                                        irrilevante  \n",
       "1                                                        irrilevante  \n",
       "2     'Inferiore non s ma probabilmente uguale (il m...  irrilevante  \n",
       "3     Sinceramente una differenza di 9.800? non mi p...  irrilevante  \n",
       "4                                                        irrilevante  \n",
       "5                                                        irrilevante  \n",
       "6     \"sono stato anch'io in conce per altri motivi ...  irrilevante  \n",
       "7                                                        irrilevante  \n",
       "8                                                        irrilevante  \n",
       "9                                                        irrilevante  \n",
       "10                                                       irrilevante  \n",
       "11                                                          negativo  \n",
       "12                                                       irrilevante  \n",
       "13                                                            neutro  \n",
       "14                                                       irrilevante  \n",
       "15                                                       irrilevante  \n",
       "16                                                       irrilevante  \n",
       "17    \"Buongiorno a tutti So che il titolo di questo...       neutro  \n",
       "18                                                          positivo  \n",
       "19                                                       irrilevante  \n",
       "20    modello vecchio tra l'altro... e con pochi sap...  irrilevante  \n",
       "21                                                       irrilevante  \n",
       "22                                                            neutro  \n",
       "23                                                       irrilevante  \n",
       "24                                                       irrilevante  \n",
       "25                                                       irrilevante  \n",
       "26                                                       irrilevante  \n",
       "27                                                       irrilevante  \n",
       "28                                                       irrilevante  \n",
       "29    'ragazz scusate l OT e scusate se scrivo ben p...     positivo  \n",
       "...                                                 ...          ...  \n",
       "7153                                                     irrilevante  \n",
       "7154                                                        positivo  \n",
       "7155                                                        positivo  \n",
       "7156                                                     irrilevante  \n",
       "7157                                                     irrilevante  \n",
       "7158                                                     irrilevante  \n",
       "7159                       Le supposte a qualsiasi ora!  irrilevante  \n",
       "7160                                                     irrilevante  \n",
       "7161                                                     irrilevante  \n",
       "7162                                                          neutro  \n",
       "7163                                                     irrilevante  \n",
       "7164                                                     irrilevante  \n",
       "7165                                                     irrilevante  \n",
       "7166                                                     irrilevante  \n",
       "7167                                                        positivo  \n",
       "7168                                                     irrilevante  \n",
       "7169  \" Però una 3.0csi costa sui 12K davvero bell v...  irrilevante  \n",
       "7170                                                        positivo  \n",
       "7171                                                     irrilevante  \n",
       "7172                                                     irrilevante  \n",
       "7173                                                     irrilevante  \n",
       "7174                                                     irrilevante  \n",
       "7175           'Grande idea......... grazie RossoCorsa'  irrilevante  \n",
       "7176                                                     irrilevante  \n",
       "7177                                      'Nemmeno io.'  irrilevante  \n",
       "7178                                                     irrilevante  \n",
       "7179  'Caxxo stamattina mi ero preoccupato non veden...     positivo  \n",
       "7180                                                     irrilevante  \n",
       "7181                                                     irrilevante  \n",
       "7182                                                     irrilevante  \n",
       "\n",
       "[7183 rows x 3 columns]"
      ]
     },
     "execution_count": 131,
     "metadata": {},
     "output_type": "execute_result"
    }
   ],
   "source": [
    "dataset_complete = original_dataset.copy()\n",
    "dataset_complete"
   ]
  },
  {
   "cell_type": "markdown",
   "metadata": {},
   "source": [
    "Preprocessing"
   ]
  },
  {
   "cell_type": "code",
   "execution_count": 132,
   "metadata": {},
   "outputs": [],
   "source": [
    "pp = Preprocessor()\n",
    "# TESTO\n",
    "for i in range(len(dataset)):\n",
    "    dataset_complete['TESTO'][i] = pp.preprocessText(dataset_complete['TESTO'][i], method='word', use_stemmer=True, ner=True)\n",
    "# (Testo Citato)\n",
    "for i in range(len(dataset)):\n",
    "    dataset_complete['(Testo Citato)'][i] = pp.preprocessText(dataset_complete['(Testo Citato)'][i], method='word', use_stemmer=True, ner=True)    "
   ]
  },
  {
   "cell_type": "code",
   "execution_count": 133,
   "metadata": {},
   "outputs": [],
   "source": [
    "# combine labels \"molto positivo\" = \"positivo\" and so on\n",
    "dataset_complete[column] = dataset_complete[column].replace('molto positivo', 'positivo')\n",
    "dataset_complete[column] = dataset_complete[column].replace('molto negativo', 'negativo')"
   ]
  },
  {
   "cell_type": "markdown",
   "metadata": {},
   "source": [
    "Vectorization"
   ]
  },
  {
   "cell_type": "code",
   "execution_count": 134,
   "metadata": {},
   "outputs": [],
   "source": [
    "preprocessed_dataset_complete = []\n",
    "for i in range(len(dataset_complete)):\n",
    "    preprocessed_dataset_complete.append((combine_text_quote(dataset_complete['TESTO'][i], dataset_complete['(Testo Citato)'][i], divide_quote=False), dataset_complete[column][i]))"
   ]
  },
  {
   "cell_type": "code",
   "execution_count": 135,
   "metadata": {},
   "outputs": [
    {
     "data": {
      "text/plain": [
       "('MODEL nessun chied dir fals chied sol difend indifend strateg EMARK ok dic ver dubit incazz best urland te dietr sopr sott camb EMARK MODEL camb EMARK fabv BRAND bisogn ( avvoc ) difensor bisogn attacc EMARK usat avvoc finor success raggiung strabil svolg compitin insegu lont concorrt EMARK twisted twisted twisted twisted twisted',\n",
       " 'irrilevante')"
      ]
     },
     "execution_count": 135,
     "metadata": {},
     "output_type": "execute_result"
    }
   ],
   "source": [
    "preprocessed_dataset_complete[50]"
   ]
  },
  {
   "cell_type": "markdown",
   "metadata": {},
   "source": [
    "Split into training and test"
   ]
  },
  {
   "cell_type": "code",
   "execution_count": 136,
   "metadata": {},
   "outputs": [
    {
     "name": "stdout",
     "output_type": "stream",
     "text": [
      "Length: 7183\n"
     ]
    }
   ],
   "source": [
    "numpy_dataset_complete = np.array(preprocessed_dataset_complete)\n",
    "print('Length: ' + str(numpy_dataset_complete.shape[0]))"
   ]
  },
  {
   "cell_type": "code",
   "execution_count": 137,
   "metadata": {},
   "outputs": [],
   "source": [
    "np.random.seed(42)\n",
    "# split 80% training and 20% test\n",
    "# FARLO RISPETTANDO LA DISTRIBUZIONE\n",
    "np.random.shuffle(numpy_dataset_complete)\n",
    "#numpy_dataset = numpy_dataset[perm]\n",
    "#split = int(0.8 * numpy_dataset.shape[0])\n",
    "#train_dataset, test_dataset = numpy_dataset[:split,:], numpy_dataset[split:,:]\n",
    "train_dataset_X_complete, test_dataset_X_complete, train_dataset_y_complete, test_dataset_y_complete = train_test_split(numpy_dataset_complete[:,0], numpy_dataset_complete[:,1], test_size=0.2, stratify=numpy_dataset_complete[:,1], random_state=42)"
   ]
  },
  {
   "cell_type": "code",
   "execution_count": 138,
   "metadata": {},
   "outputs": [
    {
     "data": {
      "text/plain": [
       "(5746,)"
      ]
     },
     "execution_count": 138,
     "metadata": {},
     "output_type": "execute_result"
    }
   ],
   "source": [
    "train_dataset_X_complete.shape"
   ]
  },
  {
   "cell_type": "markdown",
   "metadata": {},
   "source": [
    "Some statistics"
   ]
  },
  {
   "cell_type": "code",
   "execution_count": 139,
   "metadata": {},
   "outputs": [
    {
     "data": {
      "text/plain": [
       "Counter({'irrilevante': 5082, 'negativo': 124, 'positivo': 254, 'neutro': 286})"
      ]
     },
     "execution_count": 139,
     "metadata": {},
     "output_type": "execute_result"
    }
   ],
   "source": [
    "collections.Counter(train_dataset_y_complete)"
   ]
  },
  {
   "cell_type": "markdown",
   "metadata": {},
   "source": [
    "Finally replace text with vector, and replace label with numerical representation"
   ]
  },
  {
   "cell_type": "code",
   "execution_count": 140,
   "metadata": {},
   "outputs": [],
   "source": [
    "# VECTORIZE\n",
    "vec_complete = TfidfVectorizer(ngram_range=(1,2), lowercase=False)\n",
    "#train_dataset_X = vec.fit_transform(train_dataset_X)\n",
    "\n",
    "# final dataset for the classification\n",
    "train_X_complete = vec_complete.fit_transform(train_dataset_X_complete)\n",
    "train_y_complete = np.empty([train_dataset_y_complete.shape[0], 1]).ravel()\n",
    "\n",
    "for i in range(train_dataset_y_complete.shape[0]):\n",
    "    if train_dataset_y_complete[i] == 'irrilevante':\n",
    "        train_y_complete[i] = 0\n",
    "    elif train_dataset_y_complete[i] == 'positivo':\n",
    "        train_y_complete[i] = 1\n",
    "    elif train_dataset_y_complete[i] == 'neutro':\n",
    "        train_y_complete[i] = 2\n",
    "    elif train_dataset_y_complete[i] == 'negativo':\n",
    "        train_y_complete[i] = 3"
   ]
  },
  {
   "cell_type": "markdown",
   "metadata": {},
   "source": [
    "SVM _TFIDF Classifier"
   ]
  },
  {
   "cell_type": "code",
   "execution_count": 141,
   "metadata": {
    "scrolled": true
   },
   "outputs": [
    {
     "name": "stdout",
     "output_type": "stream",
     "text": [
      "# Tuning hyper-parameters for f1_macro\n",
      "\n",
      "Fitting 5 folds for each of 7 candidates, totalling 35 fits\n"
     ]
    },
    {
     "name": "stderr",
     "output_type": "stream",
     "text": [
      "[Parallel(n_jobs=-1)]: Using backend LokyBackend with 8 concurrent workers.\n",
      "[Parallel(n_jobs=-1)]: Done  35 out of  35 | elapsed:  2.4min finished\n"
     ]
    },
    {
     "name": "stdout",
     "output_type": "stream",
     "text": [
      "[LibSVM]Best parameters set found on development set:\n",
      "\n",
      "{'C': 100.0}\n",
      "\n",
      "Grid scores on development set:\n",
      "\n",
      "0.235 (+/-0.000) for {'C': 0.001}\n",
      "0.235 (+/-0.000) for {'C': 0.01}\n",
      "0.235 (+/-0.000) for {'C': 0.1}\n",
      "0.249 (+/-0.032) for {'C': 1.0}\n",
      "0.290 (+/-0.036) for {'C': 10.0}\n",
      "0.299 (+/-0.046) for {'C': 100.0}\n",
      "0.299 (+/-0.046) for {'C': 1000.0}\n",
      "\n"
     ]
    }
   ],
   "source": [
    "skf_complete = StratifiedKFold(n_splits=5, random_state=42, shuffle=False)\n",
    "svm_clf_complete = svm.SVC(kernel='linear', decision_function_shape='ovr', verbose=2, random_state=42)\n",
    "\n",
    "tuned_parameters = {'C': np.logspace(-3, 3, 7),}\n",
    "\n",
    "# f1, f1_macro (for multiclass), recall\n",
    "scores = ['f1_macro']\n",
    "\n",
    "for score in scores:\n",
    "    print(\"# Tuning hyper-parameters for %s\" % score)\n",
    "    print()\n",
    "\n",
    "    clf_complete = GridSearchCV(svm_clf_complete, tuned_parameters, cv=skf_complete, n_jobs=-1, scoring=score, verbose=2)\n",
    "    clf_complete.fit(train_X_complete, train_y_complete)\n",
    "\n",
    "    print(\"Best parameters set found on development set:\")\n",
    "    print()\n",
    "    print(clf_complete.best_params_)\n",
    "    print()\n",
    "    print(\"Grid scores on development set:\")\n",
    "    print()\n",
    "    means = clf_complete.cv_results_['mean_test_score']\n",
    "    stds = clf_complete.cv_results_['std_test_score']\n",
    "    for mean, std, params in zip(means, stds, clf_complete.cv_results_['params']):\n",
    "        print(\"%0.3f (+/-%0.03f) for %r\" % (mean, std * 2, params))\n",
    "    print()"
   ]
  },
  {
   "cell_type": "markdown",
   "metadata": {},
   "source": [
    "Refit with best parameters and then draw confusion matrix on validation data"
   ]
  },
  {
   "cell_type": "code",
   "execution_count": 142,
   "metadata": {},
   "outputs": [],
   "source": [
    "train_X_cf_complete, test_X_cf_complete, train_y_cf_complete, test_y_cf_complete = train_test_split(train_X_complete, train_y_complete, test_size=0.2, stratify=train_y_complete, random_state=42)"
   ]
  },
  {
   "cell_type": "code",
   "execution_count": 143,
   "metadata": {},
   "outputs": [
    {
     "name": "stdout",
     "output_type": "stream",
     "text": [
      "[LibSVM]"
     ]
    },
    {
     "data": {
      "text/plain": [
       "SVC(C=100.0, cache_size=200, class_weight=None, coef0=0.0,\n",
       "  decision_function_shape='ovr', degree=3, gamma='auto_deprecated',\n",
       "  kernel='linear', max_iter=-1, probability=False, random_state=42,\n",
       "  shrinking=True, tol=0.001, verbose=2)"
      ]
     },
     "execution_count": 143,
     "metadata": {},
     "output_type": "execute_result"
    }
   ],
   "source": [
    "best_clf_complete = svm.SVC(kernel='linear', C=clf_complete.best_params_['C'], decision_function_shape='ovr', verbose=2, random_state=42)\n",
    "best_clf_complete.fit(train_X_cf_complete, train_y_cf_complete)"
   ]
  },
  {
   "cell_type": "code",
   "execution_count": 144,
   "metadata": {},
   "outputs": [],
   "source": [
    "# predictions\n",
    "pred_y_cf_complete = best_clf_complete.predict(test_X_cf_complete)"
   ]
  },
  {
   "cell_type": "code",
   "execution_count": 145,
   "metadata": {},
   "outputs": [
    {
     "name": "stderr",
     "output_type": "stream",
     "text": [
      "/usr/local/lib/python3.6/dist-packages/sklearn/metrics/classification.py:1143: UndefinedMetricWarning: F-score is ill-defined and being set to 0.0 in labels with no predicted samples.\n",
      "  'precision', 'predicted', average, warn_for)\n"
     ]
    },
    {
     "name": "stdout",
     "output_type": "stream",
     "text": [
      "F1 macro score on validation data: 0.31171413338578324\n"
     ]
    },
    {
     "data": {
      "image/png": "[encoded data removed]",
      "text/plain": [
       "<Figure size 432x288 with 2 Axes>"
      ]
     },
     "metadata": {
      "needs_background": "light"
     },
     "output_type": "display_data"
    }
   ],
   "source": [
    "# 0=irrilevante, 1=positivo, 2=neutro, 3=negativo\n",
    "print('F1 macro score on validation data: ' + str(f1_score(test_y_cf_complete, pred_y_cf_complete, average='macro')))\n",
    "cm_complete = confusion_matrix(test_y_cf_complete, pred_y_cf_complete, labels=[0, 1, 2, 3])\n",
    "ax = sns.heatmap(cm_complete, annot=True, xticklabels=['irrelevant','positive','neutral', 'negative'], yticklabels=['irrelevant','positive','neutral', 'negative'], fmt=\"d\")\n",
    "ax.xaxis.set_ticks_position('top')"
   ]
  },
  {
   "cell_type": "markdown",
   "metadata": {},
   "source": [
    "Features selection. Plot by descending weight\n"
   ]
  },
  {
   "cell_type": "code",
   "execution_count": 146,
   "metadata": {},
   "outputs": [
    {
     "name": "stdout",
     "output_type": "stream",
     "text": [
      "(6, 188026)\n"
     ]
    }
   ],
   "source": [
    "weights_complete = clf_complete.best_estimator_.coef_\n",
    "print(weights_complete.shape)\n",
    "# 6 perchè fa un classifictore per ogni coppia di labels (ovr) -> verificare"
   ]
  },
  {
   "cell_type": "code",
   "execution_count": 147,
   "metadata": {},
   "outputs": [
    {
     "data": {
      "image/png": "[encoded data removed]",
      "text/plain": [
       "<Figure size 1080x360 with 1 Axes>"
      ]
     },
     "metadata": {
      "needs_background": "light"
     },
     "output_type": "display_data"
    },
    {
     "data": {
      "image/png": "[encoded data removed]",
      "text/plain": [
       "<Figure size 1080x360 with 1 Axes>"
      ]
     },
     "metadata": {
      "needs_background": "light"
     },
     "output_type": "display_data"
    },
    {
     "data": {
      "image/png": "[encoded data removed]",
      "text/plain": [
       "<Figure size 1080x360 with 1 Axes>"
      ]
     },
     "metadata": {
      "needs_background": "light"
     },
     "output_type": "display_data"
    },
    {
     "data": {
      "image/png": "[encoded data removed]",
      "text/plain": [
       "<Figure size 1080x360 with 1 Axes>"
      ]
     },
     "metadata": {
      "needs_background": "light"
     },
     "output_type": "display_data"
    },
    {
     "data": {
      "image/png": "[encoded data removed]",
      "text/plain": [
       "<Figure size 1080x360 with 1 Axes>"
      ]
     },
     "metadata": {
      "needs_background": "light"
     },
     "output_type": "display_data"
    },
    {
     "data": {
      "image/png": "[encoded data removed]",
      "text/plain": [
       "<Figure size 1080x360 with 1 Axes>"
      ]
     },
     "metadata": {
      "needs_background": "light"
     },
     "output_type": "display_data"
    }
   ],
   "source": [
    "# Data for plotting\n",
    "for i in range(weights_complete.shape[0]):\n",
    "    fig, ax = plt.subplots(figsize=(15,5))\n",
    "    ax.plot(range(weights_complete[i].data.shape[0]), sorted(abs(weights_complete[i].data), reverse = True))\n",
    "    ax.set(xlabel='Feature', ylabel='Weight', title='Features\\' weights ' + str(i))\n",
    "    ax.grid()\n",
    "    #fig.savefig(\"test.png\")\n",
    "    plt.show()"
   ]
  },
  {
   "cell_type": "code",
   "execution_count": 148,
   "metadata": {},
   "outputs": [],
   "source": [
    "# select most important features\n",
    "cutoff_0 = 0.15\n",
    "selected_features_complete_0 = [i for i in sorted(zip(map(lambda x: round(x, 4), abs(weights_complete[0].data)), weights_complete[0].indices), reverse=True) if i[0] > cutoff_0]\n",
    "cutoff_1 = 0.15\n",
    "selected_features_complete_1 = [i for i in sorted(zip(map(lambda x: round(x, 4), abs(weights_complete[1].data)), weights_complete[1].indices), reverse=True) if i[0] > cutoff_1]\n",
    "cutoff_2 = 0.15\n",
    "selected_features_complete_2 = [i for i in sorted(zip(map(lambda x: round(x, 4), abs(weights_complete[2].data)), weights_complete[2].indices), reverse=True) if i[0] > cutoff_2]\n",
    "cutoff_3 = 0.15\n",
    "selected_features_complete_3 = [i for i in sorted(zip(map(lambda x: round(x, 4), abs(weights_complete[3].data)), weights_complete[3].indices), reverse=True) if i[0] > cutoff_3]\n",
    "cutoff_4 = 0.15\n",
    "selected_features_complete_4 = [i for i in sorted(zip(map(lambda x: round(x, 4), abs(weights_complete[4].data)), weights_complete[4].indices), reverse=True) if i[0] > cutoff_4]\n",
    "cutoff_5 = 0.15\n",
    "selected_features_complete_5 = [i for i in sorted(zip(map(lambda x: round(x, 4), abs(weights_complete[5].data)), weights_complete[5].indices), reverse=True) if i[0] > cutoff_5]"
   ]
  },
  {
   "cell_type": "code",
   "execution_count": 149,
   "metadata": {},
   "outputs": [
    {
     "name": "stdout",
     "output_type": "stream",
     "text": [
      "Selected 21823 features\n"
     ]
    }
   ],
   "source": [
    "# take the union of selected features (a word important for a classification may be not important for other classifications)\n",
    "selected_features_complete = set()\n",
    "for f in selected_features_complete_0:\n",
    "    selected_features_complete.add(f[1])\n",
    "for f in selected_features_complete_1:\n",
    "    selected_features_complete.add(f[1])\n",
    "for f in selected_features_complete_2:\n",
    "    selected_features_complete.add(f[1])\n",
    "for f in selected_features_complete_3:\n",
    "    selected_features_complete.add(f[1])\n",
    "for f in selected_features_complete_4:\n",
    "    selected_features_complete.add(f[1])\n",
    "for f in selected_features_complete_5:\n",
    "    selected_features_complete.add(f[1])\n",
    "print('Selected ' + str(len(selected_features_complete)) + ' features')    "
   ]
  },
  {
   "cell_type": "markdown",
   "metadata": {},
   "source": [
    "Now retry grid search using only selected features"
   ]
  },
  {
   "cell_type": "code",
   "execution_count": 150,
   "metadata": {},
   "outputs": [],
   "source": [
    "train_X_selected_complete = train_X_complete[:, list(selected_features_complete)]\n",
    "train_y_selected_complete = train_y_complete"
   ]
  },
  {
   "cell_type": "code",
   "execution_count": 151,
   "metadata": {},
   "outputs": [
    {
     "name": "stdout",
     "output_type": "stream",
     "text": [
      "# Tuning hyper-parameters for f1_macro\n",
      "\n",
      "Fitting 5 folds for each of 7 candidates, totalling 35 fits\n"
     ]
    },
    {
     "name": "stderr",
     "output_type": "stream",
     "text": [
      "[Parallel(n_jobs=-1)]: Using backend LokyBackend with 8 concurrent workers.\n",
      "[Parallel(n_jobs=-1)]: Done  35 out of  35 | elapsed:   49.2s finished\n"
     ]
    },
    {
     "name": "stdout",
     "output_type": "stream",
     "text": [
      "[LibSVM]Best parameters set found on development set:\n",
      "\n",
      "{'C': 100.0}\n",
      "\n",
      "Grid scores on development set:\n",
      "\n",
      "0.235 (+/-0.000) for {'C': 0.001}\n",
      "0.235 (+/-0.000) for {'C': 0.01}\n",
      "0.235 (+/-0.000) for {'C': 0.1}\n",
      "0.235 (+/-0.000) for {'C': 1.0}\n",
      "0.310 (+/-0.022) for {'C': 10.0}\n",
      "0.321 (+/-0.032) for {'C': 100.0}\n",
      "0.320 (+/-0.028) for {'C': 1000.0}\n",
      "\n"
     ]
    }
   ],
   "source": [
    "skf_complete = StratifiedKFold(n_splits=5, random_state=42, shuffle=False)\n",
    "svm_clf_selected_complete = svm.SVC(kernel='linear', decision_function_shape='ovr', verbose=2, random_state=42)\n",
    "\n",
    "tuned_parameters = {'C': np.logspace(-3, 3, 7),}\n",
    "\n",
    "scores = ['f1_macro']\n",
    "\n",
    "for score in scores:\n",
    "    print(\"# Tuning hyper-parameters for %s\" % score)\n",
    "    print()\n",
    "\n",
    "    clf_selected_complete = GridSearchCV(svm_clf_selected_complete, tuned_parameters, cv=skf_complete, n_jobs=-1, scoring=score, verbose=2)\n",
    "    clf_selected_complete.fit(train_X_selected_complete, train_y_selected_complete)\n",
    "\n",
    "    print(\"Best parameters set found on development set:\")\n",
    "    print()\n",
    "    print(clf_selected_complete.best_params_)\n",
    "    print()\n",
    "    print(\"Grid scores on development set:\")\n",
    "    print()\n",
    "    means = clf_selected_complete.cv_results_['mean_test_score']\n",
    "    stds = clf_selected_complete.cv_results_['std_test_score']\n",
    "    for mean, std, params in zip(means, stds, clf_selected_complete.cv_results_['params']):\n",
    "        print(\"%0.3f (+/-%0.03f) for %r\" % (mean, std * 2, params))\n",
    "    print()"
   ]
  },
  {
   "cell_type": "markdown",
   "metadata": {},
   "source": [
    "New confusion matrix"
   ]
  },
  {
   "cell_type": "code",
   "execution_count": 152,
   "metadata": {},
   "outputs": [],
   "source": [
    "train_X_fs_complete, test_X_fs_complete, train_y_fs_complete, test_y_fs_complete = train_test_split(train_X_selected_complete, train_y_selected_complete, test_size=0.2, stratify=train_y_selected_complete, random_state=42)"
   ]
  },
  {
   "cell_type": "code",
   "execution_count": 153,
   "metadata": {},
   "outputs": [
    {
     "name": "stdout",
     "output_type": "stream",
     "text": [
      "[LibSVM]"
     ]
    },
    {
     "data": {
      "text/plain": [
       "SVC(C=100.0, cache_size=200, class_weight=None, coef0=0.0,\n",
       "  decision_function_shape='ovr', degree=3, gamma='auto_deprecated',\n",
       "  kernel='linear', max_iter=-1, probability=False, random_state=42,\n",
       "  shrinking=True, tol=0.001, verbose=2)"
      ]
     },
     "execution_count": 153,
     "metadata": {},
     "output_type": "execute_result"
    }
   ],
   "source": [
    "best_clf_fs_complete = svm.SVC(kernel='linear', C=clf_selected_complete.best_params_['C'], decision_function_shape='ovr', verbose=2, random_state=42)\n",
    "best_clf_fs_complete.fit(train_X_fs_complete, train_y_fs_complete)"
   ]
  },
  {
   "cell_type": "code",
   "execution_count": 154,
   "metadata": {},
   "outputs": [],
   "source": [
    "# predictions\n",
    "pred_y_fs_complete = best_clf_fs_complete.predict(test_X_fs_complete)"
   ]
  },
  {
   "cell_type": "code",
   "execution_count": 155,
   "metadata": {},
   "outputs": [
    {
     "name": "stderr",
     "output_type": "stream",
     "text": [
      "/usr/local/lib/python3.6/dist-packages/sklearn/metrics/classification.py:1143: UndefinedMetricWarning: F-score is ill-defined and being set to 0.0 in labels with no predicted samples.\n",
      "  'precision', 'predicted', average, warn_for)\n"
     ]
    },
    {
     "name": "stdout",
     "output_type": "stream",
     "text": [
      "F1 macro score on validation data: 0.3407524168648617\n"
     ]
    },
    {
     "data": {
      "image/png": "[encoded data removed]",
      "text/plain": [
       "<Figure size 432x288 with 2 Axes>"
      ]
     },
     "metadata": {
      "needs_background": "light"
     },
     "output_type": "display_data"
    }
   ],
   "source": [
    "# 0=irrilevante, 1=positivo, 2=neutro, 3=negativo\n",
    "print('F1 macro score on validation data: ' + str(f1_score(test_y_fs_complete, pred_y_fs_complete, average='macro')))\n",
    "cm = confusion_matrix(test_y_fs_complete, pred_y_fs_complete, labels=[0, 1, 2, 3])\n",
    "ax = sns.heatmap(cm, annot=True, xticklabels=['irrelevant','positive','neutral', 'negative'], yticklabels=['irrelevant','positive','neutral', 'negative'], fmt=\"d\")\n",
    "ax.xaxis.set_ticks_position('top')"
   ]
  },
  {
   "cell_type": "markdown",
   "metadata": {},
   "source": [
    "Most important features"
   ]
  },
  {
   "cell_type": "code",
   "execution_count": 156,
   "metadata": {
    "scrolled": true
   },
   "outputs": [
    {
     "name": "stdout",
     "output_type": "stream",
     "text": [
      "### 0\n"
     ]
    },
    {
     "data": {
      "image/png": "[encoded data removed]",
      "text/plain": [
       "<Figure size 1080x360 with 1 Axes>"
      ]
     },
     "metadata": {
      "needs_background": "light"
     },
     "output_type": "display_data"
    }
   ],
   "source": [
    "best_n = 70\n",
    "feature_names_complete = vec_complete.get_feature_names()\n",
    "for i in range(weights.shape[0]):\n",
    "    print('### ' + str(i))\n",
    "    fn = []\n",
    "    fv = []\n",
    "    f = [i for i in sorted(zip(map(lambda x: round(x, 4), clf_selected_complete.best_estimator_.coef_[i].data), clf_selected.best_estimator_.coef_[i].indices), reverse=True, key=lambda k: abs(k[0]))][:best_n]\n",
    "    for j in range(len(f)):\n",
    "        fn.append(feature_names_complete[f[j][1]])\n",
    "        fv.append(f[j][0])\n",
    "        #print(str(feature_names[f[j][1]]) + ': ' + str(f[j][0]))\n",
    "    fig, ax = plt.subplots(figsize=(15,5))\n",
    "    plt.bar([i for i in range(best_n) if fv[i]>0], [x for x in fv if x>0])\n",
    "    plt.bar([i for i in range(best_n) if fv[i]<0], [x for x in fv if x<0], color='r')\n",
    "    plt.xticks(range(best_n), fn, rotation='vertical')\n",
    "    plt.show()"
   ]
  },
  {
   "cell_type": "code",
   "execution_count": null,
   "metadata": {},
   "outputs": [],
   "source": []
  }
 ],
 "metadata": {
  "kernelspec": {
   "display_name": "Python 3",
   "language": "python",
   "name": "python3"
  },
  "language_info": {
   "codemirror_mode": {
    "name": "ipython",
    "version": 3
   },
   "file_extension": ".py",
   "mimetype": "text/x-python",
   "name": "python",
   "nbconvert_exporter": "python",
   "pygments_lexer": "ipython3",
   "version": "3.6.8"
  }
 },
 "nbformat": 4,
 "nbformat_minor": 2
}
