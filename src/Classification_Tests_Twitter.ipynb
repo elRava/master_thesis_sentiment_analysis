{
 "cells": [
  {
   "cell_type": "markdown",
   "metadata": {},
   "source": [
    "# Classification Tests on Twitter dataset"
   ]
  },
  {
   "cell_type": "markdown",
   "metadata": {},
   "source": [
    "spiegazione test"
   ]
  },
  {
   "cell_type": "markdown",
   "metadata": {},
   "source": [
    "### Imports"
   ]
  },
  {
   "cell_type": "code",
   "execution_count": 1,
   "metadata": {},
   "outputs": [],
   "source": [
    "import re\n",
    "import xml.etree.ElementTree as ET\n",
    "import nltk\n",
    "from nltk.corpus import stopwords\n",
    "from nltk.stem.porter import PorterStemmer\n",
    "import it_core_news_sm\n",
    "from sklearn.feature_extraction.text import CountVectorizer, TfidfVectorizer\n",
    "from sklearn import svm\n",
    "from sklearn.linear_model import LogisticRegression\n",
    "from sklearn.naive_bayes import GaussianNB\n",
    "from sklearn.ensemble import RandomForestClassifier\n",
    "import pandas as pd\n",
    "import numpy as np\n",
    "import collections\n",
    "from sklearn.model_selection import cross_val_score\n",
    "from sklearn.model_selection import train_test_split\n",
    "from sklearn.metrics import confusion_matrix\n",
    "# Skopt functions\n",
    "from sklearn.metrics import make_scorer, f1_score, recall_score\n",
    "from skopt import BayesSearchCV\n",
    "from sklearn.model_selection import RandomizedSearchCV, GridSearchCV\n",
    "from sklearn.model_selection import StratifiedKFold\n",
    "from skopt import gp_minimize # Bayesian optimization using Gaussian Processes\n",
    "from skopt.space import Real, Categorical, Integer\n",
    "from sklearn.metrics import precision_score, recall_score, confusion_matrix, classification_report, accuracy_score, f1_score\n",
    "import matplotlib.pyplot as plt\n",
    "from matplotlib.widgets import Cursor\n",
    "from matplotlib.ticker import FuncFormatter\n",
    "import seaborn as sns\n",
    "import math\n",
    "import scipy.stats\n",
    "import sys\n",
    "from info_gain import info_gain\n",
    "from copy import copy, deepcopy\n",
    "import re\n",
    "from nltk.stem.porter import PorterStemmer\n",
    "from nltk.stem import WordNetLemmatizer\n",
    "from nltk.corpus import sentiwordnet as swn\n",
    "import pickle"
   ]
  },
  {
   "cell_type": "code",
   "execution_count": 2,
   "metadata": {},
   "outputs": [],
   "source": [
    "# nltk.download('averaged_perceptron_tagger')"
   ]
  },
  {
   "cell_type": "markdown",
   "metadata": {},
   "source": [
    "## Functions"
   ]
  },
  {
   "cell_type": "code",
   "execution_count": 3,
   "metadata": {},
   "outputs": [],
   "source": [
    "def tokenize(text):\n",
    "        tokens = nltk.word_tokenize(text, 'english')\n",
    "        english_stopwords = stopwords.words('english')\n",
    "        return [token for token in tokens if not token in english_stopwords]\n",
    "    \n",
    "def handle_emojis(tweet):\n",
    "    # Smile -- :), : ), :-), (:, ( :, (-:, :')\n",
    "    tweet = re.sub(r'(:\\s?\\)|:-\\)|\\(\\s?:|\\(-:|:\\'\\))', ' emo_pos ', tweet)\n",
    "    # Laugh -- :D, : D, :-D, xD, x-D, XD, X-D\n",
    "    tweet = re.sub(r'(:\\s?D|:-D|x-?D|X-?D)', ' emo_pos ', tweet)\n",
    "    # Love -- <3, :*\n",
    "    tweet = re.sub(r'(<3|:\\*)', ' emo_pos ', tweet)\n",
    "    # Wink -- ;-), ;), ;-D, ;D, (;,  (-;\n",
    "    tweet = re.sub(r'(;-?\\)|;-?D|\\(-?;)', ' emo_pos ', tweet)\n",
    "    # Sad -- :-(, : (, :(, ):, )-:\n",
    "    tweet = re.sub(r'(:\\s?\\(|:-\\(|\\)\\s?:|\\)-:)', ' emo_neg ', tweet)\n",
    "    # Cry -- :,(, :'(, :\"(\n",
    "    tweet = re.sub(r'(:,\\(|:\\'\\(|:\"\\()', ' emo_neg ', tweet)\n",
    "    return tweet\n",
    "\n",
    "def preprocess_word(word):\n",
    "    # remove punctation\n",
    "    word = word.strip('\\'\"?!,.():;*')\n",
    "    # more than 3 letter repetition removed\n",
    "    word = re.sub(r'(.)\\1\\1+', r'\\1\\1\\1', word)\n",
    "    # remove - & '\n",
    "    word = word.strip('-&\\'')\n",
    "    return word\n",
    "\n",
    "def is_valid_word(word):\n",
    "    # Check if word begins with an alphabet\n",
    "    return (re.search(r'^[a-zA-Z][a-z0-9A-Z\\._]*$', word) is not None)\n"
   ]
  },
  {
   "cell_type": "code",
   "execution_count": 4,
   "metadata": {},
   "outputs": [],
   "source": [
    "class Preprocessor:\n",
    "\n",
    "    # preprocess text\n",
    "    # allowed methods: word, swnt, pos\n",
    "    # ner (named entity recognition), replacing for instance 100 km/h with SPEED\n",
    "    def preprocessText(self, tweet, method='word', use_stemmer=False, ner=False):\n",
    "        if method not in ['word', 'pos', 'swnt']:\n",
    "            raise ValueError('Method not recognized. Select from word, swnt, pos')\n",
    "            \n",
    "        # lowercase\n",
    "        tweet = tweet.lower()\n",
    "        # replace 2+ dots with space\n",
    "        tweet = re.sub(r'\\.{2,}', ' ', tweet)\n",
    "        # remove space, \" and ' \n",
    "        tweet.strip('\" \\'')\n",
    "            \n",
    "        # NOW DEPENDS ON NER\n",
    "        if ner:\n",
    "            # replace urls with 'URL'\n",
    "            tweet = re.sub(r'((www.[\\S]+)|(https?://.[\\S]+))', 'url', tweet)\n",
    "            # replace user mentions @user with 'USER_MENTION'\n",
    "            tweet = re.sub(r'@[\\S]+', 'user_mention', tweet)\n",
    "            # replace #hashtag with hastag\n",
    "            tweet = re.sub(r'#(\\S+)', r' \\1', tweet)\n",
    "            # remove retweet RT\n",
    "            tweet = re.sub(r'\\brt\\b', '', tweet)\n",
    "            # handle emojis. Use only EMO_POS and EMO_NEG\n",
    "            tweet = handle_emojis(tweet)\n",
    "            # replace multiple spaces with only one space\n",
    "            tweet = re.sub(r'\\s+', ' ', tweet)\n",
    "        \n",
    "        # NOW DEPENDS ON METHOD\n",
    "        if method == 'word':\n",
    "            # just do nothing except eventually stemming\n",
    "            words = tokenize(tweet)\n",
    "            processed_words = []\n",
    "            porter_stemmer = PorterStemmer()\n",
    "            for word in words:\n",
    "                word = preprocess_word(word)\n",
    "                if use_stemmer:\n",
    "                    # use stemmer\n",
    "                    word = str(porter_stemmer.stem(word))\n",
    "                processed_words.append(word)\n",
    "            return ' '.join(processed_words)\n",
    "                    \n",
    "        elif method == 'swnt':\n",
    "            # substitute words with their sentiment grade\n",
    "            words = tokenize(tweet)\n",
    "            processed_words = []\n",
    "            porter_stemmer = PorterStemmer()\n",
    "            for word in words:\n",
    "                word = preprocess_word(word)\n",
    "                \n",
    "                list_swn = list(swn.senti_synsets(word))\n",
    "                if len(list_swn) > 0:\n",
    "                    s_p = list_swn[0].pos_score()\n",
    "                    s_ne = list_swn[0].obj_score()\n",
    "                    s_n = list_swn[0].neg_score()\n",
    "                    if s_ne > s_p and s_ne > s_n:\n",
    "                        word = str(porter_stemmer.stem(word))\n",
    "                        processed_words.append(word)\n",
    "                    elif s_p > s_n:\n",
    "                        processed_words.append('pos_' + str(int(s_p)))\n",
    "                    elif s_n > s_p:\n",
    "                        processed_words.append('neg_' + str(int(s_n)))\n",
    "                else:\n",
    "                    if use_stemmer:\n",
    "                        # use stemmer\n",
    "                        word = str(porter_stemmer.stem(word))\n",
    "                        processed_words.append(word)\n",
    "            return ' '.join(processed_words)\n",
    "            \n",
    "        elif method == 'pos':\n",
    "            porter_stemmer = PorterStemmer()\n",
    "            words = tokenize(tweet)\n",
    "            pos = nltk.pos_tag(words)\n",
    "            pos_list = []\n",
    "            pos_word_list = []\n",
    "            pos_word_list_fin = []\n",
    "            for p in pos:\n",
    "                pos_list.append(p[1])\n",
    "                pos_word_list.append(p[1] + '_' + p[0])\n",
    "            if use_stemmer:\n",
    "                for t in pos_word_list:\n",
    "                    pos_word_list_fin.append(str(porter_stemmer.stem(t)))\n",
    "            else:\n",
    "                pos_word_list_fin = pos_word_list\n",
    "            return ' '.join(pos_list + pos_word_list_fin)"
   ]
  },
  {
   "cell_type": "code",
   "execution_count": 5,
   "metadata": {},
   "outputs": [
    {
     "data": {
      "text/plain": [
       "'NN NN VBD . nn_user_ment nn_user_ment vbd_said ._.'"
      ]
     },
     "execution_count": 5,
     "metadata": {},
     "output_type": "execute_result"
    }
   ],
   "source": [
    "pp = Preprocessor()\n",
    "pp.preprocessText(tweet='@VirginAmerica What @dhepburn said.', method='pos', use_stemmer=True, ner=True)"
   ]
  },
  {
   "cell_type": "code",
   "execution_count": 6,
   "metadata": {},
   "outputs": [
    {
     "data": {
      "text/html": [
       "<div>\n",
       "<style scoped>\n",
       "    .dataframe tbody tr th:only-of-type {\n",
       "        vertical-align: middle;\n",
       "    }\n",
       "\n",
       "    .dataframe tbody tr th {\n",
       "        vertical-align: top;\n",
       "    }\n",
       "\n",
       "    .dataframe thead th {\n",
       "        text-align: right;\n",
       "    }\n",
       "</style>\n",
       "<table border=\"1\" class=\"dataframe\">\n",
       "  <thead>\n",
       "    <tr style=\"text-align: right;\">\n",
       "      <th></th>\n",
       "      <th>tweet_id</th>\n",
       "      <th>airline_sentiment</th>\n",
       "      <th>airline_sentiment_confidence</th>\n",
       "      <th>negativereason</th>\n",
       "      <th>negativereason_confidence</th>\n",
       "      <th>airline</th>\n",
       "      <th>airline_sentiment_gold</th>\n",
       "      <th>name</th>\n",
       "      <th>negativereason_gold</th>\n",
       "      <th>retweet_count</th>\n",
       "      <th>text</th>\n",
       "      <th>tweet_coord</th>\n",
       "      <th>tweet_created</th>\n",
       "      <th>tweet_location</th>\n",
       "      <th>user_timezone</th>\n",
       "    </tr>\n",
       "  </thead>\n",
       "  <tbody>\n",
       "    <tr>\n",
       "      <th>0</th>\n",
       "      <td>570306133677760513</td>\n",
       "      <td>neutral</td>\n",
       "      <td>1.0000</td>\n",
       "      <td>NaN</td>\n",
       "      <td>NaN</td>\n",
       "      <td>Virgin America</td>\n",
       "      <td>NaN</td>\n",
       "      <td>cairdin</td>\n",
       "      <td>NaN</td>\n",
       "      <td>0</td>\n",
       "      <td>@VirginAmerica What @dhepburn said.</td>\n",
       "      <td>NaN</td>\n",
       "      <td>2015-02-24 11:35:52 -0800</td>\n",
       "      <td>NaN</td>\n",
       "      <td>Eastern Time (US &amp; Canada)</td>\n",
       "    </tr>\n",
       "    <tr>\n",
       "      <th>1</th>\n",
       "      <td>570301130888122368</td>\n",
       "      <td>positive</td>\n",
       "      <td>0.3486</td>\n",
       "      <td>NaN</td>\n",
       "      <td>0.0000</td>\n",
       "      <td>Virgin America</td>\n",
       "      <td>NaN</td>\n",
       "      <td>jnardino</td>\n",
       "      <td>NaN</td>\n",
       "      <td>0</td>\n",
       "      <td>@VirginAmerica plus you've added commercials t...</td>\n",
       "      <td>NaN</td>\n",
       "      <td>2015-02-24 11:15:59 -0800</td>\n",
       "      <td>NaN</td>\n",
       "      <td>Pacific Time (US &amp; Canada)</td>\n",
       "    </tr>\n",
       "    <tr>\n",
       "      <th>2</th>\n",
       "      <td>570301083672813571</td>\n",
       "      <td>neutral</td>\n",
       "      <td>0.6837</td>\n",
       "      <td>NaN</td>\n",
       "      <td>NaN</td>\n",
       "      <td>Virgin America</td>\n",
       "      <td>NaN</td>\n",
       "      <td>yvonnalynn</td>\n",
       "      <td>NaN</td>\n",
       "      <td>0</td>\n",
       "      <td>@VirginAmerica I didn't today... Must mean I n...</td>\n",
       "      <td>NaN</td>\n",
       "      <td>2015-02-24 11:15:48 -0800</td>\n",
       "      <td>Lets Play</td>\n",
       "      <td>Central Time (US &amp; Canada)</td>\n",
       "    </tr>\n",
       "    <tr>\n",
       "      <th>3</th>\n",
       "      <td>570301031407624196</td>\n",
       "      <td>negative</td>\n",
       "      <td>1.0000</td>\n",
       "      <td>Bad Flight</td>\n",
       "      <td>0.7033</td>\n",
       "      <td>Virgin America</td>\n",
       "      <td>NaN</td>\n",
       "      <td>jnardino</td>\n",
       "      <td>NaN</td>\n",
       "      <td>0</td>\n",
       "      <td>@VirginAmerica it's really aggressive to blast...</td>\n",
       "      <td>NaN</td>\n",
       "      <td>2015-02-24 11:15:36 -0800</td>\n",
       "      <td>NaN</td>\n",
       "      <td>Pacific Time (US &amp; Canada)</td>\n",
       "    </tr>\n",
       "    <tr>\n",
       "      <th>4</th>\n",
       "      <td>570300817074462722</td>\n",
       "      <td>negative</td>\n",
       "      <td>1.0000</td>\n",
       "      <td>Can't Tell</td>\n",
       "      <td>1.0000</td>\n",
       "      <td>Virgin America</td>\n",
       "      <td>NaN</td>\n",
       "      <td>jnardino</td>\n",
       "      <td>NaN</td>\n",
       "      <td>0</td>\n",
       "      <td>@VirginAmerica and it's a really big bad thing...</td>\n",
       "      <td>NaN</td>\n",
       "      <td>2015-02-24 11:14:45 -0800</td>\n",
       "      <td>NaN</td>\n",
       "      <td>Pacific Time (US &amp; Canada)</td>\n",
       "    </tr>\n",
       "    <tr>\n",
       "      <th>5</th>\n",
       "      <td>570300767074181121</td>\n",
       "      <td>negative</td>\n",
       "      <td>1.0000</td>\n",
       "      <td>Can't Tell</td>\n",
       "      <td>0.6842</td>\n",
       "      <td>Virgin America</td>\n",
       "      <td>NaN</td>\n",
       "      <td>jnardino</td>\n",
       "      <td>NaN</td>\n",
       "      <td>0</td>\n",
       "      <td>@VirginAmerica seriously would pay $30 a fligh...</td>\n",
       "      <td>NaN</td>\n",
       "      <td>2015-02-24 11:14:33 -0800</td>\n",
       "      <td>NaN</td>\n",
       "      <td>Pacific Time (US &amp; Canada)</td>\n",
       "    </tr>\n",
       "    <tr>\n",
       "      <th>6</th>\n",
       "      <td>570300616901320704</td>\n",
       "      <td>positive</td>\n",
       "      <td>0.6745</td>\n",
       "      <td>NaN</td>\n",
       "      <td>0.0000</td>\n",
       "      <td>Virgin America</td>\n",
       "      <td>NaN</td>\n",
       "      <td>cjmcginnis</td>\n",
       "      <td>NaN</td>\n",
       "      <td>0</td>\n",
       "      <td>@VirginAmerica yes, nearly every time I fly VX...</td>\n",
       "      <td>NaN</td>\n",
       "      <td>2015-02-24 11:13:57 -0800</td>\n",
       "      <td>San Francisco CA</td>\n",
       "      <td>Pacific Time (US &amp; Canada)</td>\n",
       "    </tr>\n",
       "    <tr>\n",
       "      <th>7</th>\n",
       "      <td>570300248553349120</td>\n",
       "      <td>neutral</td>\n",
       "      <td>0.6340</td>\n",
       "      <td>NaN</td>\n",
       "      <td>NaN</td>\n",
       "      <td>Virgin America</td>\n",
       "      <td>NaN</td>\n",
       "      <td>pilot</td>\n",
       "      <td>NaN</td>\n",
       "      <td>0</td>\n",
       "      <td>@VirginAmerica Really missed a prime opportuni...</td>\n",
       "      <td>NaN</td>\n",
       "      <td>2015-02-24 11:12:29 -0800</td>\n",
       "      <td>Los Angeles</td>\n",
       "      <td>Pacific Time (US &amp; Canada)</td>\n",
       "    </tr>\n",
       "    <tr>\n",
       "      <th>8</th>\n",
       "      <td>570299953286942721</td>\n",
       "      <td>positive</td>\n",
       "      <td>0.6559</td>\n",
       "      <td>NaN</td>\n",
       "      <td>NaN</td>\n",
       "      <td>Virgin America</td>\n",
       "      <td>NaN</td>\n",
       "      <td>dhepburn</td>\n",
       "      <td>NaN</td>\n",
       "      <td>0</td>\n",
       "      <td>@virginamerica Well, I didn't…but NOW I DO! :-D</td>\n",
       "      <td>NaN</td>\n",
       "      <td>2015-02-24 11:11:19 -0800</td>\n",
       "      <td>San Diego</td>\n",
       "      <td>Pacific Time (US &amp; Canada)</td>\n",
       "    </tr>\n",
       "    <tr>\n",
       "      <th>9</th>\n",
       "      <td>570295459631263746</td>\n",
       "      <td>positive</td>\n",
       "      <td>1.0000</td>\n",
       "      <td>NaN</td>\n",
       "      <td>NaN</td>\n",
       "      <td>Virgin America</td>\n",
       "      <td>NaN</td>\n",
       "      <td>YupitsTate</td>\n",
       "      <td>NaN</td>\n",
       "      <td>0</td>\n",
       "      <td>@VirginAmerica it was amazing, and arrived an ...</td>\n",
       "      <td>NaN</td>\n",
       "      <td>2015-02-24 10:53:27 -0800</td>\n",
       "      <td>Los Angeles</td>\n",
       "      <td>Eastern Time (US &amp; Canada)</td>\n",
       "    </tr>\n",
       "    <tr>\n",
       "      <th>10</th>\n",
       "      <td>570294189143031808</td>\n",
       "      <td>neutral</td>\n",
       "      <td>0.6769</td>\n",
       "      <td>NaN</td>\n",
       "      <td>0.0000</td>\n",
       "      <td>Virgin America</td>\n",
       "      <td>NaN</td>\n",
       "      <td>idk_but_youtube</td>\n",
       "      <td>NaN</td>\n",
       "      <td>0</td>\n",
       "      <td>@VirginAmerica did you know that suicide is th...</td>\n",
       "      <td>NaN</td>\n",
       "      <td>2015-02-24 10:48:24 -0800</td>\n",
       "      <td>1/1 loner squad</td>\n",
       "      <td>Eastern Time (US &amp; Canada)</td>\n",
       "    </tr>\n",
       "    <tr>\n",
       "      <th>11</th>\n",
       "      <td>570289724453216256</td>\n",
       "      <td>positive</td>\n",
       "      <td>1.0000</td>\n",
       "      <td>NaN</td>\n",
       "      <td>NaN</td>\n",
       "      <td>Virgin America</td>\n",
       "      <td>NaN</td>\n",
       "      <td>HyperCamiLax</td>\n",
       "      <td>NaN</td>\n",
       "      <td>0</td>\n",
       "      <td>@VirginAmerica I &amp;lt;3 pretty graphics. so muc...</td>\n",
       "      <td>NaN</td>\n",
       "      <td>2015-02-24 10:30:40 -0800</td>\n",
       "      <td>NYC</td>\n",
       "      <td>America/New_York</td>\n",
       "    </tr>\n",
       "    <tr>\n",
       "      <th>12</th>\n",
       "      <td>570289584061480960</td>\n",
       "      <td>positive</td>\n",
       "      <td>1.0000</td>\n",
       "      <td>NaN</td>\n",
       "      <td>NaN</td>\n",
       "      <td>Virgin America</td>\n",
       "      <td>NaN</td>\n",
       "      <td>HyperCamiLax</td>\n",
       "      <td>NaN</td>\n",
       "      <td>0</td>\n",
       "      <td>@VirginAmerica This is such a great deal! Alre...</td>\n",
       "      <td>NaN</td>\n",
       "      <td>2015-02-24 10:30:06 -0800</td>\n",
       "      <td>NYC</td>\n",
       "      <td>America/New_York</td>\n",
       "    </tr>\n",
       "    <tr>\n",
       "      <th>13</th>\n",
       "      <td>570287408438120448</td>\n",
       "      <td>positive</td>\n",
       "      <td>0.6451</td>\n",
       "      <td>NaN</td>\n",
       "      <td>NaN</td>\n",
       "      <td>Virgin America</td>\n",
       "      <td>NaN</td>\n",
       "      <td>mollanderson</td>\n",
       "      <td>NaN</td>\n",
       "      <td>0</td>\n",
       "      <td>@VirginAmerica @virginmedia I'm flying your #f...</td>\n",
       "      <td>NaN</td>\n",
       "      <td>2015-02-24 10:21:28 -0800</td>\n",
       "      <td>NaN</td>\n",
       "      <td>Eastern Time (US &amp; Canada)</td>\n",
       "    </tr>\n",
       "    <tr>\n",
       "      <th>14</th>\n",
       "      <td>570285904809598977</td>\n",
       "      <td>positive</td>\n",
       "      <td>1.0000</td>\n",
       "      <td>NaN</td>\n",
       "      <td>NaN</td>\n",
       "      <td>Virgin America</td>\n",
       "      <td>NaN</td>\n",
       "      <td>sjespers</td>\n",
       "      <td>NaN</td>\n",
       "      <td>0</td>\n",
       "      <td>@VirginAmerica Thanks!</td>\n",
       "      <td>NaN</td>\n",
       "      <td>2015-02-24 10:15:29 -0800</td>\n",
       "      <td>San Francisco, CA</td>\n",
       "      <td>Pacific Time (US &amp; Canada)</td>\n",
       "    </tr>\n",
       "    <tr>\n",
       "      <th>15</th>\n",
       "      <td>570282469121007616</td>\n",
       "      <td>negative</td>\n",
       "      <td>0.6842</td>\n",
       "      <td>Late Flight</td>\n",
       "      <td>0.3684</td>\n",
       "      <td>Virgin America</td>\n",
       "      <td>NaN</td>\n",
       "      <td>smartwatermelon</td>\n",
       "      <td>NaN</td>\n",
       "      <td>0</td>\n",
       "      <td>@VirginAmerica SFO-PDX schedule is still MIA.</td>\n",
       "      <td>NaN</td>\n",
       "      <td>2015-02-24 10:01:50 -0800</td>\n",
       "      <td>palo alto, ca</td>\n",
       "      <td>Pacific Time (US &amp; Canada)</td>\n",
       "    </tr>\n",
       "    <tr>\n",
       "      <th>16</th>\n",
       "      <td>570277724385734656</td>\n",
       "      <td>positive</td>\n",
       "      <td>1.0000</td>\n",
       "      <td>NaN</td>\n",
       "      <td>NaN</td>\n",
       "      <td>Virgin America</td>\n",
       "      <td>NaN</td>\n",
       "      <td>ItzBrianHunty</td>\n",
       "      <td>NaN</td>\n",
       "      <td>0</td>\n",
       "      <td>@VirginAmerica So excited for my first cross c...</td>\n",
       "      <td>NaN</td>\n",
       "      <td>2015-02-24 09:42:59 -0800</td>\n",
       "      <td>west covina</td>\n",
       "      <td>Pacific Time (US &amp; Canada)</td>\n",
       "    </tr>\n",
       "    <tr>\n",
       "      <th>17</th>\n",
       "      <td>570276917301137409</td>\n",
       "      <td>negative</td>\n",
       "      <td>1.0000</td>\n",
       "      <td>Bad Flight</td>\n",
       "      <td>1.0000</td>\n",
       "      <td>Virgin America</td>\n",
       "      <td>NaN</td>\n",
       "      <td>heatherovieda</td>\n",
       "      <td>NaN</td>\n",
       "      <td>0</td>\n",
       "      <td>@VirginAmerica  I flew from NYC to SFO last we...</td>\n",
       "      <td>NaN</td>\n",
       "      <td>2015-02-24 09:39:46 -0800</td>\n",
       "      <td>this place called NYC</td>\n",
       "      <td>Eastern Time (US &amp; Canada)</td>\n",
       "    </tr>\n",
       "    <tr>\n",
       "      <th>18</th>\n",
       "      <td>570270684619923457</td>\n",
       "      <td>positive</td>\n",
       "      <td>1.0000</td>\n",
       "      <td>NaN</td>\n",
       "      <td>NaN</td>\n",
       "      <td>Virgin America</td>\n",
       "      <td>NaN</td>\n",
       "      <td>thebrandiray</td>\n",
       "      <td>NaN</td>\n",
       "      <td>0</td>\n",
       "      <td>I ❤️ flying @VirginAmerica. ☺️👍</td>\n",
       "      <td>NaN</td>\n",
       "      <td>2015-02-24 09:15:00 -0800</td>\n",
       "      <td>Somewhere celebrating life.</td>\n",
       "      <td>Atlantic Time (Canada)</td>\n",
       "    </tr>\n",
       "    <tr>\n",
       "      <th>19</th>\n",
       "      <td>570267956648792064</td>\n",
       "      <td>positive</td>\n",
       "      <td>1.0000</td>\n",
       "      <td>NaN</td>\n",
       "      <td>NaN</td>\n",
       "      <td>Virgin America</td>\n",
       "      <td>NaN</td>\n",
       "      <td>JNLpierce</td>\n",
       "      <td>NaN</td>\n",
       "      <td>0</td>\n",
       "      <td>@VirginAmerica you know what would be amazingl...</td>\n",
       "      <td>NaN</td>\n",
       "      <td>2015-02-24 09:04:10 -0800</td>\n",
       "      <td>Boston | Waltham</td>\n",
       "      <td>Quito</td>\n",
       "    </tr>\n",
       "    <tr>\n",
       "      <th>20</th>\n",
       "      <td>570265883513384960</td>\n",
       "      <td>negative</td>\n",
       "      <td>0.6705</td>\n",
       "      <td>Can't Tell</td>\n",
       "      <td>0.3614</td>\n",
       "      <td>Virgin America</td>\n",
       "      <td>NaN</td>\n",
       "      <td>MISSGJ</td>\n",
       "      <td>NaN</td>\n",
       "      <td>0</td>\n",
       "      <td>@VirginAmerica why are your first fares in May...</td>\n",
       "      <td>NaN</td>\n",
       "      <td>2015-02-24 08:55:56 -0800</td>\n",
       "      <td>NaN</td>\n",
       "      <td>NaN</td>\n",
       "    </tr>\n",
       "    <tr>\n",
       "      <th>21</th>\n",
       "      <td>570264145116819457</td>\n",
       "      <td>positive</td>\n",
       "      <td>1.0000</td>\n",
       "      <td>NaN</td>\n",
       "      <td>NaN</td>\n",
       "      <td>Virgin America</td>\n",
       "      <td>NaN</td>\n",
       "      <td>DT_Les</td>\n",
       "      <td>NaN</td>\n",
       "      <td>0</td>\n",
       "      <td>@VirginAmerica I love this graphic. http://t.c...</td>\n",
       "      <td>[40.74804263, -73.99295302]</td>\n",
       "      <td>2015-02-24 08:49:01 -0800</td>\n",
       "      <td>NaN</td>\n",
       "      <td>NaN</td>\n",
       "    </tr>\n",
       "    <tr>\n",
       "      <th>22</th>\n",
       "      <td>570259420287868928</td>\n",
       "      <td>positive</td>\n",
       "      <td>1.0000</td>\n",
       "      <td>NaN</td>\n",
       "      <td>NaN</td>\n",
       "      <td>Virgin America</td>\n",
       "      <td>NaN</td>\n",
       "      <td>ElvinaBeck</td>\n",
       "      <td>NaN</td>\n",
       "      <td>0</td>\n",
       "      <td>@VirginAmerica I love the hipster innovation. ...</td>\n",
       "      <td>NaN</td>\n",
       "      <td>2015-02-24 08:30:15 -0800</td>\n",
       "      <td>Los Angeles</td>\n",
       "      <td>Pacific Time (US &amp; Canada)</td>\n",
       "    </tr>\n",
       "    <tr>\n",
       "      <th>23</th>\n",
       "      <td>570258822297579520</td>\n",
       "      <td>neutral</td>\n",
       "      <td>1.0000</td>\n",
       "      <td>NaN</td>\n",
       "      <td>NaN</td>\n",
       "      <td>Virgin America</td>\n",
       "      <td>NaN</td>\n",
       "      <td>rjlynch21086</td>\n",
       "      <td>NaN</td>\n",
       "      <td>0</td>\n",
       "      <td>@VirginAmerica will you be making BOS&amp;gt;LAS n...</td>\n",
       "      <td>NaN</td>\n",
       "      <td>2015-02-24 08:27:52 -0800</td>\n",
       "      <td>Boston, MA</td>\n",
       "      <td>Eastern Time (US &amp; Canada)</td>\n",
       "    </tr>\n",
       "    <tr>\n",
       "      <th>24</th>\n",
       "      <td>570256553502068736</td>\n",
       "      <td>negative</td>\n",
       "      <td>1.0000</td>\n",
       "      <td>Customer Service Issue</td>\n",
       "      <td>0.3557</td>\n",
       "      <td>Virgin America</td>\n",
       "      <td>NaN</td>\n",
       "      <td>ayeevickiee</td>\n",
       "      <td>NaN</td>\n",
       "      <td>0</td>\n",
       "      <td>@VirginAmerica you guys messed up my seating.....</td>\n",
       "      <td>NaN</td>\n",
       "      <td>2015-02-24 08:18:51 -0800</td>\n",
       "      <td>714</td>\n",
       "      <td>Mountain Time (US &amp; Canada)</td>\n",
       "    </tr>\n",
       "    <tr>\n",
       "      <th>25</th>\n",
       "      <td>570249102404923392</td>\n",
       "      <td>negative</td>\n",
       "      <td>1.0000</td>\n",
       "      <td>Customer Service Issue</td>\n",
       "      <td>1.0000</td>\n",
       "      <td>Virgin America</td>\n",
       "      <td>NaN</td>\n",
       "      <td>Leora13</td>\n",
       "      <td>NaN</td>\n",
       "      <td>0</td>\n",
       "      <td>@VirginAmerica status match program.  I applie...</td>\n",
       "      <td>NaN</td>\n",
       "      <td>2015-02-24 07:49:15 -0800</td>\n",
       "      <td>NaN</td>\n",
       "      <td>NaN</td>\n",
       "    </tr>\n",
       "    <tr>\n",
       "      <th>26</th>\n",
       "      <td>570239632807370753</td>\n",
       "      <td>negative</td>\n",
       "      <td>1.0000</td>\n",
       "      <td>Can't Tell</td>\n",
       "      <td>0.6614</td>\n",
       "      <td>Virgin America</td>\n",
       "      <td>NaN</td>\n",
       "      <td>meredithjlynn</td>\n",
       "      <td>NaN</td>\n",
       "      <td>0</td>\n",
       "      <td>@VirginAmerica What happened 2 ur vegan food o...</td>\n",
       "      <td>NaN</td>\n",
       "      <td>2015-02-24 07:11:37 -0800</td>\n",
       "      <td>NaN</td>\n",
       "      <td>NaN</td>\n",
       "    </tr>\n",
       "    <tr>\n",
       "      <th>27</th>\n",
       "      <td>570217831557677057</td>\n",
       "      <td>neutral</td>\n",
       "      <td>0.6854</td>\n",
       "      <td>NaN</td>\n",
       "      <td>NaN</td>\n",
       "      <td>Virgin America</td>\n",
       "      <td>NaN</td>\n",
       "      <td>AdamSinger</td>\n",
       "      <td>NaN</td>\n",
       "      <td>0</td>\n",
       "      <td>@VirginAmerica do you miss me? Don't worry we'...</td>\n",
       "      <td>NaN</td>\n",
       "      <td>2015-02-24 05:44:59 -0800</td>\n",
       "      <td>San Francisco, CA</td>\n",
       "      <td>Central Time (US &amp; Canada)</td>\n",
       "    </tr>\n",
       "    <tr>\n",
       "      <th>28</th>\n",
       "      <td>570207886493782019</td>\n",
       "      <td>negative</td>\n",
       "      <td>1.0000</td>\n",
       "      <td>Bad Flight</td>\n",
       "      <td>1.0000</td>\n",
       "      <td>Virgin America</td>\n",
       "      <td>NaN</td>\n",
       "      <td>blackjackpro911</td>\n",
       "      <td>NaN</td>\n",
       "      <td>0</td>\n",
       "      <td>@VirginAmerica amazing to me that we can't get...</td>\n",
       "      <td>[42.361016, -71.02000488]</td>\n",
       "      <td>2015-02-24 05:05:28 -0800</td>\n",
       "      <td>San Mateo, CA &amp; Las Vegas, NV</td>\n",
       "      <td>NaN</td>\n",
       "    </tr>\n",
       "    <tr>\n",
       "      <th>29</th>\n",
       "      <td>570124596180955136</td>\n",
       "      <td>neutral</td>\n",
       "      <td>0.6150</td>\n",
       "      <td>NaN</td>\n",
       "      <td>0.0000</td>\n",
       "      <td>Virgin America</td>\n",
       "      <td>NaN</td>\n",
       "      <td>TenantsUpstairs</td>\n",
       "      <td>NaN</td>\n",
       "      <td>0</td>\n",
       "      <td>@VirginAmerica LAX to EWR - Middle seat on a r...</td>\n",
       "      <td>[33.94540417, -118.4062472]</td>\n",
       "      <td>2015-02-23 23:34:30 -0800</td>\n",
       "      <td>Brooklyn</td>\n",
       "      <td>Atlantic Time (Canada)</td>\n",
       "    </tr>\n",
       "    <tr>\n",
       "      <th>...</th>\n",
       "      <td>...</td>\n",
       "      <td>...</td>\n",
       "      <td>...</td>\n",
       "      <td>...</td>\n",
       "      <td>...</td>\n",
       "      <td>...</td>\n",
       "      <td>...</td>\n",
       "      <td>...</td>\n",
       "      <td>...</td>\n",
       "      <td>...</td>\n",
       "      <td>...</td>\n",
       "      <td>...</td>\n",
       "      <td>...</td>\n",
       "      <td>...</td>\n",
       "      <td>...</td>\n",
       "    </tr>\n",
       "    <tr>\n",
       "      <th>14610</th>\n",
       "      <td>569591765793165312</td>\n",
       "      <td>negative</td>\n",
       "      <td>1.0000</td>\n",
       "      <td>longlines</td>\n",
       "      <td>0.6788</td>\n",
       "      <td>American</td>\n",
       "      <td>NaN</td>\n",
       "      <td>Jess_JCW</td>\n",
       "      <td>NaN</td>\n",
       "      <td>0</td>\n",
       "      <td>@AmericanAir I understand the weather issue bu...</td>\n",
       "      <td>NaN</td>\n",
       "      <td>2015-02-22 12:17:14 -0800</td>\n",
       "      <td>London</td>\n",
       "      <td>London</td>\n",
       "    </tr>\n",
       "    <tr>\n",
       "      <th>14611</th>\n",
       "      <td>569591730506371072</td>\n",
       "      <td>neutral</td>\n",
       "      <td>1.0000</td>\n",
       "      <td>NaN</td>\n",
       "      <td>NaN</td>\n",
       "      <td>American</td>\n",
       "      <td>NaN</td>\n",
       "      <td>TrueChief77</td>\n",
       "      <td>NaN</td>\n",
       "      <td>0</td>\n",
       "      <td>@AmericanAir guarantee no retribution? If so, ...</td>\n",
       "      <td>NaN</td>\n",
       "      <td>2015-02-22 12:17:05 -0800</td>\n",
       "      <td>970 Colorado</td>\n",
       "      <td>NaN</td>\n",
       "    </tr>\n",
       "    <tr>\n",
       "      <th>14612</th>\n",
       "      <td>569591700416393216</td>\n",
       "      <td>negative</td>\n",
       "      <td>1.0000</td>\n",
       "      <td>Cancelled Flight</td>\n",
       "      <td>0.6333</td>\n",
       "      <td>American</td>\n",
       "      <td>NaN</td>\n",
       "      <td>tcunningham10</td>\n",
       "      <td>NaN</td>\n",
       "      <td>0</td>\n",
       "      <td>@AmericanAir a friend is having flight Cancell...</td>\n",
       "      <td>[40.46692522, -82.64567078]</td>\n",
       "      <td>2015-02-22 12:16:58 -0800</td>\n",
       "      <td>Central Ohio</td>\n",
       "      <td>Eastern Time (US &amp; Canada)</td>\n",
       "    </tr>\n",
       "    <tr>\n",
       "      <th>14613</th>\n",
       "      <td>569591653121597440</td>\n",
       "      <td>negative</td>\n",
       "      <td>1.0000</td>\n",
       "      <td>Customer Service Issue</td>\n",
       "      <td>0.7255</td>\n",
       "      <td>American</td>\n",
       "      <td>NaN</td>\n",
       "      <td>kiabeveridge</td>\n",
       "      <td>NaN</td>\n",
       "      <td>0</td>\n",
       "      <td>@AmericanAir I used the \"call back\" feature wi...</td>\n",
       "      <td>NaN</td>\n",
       "      <td>2015-02-22 12:16:47 -0800</td>\n",
       "      <td>Chicago</td>\n",
       "      <td>Mountain Time (US &amp; Canada)</td>\n",
       "    </tr>\n",
       "    <tr>\n",
       "      <th>14614</th>\n",
       "      <td>569591540944756737</td>\n",
       "      <td>negative</td>\n",
       "      <td>1.0000</td>\n",
       "      <td>Customer Service Issue</td>\n",
       "      <td>1.0000</td>\n",
       "      <td>American</td>\n",
       "      <td>NaN</td>\n",
       "      <td>GregPoos</td>\n",
       "      <td>NaN</td>\n",
       "      <td>0</td>\n",
       "      <td>@AmericanAir I need to be at work tomorrow at ...</td>\n",
       "      <td>NaN</td>\n",
       "      <td>2015-02-22 12:16:20 -0800</td>\n",
       "      <td>NaN</td>\n",
       "      <td>NaN</td>\n",
       "    </tr>\n",
       "    <tr>\n",
       "      <th>14615</th>\n",
       "      <td>569591533617307648</td>\n",
       "      <td>negative</td>\n",
       "      <td>1.0000</td>\n",
       "      <td>Cancelled Flight</td>\n",
       "      <td>1.0000</td>\n",
       "      <td>American</td>\n",
       "      <td>NaN</td>\n",
       "      <td>tim_sheehy</td>\n",
       "      <td>NaN</td>\n",
       "      <td>0</td>\n",
       "      <td>@AmericanAir  ugh Dump us in dfw w/no luggage ...</td>\n",
       "      <td>NaN</td>\n",
       "      <td>2015-02-22 12:16:18 -0800</td>\n",
       "      <td>Washington DC</td>\n",
       "      <td>Central Time (US &amp; Canada)</td>\n",
       "    </tr>\n",
       "    <tr>\n",
       "      <th>14616</th>\n",
       "      <td>569591393540288512</td>\n",
       "      <td>negative</td>\n",
       "      <td>1.0000</td>\n",
       "      <td>Cancelled Flight</td>\n",
       "      <td>1.0000</td>\n",
       "      <td>American</td>\n",
       "      <td>NaN</td>\n",
       "      <td>TheJoshAbides</td>\n",
       "      <td>NaN</td>\n",
       "      <td>0</td>\n",
       "      <td>@AmericanAir Cancelled Flights my flight, does...</td>\n",
       "      <td>NaN</td>\n",
       "      <td>2015-02-22 12:15:45 -0800</td>\n",
       "      <td>New York City</td>\n",
       "      <td>Eastern Time (US &amp; Canada)</td>\n",
       "    </tr>\n",
       "    <tr>\n",
       "      <th>14617</th>\n",
       "      <td>569591285150908416</td>\n",
       "      <td>positive</td>\n",
       "      <td>1.0000</td>\n",
       "      <td>NaN</td>\n",
       "      <td>NaN</td>\n",
       "      <td>American</td>\n",
       "      <td>NaN</td>\n",
       "      <td>iambmac</td>\n",
       "      <td>NaN</td>\n",
       "      <td>0</td>\n",
       "      <td>@AmericanAir DMing you now! Big thanks.</td>\n",
       "      <td>NaN</td>\n",
       "      <td>2015-02-22 12:15:19 -0800</td>\n",
       "      <td>Columbus, OH, USA</td>\n",
       "      <td>Eastern Time (US &amp; Canada)</td>\n",
       "    </tr>\n",
       "    <tr>\n",
       "      <th>14618</th>\n",
       "      <td>569591136534319105</td>\n",
       "      <td>negative</td>\n",
       "      <td>1.0000</td>\n",
       "      <td>Bad Flight</td>\n",
       "      <td>0.6774</td>\n",
       "      <td>American</td>\n",
       "      <td>NaN</td>\n",
       "      <td>A_for_AdNauseam</td>\n",
       "      <td>NaN</td>\n",
       "      <td>0</td>\n",
       "      <td>@AmericanAir 3078 is overweight so you pull 2 ...</td>\n",
       "      <td>NaN</td>\n",
       "      <td>2015-02-22 12:14:44 -0800</td>\n",
       "      <td>NaN</td>\n",
       "      <td>NaN</td>\n",
       "    </tr>\n",
       "    <tr>\n",
       "      <th>14619</th>\n",
       "      <td>569590988395708416</td>\n",
       "      <td>positive</td>\n",
       "      <td>1.0000</td>\n",
       "      <td>NaN</td>\n",
       "      <td>NaN</td>\n",
       "      <td>American</td>\n",
       "      <td>NaN</td>\n",
       "      <td>howiemandel</td>\n",
       "      <td>NaN</td>\n",
       "      <td>3</td>\n",
       "      <td>@AmericanAir I love your company and your staf...</td>\n",
       "      <td>NaN</td>\n",
       "      <td>2015-02-22 12:14:08 -0800</td>\n",
       "      <td>NaN</td>\n",
       "      <td>Pacific Time (US &amp; Canada)</td>\n",
       "    </tr>\n",
       "    <tr>\n",
       "      <th>14620</th>\n",
       "      <td>569590965880532993</td>\n",
       "      <td>negative</td>\n",
       "      <td>1.0000</td>\n",
       "      <td>Customer Service Issue</td>\n",
       "      <td>1.0000</td>\n",
       "      <td>American</td>\n",
       "      <td>NaN</td>\n",
       "      <td>KCBobolz</td>\n",
       "      <td>NaN</td>\n",
       "      <td>0</td>\n",
       "      <td>@AmericanAir I wait 2+ hrs for CS to call me b...</td>\n",
       "      <td>NaN</td>\n",
       "      <td>2015-02-22 12:14:03 -0800</td>\n",
       "      <td>Milwaukee County, Wisconsin</td>\n",
       "      <td>Central Time (US &amp; Canada)</td>\n",
       "    </tr>\n",
       "    <tr>\n",
       "      <th>14621</th>\n",
       "      <td>569590892085915649</td>\n",
       "      <td>negative</td>\n",
       "      <td>1.0000</td>\n",
       "      <td>Customer Service Issue</td>\n",
       "      <td>1.0000</td>\n",
       "      <td>American</td>\n",
       "      <td>NaN</td>\n",
       "      <td>andyellwood</td>\n",
       "      <td>NaN</td>\n",
       "      <td>0</td>\n",
       "      <td>@AmericanAir I've been on hold for 55 mins abo...</td>\n",
       "      <td>NaN</td>\n",
       "      <td>2015-02-22 12:13:45 -0800</td>\n",
       "      <td>New York, New York</td>\n",
       "      <td>Eastern Time (US &amp; Canada)</td>\n",
       "    </tr>\n",
       "    <tr>\n",
       "      <th>14622</th>\n",
       "      <td>569590191758962688</td>\n",
       "      <td>negative</td>\n",
       "      <td>1.0000</td>\n",
       "      <td>Late Flight</td>\n",
       "      <td>0.3358</td>\n",
       "      <td>American</td>\n",
       "      <td>NaN</td>\n",
       "      <td>Jill_Lynnette</td>\n",
       "      <td>NaN</td>\n",
       "      <td>0</td>\n",
       "      <td>I just need a place to sleep when I land witho...</td>\n",
       "      <td>NaN</td>\n",
       "      <td>2015-02-22 12:10:58 -0800</td>\n",
       "      <td>NaN</td>\n",
       "      <td>Eastern Time (US &amp; Canada)</td>\n",
       "    </tr>\n",
       "    <tr>\n",
       "      <th>14623</th>\n",
       "      <td>569590013278756865</td>\n",
       "      <td>positive</td>\n",
       "      <td>0.6274</td>\n",
       "      <td>NaN</td>\n",
       "      <td>0.0000</td>\n",
       "      <td>American</td>\n",
       "      <td>NaN</td>\n",
       "      <td>Flora_Lola_NYC</td>\n",
       "      <td>NaN</td>\n",
       "      <td>0</td>\n",
       "      <td>@AmericanAir Love the new planes for the JFK-L...</td>\n",
       "      <td>NaN</td>\n",
       "      <td>2015-02-22 12:10:16 -0800</td>\n",
       "      <td>NaN</td>\n",
       "      <td>Eastern Time (US &amp; Canada)</td>\n",
       "    </tr>\n",
       "    <tr>\n",
       "      <th>14624</th>\n",
       "      <td>569589959088173056</td>\n",
       "      <td>negative</td>\n",
       "      <td>1.0000</td>\n",
       "      <td>Can't Tell</td>\n",
       "      <td>1.0000</td>\n",
       "      <td>American</td>\n",
       "      <td>NaN</td>\n",
       "      <td>yourlama</td>\n",
       "      <td>NaN</td>\n",
       "      <td>0</td>\n",
       "      <td>@AmericanAir Call me Chairman, or call me Emer...</td>\n",
       "      <td>[32.9070889, -97.03785947]</td>\n",
       "      <td>2015-02-22 12:10:03 -0800</td>\n",
       "      <td>NaN</td>\n",
       "      <td>NaN</td>\n",
       "    </tr>\n",
       "    <tr>\n",
       "      <th>14625</th>\n",
       "      <td>569589643487928321</td>\n",
       "      <td>positive</td>\n",
       "      <td>1.0000</td>\n",
       "      <td>NaN</td>\n",
       "      <td>NaN</td>\n",
       "      <td>American</td>\n",
       "      <td>NaN</td>\n",
       "      <td>DrCaseyJRudkin</td>\n",
       "      <td>NaN</td>\n",
       "      <td>0</td>\n",
       "      <td>@AmericanAir Flight 236 was great. Fantastic c...</td>\n",
       "      <td>[40.64946781, -73.76624703]</td>\n",
       "      <td>2015-02-22 12:08:48 -0800</td>\n",
       "      <td>East Coast</td>\n",
       "      <td>NaN</td>\n",
       "    </tr>\n",
       "    <tr>\n",
       "      <th>14626</th>\n",
       "      <td>569589460226183168</td>\n",
       "      <td>negative</td>\n",
       "      <td>1.0000</td>\n",
       "      <td>Late Flight</td>\n",
       "      <td>1.0000</td>\n",
       "      <td>American</td>\n",
       "      <td>NaN</td>\n",
       "      <td>cataattack</td>\n",
       "      <td>NaN</td>\n",
       "      <td>0</td>\n",
       "      <td>@AmericanAir Flight 953 NYC-Buenos Aires has b...</td>\n",
       "      <td>NaN</td>\n",
       "      <td>2015-02-22 12:08:04 -0800</td>\n",
       "      <td>Buenos Aires, Argentina</td>\n",
       "      <td>Buenos Aires</td>\n",
       "    </tr>\n",
       "    <tr>\n",
       "      <th>14627</th>\n",
       "      <td>569588816438169600</td>\n",
       "      <td>negative</td>\n",
       "      <td>1.0000</td>\n",
       "      <td>Cancelled Flight</td>\n",
       "      <td>1.0000</td>\n",
       "      <td>American</td>\n",
       "      <td>NaN</td>\n",
       "      <td>KristinaMeyer7</td>\n",
       "      <td>NaN</td>\n",
       "      <td>0</td>\n",
       "      <td>@AmericanAir Flight Cancelled Flightled, can't...</td>\n",
       "      <td>NaN</td>\n",
       "      <td>2015-02-22 12:05:30 -0800</td>\n",
       "      <td>NaN</td>\n",
       "      <td>Eastern Time (US &amp; Canada)</td>\n",
       "    </tr>\n",
       "    <tr>\n",
       "      <th>14628</th>\n",
       "      <td>569588651925098496</td>\n",
       "      <td>positive</td>\n",
       "      <td>1.0000</td>\n",
       "      <td>NaN</td>\n",
       "      <td>NaN</td>\n",
       "      <td>American</td>\n",
       "      <td>NaN</td>\n",
       "      <td>jlhalldc</td>\n",
       "      <td>NaN</td>\n",
       "      <td>0</td>\n",
       "      <td>Thank you. “@AmericanAir: @jlhalldc Customer R...</td>\n",
       "      <td>NaN</td>\n",
       "      <td>2015-02-22 12:04:51 -0800</td>\n",
       "      <td>Washington, DC</td>\n",
       "      <td>Eastern Time (US &amp; Canada)</td>\n",
       "    </tr>\n",
       "    <tr>\n",
       "      <th>14629</th>\n",
       "      <td>569588591602458624</td>\n",
       "      <td>negative</td>\n",
       "      <td>1.0000</td>\n",
       "      <td>Customer Service Issue</td>\n",
       "      <td>1.0000</td>\n",
       "      <td>American</td>\n",
       "      <td>NaN</td>\n",
       "      <td>jontgreen89</td>\n",
       "      <td>NaN</td>\n",
       "      <td>0</td>\n",
       "      <td>@AmericanAir How do I change my flight if the ...</td>\n",
       "      <td>NaN</td>\n",
       "      <td>2015-02-22 12:04:37 -0800</td>\n",
       "      <td>Waco, TX</td>\n",
       "      <td>Central Time (US &amp; Canada)</td>\n",
       "    </tr>\n",
       "    <tr>\n",
       "      <th>14630</th>\n",
       "      <td>569588473050611712</td>\n",
       "      <td>positive</td>\n",
       "      <td>1.0000</td>\n",
       "      <td>NaN</td>\n",
       "      <td>NaN</td>\n",
       "      <td>American</td>\n",
       "      <td>NaN</td>\n",
       "      <td>Laurelinesblog</td>\n",
       "      <td>NaN</td>\n",
       "      <td>0</td>\n",
       "      <td>@AmericanAir Thanks! He is.</td>\n",
       "      <td>NaN</td>\n",
       "      <td>2015-02-22 12:04:09 -0800</td>\n",
       "      <td>Chapel Hill, NC</td>\n",
       "      <td>NaN</td>\n",
       "    </tr>\n",
       "    <tr>\n",
       "      <th>14631</th>\n",
       "      <td>569588464896876545</td>\n",
       "      <td>negative</td>\n",
       "      <td>1.0000</td>\n",
       "      <td>Bad Flight</td>\n",
       "      <td>1.0000</td>\n",
       "      <td>American</td>\n",
       "      <td>NaN</td>\n",
       "      <td>MDDavis7</td>\n",
       "      <td>NaN</td>\n",
       "      <td>0</td>\n",
       "      <td>@AmericanAir thx for nothing on getting us out...</td>\n",
       "      <td>NaN</td>\n",
       "      <td>2015-02-22 12:04:07 -0800</td>\n",
       "      <td>US</td>\n",
       "      <td>Eastern Time (US &amp; Canada)</td>\n",
       "    </tr>\n",
       "    <tr>\n",
       "      <th>14632</th>\n",
       "      <td>569587813856841728</td>\n",
       "      <td>neutral</td>\n",
       "      <td>0.6760</td>\n",
       "      <td>NaN</td>\n",
       "      <td>0.0000</td>\n",
       "      <td>American</td>\n",
       "      <td>NaN</td>\n",
       "      <td>Chad_SMFYM</td>\n",
       "      <td>NaN</td>\n",
       "      <td>0</td>\n",
       "      <td>“@AmericanAir: @TilleyMonsta George, that does...</td>\n",
       "      <td>NaN</td>\n",
       "      <td>2015-02-22 12:01:31 -0800</td>\n",
       "      <td>NaN</td>\n",
       "      <td>Central Time (US &amp; Canada)</td>\n",
       "    </tr>\n",
       "    <tr>\n",
       "      <th>14633</th>\n",
       "      <td>569587705937600512</td>\n",
       "      <td>negative</td>\n",
       "      <td>1.0000</td>\n",
       "      <td>Cancelled Flight</td>\n",
       "      <td>1.0000</td>\n",
       "      <td>American</td>\n",
       "      <td>NaN</td>\n",
       "      <td>RussellsWriting</td>\n",
       "      <td>NaN</td>\n",
       "      <td>0</td>\n",
       "      <td>@AmericanAir my flight was Cancelled Flightled...</td>\n",
       "      <td>NaN</td>\n",
       "      <td>2015-02-22 12:01:06 -0800</td>\n",
       "      <td>Los Angeles</td>\n",
       "      <td>Arizona</td>\n",
       "    </tr>\n",
       "    <tr>\n",
       "      <th>14634</th>\n",
       "      <td>569587691626622976</td>\n",
       "      <td>negative</td>\n",
       "      <td>0.6684</td>\n",
       "      <td>Late Flight</td>\n",
       "      <td>0.6684</td>\n",
       "      <td>American</td>\n",
       "      <td>NaN</td>\n",
       "      <td>GolfWithWoody</td>\n",
       "      <td>NaN</td>\n",
       "      <td>0</td>\n",
       "      <td>@AmericanAir right on cue with the delays👌</td>\n",
       "      <td>NaN</td>\n",
       "      <td>2015-02-22 12:01:02 -0800</td>\n",
       "      <td>NaN</td>\n",
       "      <td>Quito</td>\n",
       "    </tr>\n",
       "    <tr>\n",
       "      <th>14635</th>\n",
       "      <td>569587686496825344</td>\n",
       "      <td>positive</td>\n",
       "      <td>0.3487</td>\n",
       "      <td>NaN</td>\n",
       "      <td>0.0000</td>\n",
       "      <td>American</td>\n",
       "      <td>NaN</td>\n",
       "      <td>KristenReenders</td>\n",
       "      <td>NaN</td>\n",
       "      <td>0</td>\n",
       "      <td>@AmericanAir thank you we got on a different f...</td>\n",
       "      <td>NaN</td>\n",
       "      <td>2015-02-22 12:01:01 -0800</td>\n",
       "      <td>NaN</td>\n",
       "      <td>NaN</td>\n",
       "    </tr>\n",
       "    <tr>\n",
       "      <th>14636</th>\n",
       "      <td>569587371693355008</td>\n",
       "      <td>negative</td>\n",
       "      <td>1.0000</td>\n",
       "      <td>Customer Service Issue</td>\n",
       "      <td>1.0000</td>\n",
       "      <td>American</td>\n",
       "      <td>NaN</td>\n",
       "      <td>itsropes</td>\n",
       "      <td>NaN</td>\n",
       "      <td>0</td>\n",
       "      <td>@AmericanAir leaving over 20 minutes Late Flig...</td>\n",
       "      <td>NaN</td>\n",
       "      <td>2015-02-22 11:59:46 -0800</td>\n",
       "      <td>Texas</td>\n",
       "      <td>NaN</td>\n",
       "    </tr>\n",
       "    <tr>\n",
       "      <th>14637</th>\n",
       "      <td>569587242672398336</td>\n",
       "      <td>neutral</td>\n",
       "      <td>1.0000</td>\n",
       "      <td>NaN</td>\n",
       "      <td>NaN</td>\n",
       "      <td>American</td>\n",
       "      <td>NaN</td>\n",
       "      <td>sanyabun</td>\n",
       "      <td>NaN</td>\n",
       "      <td>0</td>\n",
       "      <td>@AmericanAir Please bring American Airlines to...</td>\n",
       "      <td>NaN</td>\n",
       "      <td>2015-02-22 11:59:15 -0800</td>\n",
       "      <td>Nigeria,lagos</td>\n",
       "      <td>NaN</td>\n",
       "    </tr>\n",
       "    <tr>\n",
       "      <th>14638</th>\n",
       "      <td>569587188687634433</td>\n",
       "      <td>negative</td>\n",
       "      <td>1.0000</td>\n",
       "      <td>Customer Service Issue</td>\n",
       "      <td>0.6659</td>\n",
       "      <td>American</td>\n",
       "      <td>NaN</td>\n",
       "      <td>SraJackson</td>\n",
       "      <td>NaN</td>\n",
       "      <td>0</td>\n",
       "      <td>@AmericanAir you have my money, you change my ...</td>\n",
       "      <td>NaN</td>\n",
       "      <td>2015-02-22 11:59:02 -0800</td>\n",
       "      <td>New Jersey</td>\n",
       "      <td>Eastern Time (US &amp; Canada)</td>\n",
       "    </tr>\n",
       "    <tr>\n",
       "      <th>14639</th>\n",
       "      <td>569587140490866689</td>\n",
       "      <td>neutral</td>\n",
       "      <td>0.6771</td>\n",
       "      <td>NaN</td>\n",
       "      <td>0.0000</td>\n",
       "      <td>American</td>\n",
       "      <td>NaN</td>\n",
       "      <td>daviddtwu</td>\n",
       "      <td>NaN</td>\n",
       "      <td>0</td>\n",
       "      <td>@AmericanAir we have 8 ppl so we need 2 know h...</td>\n",
       "      <td>NaN</td>\n",
       "      <td>2015-02-22 11:58:51 -0800</td>\n",
       "      <td>dallas, TX</td>\n",
       "      <td>NaN</td>\n",
       "    </tr>\n",
       "  </tbody>\n",
       "</table>\n",
       "<p>14640 rows × 15 columns</p>\n",
       "</div>"
      ],
      "text/plain": [
       "                 tweet_id airline_sentiment  airline_sentiment_confidence  \\\n",
       "0      570306133677760513           neutral                        1.0000   \n",
       "1      570301130888122368          positive                        0.3486   \n",
       "2      570301083672813571           neutral                        0.6837   \n",
       "3      570301031407624196          negative                        1.0000   \n",
       "4      570300817074462722          negative                        1.0000   \n",
       "5      570300767074181121          negative                        1.0000   \n",
       "6      570300616901320704          positive                        0.6745   \n",
       "7      570300248553349120           neutral                        0.6340   \n",
       "8      570299953286942721          positive                        0.6559   \n",
       "9      570295459631263746          positive                        1.0000   \n",
       "10     570294189143031808           neutral                        0.6769   \n",
       "11     570289724453216256          positive                        1.0000   \n",
       "12     570289584061480960          positive                        1.0000   \n",
       "13     570287408438120448          positive                        0.6451   \n",
       "14     570285904809598977          positive                        1.0000   \n",
       "15     570282469121007616          negative                        0.6842   \n",
       "16     570277724385734656          positive                        1.0000   \n",
       "17     570276917301137409          negative                        1.0000   \n",
       "18     570270684619923457          positive                        1.0000   \n",
       "19     570267956648792064          positive                        1.0000   \n",
       "20     570265883513384960          negative                        0.6705   \n",
       "21     570264145116819457          positive                        1.0000   \n",
       "22     570259420287868928          positive                        1.0000   \n",
       "23     570258822297579520           neutral                        1.0000   \n",
       "24     570256553502068736          negative                        1.0000   \n",
       "25     570249102404923392          negative                        1.0000   \n",
       "26     570239632807370753          negative                        1.0000   \n",
       "27     570217831557677057           neutral                        0.6854   \n",
       "28     570207886493782019          negative                        1.0000   \n",
       "29     570124596180955136           neutral                        0.6150   \n",
       "...                   ...               ...                           ...   \n",
       "14610  569591765793165312          negative                        1.0000   \n",
       "14611  569591730506371072           neutral                        1.0000   \n",
       "14612  569591700416393216          negative                        1.0000   \n",
       "14613  569591653121597440          negative                        1.0000   \n",
       "14614  569591540944756737          negative                        1.0000   \n",
       "14615  569591533617307648          negative                        1.0000   \n",
       "14616  569591393540288512          negative                        1.0000   \n",
       "14617  569591285150908416          positive                        1.0000   \n",
       "14618  569591136534319105          negative                        1.0000   \n",
       "14619  569590988395708416          positive                        1.0000   \n",
       "14620  569590965880532993          negative                        1.0000   \n",
       "14621  569590892085915649          negative                        1.0000   \n",
       "14622  569590191758962688          negative                        1.0000   \n",
       "14623  569590013278756865          positive                        0.6274   \n",
       "14624  569589959088173056          negative                        1.0000   \n",
       "14625  569589643487928321          positive                        1.0000   \n",
       "14626  569589460226183168          negative                        1.0000   \n",
       "14627  569588816438169600          negative                        1.0000   \n",
       "14628  569588651925098496          positive                        1.0000   \n",
       "14629  569588591602458624          negative                        1.0000   \n",
       "14630  569588473050611712          positive                        1.0000   \n",
       "14631  569588464896876545          negative                        1.0000   \n",
       "14632  569587813856841728           neutral                        0.6760   \n",
       "14633  569587705937600512          negative                        1.0000   \n",
       "14634  569587691626622976          negative                        0.6684   \n",
       "14635  569587686496825344          positive                        0.3487   \n",
       "14636  569587371693355008          negative                        1.0000   \n",
       "14637  569587242672398336           neutral                        1.0000   \n",
       "14638  569587188687634433          negative                        1.0000   \n",
       "14639  569587140490866689           neutral                        0.6771   \n",
       "\n",
       "               negativereason  negativereason_confidence         airline  \\\n",
       "0                         NaN                        NaN  Virgin America   \n",
       "1                         NaN                     0.0000  Virgin America   \n",
       "2                         NaN                        NaN  Virgin America   \n",
       "3                  Bad Flight                     0.7033  Virgin America   \n",
       "4                  Can't Tell                     1.0000  Virgin America   \n",
       "5                  Can't Tell                     0.6842  Virgin America   \n",
       "6                         NaN                     0.0000  Virgin America   \n",
       "7                         NaN                        NaN  Virgin America   \n",
       "8                         NaN                        NaN  Virgin America   \n",
       "9                         NaN                        NaN  Virgin America   \n",
       "10                        NaN                     0.0000  Virgin America   \n",
       "11                        NaN                        NaN  Virgin America   \n",
       "12                        NaN                        NaN  Virgin America   \n",
       "13                        NaN                        NaN  Virgin America   \n",
       "14                        NaN                        NaN  Virgin America   \n",
       "15                Late Flight                     0.3684  Virgin America   \n",
       "16                        NaN                        NaN  Virgin America   \n",
       "17                 Bad Flight                     1.0000  Virgin America   \n",
       "18                        NaN                        NaN  Virgin America   \n",
       "19                        NaN                        NaN  Virgin America   \n",
       "20                 Can't Tell                     0.3614  Virgin America   \n",
       "21                        NaN                        NaN  Virgin America   \n",
       "22                        NaN                        NaN  Virgin America   \n",
       "23                        NaN                        NaN  Virgin America   \n",
       "24     Customer Service Issue                     0.3557  Virgin America   \n",
       "25     Customer Service Issue                     1.0000  Virgin America   \n",
       "26                 Can't Tell                     0.6614  Virgin America   \n",
       "27                        NaN                        NaN  Virgin America   \n",
       "28                 Bad Flight                     1.0000  Virgin America   \n",
       "29                        NaN                     0.0000  Virgin America   \n",
       "...                       ...                        ...             ...   \n",
       "14610               longlines                     0.6788        American   \n",
       "14611                     NaN                        NaN        American   \n",
       "14612        Cancelled Flight                     0.6333        American   \n",
       "14613  Customer Service Issue                     0.7255        American   \n",
       "14614  Customer Service Issue                     1.0000        American   \n",
       "14615        Cancelled Flight                     1.0000        American   \n",
       "14616        Cancelled Flight                     1.0000        American   \n",
       "14617                     NaN                        NaN        American   \n",
       "14618              Bad Flight                     0.6774        American   \n",
       "14619                     NaN                        NaN        American   \n",
       "14620  Customer Service Issue                     1.0000        American   \n",
       "14621  Customer Service Issue                     1.0000        American   \n",
       "14622             Late Flight                     0.3358        American   \n",
       "14623                     NaN                     0.0000        American   \n",
       "14624              Can't Tell                     1.0000        American   \n",
       "14625                     NaN                        NaN        American   \n",
       "14626             Late Flight                     1.0000        American   \n",
       "14627        Cancelled Flight                     1.0000        American   \n",
       "14628                     NaN                        NaN        American   \n",
       "14629  Customer Service Issue                     1.0000        American   \n",
       "14630                     NaN                        NaN        American   \n",
       "14631              Bad Flight                     1.0000        American   \n",
       "14632                     NaN                     0.0000        American   \n",
       "14633        Cancelled Flight                     1.0000        American   \n",
       "14634             Late Flight                     0.6684        American   \n",
       "14635                     NaN                     0.0000        American   \n",
       "14636  Customer Service Issue                     1.0000        American   \n",
       "14637                     NaN                        NaN        American   \n",
       "14638  Customer Service Issue                     0.6659        American   \n",
       "14639                     NaN                     0.0000        American   \n",
       "\n",
       "      airline_sentiment_gold             name negativereason_gold  \\\n",
       "0                        NaN          cairdin                 NaN   \n",
       "1                        NaN         jnardino                 NaN   \n",
       "2                        NaN       yvonnalynn                 NaN   \n",
       "3                        NaN         jnardino                 NaN   \n",
       "4                        NaN         jnardino                 NaN   \n",
       "5                        NaN         jnardino                 NaN   \n",
       "6                        NaN       cjmcginnis                 NaN   \n",
       "7                        NaN            pilot                 NaN   \n",
       "8                        NaN         dhepburn                 NaN   \n",
       "9                        NaN       YupitsTate                 NaN   \n",
       "10                       NaN  idk_but_youtube                 NaN   \n",
       "11                       NaN     HyperCamiLax                 NaN   \n",
       "12                       NaN     HyperCamiLax                 NaN   \n",
       "13                       NaN     mollanderson                 NaN   \n",
       "14                       NaN         sjespers                 NaN   \n",
       "15                       NaN  smartwatermelon                 NaN   \n",
       "16                       NaN    ItzBrianHunty                 NaN   \n",
       "17                       NaN    heatherovieda                 NaN   \n",
       "18                       NaN     thebrandiray                 NaN   \n",
       "19                       NaN        JNLpierce                 NaN   \n",
       "20                       NaN           MISSGJ                 NaN   \n",
       "21                       NaN           DT_Les                 NaN   \n",
       "22                       NaN       ElvinaBeck                 NaN   \n",
       "23                       NaN     rjlynch21086                 NaN   \n",
       "24                       NaN      ayeevickiee                 NaN   \n",
       "25                       NaN          Leora13                 NaN   \n",
       "26                       NaN    meredithjlynn                 NaN   \n",
       "27                       NaN       AdamSinger                 NaN   \n",
       "28                       NaN  blackjackpro911                 NaN   \n",
       "29                       NaN  TenantsUpstairs                 NaN   \n",
       "...                      ...              ...                 ...   \n",
       "14610                    NaN         Jess_JCW                 NaN   \n",
       "14611                    NaN      TrueChief77                 NaN   \n",
       "14612                    NaN    tcunningham10                 NaN   \n",
       "14613                    NaN     kiabeveridge                 NaN   \n",
       "14614                    NaN         GregPoos                 NaN   \n",
       "14615                    NaN       tim_sheehy                 NaN   \n",
       "14616                    NaN    TheJoshAbides                 NaN   \n",
       "14617                    NaN          iambmac                 NaN   \n",
       "14618                    NaN  A_for_AdNauseam                 NaN   \n",
       "14619                    NaN      howiemandel                 NaN   \n",
       "14620                    NaN         KCBobolz                 NaN   \n",
       "14621                    NaN      andyellwood                 NaN   \n",
       "14622                    NaN    Jill_Lynnette                 NaN   \n",
       "14623                    NaN   Flora_Lola_NYC                 NaN   \n",
       "14624                    NaN         yourlama                 NaN   \n",
       "14625                    NaN   DrCaseyJRudkin                 NaN   \n",
       "14626                    NaN       cataattack                 NaN   \n",
       "14627                    NaN   KristinaMeyer7                 NaN   \n",
       "14628                    NaN         jlhalldc                 NaN   \n",
       "14629                    NaN      jontgreen89                 NaN   \n",
       "14630                    NaN   Laurelinesblog                 NaN   \n",
       "14631                    NaN         MDDavis7                 NaN   \n",
       "14632                    NaN       Chad_SMFYM                 NaN   \n",
       "14633                    NaN  RussellsWriting                 NaN   \n",
       "14634                    NaN    GolfWithWoody                 NaN   \n",
       "14635                    NaN  KristenReenders                 NaN   \n",
       "14636                    NaN         itsropes                 NaN   \n",
       "14637                    NaN         sanyabun                 NaN   \n",
       "14638                    NaN       SraJackson                 NaN   \n",
       "14639                    NaN        daviddtwu                 NaN   \n",
       "\n",
       "       retweet_count                                               text  \\\n",
       "0                  0                @VirginAmerica What @dhepburn said.   \n",
       "1                  0  @VirginAmerica plus you've added commercials t...   \n",
       "2                  0  @VirginAmerica I didn't today... Must mean I n...   \n",
       "3                  0  @VirginAmerica it's really aggressive to blast...   \n",
       "4                  0  @VirginAmerica and it's a really big bad thing...   \n",
       "5                  0  @VirginAmerica seriously would pay $30 a fligh...   \n",
       "6                  0  @VirginAmerica yes, nearly every time I fly VX...   \n",
       "7                  0  @VirginAmerica Really missed a prime opportuni...   \n",
       "8                  0    @virginamerica Well, I didn't…but NOW I DO! :-D   \n",
       "9                  0  @VirginAmerica it was amazing, and arrived an ...   \n",
       "10                 0  @VirginAmerica did you know that suicide is th...   \n",
       "11                 0  @VirginAmerica I &lt;3 pretty graphics. so muc...   \n",
       "12                 0  @VirginAmerica This is such a great deal! Alre...   \n",
       "13                 0  @VirginAmerica @virginmedia I'm flying your #f...   \n",
       "14                 0                             @VirginAmerica Thanks!   \n",
       "15                 0      @VirginAmerica SFO-PDX schedule is still MIA.   \n",
       "16                 0  @VirginAmerica So excited for my first cross c...   \n",
       "17                 0  @VirginAmerica  I flew from NYC to SFO last we...   \n",
       "18                 0                    I ❤️ flying @VirginAmerica. ☺️👍   \n",
       "19                 0  @VirginAmerica you know what would be amazingl...   \n",
       "20                 0  @VirginAmerica why are your first fares in May...   \n",
       "21                 0  @VirginAmerica I love this graphic. http://t.c...   \n",
       "22                 0  @VirginAmerica I love the hipster innovation. ...   \n",
       "23                 0  @VirginAmerica will you be making BOS&gt;LAS n...   \n",
       "24                 0  @VirginAmerica you guys messed up my seating.....   \n",
       "25                 0  @VirginAmerica status match program.  I applie...   \n",
       "26                 0  @VirginAmerica What happened 2 ur vegan food o...   \n",
       "27                 0  @VirginAmerica do you miss me? Don't worry we'...   \n",
       "28                 0  @VirginAmerica amazing to me that we can't get...   \n",
       "29                 0  @VirginAmerica LAX to EWR - Middle seat on a r...   \n",
       "...              ...                                                ...   \n",
       "14610              0  @AmericanAir I understand the weather issue bu...   \n",
       "14611              0  @AmericanAir guarantee no retribution? If so, ...   \n",
       "14612              0  @AmericanAir a friend is having flight Cancell...   \n",
       "14613              0  @AmericanAir I used the \"call back\" feature wi...   \n",
       "14614              0  @AmericanAir I need to be at work tomorrow at ...   \n",
       "14615              0  @AmericanAir  ugh Dump us in dfw w/no luggage ...   \n",
       "14616              0  @AmericanAir Cancelled Flights my flight, does...   \n",
       "14617              0            @AmericanAir DMing you now! Big thanks.   \n",
       "14618              0  @AmericanAir 3078 is overweight so you pull 2 ...   \n",
       "14619              3  @AmericanAir I love your company and your staf...   \n",
       "14620              0  @AmericanAir I wait 2+ hrs for CS to call me b...   \n",
       "14621              0  @AmericanAir I've been on hold for 55 mins abo...   \n",
       "14622              0  I just need a place to sleep when I land witho...   \n",
       "14623              0  @AmericanAir Love the new planes for the JFK-L...   \n",
       "14624              0  @AmericanAir Call me Chairman, or call me Emer...   \n",
       "14625              0  @AmericanAir Flight 236 was great. Fantastic c...   \n",
       "14626              0  @AmericanAir Flight 953 NYC-Buenos Aires has b...   \n",
       "14627              0  @AmericanAir Flight Cancelled Flightled, can't...   \n",
       "14628              0  Thank you. “@AmericanAir: @jlhalldc Customer R...   \n",
       "14629              0  @AmericanAir How do I change my flight if the ...   \n",
       "14630              0                        @AmericanAir Thanks! He is.   \n",
       "14631              0  @AmericanAir thx for nothing on getting us out...   \n",
       "14632              0  “@AmericanAir: @TilleyMonsta George, that does...   \n",
       "14633              0  @AmericanAir my flight was Cancelled Flightled...   \n",
       "14634              0         @AmericanAir right on cue with the delays👌   \n",
       "14635              0  @AmericanAir thank you we got on a different f...   \n",
       "14636              0  @AmericanAir leaving over 20 minutes Late Flig...   \n",
       "14637              0  @AmericanAir Please bring American Airlines to...   \n",
       "14638              0  @AmericanAir you have my money, you change my ...   \n",
       "14639              0  @AmericanAir we have 8 ppl so we need 2 know h...   \n",
       "\n",
       "                       tweet_coord              tweet_created  \\\n",
       "0                              NaN  2015-02-24 11:35:52 -0800   \n",
       "1                              NaN  2015-02-24 11:15:59 -0800   \n",
       "2                              NaN  2015-02-24 11:15:48 -0800   \n",
       "3                              NaN  2015-02-24 11:15:36 -0800   \n",
       "4                              NaN  2015-02-24 11:14:45 -0800   \n",
       "5                              NaN  2015-02-24 11:14:33 -0800   \n",
       "6                              NaN  2015-02-24 11:13:57 -0800   \n",
       "7                              NaN  2015-02-24 11:12:29 -0800   \n",
       "8                              NaN  2015-02-24 11:11:19 -0800   \n",
       "9                              NaN  2015-02-24 10:53:27 -0800   \n",
       "10                             NaN  2015-02-24 10:48:24 -0800   \n",
       "11                             NaN  2015-02-24 10:30:40 -0800   \n",
       "12                             NaN  2015-02-24 10:30:06 -0800   \n",
       "13                             NaN  2015-02-24 10:21:28 -0800   \n",
       "14                             NaN  2015-02-24 10:15:29 -0800   \n",
       "15                             NaN  2015-02-24 10:01:50 -0800   \n",
       "16                             NaN  2015-02-24 09:42:59 -0800   \n",
       "17                             NaN  2015-02-24 09:39:46 -0800   \n",
       "18                             NaN  2015-02-24 09:15:00 -0800   \n",
       "19                             NaN  2015-02-24 09:04:10 -0800   \n",
       "20                             NaN  2015-02-24 08:55:56 -0800   \n",
       "21     [40.74804263, -73.99295302]  2015-02-24 08:49:01 -0800   \n",
       "22                             NaN  2015-02-24 08:30:15 -0800   \n",
       "23                             NaN  2015-02-24 08:27:52 -0800   \n",
       "24                             NaN  2015-02-24 08:18:51 -0800   \n",
       "25                             NaN  2015-02-24 07:49:15 -0800   \n",
       "26                             NaN  2015-02-24 07:11:37 -0800   \n",
       "27                             NaN  2015-02-24 05:44:59 -0800   \n",
       "28       [42.361016, -71.02000488]  2015-02-24 05:05:28 -0800   \n",
       "29     [33.94540417, -118.4062472]  2015-02-23 23:34:30 -0800   \n",
       "...                            ...                        ...   \n",
       "14610                          NaN  2015-02-22 12:17:14 -0800   \n",
       "14611                          NaN  2015-02-22 12:17:05 -0800   \n",
       "14612  [40.46692522, -82.64567078]  2015-02-22 12:16:58 -0800   \n",
       "14613                          NaN  2015-02-22 12:16:47 -0800   \n",
       "14614                          NaN  2015-02-22 12:16:20 -0800   \n",
       "14615                          NaN  2015-02-22 12:16:18 -0800   \n",
       "14616                          NaN  2015-02-22 12:15:45 -0800   \n",
       "14617                          NaN  2015-02-22 12:15:19 -0800   \n",
       "14618                          NaN  2015-02-22 12:14:44 -0800   \n",
       "14619                          NaN  2015-02-22 12:14:08 -0800   \n",
       "14620                          NaN  2015-02-22 12:14:03 -0800   \n",
       "14621                          NaN  2015-02-22 12:13:45 -0800   \n",
       "14622                          NaN  2015-02-22 12:10:58 -0800   \n",
       "14623                          NaN  2015-02-22 12:10:16 -0800   \n",
       "14624   [32.9070889, -97.03785947]  2015-02-22 12:10:03 -0800   \n",
       "14625  [40.64946781, -73.76624703]  2015-02-22 12:08:48 -0800   \n",
       "14626                          NaN  2015-02-22 12:08:04 -0800   \n",
       "14627                          NaN  2015-02-22 12:05:30 -0800   \n",
       "14628                          NaN  2015-02-22 12:04:51 -0800   \n",
       "14629                          NaN  2015-02-22 12:04:37 -0800   \n",
       "14630                          NaN  2015-02-22 12:04:09 -0800   \n",
       "14631                          NaN  2015-02-22 12:04:07 -0800   \n",
       "14632                          NaN  2015-02-22 12:01:31 -0800   \n",
       "14633                          NaN  2015-02-22 12:01:06 -0800   \n",
       "14634                          NaN  2015-02-22 12:01:02 -0800   \n",
       "14635                          NaN  2015-02-22 12:01:01 -0800   \n",
       "14636                          NaN  2015-02-22 11:59:46 -0800   \n",
       "14637                          NaN  2015-02-22 11:59:15 -0800   \n",
       "14638                          NaN  2015-02-22 11:59:02 -0800   \n",
       "14639                          NaN  2015-02-22 11:58:51 -0800   \n",
       "\n",
       "                      tweet_location                user_timezone  \n",
       "0                                NaN   Eastern Time (US & Canada)  \n",
       "1                                NaN   Pacific Time (US & Canada)  \n",
       "2                          Lets Play   Central Time (US & Canada)  \n",
       "3                                NaN   Pacific Time (US & Canada)  \n",
       "4                                NaN   Pacific Time (US & Canada)  \n",
       "5                                NaN   Pacific Time (US & Canada)  \n",
       "6                   San Francisco CA   Pacific Time (US & Canada)  \n",
       "7                        Los Angeles   Pacific Time (US & Canada)  \n",
       "8                          San Diego   Pacific Time (US & Canada)  \n",
       "9                        Los Angeles   Eastern Time (US & Canada)  \n",
       "10                   1/1 loner squad   Eastern Time (US & Canada)  \n",
       "11                               NYC             America/New_York  \n",
       "12                               NYC             America/New_York  \n",
       "13                               NaN   Eastern Time (US & Canada)  \n",
       "14                 San Francisco, CA   Pacific Time (US & Canada)  \n",
       "15                     palo alto, ca   Pacific Time (US & Canada)  \n",
       "16                       west covina   Pacific Time (US & Canada)  \n",
       "17             this place called NYC   Eastern Time (US & Canada)  \n",
       "18      Somewhere celebrating life.        Atlantic Time (Canada)  \n",
       "19                  Boston | Waltham                        Quito  \n",
       "20                               NaN                          NaN  \n",
       "21                               NaN                          NaN  \n",
       "22                       Los Angeles   Pacific Time (US & Canada)  \n",
       "23                       Boston, MA    Eastern Time (US & Canada)  \n",
       "24                               714  Mountain Time (US & Canada)  \n",
       "25                               NaN                          NaN  \n",
       "26                               NaN                          NaN  \n",
       "27                 San Francisco, CA   Central Time (US & Canada)  \n",
       "28     San Mateo, CA & Las Vegas, NV                          NaN  \n",
       "29                          Brooklyn       Atlantic Time (Canada)  \n",
       "...                              ...                          ...  \n",
       "14610                         London                       London  \n",
       "14611                   970 Colorado                          NaN  \n",
       "14612                   Central Ohio   Eastern Time (US & Canada)  \n",
       "14613                        Chicago  Mountain Time (US & Canada)  \n",
       "14614                            NaN                          NaN  \n",
       "14615                  Washington DC   Central Time (US & Canada)  \n",
       "14616                  New York City   Eastern Time (US & Canada)  \n",
       "14617              Columbus, OH, USA   Eastern Time (US & Canada)  \n",
       "14618                            NaN                          NaN  \n",
       "14619                            NaN   Pacific Time (US & Canada)  \n",
       "14620    Milwaukee County, Wisconsin   Central Time (US & Canada)  \n",
       "14621             New York, New York   Eastern Time (US & Canada)  \n",
       "14622                            NaN   Eastern Time (US & Canada)  \n",
       "14623                            NaN   Eastern Time (US & Canada)  \n",
       "14624                            NaN                          NaN  \n",
       "14625                     East Coast                          NaN  \n",
       "14626        Buenos Aires, Argentina                 Buenos Aires  \n",
       "14627                            NaN   Eastern Time (US & Canada)  \n",
       "14628                 Washington, DC   Eastern Time (US & Canada)  \n",
       "14629                       Waco, TX   Central Time (US & Canada)  \n",
       "14630                Chapel Hill, NC                          NaN  \n",
       "14631                             US   Eastern Time (US & Canada)  \n",
       "14632                            NaN   Central Time (US & Canada)  \n",
       "14633                    Los Angeles                      Arizona  \n",
       "14634                            NaN                        Quito  \n",
       "14635                            NaN                          NaN  \n",
       "14636                          Texas                          NaN  \n",
       "14637                  Nigeria,lagos                          NaN  \n",
       "14638                     New Jersey   Eastern Time (US & Canada)  \n",
       "14639                     dallas, TX                          NaN  \n",
       "\n",
       "[14640 rows x 15 columns]"
      ]
     },
     "execution_count": 6,
     "metadata": {},
     "output_type": "execute_result"
    }
   ],
   "source": [
    "dataset = pd.read_csv('tsa/twitter-airline-sentiment.csv')\n",
    "dataset"
   ]
  },
  {
   "cell_type": "code",
   "execution_count": 7,
   "metadata": {},
   "outputs": [
    {
     "data": {
      "text/plain": [
       "Counter({'neutral': 3099, 'positive': 2363, 'negative': 9178})"
      ]
     },
     "execution_count": 7,
     "metadata": {},
     "output_type": "execute_result"
    }
   ],
   "source": [
    "collections.Counter(dataset['airline_sentiment'])"
   ]
  },
  {
   "cell_type": "markdown",
   "metadata": {},
   "source": [
    "Undersampling"
   ]
  },
  {
   "cell_type": "code",
   "execution_count": 8,
   "metadata": {},
   "outputs": [],
   "source": [
    "positive = dataset.query('airline_sentiment == \"positive\"')['text']\n",
    "negative = dataset.query('airline_sentiment == \"negative\"')['text']\n",
    "neutral = dataset.query('airline_sentiment == \"neutral\"')['text']"
   ]
  },
  {
   "cell_type": "code",
   "execution_count": 9,
   "metadata": {},
   "outputs": [],
   "source": [
    "np_positive = positive.values\n",
    "np_negative = negative.values\n",
    "np_neutral = neutral.values\n",
    "\n",
    "# shuffle\n",
    "np.random.seed(10)\n",
    "np.random.shuffle(np_positive)\n",
    "np.random.shuffle(np_negative)\n",
    "np.random.shuffle(np_neutral)\n",
    "\n",
    "# take the same number of sentences\n",
    "cut = 1500 # min(len(np_positive), len(np_negative), len(np_neutral))\n",
    "np_positive = np_positive[:cut]\n",
    "np_negative = np_negative[:cut]\n",
    "np_neutral = np_neutral[:cut]"
   ]
  },
  {
   "cell_type": "code",
   "execution_count": 10,
   "metadata": {},
   "outputs": [],
   "source": [
    "# positive=0, neutral=1, negative=2\n",
    "dataset_us_X = []\n",
    "dataset_us_y = []\n",
    "dataset_us_X.extend(np_positive)\n",
    "dataset_us_y.extend(np.ones(len(np_positive)) * 0)\n",
    "dataset_us_X.extend(np_neutral)\n",
    "dataset_us_y.extend(np.ones(len(np_neutral)) * 1)\n",
    "dataset_us_X.extend(np_negative)\n",
    "dataset_us_y.extend(np.ones(len(np_negative)) * 2)"
   ]
  },
  {
   "cell_type": "markdown",
   "metadata": {},
   "source": [
    "Train Validation Test split"
   ]
  },
  {
   "cell_type": "code",
   "execution_count": 11,
   "metadata": {},
   "outputs": [],
   "source": [
    "np.random.seed(42)\n",
    "# split 80% training and 20% test\n",
    "# FARLO RISPETTANDO LA DISTRIBUZIONE\n",
    "train_dataset_X, test_dataset_X, train_dataset_y, test_dataset_y = train_test_split(dataset_us_X, dataset_us_y, test_size=0.2, stratify=dataset_us_y, shuffle=True, random_state=52)\n",
    "# split validation\n",
    "train_dataset_X, valid_dataset_X, train_dataset_y, valid_dataset_y = train_test_split(train_dataset_X, train_dataset_y, test_size=0.2, stratify=train_dataset_y, shuffle=True, random_state=52)"
   ]
  },
  {
   "cell_type": "code",
   "execution_count": 12,
   "metadata": {
    "scrolled": true
   },
   "outputs": [
    {
     "data": {
      "text/plain": [
       "Counter({1.0: 300, 2.0: 300, 0.0: 300})"
      ]
     },
     "execution_count": 12,
     "metadata": {},
     "output_type": "execute_result"
    }
   ],
   "source": [
    "collections.Counter(test_dataset_y)"
   ]
  },
  {
   "cell_type": "markdown",
   "metadata": {},
   "source": [
    "Preprocessing Example"
   ]
  },
  {
   "cell_type": "code",
   "execution_count": 13,
   "metadata": {},
   "outputs": [
    {
     "name": "stdout",
     "output_type": "stream",
     "text": [
      "######## POSITIVE ########\n",
      "@VirginAmerica Thanks for a great flight from LA to Boston! Pilots did a great job landing in the snow. Can we go back to LA now? #seriously\n",
      "user_ment thank great flight la boston  pilot great job land snow  go back la  serious\n",
      "######## NEGATIVE ########\n",
      "@USAirways and @FlyKnoxville - bad weather should not be an excuse for not following established luggage procedures. #NoClothesNoInfo\n",
      "user_ment user_ment  bad weather excus follow establish luggag procedur  noclothesnoinfo\n",
      "######## NEUTRAL ########\n",
      "@united Is it possible to redeem miles for one part of a round trip itinerary without having to book two separate reservations?\n",
      "user_ment possibl redeem mile one part round trip itinerari without book two separ reserv \n"
     ]
    }
   ],
   "source": [
    "print('######## POSITIVE ########')\n",
    "print(np_positive[0])\n",
    "print(pp.preprocessText(np_positive[0], use_stemmer=True, ner=True))\n",
    "print('######## NEGATIVE ########')\n",
    "print(np_negative[0])\n",
    "print(pp.preprocessText(np_negative[0], use_stemmer=True, ner=True))\n",
    "print('######## NEUTRAL ########')\n",
    "print(np_neutral[0])\n",
    "print(pp.preprocessText(np_neutral[0], use_stemmer=True, ner=True))"
   ]
  },
  {
   "cell_type": "code",
   "execution_count": 14,
   "metadata": {},
   "outputs": [],
   "source": [
    "pp = Preprocessor()\n",
    "# positive\n",
    "train_dataset_X_pp = []\n",
    "for tweet in train_dataset_X:\n",
    "    train_dataset_X_pp.append(pp.preprocessText(tweet=tweet, use_stemmer=True, ner=True))\n",
    "# negative\n",
    "valid_dataset_X_pp = []\n",
    "for tweet in valid_dataset_X:\n",
    "    valid_dataset_X_pp.append(pp.preprocessText(tweet=tweet, use_stemmer=True, ner=True))\n",
    "# neutral\n",
    "test_dataset_X_pp = []\n",
    "for tweet in test_dataset_X:\n",
    "    test_dataset_X_pp.append(pp.preprocessText(tweet=tweet, use_stemmer=True, ner=True))"
   ]
  },
  {
   "cell_type": "markdown",
   "metadata": {},
   "source": [
    "Vectorization"
   ]
  },
  {
   "cell_type": "code",
   "execution_count": 15,
   "metadata": {},
   "outputs": [],
   "source": [
    "vec = TfidfVectorizer(ngram_range=(1,2), lowercase=True)\n",
    "\n",
    "train_X = vec.fit_transform(train_dataset_X_pp)\n",
    "train_y = train_dataset_y\n",
    "valid_X = vec.transform(valid_dataset_X_pp)\n",
    "valid_y = valid_dataset_y\n",
    "test_X = vec.transform(test_dataset_X_pp)\n",
    "test_y = test_dataset_y"
   ]
  },
  {
   "cell_type": "code",
   "execution_count": 16,
   "metadata": {},
   "outputs": [
    {
     "data": {
      "text/plain": [
       "<2880x22479 sparse matrix of type '<class 'numpy.float64'>'\n",
       "\twith 50342 stored elements in Compressed Sparse Row format>"
      ]
     },
     "execution_count": 16,
     "metadata": {},
     "output_type": "execute_result"
    }
   ],
   "source": [
    "train_X"
   ]
  },
  {
   "cell_type": "markdown",
   "metadata": {},
   "source": [
    "## Sentiment Classification"
   ]
  },
  {
   "cell_type": "markdown",
   "metadata": {},
   "source": [
    "SVM_TFIDF_Classifier without feaure selection"
   ]
  },
  {
   "cell_type": "code",
   "execution_count": 17,
   "metadata": {},
   "outputs": [
    {
     "name": "stdout",
     "output_type": "stream",
     "text": [
      "# Tuning hyper-parameters for f1_macro\n",
      "\n",
      "Fitting 5 folds for each of 7 candidates, totalling 35 fits\n"
     ]
    },
    {
     "name": "stderr",
     "output_type": "stream",
     "text": [
      "[Parallel(n_jobs=-1)]: Using backend LokyBackend with 8 concurrent workers.\n",
      "[Parallel(n_jobs=-1)]: Done  35 out of  35 | elapsed:   13.4s finished\n"
     ]
    },
    {
     "name": "stdout",
     "output_type": "stream",
     "text": [
      "[LibSVM]Best parameters set found on development set:\n",
      "\n",
      "{'C': 1.0}\n",
      "\n",
      "Grid scores on development set:\n",
      "\n",
      "0.241 (+/-0.028) for {'C': 0.001}\n",
      "0.241 (+/-0.028) for {'C': 0.01}\n",
      "0.400 (+/-0.048) for {'C': 0.1}\n",
      "0.719 (+/-0.066) for {'C': 1.0}\n",
      "0.707 (+/-0.051) for {'C': 10.0}\n",
      "0.707 (+/-0.051) for {'C': 100.0}\n",
      "0.707 (+/-0.051) for {'C': 1000.0}\n",
      "\n"
     ]
    }
   ],
   "source": [
    "skf = StratifiedKFold(n_splits=5, random_state=42, shuffle=False)\n",
    "\n",
    "svm_clf = svm.SVC(kernel='linear', decision_function_shape='ovr', verbose=2, random_state=42)\n",
    "\n",
    "tuned_parameters = {'C': np.logspace(-3, 3, 7),}\n",
    "\n",
    "# f1, f1_macro (for multiclass), recall\n",
    "scores = ['f1_macro']\n",
    "\n",
    "for score in scores:\n",
    "    print(\"# Tuning hyper-parameters for %s\" % score)\n",
    "    print()\n",
    "\n",
    "    clf = GridSearchCV(svm_clf, tuned_parameters, cv=skf, n_jobs=-1, scoring=score, verbose=2)\n",
    "    clf.fit(train_X, train_y)\n",
    "\n",
    "    print(\"Best parameters set found on development set:\")\n",
    "    print()\n",
    "    print(clf.best_params_)\n",
    "    print()\n",
    "    print(\"Grid scores on development set:\")\n",
    "    print()\n",
    "    means = clf.cv_results_['mean_test_score']\n",
    "    stds = clf.cv_results_['std_test_score']\n",
    "    for mean, std, params in zip(means, stds, clf.cv_results_['params']):\n",
    "        print(\"%0.3f (+/-%0.03f) for %r\" % (mean, std * 2, params))\n",
    "    print()"
   ]
  },
  {
   "cell_type": "code",
   "execution_count": 18,
   "metadata": {},
   "outputs": [],
   "source": [
    "# predictions\n",
    "pred = clf.best_estimator_.predict(valid_X)"
   ]
  },
  {
   "cell_type": "code",
   "execution_count": 19,
   "metadata": {},
   "outputs": [
    {
     "name": "stdout",
     "output_type": "stream",
     "text": [
      "F1 score macro on validation data: 0.7415838445701427\n",
      "F1 score micro on validation data: 0.7416666666666667\n"
     ]
    },
    {
     "data": {
      "image/png": "[encoded data removed]",
      "text/plain": [
       "<Figure size 432x288 with 2 Axes>"
      ]
     },
     "metadata": {
      "needs_background": "light"
     },
     "output_type": "display_data"
    }
   ],
   "source": [
    "# 0=positivo, 1=neutro, 2=negativo\n",
    "print('F1 score macro on validation data: ' + str(f1_score(valid_y, pred, average='macro')))\n",
    "print('F1 score micro on validation data: ' + str(f1_score(valid_y, pred, average='micro')))\n",
    "cm = confusion_matrix(valid_y, pred, labels=[0, 1, 2])\n",
    "ax = sns.heatmap(cm, annot=True, xticklabels=['positive','neutral','negative'], yticklabels=['positive','neutral','negative'], fmt=\"d\")\n",
    "ax.xaxis.set_ticks_position('top')"
   ]
  },
  {
   "cell_type": "markdown",
   "metadata": {},
   "source": [
    "Feature Selection"
   ]
  },
  {
   "cell_type": "code",
   "execution_count": 20,
   "metadata": {},
   "outputs": [
    {
     "name": "stdout",
     "output_type": "stream",
     "text": [
      "(3, 22479)\n"
     ]
    }
   ],
   "source": [
    "weights = clf.best_estimator_.coef_\n",
    "print(weights.shape)\n",
    "# 6 perchè fa un classifictore per ogni coppia di labels (ovr) -> verificare"
   ]
  },
  {
   "cell_type": "code",
   "execution_count": 21,
   "metadata": {
    "scrolled": true
   },
   "outputs": [
    {
     "data": {
      "image/png": "[encoded data removed]",
      "text/plain": [
       "<Figure size 1080x360 with 1 Axes>"
      ]
     },
     "metadata": {
      "needs_background": "light"
     },
     "output_type": "display_data"
    },
    {
     "data": {
      "image/png": "[encoded data removed]",
      "text/plain": [
       "<Figure size 1080x360 with 1 Axes>"
      ]
     },
     "metadata": {
      "needs_background": "light"
     },
     "output_type": "display_data"
    },
    {
     "data": {
      "image/png": "[encoded data removed]",
      "text/plain": [
       "<Figure size 1080x360 with 1 Axes>"
      ]
     },
     "metadata": {
      "needs_background": "light"
     },
     "output_type": "display_data"
    }
   ],
   "source": [
    "# Data for plotting\n",
    "for i in range(weights.shape[0]):\n",
    "    fig, ax = plt.subplots(figsize=(15,5))\n",
    "    ax.plot(range(weights[i].data.shape[0]), sorted(abs(weights[i].data), reverse = True))\n",
    "    ax.set(xlabel='Sentiment Feature', ylabel='Weight', title='Features\\' weights ' + str(i))\n",
    "    ax.grid()\n",
    "    #fig.savefig(\"test.png\")\n",
    "    plt.show()"
   ]
  },
  {
   "cell_type": "code",
   "execution_count": 22,
   "metadata": {},
   "outputs": [],
   "source": [
    "# select most important features\n",
    "cutoff_0 = 0.3\n",
    "selected_features_0 = [i for i in sorted(zip(map(lambda x: round(x, 4), abs(weights[0].data)), weights[0].indices), reverse=True) if i[0] > cutoff_0]\n",
    "cutoff_1 = 0.3\n",
    "selected_features_1 = [i for i in sorted(zip(map(lambda x: round(x, 4), abs(weights[1].data)), weights[1].indices), reverse=True) if i[0] > cutoff_1]\n",
    "cutoff_2 = 0.2\n",
    "selected_features_2 = [i for i in sorted(zip(map(lambda x: round(x, 4), abs(weights[2].data)), weights[2].indices), reverse=True) if i[0] > cutoff_2]"
   ]
  },
  {
   "cell_type": "code",
   "execution_count": 23,
   "metadata": {},
   "outputs": [
    {
     "name": "stdout",
     "output_type": "stream",
     "text": [
      "Selected 9518 features\n"
     ]
    }
   ],
   "source": [
    "# take the union of selected features (a word important for a classification may be not important for other classifications)\n",
    "selected_features = set()\n",
    "for f in selected_features_0:\n",
    "    selected_features.add(f[1])\n",
    "for f in selected_features_1:\n",
    "    selected_features.add(f[1])\n",
    "for f in selected_features_2:\n",
    "    selected_features.add(f[1])\n",
    "print('Selected ' + str(len(selected_features)) + ' features')    "
   ]
  },
  {
   "cell_type": "markdown",
   "metadata": {},
   "source": [
    "Retry with selected features"
   ]
  },
  {
   "cell_type": "code",
   "execution_count": 52,
   "metadata": {},
   "outputs": [],
   "source": [
    "train_X_fs = train_X[:, list(selected_features)]\n",
    "train_y_fs = train_y\n",
    "valid_X_fs = valid_X[:, list(selected_features)]\n",
    "valid_y_fs = valid_y\n",
    "test_X_fs = test_X[:, list(selected_features)]\n",
    "test_y_fs = test_y"
   ]
  },
  {
   "cell_type": "code",
   "execution_count": 25,
   "metadata": {},
   "outputs": [
    {
     "name": "stdout",
     "output_type": "stream",
     "text": [
      "# Tuning hyper-parameters for f1_macro\n",
      "\n",
      "Fitting 5 folds for each of 7 candidates, totalling 35 fits\n"
     ]
    },
    {
     "name": "stderr",
     "output_type": "stream",
     "text": [
      "[Parallel(n_jobs=-1)]: Using backend LokyBackend with 8 concurrent workers.\n",
      "[Parallel(n_jobs=-1)]: Done  35 out of  35 | elapsed:   12.0s finished\n"
     ]
    },
    {
     "name": "stdout",
     "output_type": "stream",
     "text": [
      "[LibSVM]Best parameters set found on development set:\n",
      "\n",
      "{'C': 1.0}\n",
      "\n",
      "Grid scores on development set:\n",
      "\n",
      "0.239 (+/-0.027) for {'C': 0.001}\n",
      "0.239 (+/-0.027) for {'C': 0.01}\n",
      "0.384 (+/-0.039) for {'C': 0.1}\n",
      "0.749 (+/-0.060) for {'C': 1.0}\n",
      "0.741 (+/-0.039) for {'C': 10.0}\n",
      "0.711 (+/-0.027) for {'C': 100.0}\n",
      "0.689 (+/-0.027) for {'C': 1000.0}\n",
      "\n"
     ]
    }
   ],
   "source": [
    "skf = StratifiedKFold(n_splits=5, random_state=42, shuffle=False)\n",
    "\n",
    "svm_clf_fs = svm.SVC(kernel='linear', decision_function_shape='ovr', verbose=2, random_state=42)\n",
    "\n",
    "tuned_parameters = {'C': np.logspace(-3, 3, 7),}\n",
    "\n",
    "scores = ['f1_macro']\n",
    "\n",
    "for score in scores:\n",
    "    print(\"# Tuning hyper-parameters for %s\" % score)\n",
    "    print()\n",
    "\n",
    "    clf_fs = GridSearchCV(svm_clf_fs, tuned_parameters, cv=skf, n_jobs=-1, scoring=score, verbose=2)\n",
    "    clf_fs.fit(train_X_fs, train_y_fs)\n",
    "\n",
    "    print(\"Best parameters set found on development set:\")\n",
    "    print()\n",
    "    print(clf_fs.best_params_)\n",
    "    print()\n",
    "    print(\"Grid scores on development set:\")\n",
    "    print()\n",
    "    means = clf_fs.cv_results_['mean_test_score']\n",
    "    stds = clf_fs.cv_results_['std_test_score']\n",
    "    for mean, std, params in zip(means, stds, clf_fs.cv_results_['params']):\n",
    "        print(\"%0.3f (+/-%0.03f) for %r\" % (mean, std * 2, params))\n",
    "    print()"
   ]
  },
  {
   "cell_type": "code",
   "execution_count": 26,
   "metadata": {},
   "outputs": [],
   "source": [
    "# predictions\n",
    "pred_fs = clf_fs.best_estimator_.predict(valid_X_fs)"
   ]
  },
  {
   "cell_type": "code",
   "execution_count": 27,
   "metadata": {
    "scrolled": true
   },
   "outputs": [
    {
     "name": "stdout",
     "output_type": "stream",
     "text": [
      "F1 macro score on validation data: 0.7427018125131332\n",
      "F1 micro score on validation data: 0.7430555555555556\n"
     ]
    },
    {
     "data": {
      "image/png": "[encoded data removed]",
      "text/plain": [
       "<Figure size 432x288 with 2 Axes>"
      ]
     },
     "metadata": {
      "needs_background": "light"
     },
     "output_type": "display_data"
    }
   ],
   "source": [
    "# 0=positivo, 1=neutro, 2=negativo\n",
    "print('F1 macro score on validation data: ' + str(f1_score(valid_y_fs, pred_fs, average='macro')))\n",
    "print('F1 micro score on validation data: ' + str(f1_score(valid_y_fs, pred_fs, average='micro')))\n",
    "cm_fs = confusion_matrix(valid_y_fs, pred_fs, labels=[0, 1, 2])\n",
    "ax = sns.heatmap(cm_fs, annot=True, xticklabels=['positive','neutral','negative'], yticklabels=['positive','neutral','negative'],fmt=\"d\")\n",
    "ax.xaxis.set_ticks_position('top')"
   ]
  },
  {
   "cell_type": "code",
   "execution_count": 28,
   "metadata": {
    "scrolled": true
   },
   "outputs": [
    {
     "name": "stdout",
     "output_type": "stream",
     "text": [
      "### 0\n"
     ]
    },
    {
     "data": {
      "image/png": "[encoded data removed]",
      "text/plain": [
       "<Figure size 1080x360 with 1 Axes>"
      ]
     },
     "metadata": {
      "needs_background": "light"
     },
     "output_type": "display_data"
    },
    {
     "name": "stdout",
     "output_type": "stream",
     "text": [
      "### 1\n"
     ]
    },
    {
     "data": {
      "image/png": "[encoded data removed]",
      "text/plain": [
       "<Figure size 1080x360 with 1 Axes>"
      ]
     },
     "metadata": {
      "needs_background": "light"
     },
     "output_type": "display_data"
    },
    {
     "name": "stdout",
     "output_type": "stream",
     "text": [
      "### 2\n"
     ]
    },
    {
     "data": {
      "image/png": "[encoded data removed]",
      "text/plain": [
       "<Figure size 1080x360 with 1 Axes>"
      ]
     },
     "metadata": {
      "needs_background": "light"
     },
     "output_type": "display_data"
    }
   ],
   "source": [
    "best_n = 70\n",
    "feature_names = vec.get_feature_names()\n",
    "for i in range(weights.shape[0]):\n",
    "    print('### ' + str(i))\n",
    "    fn = []\n",
    "    fv = []\n",
    "    f = [i for i in sorted(zip(map(lambda x: round(x, 4), clf_fs.best_estimator_.coef_[i].data), clf_fs.best_estimator_.coef_[i].indices), reverse=True, key=lambda k: abs(k[0]))][:best_n]\n",
    "    for j in range(len(f)):\n",
    "        fn.append(feature_names[f[j][1]])\n",
    "        fv.append(f[j][0])\n",
    "        #print(str(feature_names[f[j][1]]) + ': ' + str(f[j][0]))\n",
    "    fig, ax = plt.subplots(figsize=(15,5))\n",
    "    plt.bar([i for i in range(best_n) if fv[i]>0], [x for x in fv if x>0])\n",
    "    plt.bar([i for i in range(best_n) if fv[i]<0], [x for x in fv if x<0], color='r')\n",
    "    plt.xticks(range(best_n), fn, rotation='vertical')\n",
    "    plt.show()"
   ]
  },
  {
   "cell_type": "markdown",
   "metadata": {},
   "source": [
    "## BPEF for sentiment classification"
   ]
  },
  {
   "cell_type": "code",
   "execution_count": 29,
   "metadata": {},
   "outputs": [],
   "source": [
    "class Dataset:\n",
    "    \n",
    "    # input dataset with labels just positive/neutral/negative\n",
    "    def __init__(self, text, label, feature, ner=False, use_stemmer=False, combine_text_quote=False):\n",
    "        if feature not in ['word', 'pos', 'swnt']:\n",
    "            raise ValueError('feature parameter must be in (\\'word\\', \\'pos\\', \\'swnt\\')')\n",
    "        self.text = text\n",
    "        self.label = label\n",
    "        self.feature = feature\n",
    "        self.ner = ner\n",
    "        self.use_stemmer = use_stemmer\n",
    "        self.vec = CountVectorizer(ngram_range=(1,2), lowercase=True)\n",
    "        self.vectorized_before_fs = None\n",
    "        self.vectorized_after_fs = None\n",
    "        self.selected_features = None\n",
    "        self.features_entropy = None\n",
    "        # fit model -> transform\n",
    "        self.__fit()\n",
    "        self.__feature_selection()\n",
    "        # apply features selection\n",
    "        self.selected_features_after_fs = self.selected_features\n",
    "        self.vectorized_after_fs = self.vectorized_before_fs[:, self.selected_features_after_fs]\n",
    "        \n",
    "        \n",
    "    def __fit(self):\n",
    "        # preprocess\n",
    "        self.pp = Preprocessor()\n",
    "        for i in range(len(self.text)):\n",
    "            self.text[i] = pp.preprocessText(self.text[i], method=self.feature, use_stemmer=self.use_stemmer, ner=self.ner)\n",
    "        # vectorization (count vectorizer vediamo)\n",
    "        self.vectorized_before_fs = self.vec.fit_transform(self.text)\n",
    "        \n",
    "            \n",
    "    def transform(self, text):\n",
    "        for i in range(len(text)):\n",
    "            text[i] = self.pp.preprocessText(text[i], method=self.feature, use_stemmer=self.use_stemmer, ner=self.ner)\n",
    "        # vectorization (count vectorizer vediamo) and feature selection\n",
    "        vectorized = self.vec.transform(text)[:, self.selected_features_after_fs]\n",
    "        return vectorized\n",
    "    \n",
    "    # https://www3.nd.edu/~rjohns15/cse40647.sp14/www/content/lectures/23%20-%20Decision%20Trees%202.pdf\n",
    "    # https://pypi.org/project/info-gain/\n",
    "    def __feature_selection(self):\n",
    "        self.selected_features = [i for i in range(self.vectorized_before_fs.shape[1])]\n",
    "        self.features_entropy = []\n",
    "        \n",
    "        #H_class = scipy.stats.entropy(self.label.value_counts())\n",
    "        \n",
    "        # for each feature calculate information gain\n",
    "        for feat_idx in range(self.vectorized_before_fs.shape[1]):\n",
    "            # print\n",
    "            sys.stdout.write(\"\\r IG: \" + str(feat_idx) + '/' + str(self.vectorized_before_fs.shape[1]-1))\n",
    "            sys.stdout.flush()\n",
    "            '''\n",
    "            H_feat = 0\n",
    "            values = set(np.append(self.vectorized_before_fs[:, feat_idx].data, 0)) # zero added manually bcause sparse matrix is stupid\n",
    "            # for each value calculate the conditional entropy\n",
    "            for v in values:\n",
    "                indexes = [i for i in range(self.vectorized_before_fs.shape[0]) if self.vectorized_before_fs[i, feat_idx] == v]\n",
    "                feat_list = self.label[indexes]\n",
    "                # entropy\n",
    "                feat_prob = len(feat_list) / self.vectorized_before_fs.shape[0]\n",
    "                H_feat += feat_prob * scipy.stats.entropy(feat_list.value_counts())\n",
    "            #print(H_feat)\n",
    "            # information gain of the feature\n",
    "            IG = H_class - H_feat\n",
    "            '''\n",
    "            IG = info_gain.info_gain(self.label, self.vectorized_before_fs[:, feat_idx].toarray().ravel())\n",
    "            self.features_entropy.append(IG)\n",
    "            \n",
    "    def plot_IG_feature(self):\n",
    "        plot_ig = sorted(self.features_entropy, reverse=True)\n",
    "        plt.subplots(figsize=(15,5))\n",
    "        plt.semilogy(range(len(plot_ig)), plot_ig)\n",
    "        plt.show()\n",
    "        \n",
    "    def cut_features(self, cutoff_value):\n",
    "        # cut and apply features selection\n",
    "        self.selected_features_after_fs = [i for i in range(len(self.features_entropy)) if self.features_entropy[i] > cutoff_value]\n",
    "        self.vectorized_after_fs = self.vectorized_before_fs[:, self.selected_features_after_fs]\n",
    "        "
   ]
  },
  {
   "cell_type": "markdown",
   "metadata": {},
   "source": [
    "### BPEF"
   ]
  },
  {
   "cell_type": "code",
   "execution_count": 30,
   "metadata": {},
   "outputs": [
    {
     "name": "stdout",
     "output_type": "stream",
     "text": [
      "word False\n",
      " IG: 24277/24277"
     ]
    },
    {
     "data": {
      "image/png": "[encoded data removed]",
      "text/plain": [
       "<Figure size 1080x360 with 1 Axes>"
      ]
     },
     "metadata": {
      "needs_background": "light"
     },
     "output_type": "display_data"
    },
    {
     "name": "stdout",
     "output_type": "stream",
     "text": [
      "word True\n",
      " IG: 22478/22478"
     ]
    },
    {
     "data": {
      "image/png": "[encoded data removed]",
      "text/plain": [
       "<Figure size 1080x360 with 1 Axes>"
      ]
     },
     "metadata": {
      "needs_background": "light"
     },
     "output_type": "display_data"
    },
    {
     "name": "stdout",
     "output_type": "stream",
     "text": [
      "pos False\n",
      " IG: 30300/30300"
     ]
    },
    {
     "data": {
      "image/png": "[encoded data removed]",
      "text/plain": [
       "<Figure size 1080x360 with 1 Axes>"
      ]
     },
     "metadata": {
      "needs_background": "light"
     },
     "output_type": "display_data"
    },
    {
     "name": "stdout",
     "output_type": "stream",
     "text": [
      "pos True\n",
      " IG: 28237/28237"
     ]
    },
    {
     "data": {
      "image/png": "[encoded data removed]",
      "text/plain": [
       "<Figure size 1080x360 with 1 Axes>"
      ]
     },
     "metadata": {
      "needs_background": "light"
     },
     "output_type": "display_data"
    },
    {
     "name": "stdout",
     "output_type": "stream",
     "text": [
      "swnt False\n",
      " IG: 22849/22849"
     ]
    },
    {
     "data": {
      "image/png": "[encoded data removed]",
      "text/plain": [
       "<Figure size 1080x360 with 1 Axes>"
      ]
     },
     "metadata": {
      "needs_background": "light"
     },
     "output_type": "display_data"
    },
    {
     "name": "stdout",
     "output_type": "stream",
     "text": [
      "swnt True\n",
      " IG: 21110/21110"
     ]
    },
    {
     "data": {
      "image/png": "[encoded data removed]",
      "text/plain": [
       "<Figure size 1080x360 with 1 Axes>"
      ]
     },
     "metadata": {
      "needs_background": "light"
     },
     "output_type": "display_data"
    }
   ],
   "source": [
    "feature_values = ['word', 'pos', 'swnt']\n",
    "ner_values = [False, True]\n",
    "column = 'Motore'\n",
    "\n",
    "train_X_bpef = train_dataset_X\n",
    "train_y_bpef = train_dataset_y\n",
    "valid_X_bpef = valid_dataset_X\n",
    "valid_y_bpef = valid_dataset_y\n",
    "test_X_bpef = test_dataset_X\n",
    "test_y_bpef = test_dataset_y\n",
    "\n",
    "\n",
    "dataset_dict = {}\n",
    "for f in feature_values:\n",
    "    for n in ner_values:\n",
    "        print(f + ' ' + str(n))\n",
    "        \n",
    "        d = Dataset(text=train_X_bpef.copy(), label=train_y_bpef.copy(), feature=f, ner=n, use_stemmer=True, combine_text_quote=False)\n",
    "        \n",
    "        d.plot_IG_feature()\n",
    "        dataset_dict[(f, n)] = d\n"
   ]
  },
  {
   "cell_type": "code",
   "execution_count": 31,
   "metadata": {},
   "outputs": [],
   "source": [
    "# save dict\n",
    "with open('pickle/dataset_dict_twitter', 'wb') as f:\n",
    "    pickle.dump(dataset_dict, f)"
   ]
  },
  {
   "cell_type": "code",
   "execution_count": 32,
   "metadata": {},
   "outputs": [],
   "source": [
    "with open('pickle/dataset_dict_twitter', 'rb') as f:\n",
    "    dataset_dict = pickle.load(f)"
   ]
  },
  {
   "cell_type": "code",
   "execution_count": null,
   "metadata": {},
   "outputs": [],
   "source": []
  },
  {
   "cell_type": "code",
   "execution_count": 33,
   "metadata": {},
   "outputs": [
    {
     "data": {
      "text/plain": [
       "0.00038158321935144457"
      ]
     },
     "execution_count": 33,
     "metadata": {},
     "output_type": "execute_result"
    }
   ],
   "source": [
    "sorted(dataset_dict[('word', False)].features_entropy, reverse=True)[4000]"
   ]
  },
  {
   "cell_type": "code",
   "execution_count": 34,
   "metadata": {},
   "outputs": [],
   "source": [
    "# dataset no feature selection\n",
    "dataset_dict_nofs = deepcopy(dataset_dict)"
   ]
  },
  {
   "cell_type": "code",
   "execution_count": 35,
   "metadata": {},
   "outputs": [
    {
     "name": "stdout",
     "output_type": "stream",
     "text": [
      "('word', False) 24278\n",
      "('word', True) 22479\n",
      "('pos', False) 30301\n",
      "('pos', True) 28238\n",
      "('swnt', False) 22850\n",
      "('swnt', True) 21111\n"
     ]
    }
   ],
   "source": [
    "# without feature selection\n",
    "for k in dataset_dict_nofs.keys():\n",
    "    #dataset_dict_nofs[k].cut_features(0)\n",
    "    print(str(k) + ' ' + str(len(dataset_dict_nofs[k].selected_features_after_fs)))"
   ]
  },
  {
   "cell_type": "code",
   "execution_count": null,
   "metadata": {
    "scrolled": true
   },
   "outputs": [],
   "source": []
  },
  {
   "cell_type": "code",
   "execution_count": 36,
   "metadata": {},
   "outputs": [],
   "source": [
    "class BPEF:\n",
    "    \n",
    "    def __init__(self, dict_dataset):\n",
    "        self.dict_dataset = dict_dataset\n",
    "        \n",
    "    # text plain, quote plain, labels numerical\n",
    "    def train(self, text, labels):\n",
    "        self.classifiers_dict = {}\n",
    "        keys = self.dict_dataset.keys()\n",
    "        classifiers = ['svm', 'logreg', 'rndfst', 'naibay']\n",
    "        # for each feature type -> keys ('feature', True/False)\n",
    "        for k in keys:\n",
    "            d = self.dict_dataset[k]\n",
    "            # train set\n",
    "            text_copy = text.copy()\n",
    "\n",
    "            X = d.transform(text_copy)\n",
    "            \n",
    "            # train every classifier\n",
    "            for c in classifiers:\n",
    "                print('######## ' + str((k + (c, ))) + ' ########')\n",
    "                \n",
    "                if c == 'svm':\n",
    "                    # train, estimate C with gridsearch\n",
    "                    skf = StratifiedKFold(n_splits=5, random_state=42, shuffle=False)\n",
    "                    svmclf = svm.SVC(kernel='linear', decision_function_shape='ovr', verbose=2, random_state=42)\n",
    "                    tuned_parameters = {'C': np.logspace(-3, 3, 7),}\n",
    "                    clf = GridSearchCV(svmclf, tuned_parameters, cv=skf, n_jobs=-1, scoring='f1_macro', verbose=2)\n",
    "                    clf.fit(X, labels)\n",
    "                    print(\"Best parameters set found on development set:\")\n",
    "                    print()\n",
    "                    print(clf.best_params_)\n",
    "                    print()\n",
    "                    print(\"Grid scores on development set:\")\n",
    "                    print()\n",
    "                    means = clf.cv_results_['mean_test_score']\n",
    "                    stds = clf.cv_results_['std_test_score']\n",
    "                    for mean, std, params in zip(means, stds, clf.cv_results_['params']):\n",
    "                        print(\"%0.3f (+/-%0.03f) for %r\" % (mean, std * 2, params))\n",
    "                    print()\n",
    "                    # add classifier to dictionary\n",
    "                    self.classifiers_dict[k + (c, )] = clf.best_estimator_\n",
    "                    \n",
    "                elif c == 'logreg':\n",
    "                    # train, estimate C with gridsearch\n",
    "                    skf = StratifiedKFold(n_splits=5, random_state=42, shuffle=False)\n",
    "                    logreg = LogisticRegression(multi_class='ovr', verbose=2, random_state=42)\n",
    "                    tuned_parameters = {'C': np.logspace(-3, 3, 7)}\n",
    "                    clf = GridSearchCV(logreg, tuned_parameters, cv=skf, n_jobs=-1, scoring='f1_macro', verbose=2)\n",
    "                    clf.fit(X, labels)\n",
    "                    print(\"Best parameters set found on development set:\")\n",
    "                    print()\n",
    "                    print(clf.best_params_)\n",
    "                    print()\n",
    "                    print(\"Grid scores on development set:\")\n",
    "                    print()\n",
    "                    means = clf.cv_results_['mean_test_score']\n",
    "                    stds = clf.cv_results_['std_test_score']\n",
    "                    for mean, std, params in zip(means, stds, clf.cv_results_['params']):\n",
    "                        print(\"%0.3f (+/-%0.03f) for %r\" % (mean, std * 2, params))\n",
    "                    print()\n",
    "                    # add classifier to dictionary\n",
    "                    self.classifiers_dict[k + (c, )] = clf.best_estimator_\n",
    "                    \n",
    "                elif c == 'naibay':\n",
    "                    # train, estimate C with gridsearch\n",
    "                    skf = StratifiedKFold(n_splits=5, random_state=42, shuffle=False)\n",
    "                    naibay = GaussianNB()\n",
    "                    tuned_parameters = {}\n",
    "                    clf = GridSearchCV(naibay, tuned_parameters, cv=skf, n_jobs=-1, scoring='f1_macro', verbose=2)\n",
    "                    clf.fit(X.toarray(), labels)\n",
    "                    print(\"Best parameters set found on development set:\")\n",
    "                    print()\n",
    "                    print(clf.best_params_)\n",
    "                    print()\n",
    "                    print(\"Grid scores on development set:\")\n",
    "                    print()\n",
    "                    means = clf.cv_results_['mean_test_score']\n",
    "                    stds = clf.cv_results_['std_test_score']\n",
    "                    for mean, std, params in zip(means, stds, clf.cv_results_['params']):\n",
    "                        print(\"%0.3f (+/-%0.03f) for %r\" % (mean, std * 2, params))\n",
    "                    print()\n",
    "                    # add classifier to dictionary\n",
    "                    self.classifiers_dict[k + (c, )] = clf.best_estimator_\n",
    "                    \n",
    "                elif c == 'rndfst':\n",
    "                    # train, estimate C with gridsearch\n",
    "                    skf = StratifiedKFold(n_splits=5, random_state=42, shuffle=False)\n",
    "                    rndfst = RandomForestClassifier(random_state=42, n_jobs=-1, oob_score=True)\n",
    "                    tuned_parameters = {'n_estimators': [201,501], 'max_features': ['auto', 'log2'], 'max_depth' : [10, 100], 'criterion' :['gini', 'entropy']}\n",
    "                    clf = GridSearchCV(rndfst, tuned_parameters, cv=skf, n_jobs=-1, scoring='f1_macro', verbose=2)\n",
    "                    clf.fit(X.toarray(), labels)\n",
    "                    print(\"Best parameters set found on development set:\")\n",
    "                    print()\n",
    "                    print(clf.best_params_)\n",
    "                    print()\n",
    "                    print(\"Grid scores on development set:\")\n",
    "                    print()\n",
    "                    means = clf.cv_results_['mean_test_score']\n",
    "                    stds = clf.cv_results_['std_test_score']\n",
    "                    for mean, std, params in zip(means, stds, clf.cv_results_['params']):\n",
    "                        print(\"%0.3f (+/-%0.03f) for %r\" % (mean, std * 2, params))\n",
    "                    print()\n",
    "                    # add classifier to dictionary\n",
    "                    self.classifiers_dict[k + (c, )] = clf.best_estimator_\n",
    "            \n",
    "        \n",
    "    # text quote plain\n",
    "    def predict(self, text):\n",
    "        text_copy = text.copy()\n",
    "        predictions = {}\n",
    "        keys = self.dict_dataset.keys()\n",
    "        classifiers = ['svm', 'logreg', 'rndfst', 'naibay']\n",
    "        for k in keys:\n",
    "            d = self.dict_dataset[k]\n",
    "            # train set\n",
    "            text_copy = text.copy()\n",
    "            X = d.transform(text_copy)\n",
    "            # train every classifier\n",
    "            for c in classifiers:\n",
    "                print('######## ' + str((k + (c, ))) + ' ########')\n",
    "                # make prediction\n",
    "                pred = self.classifiers_dict[k + (c, )].predict(X.toarray())\n",
    "                predictions[k + (c, )] = pred\n",
    "        # calculate the ensemble\n",
    "        fin_pred = []\n",
    "        for i in range(len(text_copy)):\n",
    "            curr_pred = []\n",
    "            for k in keys:\n",
    "                for c in classifiers:\n",
    "                    curr_pred.append(predictions[k + (c, )][i])\n",
    "            fin_pred.append(max(set(curr_pred), key = curr_pred.count))\n",
    "        return fin_pred\n",
    "                "
   ]
  },
  {
   "cell_type": "markdown",
   "metadata": {},
   "source": [
    "without feature selection"
   ]
  },
  {
   "cell_type": "code",
   "execution_count": 37,
   "metadata": {},
   "outputs": [],
   "source": [
    "bpef_nofs = BPEF(dataset_dict_nofs)"
   ]
  },
  {
   "cell_type": "code",
   "execution_count": 38,
   "metadata": {},
   "outputs": [
    {
     "name": "stdout",
     "output_type": "stream",
     "text": [
      "######## ('word', False, 'svm') ########\n",
      "Fitting 5 folds for each of 7 candidates, totalling 35 fits\n"
     ]
    },
    {
     "name": "stderr",
     "output_type": "stream",
     "text": [
      "[Parallel(n_jobs=-1)]: Using backend LokyBackend with 8 concurrent workers.\n",
      "[Parallel(n_jobs=-1)]: Done  35 out of  35 | elapsed:   15.9s finished\n"
     ]
    },
    {
     "name": "stdout",
     "output_type": "stream",
     "text": [
      "[LibSVM]Best parameters set found on development set:\n",
      "\n",
      "{'C': 0.1}\n",
      "\n",
      "Grid scores on development set:\n",
      "\n",
      "0.562 (+/-0.053) for {'C': 0.001}\n",
      "0.619 (+/-0.059) for {'C': 0.01}\n",
      "0.711 (+/-0.046) for {'C': 0.1}\n",
      "0.700 (+/-0.036) for {'C': 1.0}\n",
      "0.679 (+/-0.042) for {'C': 10.0}\n",
      "0.662 (+/-0.037) for {'C': 100.0}\n",
      "0.662 (+/-0.037) for {'C': 1000.0}\n",
      "\n",
      "######## ('word', False, 'logreg') ########\n",
      "Fitting 5 folds for each of 7 candidates, totalling 35 fits\n"
     ]
    },
    {
     "name": "stderr",
     "output_type": "stream",
     "text": [
      "[Parallel(n_jobs=-1)]: Using backend LokyBackend with 8 concurrent workers.\n",
      "[Parallel(n_jobs=-1)]: Done  20 out of  35 | elapsed:    1.1s remaining:    0.8s\n",
      "[Parallel(n_jobs=-1)]: Done  35 out of  35 | elapsed:    2.2s finished\n",
      "/usr/local/lib/python3.6/dist-packages/sklearn/linear_model/logistic.py:433: FutureWarning: Default solver will be changed to 'lbfgs' in 0.22. Specify a solver to silence this warning.\n",
      "  FutureWarning)\n",
      "[Parallel(n_jobs=-1)]: Using backend LokyBackend with 8 concurrent workers.\n"
     ]
    },
    {
     "name": "stdout",
     "output_type": "stream",
     "text": [
      "[LibLinear]Best parameters set found on development set:\n",
      "\n",
      "{'C': 1.0}\n",
      "\n",
      "Grid scores on development set:\n",
      "\n",
      "0.581 (+/-0.049) for {'C': 0.001}\n",
      "0.645 (+/-0.067) for {'C': 0.01}\n",
      "0.707 (+/-0.063) for {'C': 0.1}\n",
      "0.717 (+/-0.054) for {'C': 1.0}\n",
      "0.713 (+/-0.051) for {'C': 10.0}\n",
      "0.704 (+/-0.052) for {'C': 100.0}\n",
      "0.699 (+/-0.055) for {'C': 1000.0}\n",
      "\n",
      "######## ('word', False, 'rndfst') ########\n",
      "Fitting 5 folds for each of 16 candidates, totalling 80 fits\n"
     ]
    },
    {
     "name": "stderr",
     "output_type": "stream",
     "text": [
      "[Parallel(n_jobs=-1)]: Done  25 tasks      | elapsed:  8.9min\n",
      "[Parallel(n_jobs=-1)]: Done  80 out of  80 | elapsed: 22.3min finished\n"
     ]
    },
    {
     "name": "stdout",
     "output_type": "stream",
     "text": [
      "Best parameters set found on development set:\n",
      "\n",
      "{'criterion': 'gini', 'max_depth': 100, 'max_features': 'auto', 'n_estimators': 501}\n",
      "\n",
      "Grid scores on development set:\n",
      "\n",
      "0.690 (+/-0.063) for {'criterion': 'gini', 'max_depth': 10, 'max_features': 'auto', 'n_estimators': 201}\n",
      "0.694 (+/-0.056) for {'criterion': 'gini', 'max_depth': 10, 'max_features': 'auto', 'n_estimators': 501}\n",
      "0.630 (+/-0.075) for {'criterion': 'gini', 'max_depth': 10, 'max_features': 'log2', 'n_estimators': 201}\n",
      "0.687 (+/-0.045) for {'criterion': 'gini', 'max_depth': 10, 'max_features': 'log2', 'n_estimators': 501}\n",
      "0.684 (+/-0.052) for {'criterion': 'gini', 'max_depth': 100, 'max_features': 'auto', 'n_estimators': 201}\n",
      "0.696 (+/-0.051) for {'criterion': 'gini', 'max_depth': 100, 'max_features': 'auto', 'n_estimators': 501}\n",
      "0.676 (+/-0.036) for {'criterion': 'gini', 'max_depth': 100, 'max_features': 'log2', 'n_estimators': 201}\n",
      "0.687 (+/-0.048) for {'criterion': 'gini', 'max_depth': 100, 'max_features': 'log2', 'n_estimators': 501}\n",
      "0.689 (+/-0.069) for {'criterion': 'entropy', 'max_depth': 10, 'max_features': 'auto', 'n_estimators': 201}\n",
      "0.693 (+/-0.057) for {'criterion': 'entropy', 'max_depth': 10, 'max_features': 'auto', 'n_estimators': 501}\n",
      "0.628 (+/-0.066) for {'criterion': 'entropy', 'max_depth': 10, 'max_features': 'log2', 'n_estimators': 201}\n",
      "0.680 (+/-0.036) for {'criterion': 'entropy', 'max_depth': 10, 'max_features': 'log2', 'n_estimators': 501}\n",
      "0.691 (+/-0.046) for {'criterion': 'entropy', 'max_depth': 100, 'max_features': 'auto', 'n_estimators': 201}\n",
      "0.693 (+/-0.050) for {'criterion': 'entropy', 'max_depth': 100, 'max_features': 'auto', 'n_estimators': 501}\n",
      "0.676 (+/-0.050) for {'criterion': 'entropy', 'max_depth': 100, 'max_features': 'log2', 'n_estimators': 201}\n",
      "0.693 (+/-0.038) for {'criterion': 'entropy', 'max_depth': 100, 'max_features': 'log2', 'n_estimators': 501}\n",
      "\n",
      "######## ('word', False, 'naibay') ########\n",
      "Fitting 5 folds for each of 1 candidates, totalling 5 fits\n"
     ]
    },
    {
     "name": "stderr",
     "output_type": "stream",
     "text": [
      "[Parallel(n_jobs=-1)]: Using backend LokyBackend with 8 concurrent workers.\n",
      "[Parallel(n_jobs=-1)]: Done   2 out of   5 | elapsed:    5.4s remaining:    8.1s\n",
      "[Parallel(n_jobs=-1)]: Done   5 out of   5 | elapsed:    6.3s remaining:    0.0s\n",
      "[Parallel(n_jobs=-1)]: Done   5 out of   5 | elapsed:    6.3s finished\n"
     ]
    },
    {
     "name": "stdout",
     "output_type": "stream",
     "text": [
      "Best parameters set found on development set:\n",
      "\n",
      "{}\n",
      "\n",
      "Grid scores on development set:\n",
      "\n",
      "0.565 (+/-0.032) for {}\n",
      "\n",
      "######## ('word', True, 'svm') ########\n",
      "Fitting 5 folds for each of 7 candidates, totalling 35 fits\n"
     ]
    },
    {
     "name": "stderr",
     "output_type": "stream",
     "text": [
      "[Parallel(n_jobs=-1)]: Using backend LokyBackend with 8 concurrent workers.\n",
      "[Parallel(n_jobs=-1)]: Done  35 out of  35 | elapsed:   11.6s finished\n"
     ]
    },
    {
     "name": "stdout",
     "output_type": "stream",
     "text": [
      "[LibSVM]Best parameters set found on development set:\n",
      "\n",
      "{'C': 0.1}\n",
      "\n",
      "Grid scores on development set:\n",
      "\n",
      "0.459 (+/-0.079) for {'C': 0.001}\n",
      "0.597 (+/-0.048) for {'C': 0.01}\n",
      "0.709 (+/-0.053) for {'C': 0.1}\n",
      "0.700 (+/-0.045) for {'C': 1.0}\n",
      "0.691 (+/-0.048) for {'C': 10.0}\n",
      "0.684 (+/-0.056) for {'C': 100.0}\n",
      "0.684 (+/-0.056) for {'C': 1000.0}\n",
      "\n",
      "######## ('word', True, 'logreg') ########\n",
      "Fitting 5 folds for each of 7 candidates, totalling 35 fits\n"
     ]
    },
    {
     "name": "stderr",
     "output_type": "stream",
     "text": [
      "[Parallel(n_jobs=-1)]: Using backend LokyBackend with 8 concurrent workers.\n",
      "[Parallel(n_jobs=-1)]: Done  20 out of  35 | elapsed:    1.4s remaining:    1.0s\n",
      "[Parallel(n_jobs=-1)]: Done  35 out of  35 | elapsed:    2.1s finished\n",
      "/usr/local/lib/python3.6/dist-packages/sklearn/linear_model/logistic.py:433: FutureWarning: Default solver will be changed to 'lbfgs' in 0.22. Specify a solver to silence this warning.\n",
      "  FutureWarning)\n",
      "[Parallel(n_jobs=-1)]: Using backend LokyBackend with 8 concurrent workers.\n"
     ]
    },
    {
     "name": "stdout",
     "output_type": "stream",
     "text": [
      "[LibLinear]Best parameters set found on development set:\n",
      "\n",
      "{'C': 1.0}\n",
      "\n",
      "Grid scores on development set:\n",
      "\n",
      "0.641 (+/-0.051) for {'C': 0.001}\n",
      "0.674 (+/-0.056) for {'C': 0.01}\n",
      "0.704 (+/-0.051) for {'C': 0.1}\n",
      "0.723 (+/-0.049) for {'C': 1.0}\n",
      "0.716 (+/-0.050) for {'C': 10.0}\n",
      "0.707 (+/-0.044) for {'C': 100.0}\n",
      "0.691 (+/-0.036) for {'C': 1000.0}\n",
      "\n",
      "######## ('word', True, 'rndfst') ########\n",
      "Fitting 5 folds for each of 16 candidates, totalling 80 fits\n"
     ]
    },
    {
     "name": "stderr",
     "output_type": "stream",
     "text": [
      "[Parallel(n_jobs=-1)]: Done  25 tasks      | elapsed:  8.6min\n",
      "[Parallel(n_jobs=-1)]: Done  80 out of  80 | elapsed:  -83.7s finished\n"
     ]
    },
    {
     "name": "stdout",
     "output_type": "stream",
     "text": [
      "Best parameters set found on development set:\n",
      "\n",
      "{'criterion': 'entropy', 'max_depth': 10, 'max_features': 'auto', 'n_estimators': 501}\n",
      "\n",
      "Grid scores on development set:\n",
      "\n",
      "0.682 (+/-0.040) for {'criterion': 'gini', 'max_depth': 10, 'max_features': 'auto', 'n_estimators': 201}\n",
      "0.691 (+/-0.056) for {'criterion': 'gini', 'max_depth': 10, 'max_features': 'auto', 'n_estimators': 501}\n",
      "0.629 (+/-0.070) for {'criterion': 'gini', 'max_depth': 10, 'max_features': 'log2', 'n_estimators': 201}\n",
      "0.682 (+/-0.033) for {'criterion': 'gini', 'max_depth': 10, 'max_features': 'log2', 'n_estimators': 501}\n",
      "0.683 (+/-0.052) for {'criterion': 'gini', 'max_depth': 100, 'max_features': 'auto', 'n_estimators': 201}\n",
      "0.686 (+/-0.048) for {'criterion': 'gini', 'max_depth': 100, 'max_features': 'auto', 'n_estimators': 501}\n",
      "0.677 (+/-0.049) for {'criterion': 'gini', 'max_depth': 100, 'max_features': 'log2', 'n_estimators': 201}\n",
      "0.681 (+/-0.040) for {'criterion': 'gini', 'max_depth': 100, 'max_features': 'log2', 'n_estimators': 501}\n",
      "0.687 (+/-0.053) for {'criterion': 'entropy', 'max_depth': 10, 'max_features': 'auto', 'n_estimators': 201}\n",
      "0.693 (+/-0.048) for {'criterion': 'entropy', 'max_depth': 10, 'max_features': 'auto', 'n_estimators': 501}\n",
      "0.625 (+/-0.061) for {'criterion': 'entropy', 'max_depth': 10, 'max_features': 'log2', 'n_estimators': 201}\n",
      "0.677 (+/-0.032) for {'criterion': 'entropy', 'max_depth': 10, 'max_features': 'log2', 'n_estimators': 501}\n",
      "0.686 (+/-0.046) for {'criterion': 'entropy', 'max_depth': 100, 'max_features': 'auto', 'n_estimators': 201}\n",
      "0.687 (+/-0.051) for {'criterion': 'entropy', 'max_depth': 100, 'max_features': 'auto', 'n_estimators': 501}\n",
      "0.682 (+/-0.042) for {'criterion': 'entropy', 'max_depth': 100, 'max_features': 'log2', 'n_estimators': 201}\n",
      "0.687 (+/-0.044) for {'criterion': 'entropy', 'max_depth': 100, 'max_features': 'log2', 'n_estimators': 501}\n",
      "\n",
      "######## ('word', True, 'naibay') ########\n",
      "Fitting 5 folds for each of 1 candidates, totalling 5 fits\n"
     ]
    },
    {
     "name": "stderr",
     "output_type": "stream",
     "text": [
      "[Parallel(n_jobs=-1)]: Using backend LokyBackend with 8 concurrent workers.\n",
      "[Parallel(n_jobs=-1)]: Done   2 out of   5 | elapsed:    4.7s remaining:    7.1s\n",
      "[Parallel(n_jobs=-1)]: Done   5 out of   5 | elapsed:    5.7s remaining:    0.0s\n",
      "[Parallel(n_jobs=-1)]: Done   5 out of   5 | elapsed:    5.7s finished\n"
     ]
    },
    {
     "name": "stdout",
     "output_type": "stream",
     "text": [
      "Best parameters set found on development set:\n",
      "\n",
      "{}\n",
      "\n",
      "Grid scores on development set:\n",
      "\n",
      "0.575 (+/-0.027) for {}\n",
      "\n",
      "######## ('pos', False, 'svm') ########\n",
      "Fitting 5 folds for each of 7 candidates, totalling 35 fits\n"
     ]
    },
    {
     "name": "stderr",
     "output_type": "stream",
     "text": [
      "[Parallel(n_jobs=-1)]: Using backend LokyBackend with 8 concurrent workers.\n",
      "[Parallel(n_jobs=-1)]: Done  35 out of  35 | elapsed:   31.4s finished\n"
     ]
    },
    {
     "name": "stdout",
     "output_type": "stream",
     "text": [
      "[LibSVM]Best parameters set found on development set:\n",
      "\n",
      "{'C': 0.1}\n",
      "\n",
      "Grid scores on development set:\n",
      "\n",
      "0.519 (+/-0.028) for {'C': 0.001}\n",
      "0.619 (+/-0.051) for {'C': 0.01}\n",
      "0.665 (+/-0.037) for {'C': 0.1}\n",
      "0.661 (+/-0.041) for {'C': 1.0}\n",
      "0.655 (+/-0.040) for {'C': 10.0}\n",
      "0.655 (+/-0.040) for {'C': 100.0}\n",
      "0.655 (+/-0.040) for {'C': 1000.0}\n",
      "\n",
      "######## ('pos', False, 'logreg') ########\n",
      "Fitting 5 folds for each of 7 candidates, totalling 35 fits\n"
     ]
    },
    {
     "name": "stderr",
     "output_type": "stream",
     "text": [
      "[Parallel(n_jobs=-1)]: Using backend LokyBackend with 8 concurrent workers.\n",
      "[Parallel(n_jobs=-1)]: Done  20 out of  35 | elapsed:    3.4s remaining:    2.6s\n",
      "[Parallel(n_jobs=-1)]: Done  35 out of  35 | elapsed:    5.3s finished\n",
      "/usr/local/lib/python3.6/dist-packages/sklearn/linear_model/logistic.py:433: FutureWarning: Default solver will be changed to 'lbfgs' in 0.22. Specify a solver to silence this warning.\n",
      "  FutureWarning)\n"
     ]
    },
    {
     "name": "stdout",
     "output_type": "stream",
     "text": [
      "[LibLinear]Best parameters set found on development set:\n",
      "\n",
      "{'C': 10.0}\n",
      "\n",
      "Grid scores on development set:\n",
      "\n",
      "0.501 (+/-0.025) for {'C': 0.001}\n",
      "0.594 (+/-0.053) for {'C': 0.01}\n",
      "0.656 (+/-0.035) for {'C': 0.1}\n",
      "0.670 (+/-0.033) for {'C': 1.0}\n",
      "0.671 (+/-0.035) for {'C': 10.0}\n",
      "0.669 (+/-0.032) for {'C': 100.0}\n",
      "0.667 (+/-0.032) for {'C': 1000.0}\n",
      "\n",
      "######## ('pos', False, 'rndfst') ########\n",
      "Fitting 5 folds for each of 16 candidates, totalling 80 fits\n"
     ]
    },
    {
     "name": "stderr",
     "output_type": "stream",
     "text": [
      "[Parallel(n_jobs=-1)]: Using backend LokyBackend with 8 concurrent workers.\n",
      "[Parallel(n_jobs=-1)]: Done  25 tasks      | elapsed:  7.3min\n",
      "[Parallel(n_jobs=-1)]: Done  80 out of  80 | elapsed: 18.7min finished\n"
     ]
    },
    {
     "name": "stdout",
     "output_type": "stream",
     "text": [
      "Best parameters set found on development set:\n",
      "\n",
      "{'criterion': 'entropy', 'max_depth': 100, 'max_features': 'log2', 'n_estimators': 501}\n",
      "\n",
      "Grid scores on development set:\n",
      "\n",
      "0.603 (+/-0.046) for {'criterion': 'gini', 'max_depth': 10, 'max_features': 'auto', 'n_estimators': 201}\n",
      "0.606 (+/-0.046) for {'criterion': 'gini', 'max_depth': 10, 'max_features': 'auto', 'n_estimators': 501}\n",
      "0.590 (+/-0.057) for {'criterion': 'gini', 'max_depth': 10, 'max_features': 'log2', 'n_estimators': 201}\n",
      "0.620 (+/-0.031) for {'criterion': 'gini', 'max_depth': 10, 'max_features': 'log2', 'n_estimators': 501}\n",
      "0.620 (+/-0.047) for {'criterion': 'gini', 'max_depth': 100, 'max_features': 'auto', 'n_estimators': 201}\n",
      "0.619 (+/-0.040) for {'criterion': 'gini', 'max_depth': 100, 'max_features': 'auto', 'n_estimators': 501}\n",
      "0.611 (+/-0.016) for {'criterion': 'gini', 'max_depth': 100, 'max_features': 'log2', 'n_estimators': 201}\n",
      "0.633 (+/-0.023) for {'criterion': 'gini', 'max_depth': 100, 'max_features': 'log2', 'n_estimators': 501}\n",
      "0.608 (+/-0.049) for {'criterion': 'entropy', 'max_depth': 10, 'max_features': 'auto', 'n_estimators': 201}\n",
      "0.609 (+/-0.043) for {'criterion': 'entropy', 'max_depth': 10, 'max_features': 'auto', 'n_estimators': 501}\n",
      "0.588 (+/-0.053) for {'criterion': 'entropy', 'max_depth': 10, 'max_features': 'log2', 'n_estimators': 201}\n",
      "0.620 (+/-0.036) for {'criterion': 'entropy', 'max_depth': 10, 'max_features': 'log2', 'n_estimators': 501}\n",
      "0.621 (+/-0.029) for {'criterion': 'entropy', 'max_depth': 100, 'max_features': 'auto', 'n_estimators': 201}\n",
      "0.624 (+/-0.045) for {'criterion': 'entropy', 'max_depth': 100, 'max_features': 'auto', 'n_estimators': 501}\n",
      "0.609 (+/-0.036) for {'criterion': 'entropy', 'max_depth': 100, 'max_features': 'log2', 'n_estimators': 201}\n",
      "0.636 (+/-0.029) for {'criterion': 'entropy', 'max_depth': 100, 'max_features': 'log2', 'n_estimators': 501}\n",
      "\n",
      "######## ('pos', False, 'naibay') ########\n",
      "Fitting 5 folds for each of 1 candidates, totalling 5 fits\n"
     ]
    },
    {
     "name": "stderr",
     "output_type": "stream",
     "text": [
      "[Parallel(n_jobs=-1)]: Using backend LokyBackend with 8 concurrent workers.\n",
      "[Parallel(n_jobs=-1)]: Done   2 out of   5 | elapsed:    6.4s remaining:    9.6s\n",
      "[Parallel(n_jobs=-1)]: Done   5 out of   5 | elapsed:    7.8s remaining:    0.0s\n",
      "[Parallel(n_jobs=-1)]: Done   5 out of   5 | elapsed:    7.8s finished\n"
     ]
    },
    {
     "name": "stdout",
     "output_type": "stream",
     "text": [
      "Best parameters set found on development set:\n",
      "\n",
      "{}\n",
      "\n",
      "Grid scores on development set:\n",
      "\n",
      "0.575 (+/-0.032) for {}\n",
      "\n",
      "######## ('pos', True, 'svm') ########\n",
      "Fitting 5 folds for each of 7 candidates, totalling 35 fits\n"
     ]
    },
    {
     "name": "stderr",
     "output_type": "stream",
     "text": [
      "[Parallel(n_jobs=-1)]: Using backend LokyBackend with 8 concurrent workers.\n",
      "[Parallel(n_jobs=-1)]: Done  35 out of  35 | elapsed:   24.5s finished\n"
     ]
    },
    {
     "name": "stdout",
     "output_type": "stream",
     "text": [
      "[LibSVM]Best parameters set found on development set:\n",
      "\n",
      "{'C': 0.1}\n",
      "\n",
      "Grid scores on development set:\n",
      "\n",
      "0.503 (+/-0.041) for {'C': 0.001}\n",
      "0.613 (+/-0.050) for {'C': 0.01}\n",
      "0.656 (+/-0.060) for {'C': 0.1}\n",
      "0.654 (+/-0.048) for {'C': 1.0}\n",
      "0.645 (+/-0.053) for {'C': 10.0}\n",
      "0.643 (+/-0.057) for {'C': 100.0}\n",
      "0.643 (+/-0.057) for {'C': 1000.0}\n",
      "\n",
      "######## ('pos', True, 'logreg') ########\n",
      "Fitting 5 folds for each of 7 candidates, totalling 35 fits\n"
     ]
    },
    {
     "name": "stderr",
     "output_type": "stream",
     "text": [
      "[Parallel(n_jobs=-1)]: Using backend LokyBackend with 8 concurrent workers.\n",
      "[Parallel(n_jobs=-1)]: Done  20 out of  35 | elapsed:    2.4s remaining:    1.8s\n",
      "[Parallel(n_jobs=-1)]: Done  35 out of  35 | elapsed:    3.7s finished\n",
      "/usr/local/lib/python3.6/dist-packages/sklearn/linear_model/logistic.py:433: FutureWarning: Default solver will be changed to 'lbfgs' in 0.22. Specify a solver to silence this warning.\n",
      "  FutureWarning)\n"
     ]
    },
    {
     "name": "stdout",
     "output_type": "stream",
     "text": [
      "[LibLinear]Best parameters set found on development set:\n",
      "\n",
      "{'C': 1.0}\n",
      "\n",
      "Grid scores on development set:\n",
      "\n",
      "0.504 (+/-0.054) for {'C': 0.001}\n",
      "0.600 (+/-0.064) for {'C': 0.01}\n",
      "0.657 (+/-0.045) for {'C': 0.1}\n",
      "0.673 (+/-0.045) for {'C': 1.0}\n",
      "0.672 (+/-0.048) for {'C': 10.0}\n",
      "0.666 (+/-0.046) for {'C': 100.0}\n",
      "0.659 (+/-0.038) for {'C': 1000.0}\n",
      "\n",
      "######## ('pos', True, 'rndfst') ########\n",
      "Fitting 5 folds for each of 16 candidates, totalling 80 fits\n"
     ]
    },
    {
     "name": "stderr",
     "output_type": "stream",
     "text": [
      "[Parallel(n_jobs=-1)]: Using backend LokyBackend with 8 concurrent workers.\n",
      "[Parallel(n_jobs=-1)]: Done  25 tasks      | elapsed:  7.6min\n",
      "[Parallel(n_jobs=-1)]: Done  80 out of  80 | elapsed: 19.2min finished\n"
     ]
    },
    {
     "name": "stdout",
     "output_type": "stream",
     "text": [
      "Best parameters set found on development set:\n",
      "\n",
      "{'criterion': 'entropy', 'max_depth': 10, 'max_features': 'auto', 'n_estimators': 501}\n",
      "\n",
      "Grid scores on development set:\n",
      "\n",
      "0.629 (+/-0.045) for {'criterion': 'gini', 'max_depth': 10, 'max_features': 'auto', 'n_estimators': 201}\n",
      "0.627 (+/-0.061) for {'criterion': 'gini', 'max_depth': 10, 'max_features': 'auto', 'n_estimators': 501}\n",
      "0.571 (+/-0.046) for {'criterion': 'gini', 'max_depth': 10, 'max_features': 'log2', 'n_estimators': 201}\n",
      "0.622 (+/-0.043) for {'criterion': 'gini', 'max_depth': 10, 'max_features': 'log2', 'n_estimators': 501}\n",
      "0.627 (+/-0.050) for {'criterion': 'gini', 'max_depth': 100, 'max_features': 'auto', 'n_estimators': 201}\n",
      "0.625 (+/-0.053) for {'criterion': 'gini', 'max_depth': 100, 'max_features': 'auto', 'n_estimators': 501}\n",
      "0.623 (+/-0.042) for {'criterion': 'gini', 'max_depth': 100, 'max_features': 'log2', 'n_estimators': 201}\n",
      "0.628 (+/-0.016) for {'criterion': 'gini', 'max_depth': 100, 'max_features': 'log2', 'n_estimators': 501}\n",
      "0.632 (+/-0.054) for {'criterion': 'entropy', 'max_depth': 10, 'max_features': 'auto', 'n_estimators': 201}\n",
      "0.634 (+/-0.052) for {'criterion': 'entropy', 'max_depth': 10, 'max_features': 'auto', 'n_estimators': 501}\n",
      "0.567 (+/-0.045) for {'criterion': 'entropy', 'max_depth': 10, 'max_features': 'log2', 'n_estimators': 201}\n",
      "0.619 (+/-0.057) for {'criterion': 'entropy', 'max_depth': 10, 'max_features': 'log2', 'n_estimators': 501}\n",
      "0.631 (+/-0.060) for {'criterion': 'entropy', 'max_depth': 100, 'max_features': 'auto', 'n_estimators': 201}\n",
      "0.632 (+/-0.043) for {'criterion': 'entropy', 'max_depth': 100, 'max_features': 'auto', 'n_estimators': 501}\n",
      "0.629 (+/-0.017) for {'criterion': 'entropy', 'max_depth': 100, 'max_features': 'log2', 'n_estimators': 201}\n",
      "0.633 (+/-0.020) for {'criterion': 'entropy', 'max_depth': 100, 'max_features': 'log2', 'n_estimators': 501}\n",
      "\n",
      "######## ('pos', True, 'naibay') ########\n",
      "Fitting 5 folds for each of 1 candidates, totalling 5 fits\n"
     ]
    },
    {
     "name": "stderr",
     "output_type": "stream",
     "text": [
      "[Parallel(n_jobs=-1)]: Using backend LokyBackend with 8 concurrent workers.\n",
      "[Parallel(n_jobs=-1)]: Done   2 out of   5 | elapsed:    5.9s remaining:    8.9s\n",
      "[Parallel(n_jobs=-1)]: Done   5 out of   5 | elapsed:    7.1s remaining:    0.0s\n",
      "[Parallel(n_jobs=-1)]: Done   5 out of   5 | elapsed:    7.1s finished\n"
     ]
    },
    {
     "name": "stdout",
     "output_type": "stream",
     "text": [
      "Best parameters set found on development set:\n",
      "\n",
      "{}\n",
      "\n",
      "Grid scores on development set:\n",
      "\n",
      "0.568 (+/-0.039) for {}\n",
      "\n",
      "######## ('swnt', False, 'svm') ########\n",
      "Fitting 5 folds for each of 7 candidates, totalling 35 fits\n"
     ]
    },
    {
     "name": "stderr",
     "output_type": "stream",
     "text": [
      "[Parallel(n_jobs=-1)]: Using backend LokyBackend with 8 concurrent workers.\n",
      "[Parallel(n_jobs=-1)]: Done  35 out of  35 | elapsed:   14.2s finished\n"
     ]
    },
    {
     "name": "stdout",
     "output_type": "stream",
     "text": [
      "[LibSVM]Best parameters set found on development set:\n",
      "\n",
      "{'C': 0.1}\n",
      "\n",
      "Grid scores on development set:\n",
      "\n",
      "0.554 (+/-0.061) for {'C': 0.001}\n",
      "0.620 (+/-0.066) for {'C': 0.01}\n",
      "0.694 (+/-0.068) for {'C': 0.1}\n",
      "0.691 (+/-0.055) for {'C': 1.0}\n",
      "0.668 (+/-0.035) for {'C': 10.0}\n",
      "0.660 (+/-0.032) for {'C': 100.0}\n",
      "0.660 (+/-0.032) for {'C': 1000.0}\n",
      "\n",
      "######## ('swnt', False, 'logreg') ########\n",
      "Fitting 5 folds for each of 7 candidates, totalling 35 fits\n"
     ]
    },
    {
     "name": "stderr",
     "output_type": "stream",
     "text": [
      "[Parallel(n_jobs=-1)]: Using backend LokyBackend with 8 concurrent workers.\n",
      "[Parallel(n_jobs=-1)]: Done  20 out of  35 | elapsed:    1.4s remaining:    1.0s\n",
      "[Parallel(n_jobs=-1)]: Done  35 out of  35 | elapsed:    2.3s finished\n",
      "/usr/local/lib/python3.6/dist-packages/sklearn/linear_model/logistic.py:433: FutureWarning: Default solver will be changed to 'lbfgs' in 0.22. Specify a solver to silence this warning.\n",
      "  FutureWarning)\n",
      "[Parallel(n_jobs=-1)]: Using backend LokyBackend with 8 concurrent workers.\n"
     ]
    },
    {
     "name": "stdout",
     "output_type": "stream",
     "text": [
      "[LibLinear]Best parameters set found on development set:\n",
      "\n",
      "{'C': 1.0}\n",
      "\n",
      "Grid scores on development set:\n",
      "\n",
      "0.571 (+/-0.034) for {'C': 0.001}\n",
      "0.640 (+/-0.056) for {'C': 0.01}\n",
      "0.695 (+/-0.060) for {'C': 0.1}\n",
      "0.712 (+/-0.062) for {'C': 1.0}\n",
      "0.707 (+/-0.053) for {'C': 10.0}\n",
      "0.693 (+/-0.052) for {'C': 100.0}\n",
      "0.691 (+/-0.058) for {'C': 1000.0}\n",
      "\n",
      "######## ('swnt', False, 'rndfst') ########\n",
      "Fitting 5 folds for each of 16 candidates, totalling 80 fits\n"
     ]
    },
    {
     "name": "stderr",
     "output_type": "stream",
     "text": [
      "[Parallel(n_jobs=-1)]: Done  25 tasks      | elapsed:  7.8min\n",
      "[Parallel(n_jobs=-1)]: Done  80 out of  80 | elapsed: 20.1min finished\n"
     ]
    },
    {
     "name": "stdout",
     "output_type": "stream",
     "text": [
      "Best parameters set found on development set:\n",
      "\n",
      "{'criterion': 'entropy', 'max_depth': 10, 'max_features': 'auto', 'n_estimators': 501}\n",
      "\n",
      "Grid scores on development set:\n",
      "\n",
      "0.680 (+/-0.070) for {'criterion': 'gini', 'max_depth': 10, 'max_features': 'auto', 'n_estimators': 201}\n",
      "0.679 (+/-0.069) for {'criterion': 'gini', 'max_depth': 10, 'max_features': 'auto', 'n_estimators': 501}\n",
      "0.612 (+/-0.064) for {'criterion': 'gini', 'max_depth': 10, 'max_features': 'log2', 'n_estimators': 201}\n",
      "0.659 (+/-0.041) for {'criterion': 'gini', 'max_depth': 10, 'max_features': 'log2', 'n_estimators': 501}\n",
      "0.682 (+/-0.045) for {'criterion': 'gini', 'max_depth': 100, 'max_features': 'auto', 'n_estimators': 201}\n",
      "0.681 (+/-0.048) for {'criterion': 'gini', 'max_depth': 100, 'max_features': 'auto', 'n_estimators': 501}\n",
      "0.663 (+/-0.057) for {'criterion': 'gini', 'max_depth': 100, 'max_features': 'log2', 'n_estimators': 201}\n",
      "0.683 (+/-0.063) for {'criterion': 'gini', 'max_depth': 100, 'max_features': 'log2', 'n_estimators': 501}\n",
      "0.675 (+/-0.076) for {'criterion': 'entropy', 'max_depth': 10, 'max_features': 'auto', 'n_estimators': 201}\n",
      "0.685 (+/-0.061) for {'criterion': 'entropy', 'max_depth': 10, 'max_features': 'auto', 'n_estimators': 501}\n",
      "0.608 (+/-0.062) for {'criterion': 'entropy', 'max_depth': 10, 'max_features': 'log2', 'n_estimators': 201}\n",
      "0.656 (+/-0.036) for {'criterion': 'entropy', 'max_depth': 10, 'max_features': 'log2', 'n_estimators': 501}\n",
      "0.676 (+/-0.046) for {'criterion': 'entropy', 'max_depth': 100, 'max_features': 'auto', 'n_estimators': 201}\n",
      "0.680 (+/-0.049) for {'criterion': 'entropy', 'max_depth': 100, 'max_features': 'auto', 'n_estimators': 501}\n",
      "0.659 (+/-0.051) for {'criterion': 'entropy', 'max_depth': 100, 'max_features': 'log2', 'n_estimators': 201}\n",
      "0.675 (+/-0.058) for {'criterion': 'entropy', 'max_depth': 100, 'max_features': 'log2', 'n_estimators': 501}\n",
      "\n",
      "######## ('swnt', False, 'naibay') ########\n",
      "Fitting 5 folds for each of 1 candidates, totalling 5 fits\n"
     ]
    },
    {
     "name": "stderr",
     "output_type": "stream",
     "text": [
      "[Parallel(n_jobs=-1)]: Using backend LokyBackend with 8 concurrent workers.\n",
      "[Parallel(n_jobs=-1)]: Done   2 out of   5 | elapsed:    4.9s remaining:    7.3s\n",
      "[Parallel(n_jobs=-1)]: Done   5 out of   5 | elapsed:    5.9s remaining:    0.0s\n",
      "[Parallel(n_jobs=-1)]: Done   5 out of   5 | elapsed:    5.9s finished\n"
     ]
    },
    {
     "name": "stdout",
     "output_type": "stream",
     "text": [
      "Best parameters set found on development set:\n",
      "\n",
      "{}\n",
      "\n",
      "Grid scores on development set:\n",
      "\n",
      "0.545 (+/-0.042) for {}\n",
      "\n",
      "######## ('swnt', True, 'svm') ########\n",
      "Fitting 5 folds for each of 7 candidates, totalling 35 fits\n"
     ]
    },
    {
     "name": "stderr",
     "output_type": "stream",
     "text": [
      "[Parallel(n_jobs=-1)]: Using backend LokyBackend with 8 concurrent workers.\n",
      "[Parallel(n_jobs=-1)]: Done  35 out of  35 | elapsed:   13.7s finished\n"
     ]
    },
    {
     "name": "stdout",
     "output_type": "stream",
     "text": [
      "[LibSVM]Best parameters set found on development set:\n",
      "\n",
      "{'C': 0.1}\n",
      "\n",
      "Grid scores on development set:\n",
      "\n",
      "0.436 (+/-0.057) for {'C': 0.001}\n",
      "0.603 (+/-0.062) for {'C': 0.01}\n",
      "0.691 (+/-0.057) for {'C': 0.1}\n",
      "0.687 (+/-0.061) for {'C': 1.0}\n",
      "0.678 (+/-0.054) for {'C': 10.0}\n",
      "0.673 (+/-0.054) for {'C': 100.0}\n",
      "0.673 (+/-0.054) for {'C': 1000.0}\n",
      "\n",
      "######## ('swnt', True, 'logreg') ########\n",
      "Fitting 5 folds for each of 7 candidates, totalling 35 fits\n"
     ]
    },
    {
     "name": "stderr",
     "output_type": "stream",
     "text": [
      "[Parallel(n_jobs=-1)]: Using backend LokyBackend with 8 concurrent workers.\n",
      "[Parallel(n_jobs=-1)]: Done  20 out of  35 | elapsed:    1.3s remaining:    1.0s\n",
      "[Parallel(n_jobs=-1)]: Done  35 out of  35 | elapsed:    2.1s finished\n",
      "/usr/local/lib/python3.6/dist-packages/sklearn/linear_model/logistic.py:433: FutureWarning: Default solver will be changed to 'lbfgs' in 0.22. Specify a solver to silence this warning.\n",
      "  FutureWarning)\n",
      "[Parallel(n_jobs=-1)]: Using backend LokyBackend with 8 concurrent workers.\n"
     ]
    },
    {
     "name": "stdout",
     "output_type": "stream",
     "text": [
      "[LibLinear]Best parameters set found on development set:\n",
      "\n",
      "{'C': 1.0}\n",
      "\n",
      "Grid scores on development set:\n",
      "\n",
      "0.603 (+/-0.051) for {'C': 0.001}\n",
      "0.651 (+/-0.078) for {'C': 0.01}\n",
      "0.692 (+/-0.064) for {'C': 0.1}\n",
      "0.707 (+/-0.056) for {'C': 1.0}\n",
      "0.705 (+/-0.059) for {'C': 10.0}\n",
      "0.693 (+/-0.057) for {'C': 100.0}\n",
      "0.676 (+/-0.043) for {'C': 1000.0}\n",
      "\n",
      "######## ('swnt', True, 'rndfst') ########\n",
      "Fitting 5 folds for each of 16 candidates, totalling 80 fits\n"
     ]
    },
    {
     "name": "stderr",
     "output_type": "stream",
     "text": [
      "[Parallel(n_jobs=-1)]: Done  25 tasks      | elapsed:  7.6min\n",
      "[Parallel(n_jobs=-1)]: Done  80 out of  80 | elapsed: 20.7min finished\n"
     ]
    },
    {
     "name": "stdout",
     "output_type": "stream",
     "text": [
      "Best parameters set found on development set:\n",
      "\n",
      "{'criterion': 'entropy', 'max_depth': 10, 'max_features': 'log2', 'n_estimators': 501}\n",
      "\n",
      "Grid scores on development set:\n",
      "\n",
      "0.676 (+/-0.069) for {'criterion': 'gini', 'max_depth': 10, 'max_features': 'auto', 'n_estimators': 201}\n",
      "0.677 (+/-0.062) for {'criterion': 'gini', 'max_depth': 10, 'max_features': 'auto', 'n_estimators': 501}\n",
      "0.626 (+/-0.037) for {'criterion': 'gini', 'max_depth': 10, 'max_features': 'log2', 'n_estimators': 201}\n",
      "0.678 (+/-0.051) for {'criterion': 'gini', 'max_depth': 10, 'max_features': 'log2', 'n_estimators': 501}\n",
      "0.680 (+/-0.046) for {'criterion': 'gini', 'max_depth': 100, 'max_features': 'auto', 'n_estimators': 201}\n",
      "0.679 (+/-0.058) for {'criterion': 'gini', 'max_depth': 100, 'max_features': 'auto', 'n_estimators': 501}\n",
      "0.664 (+/-0.033) for {'criterion': 'gini', 'max_depth': 100, 'max_features': 'log2', 'n_estimators': 201}\n",
      "0.685 (+/-0.048) for {'criterion': 'gini', 'max_depth': 100, 'max_features': 'log2', 'n_estimators': 501}\n",
      "0.678 (+/-0.076) for {'criterion': 'entropy', 'max_depth': 10, 'max_features': 'auto', 'n_estimators': 201}\n",
      "0.679 (+/-0.063) for {'criterion': 'entropy', 'max_depth': 10, 'max_features': 'auto', 'n_estimators': 501}\n",
      "0.628 (+/-0.037) for {'criterion': 'entropy', 'max_depth': 10, 'max_features': 'log2', 'n_estimators': 201}\n",
      "0.686 (+/-0.050) for {'criterion': 'entropy', 'max_depth': 10, 'max_features': 'log2', 'n_estimators': 501}\n",
      "0.677 (+/-0.051) for {'criterion': 'entropy', 'max_depth': 100, 'max_features': 'auto', 'n_estimators': 201}\n",
      "0.676 (+/-0.052) for {'criterion': 'entropy', 'max_depth': 100, 'max_features': 'auto', 'n_estimators': 501}\n",
      "0.666 (+/-0.044) for {'criterion': 'entropy', 'max_depth': 100, 'max_features': 'log2', 'n_estimators': 201}\n",
      "0.678 (+/-0.047) for {'criterion': 'entropy', 'max_depth': 100, 'max_features': 'log2', 'n_estimators': 501}\n",
      "\n",
      "######## ('swnt', True, 'naibay') ########\n",
      "Fitting 5 folds for each of 1 candidates, totalling 5 fits\n"
     ]
    },
    {
     "name": "stderr",
     "output_type": "stream",
     "text": [
      "[Parallel(n_jobs=-1)]: Using backend LokyBackend with 8 concurrent workers.\n",
      "[Parallel(n_jobs=-1)]: Done   2 out of   5 | elapsed:    4.5s remaining:    6.8s\n",
      "[Parallel(n_jobs=-1)]: Done   5 out of   5 | elapsed:    5.4s remaining:    0.0s\n",
      "[Parallel(n_jobs=-1)]: Done   5 out of   5 | elapsed:    5.5s finished\n"
     ]
    },
    {
     "name": "stdout",
     "output_type": "stream",
     "text": [
      "Best parameters set found on development set:\n",
      "\n",
      "{}\n",
      "\n",
      "Grid scores on development set:\n",
      "\n",
      "0.555 (+/-0.032) for {}\n",
      "\n"
     ]
    }
   ],
   "source": [
    "bpef_nofs.train(train_X_bpef, train_y_bpef)"
   ]
  },
  {
   "cell_type": "code",
   "execution_count": 39,
   "metadata": {},
   "outputs": [
    {
     "name": "stdout",
     "output_type": "stream",
     "text": [
      "######## ('word', False, 'svm') ########\n",
      "######## ('word', False, 'logreg') ########\n",
      "######## ('word', False, 'rndfst') ########\n",
      "######## ('word', False, 'naibay') ########\n",
      "######## ('word', True, 'svm') ########\n",
      "######## ('word', True, 'logreg') ########\n",
      "######## ('word', True, 'rndfst') ########\n",
      "######## ('word', True, 'naibay') ########\n",
      "######## ('pos', False, 'svm') ########\n",
      "######## ('pos', False, 'logreg') ########\n",
      "######## ('pos', False, 'rndfst') ########\n",
      "######## ('pos', False, 'naibay') ########\n",
      "######## ('pos', True, 'svm') ########\n",
      "######## ('pos', True, 'logreg') ########\n",
      "######## ('pos', True, 'rndfst') ########\n",
      "######## ('pos', True, 'naibay') ########\n",
      "######## ('swnt', False, 'svm') ########\n",
      "######## ('swnt', False, 'logreg') ########\n",
      "######## ('swnt', False, 'rndfst') ########\n",
      "######## ('swnt', False, 'naibay') ########\n",
      "######## ('swnt', True, 'svm') ########\n",
      "######## ('swnt', True, 'logreg') ########\n",
      "######## ('swnt', True, 'rndfst') ########\n",
      "######## ('swnt', True, 'naibay') ########\n"
     ]
    }
   ],
   "source": [
    "pred_nofs = bpef_nofs.predict(valid_X_bpef)"
   ]
  },
  {
   "cell_type": "code",
   "execution_count": 40,
   "metadata": {},
   "outputs": [
    {
     "name": "stdout",
     "output_type": "stream",
     "text": [
      "F1 macro score on validation data: 0.7634074089610935\n",
      "F1 micro score on validation data: 0.7625\n"
     ]
    },
    {
     "data": {
      "image/png": "[encoded data removed]",
      "text/plain": [
       "<Figure size 432x288 with 2 Axes>"
      ]
     },
     "metadata": {
      "needs_background": "light"
     },
     "output_type": "display_data"
    }
   ],
   "source": [
    "# 0=positivo, 1=neutro, 2=negativo\n",
    "print('F1 macro score on validation data: ' + str(f1_score(valid_y_bpef, pred_nofs, average='macro')))\n",
    "print('F1 micro score on validation data: ' + str(f1_score(valid_y_bpef, pred_nofs, average='micro')))\n",
    "cm_fs_bpef_nofs = confusion_matrix(valid_y_bpef, pred_nofs, labels=[0, 1, 2])\n",
    "ax = sns.heatmap(cm_fs_bpef_nofs, annot=True, xticklabels=['positive','neutral','negative'], yticklabels=['positive','neutral','negative'],fmt=\"d\")\n",
    "ax.xaxis.set_ticks_position('top')"
   ]
  },
  {
   "cell_type": "code",
   "execution_count": null,
   "metadata": {},
   "outputs": [],
   "source": []
  },
  {
   "cell_type": "code",
   "execution_count": 41,
   "metadata": {},
   "outputs": [
    {
     "name": "stdout",
     "output_type": "stream",
     "text": [
      "('word', False) 2671\n",
      "('word', True) 2633\n",
      "('pos', False) 3209\n",
      "('pos', True) 3132\n",
      "('swnt', False) 2641\n",
      "('swnt', True) 2610\n"
     ]
    }
   ],
   "source": [
    "# feature selection\n",
    "# cut less informative features -> cutoff at 0.0019 (heuristic)\n",
    "for k in dataset_dict.keys():\n",
    "    dataset_dict[k].cut_features(0.0004)\n",
    "    print(str(k) + ' ' + str(len(dataset_dict[k].selected_features_after_fs)))"
   ]
  },
  {
   "cell_type": "markdown",
   "metadata": {},
   "source": [
    "With feature selection"
   ]
  },
  {
   "cell_type": "code",
   "execution_count": 42,
   "metadata": {},
   "outputs": [],
   "source": [
    "bpef = BPEF(dataset_dict)"
   ]
  },
  {
   "cell_type": "code",
   "execution_count": 43,
   "metadata": {
    "scrolled": true
   },
   "outputs": [
    {
     "name": "stdout",
     "output_type": "stream",
     "text": [
      "######## ('word', False, 'svm') ########\n",
      "Fitting 5 folds for each of 7 candidates, totalling 35 fits\n"
     ]
    },
    {
     "name": "stderr",
     "output_type": "stream",
     "text": [
      "[Parallel(n_jobs=-1)]: Using backend LokyBackend with 8 concurrent workers.\n",
      "[Parallel(n_jobs=-1)]: Done  35 out of  35 | elapsed:    8.7s finished\n"
     ]
    },
    {
     "name": "stdout",
     "output_type": "stream",
     "text": [
      "[LibSVM]Best parameters set found on development set:\n",
      "\n",
      "{'C': 0.1}\n",
      "\n",
      "Grid scores on development set:\n",
      "\n",
      "0.565 (+/-0.055) for {'C': 0.001}\n",
      "0.622 (+/-0.059) for {'C': 0.01}\n",
      "0.718 (+/-0.079) for {'C': 0.1}\n",
      "0.711 (+/-0.040) for {'C': 1.0}\n",
      "0.680 (+/-0.037) for {'C': 10.0}\n",
      "0.636 (+/-0.038) for {'C': 100.0}\n",
      "0.621 (+/-0.050) for {'C': 1000.0}\n",
      "\n",
      "######## ('word', False, 'logreg') ########\n",
      "Fitting 5 folds for each of 7 candidates, totalling 35 fits\n"
     ]
    },
    {
     "name": "stderr",
     "output_type": "stream",
     "text": [
      "[Parallel(n_jobs=-1)]: Using backend LokyBackend with 8 concurrent workers.\n",
      "[Parallel(n_jobs=-1)]: Done  20 out of  35 | elapsed:    0.9s remaining:    0.7s\n",
      "[Parallel(n_jobs=-1)]: Done  35 out of  35 | elapsed:    1.4s finished\n",
      "/usr/local/lib/python3.6/dist-packages/sklearn/linear_model/logistic.py:433: FutureWarning: Default solver will be changed to 'lbfgs' in 0.22. Specify a solver to silence this warning.\n",
      "  FutureWarning)\n",
      "[Parallel(n_jobs=-1)]: Using backend LokyBackend with 8 concurrent workers.\n"
     ]
    },
    {
     "name": "stdout",
     "output_type": "stream",
     "text": [
      "[LibLinear]Best parameters set found on development set:\n",
      "\n",
      "{'C': 1.0}\n",
      "\n",
      "Grid scores on development set:\n",
      "\n",
      "0.583 (+/-0.050) for {'C': 0.001}\n",
      "0.648 (+/-0.064) for {'C': 0.01}\n",
      "0.719 (+/-0.058) for {'C': 0.1}\n",
      "0.742 (+/-0.051) for {'C': 1.0}\n",
      "0.729 (+/-0.039) for {'C': 10.0}\n",
      "0.692 (+/-0.038) for {'C': 100.0}\n",
      "0.662 (+/-0.044) for {'C': 1000.0}\n",
      "\n",
      "######## ('word', False, 'rndfst') ########\n",
      "Fitting 5 folds for each of 16 candidates, totalling 80 fits\n"
     ]
    },
    {
     "name": "stderr",
     "output_type": "stream",
     "text": [
      "[Parallel(n_jobs=-1)]: Done  25 tasks      | elapsed:   49.0s\n",
      "[Parallel(n_jobs=-1)]: Done  80 out of  80 | elapsed:  3.0min finished\n"
     ]
    },
    {
     "name": "stdout",
     "output_type": "stream",
     "text": [
      "Best parameters set found on development set:\n",
      "\n",
      "{'criterion': 'gini', 'max_depth': 100, 'max_features': 'log2', 'n_estimators': 501}\n",
      "\n",
      "Grid scores on development set:\n",
      "\n",
      "0.672 (+/-0.053) for {'criterion': 'gini', 'max_depth': 10, 'max_features': 'auto', 'n_estimators': 201}\n",
      "0.679 (+/-0.047) for {'criterion': 'gini', 'max_depth': 10, 'max_features': 'auto', 'n_estimators': 501}\n",
      "0.698 (+/-0.077) for {'criterion': 'gini', 'max_depth': 10, 'max_features': 'log2', 'n_estimators': 201}\n",
      "0.705 (+/-0.064) for {'criterion': 'gini', 'max_depth': 10, 'max_features': 'log2', 'n_estimators': 501}\n",
      "0.689 (+/-0.051) for {'criterion': 'gini', 'max_depth': 100, 'max_features': 'auto', 'n_estimators': 201}\n",
      "0.695 (+/-0.043) for {'criterion': 'gini', 'max_depth': 100, 'max_features': 'auto', 'n_estimators': 501}\n",
      "0.715 (+/-0.054) for {'criterion': 'gini', 'max_depth': 100, 'max_features': 'log2', 'n_estimators': 201}\n",
      "0.724 (+/-0.050) for {'criterion': 'gini', 'max_depth': 100, 'max_features': 'log2', 'n_estimators': 501}\n",
      "0.678 (+/-0.045) for {'criterion': 'entropy', 'max_depth': 10, 'max_features': 'auto', 'n_estimators': 201}\n",
      "0.677 (+/-0.038) for {'criterion': 'entropy', 'max_depth': 10, 'max_features': 'auto', 'n_estimators': 501}\n",
      "0.701 (+/-0.070) for {'criterion': 'entropy', 'max_depth': 10, 'max_features': 'log2', 'n_estimators': 201}\n",
      "0.709 (+/-0.068) for {'criterion': 'entropy', 'max_depth': 10, 'max_features': 'log2', 'n_estimators': 501}\n",
      "0.691 (+/-0.045) for {'criterion': 'entropy', 'max_depth': 100, 'max_features': 'auto', 'n_estimators': 201}\n",
      "0.691 (+/-0.043) for {'criterion': 'entropy', 'max_depth': 100, 'max_features': 'auto', 'n_estimators': 501}\n",
      "0.708 (+/-0.066) for {'criterion': 'entropy', 'max_depth': 100, 'max_features': 'log2', 'n_estimators': 201}\n",
      "0.713 (+/-0.058) for {'criterion': 'entropy', 'max_depth': 100, 'max_features': 'log2', 'n_estimators': 501}\n",
      "\n",
      "######## ('word', False, 'naibay') ########\n",
      "Fitting 5 folds for each of 1 candidates, totalling 5 fits\n"
     ]
    },
    {
     "name": "stderr",
     "output_type": "stream",
     "text": [
      "[Parallel(n_jobs=-1)]: Using backend LokyBackend with 8 concurrent workers.\n",
      "[Parallel(n_jobs=-1)]: Done   2 out of   5 | elapsed:    0.7s remaining:    1.0s\n",
      "[Parallel(n_jobs=-1)]: Done   5 out of   5 | elapsed:    0.8s remaining:    0.0s\n",
      "[Parallel(n_jobs=-1)]: Done   5 out of   5 | elapsed:    0.8s finished\n"
     ]
    },
    {
     "name": "stdout",
     "output_type": "stream",
     "text": [
      "Best parameters set found on development set:\n",
      "\n",
      "{}\n",
      "\n",
      "Grid scores on development set:\n",
      "\n",
      "0.724 (+/-0.051) for {}\n",
      "\n",
      "######## ('word', True, 'svm') ########\n",
      "Fitting 5 folds for each of 7 candidates, totalling 35 fits\n"
     ]
    },
    {
     "name": "stderr",
     "output_type": "stream",
     "text": [
      "[Parallel(n_jobs=-1)]: Using backend LokyBackend with 8 concurrent workers.\n",
      "[Parallel(n_jobs=-1)]: Done  35 out of  35 | elapsed:    7.3s finished\n"
     ]
    },
    {
     "name": "stdout",
     "output_type": "stream",
     "text": [
      "[LibSVM]Best parameters set found on development set:\n",
      "\n",
      "{'C': 0.1}\n",
      "\n",
      "Grid scores on development set:\n",
      "\n",
      "0.460 (+/-0.084) for {'C': 0.001}\n",
      "0.597 (+/-0.047) for {'C': 0.01}\n",
      "0.724 (+/-0.056) for {'C': 0.1}\n",
      "0.717 (+/-0.021) for {'C': 1.0}\n",
      "0.676 (+/-0.032) for {'C': 10.0}\n",
      "0.642 (+/-0.022) for {'C': 100.0}\n",
      "0.641 (+/-0.022) for {'C': 1000.0}\n",
      "\n",
      "######## ('word', True, 'logreg') ########\n",
      "Fitting 5 folds for each of 7 candidates, totalling 35 fits\n"
     ]
    },
    {
     "name": "stderr",
     "output_type": "stream",
     "text": [
      "[Parallel(n_jobs=-1)]: Using backend LokyBackend with 8 concurrent workers.\n",
      "[Parallel(n_jobs=-1)]: Done  20 out of  35 | elapsed:    0.9s remaining:    0.7s\n",
      "[Parallel(n_jobs=-1)]: Done  35 out of  35 | elapsed:    1.4s finished\n",
      "/usr/local/lib/python3.6/dist-packages/sklearn/linear_model/logistic.py:433: FutureWarning: Default solver will be changed to 'lbfgs' in 0.22. Specify a solver to silence this warning.\n",
      "  FutureWarning)\n",
      "[Parallel(n_jobs=-1)]: Using backend LokyBackend with 8 concurrent workers.\n"
     ]
    },
    {
     "name": "stdout",
     "output_type": "stream",
     "text": [
      "[LibLinear]Best parameters set found on development set:\n",
      "\n",
      "{'C': 1.0}\n",
      "\n",
      "Grid scores on development set:\n",
      "\n",
      "0.643 (+/-0.056) for {'C': 0.001}\n",
      "0.675 (+/-0.057) for {'C': 0.01}\n",
      "0.723 (+/-0.053) for {'C': 0.1}\n",
      "0.745 (+/-0.041) for {'C': 1.0}\n",
      "0.737 (+/-0.019) for {'C': 10.0}\n",
      "0.703 (+/-0.034) for {'C': 100.0}\n",
      "0.668 (+/-0.034) for {'C': 1000.0}\n",
      "\n",
      "######## ('word', True, 'rndfst') ########\n",
      "Fitting 5 folds for each of 16 candidates, totalling 80 fits\n"
     ]
    },
    {
     "name": "stderr",
     "output_type": "stream",
     "text": [
      "[Parallel(n_jobs=-1)]: Done  25 tasks      | elapsed:   54.6s\n",
      "[Parallel(n_jobs=-1)]: Done  80 out of  80 | elapsed:  3.3min finished\n"
     ]
    },
    {
     "name": "stdout",
     "output_type": "stream",
     "text": [
      "Best parameters set found on development set:\n",
      "\n",
      "{'criterion': 'gini', 'max_depth': 10, 'max_features': 'log2', 'n_estimators': 501}\n",
      "\n",
      "Grid scores on development set:\n",
      "\n",
      "0.677 (+/-0.041) for {'criterion': 'gini', 'max_depth': 10, 'max_features': 'auto', 'n_estimators': 201}\n",
      "0.680 (+/-0.037) for {'criterion': 'gini', 'max_depth': 10, 'max_features': 'auto', 'n_estimators': 501}\n",
      "0.687 (+/-0.046) for {'criterion': 'gini', 'max_depth': 10, 'max_features': 'log2', 'n_estimators': 201}\n",
      "0.706 (+/-0.063) for {'criterion': 'gini', 'max_depth': 10, 'max_features': 'log2', 'n_estimators': 501}\n",
      "0.697 (+/-0.030) for {'criterion': 'gini', 'max_depth': 100, 'max_features': 'auto', 'n_estimators': 201}\n",
      "0.696 (+/-0.029) for {'criterion': 'gini', 'max_depth': 100, 'max_features': 'auto', 'n_estimators': 501}\n",
      "0.705 (+/-0.039) for {'criterion': 'gini', 'max_depth': 100, 'max_features': 'log2', 'n_estimators': 201}\n",
      "0.706 (+/-0.047) for {'criterion': 'gini', 'max_depth': 100, 'max_features': 'log2', 'n_estimators': 501}\n",
      "0.678 (+/-0.054) for {'criterion': 'entropy', 'max_depth': 10, 'max_features': 'auto', 'n_estimators': 201}\n",
      "0.679 (+/-0.047) for {'criterion': 'entropy', 'max_depth': 10, 'max_features': 'auto', 'n_estimators': 501}\n",
      "0.687 (+/-0.045) for {'criterion': 'entropy', 'max_depth': 10, 'max_features': 'log2', 'n_estimators': 201}\n",
      "0.706 (+/-0.057) for {'criterion': 'entropy', 'max_depth': 10, 'max_features': 'log2', 'n_estimators': 501}\n",
      "0.693 (+/-0.032) for {'criterion': 'entropy', 'max_depth': 100, 'max_features': 'auto', 'n_estimators': 201}\n",
      "0.694 (+/-0.031) for {'criterion': 'entropy', 'max_depth': 100, 'max_features': 'auto', 'n_estimators': 501}\n",
      "0.704 (+/-0.049) for {'criterion': 'entropy', 'max_depth': 100, 'max_features': 'log2', 'n_estimators': 201}\n",
      "0.704 (+/-0.037) for {'criterion': 'entropy', 'max_depth': 100, 'max_features': 'log2', 'n_estimators': 501}\n",
      "\n",
      "######## ('word', True, 'naibay') ########\n",
      "Fitting 5 folds for each of 1 candidates, totalling 5 fits\n"
     ]
    },
    {
     "name": "stderr",
     "output_type": "stream",
     "text": [
      "[Parallel(n_jobs=-1)]: Using backend LokyBackend with 8 concurrent workers.\n",
      "[Parallel(n_jobs=-1)]: Done   2 out of   5 | elapsed:    0.7s remaining:    1.0s\n",
      "[Parallel(n_jobs=-1)]: Done   5 out of   5 | elapsed:    0.8s remaining:    0.0s\n",
      "[Parallel(n_jobs=-1)]: Done   5 out of   5 | elapsed:    0.8s finished\n"
     ]
    },
    {
     "name": "stdout",
     "output_type": "stream",
     "text": [
      "Best parameters set found on development set:\n",
      "\n",
      "{}\n",
      "\n",
      "Grid scores on development set:\n",
      "\n",
      "0.719 (+/-0.040) for {}\n",
      "\n",
      "######## ('pos', False, 'svm') ########\n",
      "Fitting 5 folds for each of 7 candidates, totalling 35 fits\n"
     ]
    },
    {
     "name": "stderr",
     "output_type": "stream",
     "text": [
      "[Parallel(n_jobs=-1)]: Using backend LokyBackend with 8 concurrent workers.\n",
      "[Parallel(n_jobs=-1)]: Done  35 out of  35 | elapsed:   19.5s finished\n"
     ]
    },
    {
     "name": "stdout",
     "output_type": "stream",
     "text": [
      "[LibSVM]Best parameters set found on development set:\n",
      "\n",
      "{'C': 0.1}\n",
      "\n",
      "Grid scores on development set:\n",
      "\n",
      "0.520 (+/-0.029) for {'C': 0.001}\n",
      "0.618 (+/-0.050) for {'C': 0.01}\n",
      "0.688 (+/-0.030) for {'C': 0.1}\n",
      "0.679 (+/-0.032) for {'C': 1.0}\n",
      "0.637 (+/-0.063) for {'C': 10.0}\n",
      "0.612 (+/-0.058) for {'C': 100.0}\n",
      "0.611 (+/-0.063) for {'C': 1000.0}\n",
      "\n",
      "######## ('pos', False, 'logreg') ########\n",
      "Fitting 5 folds for each of 7 candidates, totalling 35 fits\n"
     ]
    },
    {
     "name": "stderr",
     "output_type": "stream",
     "text": [
      "[Parallel(n_jobs=-1)]: Using backend LokyBackend with 8 concurrent workers.\n",
      "[Parallel(n_jobs=-1)]: Done  20 out of  35 | elapsed:    1.3s remaining:    1.0s\n",
      "[Parallel(n_jobs=-1)]: Done  35 out of  35 | elapsed:    2.5s finished\n",
      "/usr/local/lib/python3.6/dist-packages/sklearn/linear_model/logistic.py:433: FutureWarning: Default solver will be changed to 'lbfgs' in 0.22. Specify a solver to silence this warning.\n",
      "  FutureWarning)\n",
      "[Parallel(n_jobs=-1)]: Using backend LokyBackend with 8 concurrent workers.\n"
     ]
    },
    {
     "name": "stdout",
     "output_type": "stream",
     "text": [
      "[LibLinear]Best parameters set found on development set:\n",
      "\n",
      "{'C': 1.0}\n",
      "\n",
      "Grid scores on development set:\n",
      "\n",
      "0.503 (+/-0.031) for {'C': 0.001}\n",
      "0.601 (+/-0.058) for {'C': 0.01}\n",
      "0.675 (+/-0.038) for {'C': 0.1}\n",
      "0.708 (+/-0.021) for {'C': 1.0}\n",
      "0.702 (+/-0.041) for {'C': 10.0}\n",
      "0.682 (+/-0.034) for {'C': 100.0}\n",
      "0.654 (+/-0.058) for {'C': 1000.0}\n",
      "\n",
      "######## ('pos', False, 'rndfst') ########\n",
      "Fitting 5 folds for each of 16 candidates, totalling 80 fits\n"
     ]
    },
    {
     "name": "stderr",
     "output_type": "stream",
     "text": [
      "[Parallel(n_jobs=-1)]: Done  25 tasks      | elapsed:   49.5s\n",
      "[Parallel(n_jobs=-1)]: Done  80 out of  80 | elapsed:  2.8min finished\n"
     ]
    },
    {
     "name": "stdout",
     "output_type": "stream",
     "text": [
      "Best parameters set found on development set:\n",
      "\n",
      "{'criterion': 'entropy', 'max_depth': 100, 'max_features': 'log2', 'n_estimators': 501}\n",
      "\n",
      "Grid scores on development set:\n",
      "\n",
      "0.612 (+/-0.038) for {'criterion': 'gini', 'max_depth': 10, 'max_features': 'auto', 'n_estimators': 201}\n",
      "0.614 (+/-0.033) for {'criterion': 'gini', 'max_depth': 10, 'max_features': 'auto', 'n_estimators': 501}\n",
      "0.612 (+/-0.045) for {'criterion': 'gini', 'max_depth': 10, 'max_features': 'log2', 'n_estimators': 201}\n",
      "0.618 (+/-0.050) for {'criterion': 'gini', 'max_depth': 10, 'max_features': 'log2', 'n_estimators': 501}\n",
      "0.634 (+/-0.040) for {'criterion': 'gini', 'max_depth': 100, 'max_features': 'auto', 'n_estimators': 201}\n",
      "0.637 (+/-0.041) for {'criterion': 'gini', 'max_depth': 100, 'max_features': 'auto', 'n_estimators': 501}\n",
      "0.650 (+/-0.048) for {'criterion': 'gini', 'max_depth': 100, 'max_features': 'log2', 'n_estimators': 201}\n",
      "0.649 (+/-0.046) for {'criterion': 'gini', 'max_depth': 100, 'max_features': 'log2', 'n_estimators': 501}\n",
      "0.607 (+/-0.042) for {'criterion': 'entropy', 'max_depth': 10, 'max_features': 'auto', 'n_estimators': 201}\n",
      "0.615 (+/-0.046) for {'criterion': 'entropy', 'max_depth': 10, 'max_features': 'auto', 'n_estimators': 501}\n",
      "0.622 (+/-0.044) for {'criterion': 'entropy', 'max_depth': 10, 'max_features': 'log2', 'n_estimators': 201}\n",
      "0.619 (+/-0.037) for {'criterion': 'entropy', 'max_depth': 10, 'max_features': 'log2', 'n_estimators': 501}\n",
      "0.640 (+/-0.048) for {'criterion': 'entropy', 'max_depth': 100, 'max_features': 'auto', 'n_estimators': 201}\n",
      "0.635 (+/-0.050) for {'criterion': 'entropy', 'max_depth': 100, 'max_features': 'auto', 'n_estimators': 501}\n",
      "0.648 (+/-0.047) for {'criterion': 'entropy', 'max_depth': 100, 'max_features': 'log2', 'n_estimators': 201}\n",
      "0.650 (+/-0.029) for {'criterion': 'entropy', 'max_depth': 100, 'max_features': 'log2', 'n_estimators': 501}\n",
      "\n",
      "######## ('pos', False, 'naibay') ########\n",
      "Fitting 5 folds for each of 1 candidates, totalling 5 fits\n"
     ]
    },
    {
     "name": "stderr",
     "output_type": "stream",
     "text": [
      "[Parallel(n_jobs=-1)]: Using backend LokyBackend with 8 concurrent workers.\n",
      "[Parallel(n_jobs=-1)]: Done   2 out of   5 | elapsed:    0.8s remaining:    1.2s\n",
      "[Parallel(n_jobs=-1)]: Done   5 out of   5 | elapsed:    1.0s remaining:    0.0s\n",
      "[Parallel(n_jobs=-1)]: Done   5 out of   5 | elapsed:    1.0s finished\n"
     ]
    },
    {
     "name": "stdout",
     "output_type": "stream",
     "text": [
      "Best parameters set found on development set:\n",
      "\n",
      "{}\n",
      "\n",
      "Grid scores on development set:\n",
      "\n",
      "0.734 (+/-0.037) for {}\n",
      "\n",
      "######## ('pos', True, 'svm') ########\n",
      "Fitting 5 folds for each of 7 candidates, totalling 35 fits\n"
     ]
    },
    {
     "name": "stderr",
     "output_type": "stream",
     "text": [
      "[Parallel(n_jobs=-1)]: Using backend LokyBackend with 8 concurrent workers.\n",
      "[Parallel(n_jobs=-1)]: Done  35 out of  35 | elapsed:   18.2s finished\n"
     ]
    },
    {
     "name": "stdout",
     "output_type": "stream",
     "text": [
      "[LibSVM]Best parameters set found on development set:\n",
      "\n",
      "{'C': 0.1}\n",
      "\n",
      "Grid scores on development set:\n",
      "\n",
      "0.503 (+/-0.034) for {'C': 0.001}\n",
      "0.615 (+/-0.049) for {'C': 0.01}\n",
      "0.688 (+/-0.038) for {'C': 0.1}\n",
      "0.677 (+/-0.027) for {'C': 1.0}\n",
      "0.650 (+/-0.017) for {'C': 10.0}\n",
      "0.621 (+/-0.015) for {'C': 100.0}\n",
      "0.607 (+/-0.004) for {'C': 1000.0}\n",
      "\n",
      "######## ('pos', True, 'logreg') ########\n",
      "Fitting 5 folds for each of 7 candidates, totalling 35 fits\n"
     ]
    },
    {
     "name": "stderr",
     "output_type": "stream",
     "text": [
      "[Parallel(n_jobs=-1)]: Using backend LokyBackend with 8 concurrent workers.\n",
      "[Parallel(n_jobs=-1)]: Done  20 out of  35 | elapsed:    1.4s remaining:    1.1s\n",
      "[Parallel(n_jobs=-1)]: Done  35 out of  35 | elapsed:    2.4s finished\n",
      "/usr/local/lib/python3.6/dist-packages/sklearn/linear_model/logistic.py:433: FutureWarning: Default solver will be changed to 'lbfgs' in 0.22. Specify a solver to silence this warning.\n",
      "  FutureWarning)\n",
      "[Parallel(n_jobs=-1)]: Using backend LokyBackend with 8 concurrent workers.\n"
     ]
    },
    {
     "name": "stdout",
     "output_type": "stream",
     "text": [
      "[LibLinear]Best parameters set found on development set:\n",
      "\n",
      "{'C': 1.0}\n",
      "\n",
      "Grid scores on development set:\n",
      "\n",
      "0.498 (+/-0.047) for {'C': 0.001}\n",
      "0.610 (+/-0.065) for {'C': 0.01}\n",
      "0.674 (+/-0.036) for {'C': 0.1}\n",
      "0.716 (+/-0.025) for {'C': 1.0}\n",
      "0.707 (+/-0.020) for {'C': 10.0}\n",
      "0.682 (+/-0.019) for {'C': 100.0}\n",
      "0.663 (+/-0.016) for {'C': 1000.0}\n",
      "\n",
      "######## ('pos', True, 'rndfst') ########\n",
      "Fitting 5 folds for each of 16 candidates, totalling 80 fits\n"
     ]
    },
    {
     "name": "stderr",
     "output_type": "stream",
     "text": [
      "[Parallel(n_jobs=-1)]: Done  25 tasks      | elapsed:   50.0s\n",
      "[Parallel(n_jobs=-1)]: Done  80 out of  80 | elapsed:  2.8min finished\n"
     ]
    },
    {
     "name": "stdout",
     "output_type": "stream",
     "text": [
      "Best parameters set found on development set:\n",
      "\n",
      "{'criterion': 'gini', 'max_depth': 100, 'max_features': 'log2', 'n_estimators': 501}\n",
      "\n",
      "Grid scores on development set:\n",
      "\n",
      "0.625 (+/-0.070) for {'criterion': 'gini', 'max_depth': 10, 'max_features': 'auto', 'n_estimators': 201}\n",
      "0.625 (+/-0.067) for {'criterion': 'gini', 'max_depth': 10, 'max_features': 'auto', 'n_estimators': 501}\n",
      "0.634 (+/-0.056) for {'criterion': 'gini', 'max_depth': 10, 'max_features': 'log2', 'n_estimators': 201}\n",
      "0.637 (+/-0.066) for {'criterion': 'gini', 'max_depth': 10, 'max_features': 'log2', 'n_estimators': 501}\n",
      "0.640 (+/-0.045) for {'criterion': 'gini', 'max_depth': 100, 'max_features': 'auto', 'n_estimators': 201}\n",
      "0.639 (+/-0.051) for {'criterion': 'gini', 'max_depth': 100, 'max_features': 'auto', 'n_estimators': 501}\n",
      "0.654 (+/-0.051) for {'criterion': 'gini', 'max_depth': 100, 'max_features': 'log2', 'n_estimators': 201}\n",
      "0.655 (+/-0.040) for {'criterion': 'gini', 'max_depth': 100, 'max_features': 'log2', 'n_estimators': 501}\n",
      "0.626 (+/-0.068) for {'criterion': 'entropy', 'max_depth': 10, 'max_features': 'auto', 'n_estimators': 201}\n",
      "0.628 (+/-0.065) for {'criterion': 'entropy', 'max_depth': 10, 'max_features': 'auto', 'n_estimators': 501}\n",
      "0.648 (+/-0.052) for {'criterion': 'entropy', 'max_depth': 10, 'max_features': 'log2', 'n_estimators': 201}\n",
      "0.640 (+/-0.064) for {'criterion': 'entropy', 'max_depth': 10, 'max_features': 'log2', 'n_estimators': 501}\n",
      "0.635 (+/-0.058) for {'criterion': 'entropy', 'max_depth': 100, 'max_features': 'auto', 'n_estimators': 201}\n",
      "0.638 (+/-0.052) for {'criterion': 'entropy', 'max_depth': 100, 'max_features': 'auto', 'n_estimators': 501}\n",
      "0.647 (+/-0.039) for {'criterion': 'entropy', 'max_depth': 100, 'max_features': 'log2', 'n_estimators': 201}\n",
      "0.654 (+/-0.034) for {'criterion': 'entropy', 'max_depth': 100, 'max_features': 'log2', 'n_estimators': 501}\n",
      "\n",
      "######## ('pos', True, 'naibay') ########\n",
      "Fitting 5 folds for each of 1 candidates, totalling 5 fits\n"
     ]
    },
    {
     "name": "stderr",
     "output_type": "stream",
     "text": [
      "[Parallel(n_jobs=-1)]: Using backend LokyBackend with 8 concurrent workers.\n",
      "[Parallel(n_jobs=-1)]: Done   2 out of   5 | elapsed:    0.7s remaining:    1.1s\n",
      "[Parallel(n_jobs=-1)]: Done   5 out of   5 | elapsed:    0.9s remaining:    0.0s\n",
      "[Parallel(n_jobs=-1)]: Done   5 out of   5 | elapsed:    0.9s finished\n"
     ]
    },
    {
     "name": "stdout",
     "output_type": "stream",
     "text": [
      "Best parameters set found on development set:\n",
      "\n",
      "{}\n",
      "\n",
      "Grid scores on development set:\n",
      "\n",
      "0.722 (+/-0.026) for {}\n",
      "\n",
      "######## ('swnt', False, 'svm') ########\n",
      "Fitting 5 folds for each of 7 candidates, totalling 35 fits\n"
     ]
    },
    {
     "name": "stderr",
     "output_type": "stream",
     "text": [
      "[Parallel(n_jobs=-1)]: Using backend LokyBackend with 8 concurrent workers.\n",
      "[Parallel(n_jobs=-1)]: Done  35 out of  35 | elapsed:    8.6s finished\n"
     ]
    },
    {
     "name": "stdout",
     "output_type": "stream",
     "text": [
      "[LibSVM]Best parameters set found on development set:\n",
      "\n",
      "{'C': 0.1}\n",
      "\n",
      "Grid scores on development set:\n",
      "\n",
      "0.550 (+/-0.062) for {'C': 0.001}\n",
      "0.620 (+/-0.063) for {'C': 0.01}\n",
      "0.711 (+/-0.066) for {'C': 0.1}\n",
      "0.708 (+/-0.054) for {'C': 1.0}\n",
      "0.677 (+/-0.039) for {'C': 10.0}\n",
      "0.634 (+/-0.056) for {'C': 100.0}\n",
      "0.616 (+/-0.044) for {'C': 1000.0}\n",
      "\n",
      "######## ('swnt', False, 'logreg') ########\n",
      "Fitting 5 folds for each of 7 candidates, totalling 35 fits\n"
     ]
    },
    {
     "name": "stderr",
     "output_type": "stream",
     "text": [
      "[Parallel(n_jobs=-1)]: Using backend LokyBackend with 8 concurrent workers.\n",
      "[Parallel(n_jobs=-1)]: Done  35 out of  35 | elapsed:    1.6s finished\n",
      "/usr/local/lib/python3.6/dist-packages/sklearn/linear_model/logistic.py:433: FutureWarning: Default solver will be changed to 'lbfgs' in 0.22. Specify a solver to silence this warning.\n",
      "  FutureWarning)\n",
      "[Parallel(n_jobs=-1)]: Using backend LokyBackend with 8 concurrent workers.\n"
     ]
    },
    {
     "name": "stdout",
     "output_type": "stream",
     "text": [
      "[LibLinear]Best parameters set found on development set:\n",
      "\n",
      "{'C': 1.0}\n",
      "\n",
      "Grid scores on development set:\n",
      "\n",
      "0.572 (+/-0.032) for {'C': 0.001}\n",
      "0.644 (+/-0.058) for {'C': 0.01}\n",
      "0.711 (+/-0.060) for {'C': 0.1}\n",
      "0.732 (+/-0.059) for {'C': 1.0}\n",
      "0.722 (+/-0.043) for {'C': 10.0}\n",
      "0.696 (+/-0.037) for {'C': 100.0}\n",
      "0.664 (+/-0.049) for {'C': 1000.0}\n",
      "\n",
      "######## ('swnt', False, 'rndfst') ########\n",
      "Fitting 5 folds for each of 16 candidates, totalling 80 fits\n"
     ]
    },
    {
     "name": "stderr",
     "output_type": "stream",
     "text": [
      "[Parallel(n_jobs=-1)]: Done  25 tasks      | elapsed:   49.5s\n",
      "[Parallel(n_jobs=-1)]: Done  80 out of  80 | elapsed:  2.8min finished\n"
     ]
    },
    {
     "name": "stdout",
     "output_type": "stream",
     "text": [
      "Best parameters set found on development set:\n",
      "\n",
      "{'criterion': 'entropy', 'max_depth': 100, 'max_features': 'log2', 'n_estimators': 201}\n",
      "\n",
      "Grid scores on development set:\n",
      "\n",
      "0.674 (+/-0.062) for {'criterion': 'gini', 'max_depth': 10, 'max_features': 'auto', 'n_estimators': 201}\n",
      "0.673 (+/-0.062) for {'criterion': 'gini', 'max_depth': 10, 'max_features': 'auto', 'n_estimators': 501}\n",
      "0.687 (+/-0.076) for {'criterion': 'gini', 'max_depth': 10, 'max_features': 'log2', 'n_estimators': 201}\n",
      "0.698 (+/-0.077) for {'criterion': 'gini', 'max_depth': 10, 'max_features': 'log2', 'n_estimators': 501}\n",
      "0.677 (+/-0.045) for {'criterion': 'gini', 'max_depth': 100, 'max_features': 'auto', 'n_estimators': 201}\n",
      "0.675 (+/-0.037) for {'criterion': 'gini', 'max_depth': 100, 'max_features': 'auto', 'n_estimators': 501}\n",
      "0.698 (+/-0.050) for {'criterion': 'gini', 'max_depth': 100, 'max_features': 'log2', 'n_estimators': 201}\n",
      "0.700 (+/-0.059) for {'criterion': 'gini', 'max_depth': 100, 'max_features': 'log2', 'n_estimators': 501}\n",
      "0.671 (+/-0.059) for {'criterion': 'entropy', 'max_depth': 10, 'max_features': 'auto', 'n_estimators': 201}\n",
      "0.673 (+/-0.060) for {'criterion': 'entropy', 'max_depth': 10, 'max_features': 'auto', 'n_estimators': 501}\n",
      "0.688 (+/-0.069) for {'criterion': 'entropy', 'max_depth': 10, 'max_features': 'log2', 'n_estimators': 201}\n",
      "0.696 (+/-0.067) for {'criterion': 'entropy', 'max_depth': 10, 'max_features': 'log2', 'n_estimators': 501}\n",
      "0.673 (+/-0.040) for {'criterion': 'entropy', 'max_depth': 100, 'max_features': 'auto', 'n_estimators': 201}\n",
      "0.673 (+/-0.035) for {'criterion': 'entropy', 'max_depth': 100, 'max_features': 'auto', 'n_estimators': 501}\n",
      "0.701 (+/-0.050) for {'criterion': 'entropy', 'max_depth': 100, 'max_features': 'log2', 'n_estimators': 201}\n",
      "0.695 (+/-0.049) for {'criterion': 'entropy', 'max_depth': 100, 'max_features': 'log2', 'n_estimators': 501}\n",
      "\n",
      "######## ('swnt', False, 'naibay') ########\n",
      "Fitting 5 folds for each of 1 candidates, totalling 5 fits\n"
     ]
    },
    {
     "name": "stderr",
     "output_type": "stream",
     "text": [
      "[Parallel(n_jobs=-1)]: Using backend LokyBackend with 8 concurrent workers.\n",
      "[Parallel(n_jobs=-1)]: Done   2 out of   5 | elapsed:    0.7s remaining:    1.0s\n",
      "[Parallel(n_jobs=-1)]: Done   5 out of   5 | elapsed:    0.8s remaining:    0.0s\n",
      "[Parallel(n_jobs=-1)]: Done   5 out of   5 | elapsed:    0.8s finished\n"
     ]
    },
    {
     "name": "stdout",
     "output_type": "stream",
     "text": [
      "Best parameters set found on development set:\n",
      "\n",
      "{}\n",
      "\n",
      "Grid scores on development set:\n",
      "\n",
      "0.710 (+/-0.060) for {}\n",
      "\n",
      "######## ('swnt', True, 'svm') ########\n",
      "Fitting 5 folds for each of 7 candidates, totalling 35 fits\n"
     ]
    },
    {
     "name": "stderr",
     "output_type": "stream",
     "text": [
      "[Parallel(n_jobs=-1)]: Using backend LokyBackend with 8 concurrent workers.\n",
      "[Parallel(n_jobs=-1)]: Done  35 out of  35 | elapsed:    7.9s finished\n"
     ]
    },
    {
     "name": "stdout",
     "output_type": "stream",
     "text": [
      "[LibSVM]Best parameters set found on development set:\n",
      "\n",
      "{'C': 0.1}\n",
      "\n",
      "Grid scores on development set:\n",
      "\n",
      "0.435 (+/-0.054) for {'C': 0.001}\n",
      "0.607 (+/-0.069) for {'C': 0.01}\n",
      "0.714 (+/-0.053) for {'C': 0.1}\n",
      "0.707 (+/-0.043) for {'C': 1.0}\n",
      "0.665 (+/-0.039) for {'C': 10.0}\n",
      "0.633 (+/-0.032) for {'C': 100.0}\n",
      "0.628 (+/-0.034) for {'C': 1000.0}\n",
      "\n",
      "######## ('swnt', True, 'logreg') ########\n",
      "Fitting 5 folds for each of 7 candidates, totalling 35 fits\n"
     ]
    },
    {
     "name": "stderr",
     "output_type": "stream",
     "text": [
      "[Parallel(n_jobs=-1)]: Using backend LokyBackend with 8 concurrent workers.\n",
      "[Parallel(n_jobs=-1)]: Done  35 out of  35 | elapsed:    1.7s finished\n",
      "/usr/local/lib/python3.6/dist-packages/sklearn/linear_model/logistic.py:433: FutureWarning: Default solver will be changed to 'lbfgs' in 0.22. Specify a solver to silence this warning.\n",
      "  FutureWarning)\n",
      "[Parallel(n_jobs=-1)]: Using backend LokyBackend with 8 concurrent workers.\n"
     ]
    },
    {
     "name": "stdout",
     "output_type": "stream",
     "text": [
      "[LibLinear]Best parameters set found on development set:\n",
      "\n",
      "{'C': 1.0}\n",
      "\n",
      "Grid scores on development set:\n",
      "\n",
      "0.605 (+/-0.050) for {'C': 0.001}\n",
      "0.653 (+/-0.077) for {'C': 0.01}\n",
      "0.709 (+/-0.055) for {'C': 0.1}\n",
      "0.739 (+/-0.041) for {'C': 1.0}\n",
      "0.730 (+/-0.036) for {'C': 10.0}\n",
      "0.684 (+/-0.037) for {'C': 100.0}\n",
      "0.669 (+/-0.020) for {'C': 1000.0}\n",
      "\n",
      "######## ('swnt', True, 'rndfst') ########\n",
      "Fitting 5 folds for each of 16 candidates, totalling 80 fits\n"
     ]
    },
    {
     "name": "stderr",
     "output_type": "stream",
     "text": [
      "[Parallel(n_jobs=-1)]: Done  25 tasks      | elapsed:   52.0s\n",
      "[Parallel(n_jobs=-1)]: Done  80 out of  80 | elapsed:  3.1min finished\n"
     ]
    },
    {
     "name": "stdout",
     "output_type": "stream",
     "text": [
      "Best parameters set found on development set:\n",
      "\n",
      "{'criterion': 'entropy', 'max_depth': 100, 'max_features': 'log2', 'n_estimators': 201}\n",
      "\n",
      "Grid scores on development set:\n",
      "\n",
      "0.661 (+/-0.062) for {'criterion': 'gini', 'max_depth': 10, 'max_features': 'auto', 'n_estimators': 201}\n",
      "0.663 (+/-0.070) for {'criterion': 'gini', 'max_depth': 10, 'max_features': 'auto', 'n_estimators': 501}\n",
      "0.684 (+/-0.048) for {'criterion': 'gini', 'max_depth': 10, 'max_features': 'log2', 'n_estimators': 201}\n",
      "0.691 (+/-0.051) for {'criterion': 'gini', 'max_depth': 10, 'max_features': 'log2', 'n_estimators': 501}\n",
      "0.684 (+/-0.044) for {'criterion': 'gini', 'max_depth': 100, 'max_features': 'auto', 'n_estimators': 201}\n",
      "0.687 (+/-0.057) for {'criterion': 'gini', 'max_depth': 100, 'max_features': 'auto', 'n_estimators': 501}\n",
      "0.690 (+/-0.048) for {'criterion': 'gini', 'max_depth': 100, 'max_features': 'log2', 'n_estimators': 201}\n",
      "0.691 (+/-0.051) for {'criterion': 'gini', 'max_depth': 100, 'max_features': 'log2', 'n_estimators': 501}\n",
      "0.660 (+/-0.063) for {'criterion': 'entropy', 'max_depth': 10, 'max_features': 'auto', 'n_estimators': 201}\n",
      "0.663 (+/-0.070) for {'criterion': 'entropy', 'max_depth': 10, 'max_features': 'auto', 'n_estimators': 501}\n",
      "0.684 (+/-0.042) for {'criterion': 'entropy', 'max_depth': 10, 'max_features': 'log2', 'n_estimators': 201}\n",
      "0.689 (+/-0.054) for {'criterion': 'entropy', 'max_depth': 10, 'max_features': 'log2', 'n_estimators': 501}\n",
      "0.682 (+/-0.059) for {'criterion': 'entropy', 'max_depth': 100, 'max_features': 'auto', 'n_estimators': 201}\n",
      "0.679 (+/-0.054) for {'criterion': 'entropy', 'max_depth': 100, 'max_features': 'auto', 'n_estimators': 501}\n",
      "0.699 (+/-0.049) for {'criterion': 'entropy', 'max_depth': 100, 'max_features': 'log2', 'n_estimators': 201}\n",
      "0.694 (+/-0.046) for {'criterion': 'entropy', 'max_depth': 100, 'max_features': 'log2', 'n_estimators': 501}\n",
      "\n",
      "######## ('swnt', True, 'naibay') ########\n",
      "Fitting 5 folds for each of 1 candidates, totalling 5 fits\n"
     ]
    },
    {
     "name": "stderr",
     "output_type": "stream",
     "text": [
      "[Parallel(n_jobs=-1)]: Using backend LokyBackend with 8 concurrent workers.\n",
      "[Parallel(n_jobs=-1)]: Done   2 out of   5 | elapsed:    0.7s remaining:    1.0s\n",
      "[Parallel(n_jobs=-1)]: Done   5 out of   5 | elapsed:    0.8s remaining:    0.0s\n",
      "[Parallel(n_jobs=-1)]: Done   5 out of   5 | elapsed:    0.8s finished\n"
     ]
    },
    {
     "name": "stdout",
     "output_type": "stream",
     "text": [
      "Best parameters set found on development set:\n",
      "\n",
      "{}\n",
      "\n",
      "Grid scores on development set:\n",
      "\n",
      "0.705 (+/-0.051) for {}\n",
      "\n"
     ]
    }
   ],
   "source": [
    "bpef.train(train_X_bpef, train_y_bpef)"
   ]
  },
  {
   "cell_type": "code",
   "execution_count": 44,
   "metadata": {
    "scrolled": true
   },
   "outputs": [
    {
     "name": "stdout",
     "output_type": "stream",
     "text": [
      "######## ('word', False, 'svm') ########\n",
      "######## ('word', False, 'logreg') ########\n",
      "######## ('word', False, 'rndfst') ########\n",
      "######## ('word', False, 'naibay') ########\n",
      "######## ('word', True, 'svm') ########\n",
      "######## ('word', True, 'logreg') ########\n",
      "######## ('word', True, 'rndfst') ########\n",
      "######## ('word', True, 'naibay') ########\n",
      "######## ('pos', False, 'svm') ########\n",
      "######## ('pos', False, 'logreg') ########\n",
      "######## ('pos', False, 'rndfst') ########\n",
      "######## ('pos', False, 'naibay') ########\n",
      "######## ('pos', True, 'svm') ########\n",
      "######## ('pos', True, 'logreg') ########\n",
      "######## ('pos', True, 'rndfst') ########\n",
      "######## ('pos', True, 'naibay') ########\n",
      "######## ('swnt', False, 'svm') ########\n",
      "######## ('swnt', False, 'logreg') ########\n",
      "######## ('swnt', False, 'rndfst') ########\n",
      "######## ('swnt', False, 'naibay') ########\n",
      "######## ('swnt', True, 'svm') ########\n",
      "######## ('swnt', True, 'logreg') ########\n",
      "######## ('swnt', True, 'rndfst') ########\n",
      "######## ('swnt', True, 'naibay') ########\n"
     ]
    }
   ],
   "source": [
    "pred = bpef.predict(valid_X_bpef)"
   ]
  },
  {
   "cell_type": "code",
   "execution_count": 45,
   "metadata": {},
   "outputs": [
    {
     "name": "stdout",
     "output_type": "stream",
     "text": [
      "F1 macro score on validation data: 0.7504496850417516\n",
      "F1 micro score on validation data: 0.75\n"
     ]
    },
    {
     "data": {
      "image/png": "[encoded data removed]",
      "text/plain": [
       "<Figure size 432x288 with 2 Axes>"
      ]
     },
     "metadata": {
      "needs_background": "light"
     },
     "output_type": "display_data"
    }
   ],
   "source": [
    "# 0=positivo, 1=neutro, 2=negativo\n",
    "print('F1 macro score on validation data: ' + str(f1_score(valid_y_bpef, pred, average='macro')))\n",
    "print('F1 micro score on validation data: ' + str(f1_score(valid_y_bpef, pred, average='micro')))\n",
    "cm_fs_bpef = confusion_matrix(valid_y_bpef, pred, labels=[0, 1, 2])\n",
    "ax = sns.heatmap(cm_fs_bpef, annot=True, xticklabels=['positive','neutral','negative'], yticklabels=['positive','neutral','negative'],fmt=\"d\")\n",
    "ax.xaxis.set_ticks_position('top')"
   ]
  },
  {
   "cell_type": "code",
   "execution_count": 46,
   "metadata": {},
   "outputs": [
    {
     "name": "stdout",
     "output_type": "stream",
     "text": [
      "positive: 960\n",
      "neutral: 960\n",
      "negative: 960\n"
     ]
    }
   ],
   "source": [
    "print('positive: ' + str(list(train_y_bpef).count(0)))\n",
    "print('neutral: ' + str(list(train_y_bpef).count(1)))\n",
    "print('negative: ' + str(list(train_y_bpef).count(2)))"
   ]
  },
  {
   "cell_type": "markdown",
   "metadata": {},
   "source": [
    "Some errors"
   ]
  },
  {
   "cell_type": "code",
   "execution_count": 47,
   "metadata": {},
   "outputs": [
    {
     "data": {
      "text/plain": [
       "'@SouthwestAir seems like you could make more money by opening up seats on a more desirable flight.'"
      ]
     },
     "execution_count": 47,
     "metadata": {},
     "output_type": "execute_result"
    }
   ],
   "source": [
    "valid_X_bpef[0]"
   ]
  },
  {
   "cell_type": "code",
   "execution_count": 48,
   "metadata": {},
   "outputs": [
    {
     "name": "stdout",
     "output_type": "stream",
     "text": [
      "@JetBlue it's only because I'm wearing #TrueBlueColors!\n"
     ]
    }
   ],
   "source": [
    "# positive predicted neutral\n",
    "err_pos_neu = [i for i in range(len(valid_y_bpef)) if valid_y_bpef[i]==0 and pred[i]==1]\n",
    "print(valid_X_bpef[err_pos_neu[1]])"
   ]
  },
  {
   "cell_type": "code",
   "execution_count": 49,
   "metadata": {},
   "outputs": [
    {
     "name": "stdout",
     "output_type": "stream",
     "text": [
      "@AmericanAir Can you provide guidance on how I should work with them to resolve the issue\n"
     ]
    }
   ],
   "source": [
    "# neutral predicted positive\n",
    "err_neu_pos = [i for i in range(len(valid_y_bpef)) if valid_y_bpef[i]==1 and pred[i]==0]\n",
    "print(valid_X_bpef[err_neu_pos[1]])"
   ]
  },
  {
   "cell_type": "code",
   "execution_count": 50,
   "metadata": {},
   "outputs": [
    {
     "name": "stdout",
     "output_type": "stream",
     "text": [
      "@united agent, \"You should use the bathroom before boarding.. Toilets onboard are full.\" Oh you can expected a strongly worded email FUnited\n"
     ]
    }
   ],
   "source": [
    "# negative predicted neutral\n",
    "err_neg_pos = [i for i in range(len(valid_y_bpef)) if valid_y_bpef[i]==2 and pred[i]==1]\n",
    "print(valid_X_bpef[err_neg_pos[3]])"
   ]
  },
  {
   "cell_type": "code",
   "execution_count": null,
   "metadata": {},
   "outputs": [],
   "source": []
  },
  {
   "cell_type": "code",
   "execution_count": null,
   "metadata": {},
   "outputs": [],
   "source": []
  },
  {
   "cell_type": "markdown",
   "metadata": {},
   "source": [
    "### Classification with test data"
   ]
  },
  {
   "cell_type": "code",
   "execution_count": 51,
   "metadata": {},
   "outputs": [
    {
     "data": {
      "text/plain": [
       "Counter({1.0: 300, 2.0: 300, 0.0: 300})"
      ]
     },
     "execution_count": 51,
     "metadata": {},
     "output_type": "execute_result"
    }
   ],
   "source": [
    "# valid_y_4l validation dataset\n",
    "collections.Counter(test_y)"
   ]
  },
  {
   "cell_type": "code",
   "execution_count": 56,
   "metadata": {},
   "outputs": [],
   "source": [
    "test_pred_svm = clf_fs.predict(test_X_fs)"
   ]
  },
  {
   "cell_type": "code",
   "execution_count": 57,
   "metadata": {},
   "outputs": [
    {
     "name": "stdout",
     "output_type": "stream",
     "text": [
      "F1 macro score on validation data: 0.7348846621601498\n",
      "F1 micro score on validation data: 0.7355555555555555\n"
     ]
    },
    {
     "data": {
      "image/png": "[encoded data removed]",
      "text/plain": [
       "<Figure size 432x288 with 2 Axes>"
      ]
     },
     "metadata": {
      "needs_background": "light"
     },
     "output_type": "display_data"
    }
   ],
   "source": [
    "# 0=irrilevante, 1=positivo, 2=neutro, 3=negativo\n",
    "print('F1 macro score on validation data: ' + str(f1_score(test_y, test_pred_svm, average='macro')))\n",
    "print('F1 micro score on validation data: ' + str(f1_score(test_y, test_pred_svm, average='micro')))\n",
    "cm = confusion_matrix(test_y, test_pred_svm, labels=[0, 1, 2])\n",
    "ax = sns.heatmap(cm, annot=True, xticklabels=['positive','neutral', 'negative'], yticklabels=['positive','neutral', 'negative'], fmt=\"d\")\n",
    "ax.xaxis.set_ticks_position('top')"
   ]
  },
  {
   "cell_type": "markdown",
   "metadata": {},
   "source": [
    "### BPEF"
   ]
  },
  {
   "cell_type": "code",
   "execution_count": 58,
   "metadata": {},
   "outputs": [
    {
     "name": "stdout",
     "output_type": "stream",
     "text": [
      "######## ('word', False, 'svm') ########\n",
      "######## ('word', False, 'logreg') ########\n",
      "######## ('word', False, 'rndfst') ########\n",
      "######## ('word', False, 'naibay') ########\n",
      "######## ('word', True, 'svm') ########\n",
      "######## ('word', True, 'logreg') ########\n",
      "######## ('word', True, 'rndfst') ########\n",
      "######## ('word', True, 'naibay') ########\n",
      "######## ('pos', False, 'svm') ########\n",
      "######## ('pos', False, 'logreg') ########\n",
      "######## ('pos', False, 'rndfst') ########\n",
      "######## ('pos', False, 'naibay') ########\n",
      "######## ('pos', True, 'svm') ########\n",
      "######## ('pos', True, 'logreg') ########\n",
      "######## ('pos', True, 'rndfst') ########\n",
      "######## ('pos', True, 'naibay') ########\n",
      "######## ('swnt', False, 'svm') ########\n",
      "######## ('swnt', False, 'logreg') ########\n",
      "######## ('swnt', False, 'rndfst') ########\n",
      "######## ('swnt', False, 'naibay') ########\n",
      "######## ('swnt', True, 'svm') ########\n",
      "######## ('swnt', True, 'logreg') ########\n",
      "######## ('swnt', True, 'rndfst') ########\n",
      "######## ('swnt', True, 'naibay') ########\n"
     ]
    }
   ],
   "source": [
    "pred_test = bpef.predict(test_X_bpef)"
   ]
  },
  {
   "cell_type": "code",
   "execution_count": 59,
   "metadata": {},
   "outputs": [
    {
     "name": "stdout",
     "output_type": "stream",
     "text": [
      "F1 macro score on validation data: 0.7339940806523404\n",
      "F1 micro score on validation data: 0.7322222222222222\n"
     ]
    },
    {
     "data": {
      "image/png": "[encoded data removed]",
      "text/plain": [
       "<Figure size 432x288 with 2 Axes>"
      ]
     },
     "metadata": {
      "needs_background": "light"
     },
     "output_type": "display_data"
    }
   ],
   "source": [
    "# 0=positivo, 1=neutro, 2=negativo\n",
    "print('F1 macro score on validation data: ' + str(f1_score(test_y_bpef, pred_test, average='macro')))\n",
    "print('F1 micro score on validation data: ' + str(f1_score(test_y_bpef, pred_test, average='micro')))\n",
    "cm_fs_bpef = confusion_matrix(test_y_bpef, pred_test, labels=[0, 1, 2])\n",
    "ax = sns.heatmap(cm_fs_bpef, annot=True, xticklabels=['positive','neutral','negative'], yticklabels=['positive','neutral','negative'],fmt=\"d\")\n",
    "ax.xaxis.set_ticks_position('top')"
   ]
  },
  {
   "cell_type": "code",
   "execution_count": null,
   "metadata": {},
   "outputs": [],
   "source": []
  }
 ],
 "metadata": {
  "kernelspec": {
   "display_name": "Python 3",
   "language": "python",
   "name": "python3"
  },
  "language_info": {
   "codemirror_mode": {
    "name": "ipython",
    "version": 3
   },
   "file_extension": ".py",
   "mimetype": "text/x-python",
   "name": "python",
   "nbconvert_exporter": "python",
   "pygments_lexer": "ipython3",
   "version": "3.6.8"
  }
 },
 "nbformat": 4,
 "nbformat_minor": 2
}
